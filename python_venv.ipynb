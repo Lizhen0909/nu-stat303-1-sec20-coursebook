{
 "cells": [
  {
   "cell_type": "markdown",
   "id": "abed0482",
   "metadata": {},
   "source": [
    "---\n",
    "title: \"Python Environments and Package Management\"\n",
    "format:\n",
    "  html:\n",
    "    toc: true\n",
    "    toc-title: Contents\n",
    "    toc-depth: 4\n",
    "    code-fold: show\n",
    "    self-contained: false\n",
    "    html-math-method: mathml\n",
    "jupyter: python3\n",
    "---"
   ]
  },
  {
   "cell_type": "code",
   "execution_count": 2,
   "id": "df55036e",
   "metadata": {},
   "outputs": [
    {
     "data": {
      "text/html": [
       "<img src=\"./images/package_manger.png\" width=\"400\"/>"
      ],
      "text/plain": [
       "<IPython.core.display.Image object>"
      ]
     },
     "execution_count": 2,
     "metadata": {},
     "output_type": "execute_result"
    }
   ],
   "source": [
    "#| echo: false\n",
    "\n",
    "# import image module\n",
    "from IPython.display import Image\n",
    "\n",
    "# get the image, \n",
    "Image(url=\"./images/package_manger.png\",width=400)"
   ]
  },
  {
   "cell_type": "markdown",
   "id": "db643e2b",
   "metadata": {},
   "source": [
    "## Learning Objectives\n",
    "\n",
    "By the end of this section, you will be able to:\n",
    "\n",
    "- Explain why virtual environments are important.  \n",
    "- Install essential data science packages in your Python environment.  \n",
    "- Create a `requirements.txt` file and use it to quickly recreate an environment.  \n",
    "- Recognize why dependency conflicts happen.  \n",
    "- Describe how tools like `conda` or `poetry` can help resolve dependency conflicts.  \n",
    "\n"
   ]
  },
  {
   "cell_type": "markdown",
   "id": "694120e6",
   "metadata": {},
   "source": [
    "## Data Science packages in Python\n",
    "\n",
    "Python has a rich ecosystem of packages that make data analysis easier and more powerful.  \n",
    "In this course, you will install and use several core packages:\n",
    "\n",
    "- **NumPy** → numerical computing and array operations  \n",
    "- **pandas** → data manipulation and analysis  \n",
    "- **Matplotlib** → data visualization  \n",
    "- **Seaborn** → statistical data visualization (built on top of Matplotlib)  \n",
    "\n",
    "These packages give you the essential tools to load, clean, analyze, and visualize data.  \n",
    "👉 Before using them, you need to install them in your Python environment.\n"
   ]
  },
  {
   "cell_type": "markdown",
   "id": "2e87864a",
   "metadata": {},
   "source": [
    "\n",
    "In your previous VS Code setup lesson, you created a Python environment using `.venv` and selected it as the kernel to run your notebook.  \n",
    "This created a folder called `.venv`, which contains:\n",
    "- A new Python interpreter  \n",
    "- A `Lib` folder where your installed packages live  \n",
    "\n",
    "Any packages you install (e.g., with `pip install ...`) will only affect this environment.  \n",
    "\n",
    "Using virtual environments is considered best practice for Python development, especially in data science projects.  \n",
    "Before we dive in, let’s first understand what a Python environment is.  \n",
    "\n",
    "\n",
    "## Python Virtual Environments\n",
    "A Python virtual environment is an **isolated workspace** that has its own Python interpreter and its own set of installed packages.  \n",
    "\n",
    "This isolation helps you manage dependencies for different projects and avoid conflicts between package versions.  \n",
    "\n",
    "**Why use virtual environments?**\n",
    "- Keep project dependencies separate  \n",
    "- Avoid version conflicts between packages  \n",
    "- Make your code more reproducible and shareable  \n",
    "\n"
   ]
  },
  {
   "cell_type": "markdown",
   "id": "4c299fa5",
   "metadata": {},
   "source": [
    "## Install Data Science Packages Within Your Environment\n",
    "\n",
    "Packages are collections of pre-written code that provide extra functionality, such as scientific computing, linear algebra, visualization, or machine learning.  \n",
    "They are **not included in the Python standard library**, so you need to install them separately.\n",
    "\n",
    "To test this, add the following code to your `test.ipynb` notebook:\n",
    "\n",
    "```python\n",
    "import numpy as np\n",
    "import pandas as pd\n",
    "\n",
    "print(\"Setup complete!\")\n",
    "```\n",
    "\n",
    "👉 If you run this before installing the packages, you will likely see a `ModuleNotFoundError`.  \n",
    "This error means that the package is not yet available in your environment.  \n",
    "\n"
   ]
  },
  {
   "cell_type": "markdown",
   "id": "4b58a51c",
   "metadata": {},
   "source": [
    "### How to Install Packages  \n",
    "\n",
    "There are two main ways to install data science packages:  "
   ]
  },
  {
   "cell_type": "markdown",
   "id": "0c982e67",
   "metadata": {},
   "source": [
    "####  Installing from the terminal\n",
    "1. **Open a New Terminal:** Check the terminal prompt to see if the active environment is consistent with the kernel you’ve chosen for your notebook.\n",
    "    - If you see `(.venv)` at the beginning of the prompt, it means the virtual environment `.venv` is active and matches the notebook kernel.\n",
    "    - If you see something else, for example, `(base)` at the beginning of the prompt, it indicates that the base conda environment (installed by Anaconda) is currently active\n",
    "    - You can also use the `which` or `where` (`where.exe` in windows) command:  On macOS/Linux, use: `which python` ;  On windows, use: `where.exe python`\n",
    "     \n",
    "> Note that when you have both Anaconda and VS Code installed on your system, sometimes the environments can conflict with each other. If the terminal environment is inconsistent with the notebook kernel, packages may be installed in a different environment than intended. This can lead to issues where the notebook cannot access the installed packages.\n",
    "\n",
    "1. Using `pip`\n",
    "\n",
    "`pip install numpy pandas`"
   ]
  },
  {
   "cell_type": "markdown",
   "id": "13fde021",
   "metadata": {},
   "source": [
    "#### Installing from the Notebook\n",
    "You can also install packages directly from a Jupyter Notebook cell using a magic command. This is often convenient because it allows you to install packages without leaving the notebook interface.\n",
    "\n",
    "- Add a new code cell and run:\n",
    "\n",
    "```python\n",
    "pip install numpy pandas \n",
    "```"
   ]
  },
  {
   "cell_type": "markdown",
   "id": "0173f9fb",
   "metadata": {},
   "source": [
    "### Backing Up and Sharing Your Environment\n",
    "\n",
    "A key part of reproducible data science is making sure you (and your collaborators) can recreate the same environment. This is especially important when sharing code or working on different machines.\n",
    "\n",
    "**How to back up your environment:**\n",
    "\n",
    "Step 1: **Create a `requirements.txt` file**\n"
   ]
  },
  {
   "cell_type": "markdown",
   "id": "64800d64",
   "metadata": {},
   "source": [
    "Run the following command in your terminal to list all installed packages and their versions:"
   ]
  },
  {
   "cell_type": "code",
   "execution_count": null,
   "id": "c446d3af",
   "metadata": {},
   "outputs": [
    {
     "name": "stdout",
     "output_type": "stream",
     "text": [
      "asttokens==2.4.1\n",
      "colorama==0.4.6\n",
      "comm==0.2.2\n",
      "contourpy==1.3.0\n",
      "cycler==0.12.1\n",
      "debugpy==1.8.6\n",
      "decorator==5.1.1\n",
      "executing==2.1.0\n",
      "fonttools==4.54.1\n",
      "ipykernel==6.29.5\n",
      "ipython==8.27.0\n",
      "jedi==0.19.1\n",
      "jupyter_client==8.6.3\n",
      "jupyter_core==5.7.2\n",
      "kiwisolver==1.4.7\n",
      "matplotlib==3.9.2\n",
      "matplotlib-inline==0.1.7\n",
      "nest-asyncio==1.6.0\n",
      "numpy==2.1.1\n",
      "packaging==24.1\n",
      "pandas==2.2.3\n",
      "parso==0.8.4\n",
      "pillow==10.4.0\n",
      "platformdirs==4.3.6\n",
      "prompt_toolkit==3.0.48\n",
      "psutil==6.0.0\n",
      "pure_eval==0.2.3\n",
      "Pygments==2.18.0\n",
      "pyparsing==3.1.4\n",
      "python-dateutil==2.9.0.post0\n",
      "pytz==2024.2\n",
      "pywin32==306\n",
      "pyzmq==26.2.0\n",
      "six==1.16.0\n",
      "stack-data==0.6.3\n",
      "tornado==6.4.1\n",
      "traitlets==5.14.3\n",
      "tzdata==2024.2\n",
      "wcwidth==0.2.13\n",
      "Note: you may need to restart the kernel to use updated packages.\n"
     ]
    }
   ],
   "source": [
    "pip freeze"
   ]
  },
  {
   "cell_type": "markdown",
   "id": "b0f8ddff",
   "metadata": {},
   "source": [
    "Using the redirection operator `>`, you can save the output of `pip freeze` to a `requirement.txt`. This file can be used to install the same versions of packages in a different environment."
   ]
  },
  {
   "cell_type": "code",
   "execution_count": null,
   "id": "6caf14a5",
   "metadata": {},
   "outputs": [
    {
     "name": "stdout",
     "output_type": "stream",
     "text": [
      "Note: you may need to restart the kernel to use updated packages.\n"
     ]
    }
   ],
   "source": [
    "pip freeze > requirement.txt"
   ]
  },
  {
   "cell_type": "markdown",
   "id": "27683208",
   "metadata": {},
   "source": [
    "Let's check whether the `requirement.txt` is in the current working directory"
   ]
  },
  {
   "cell_type": "code",
   "execution_count": null,
   "id": "f42e9153",
   "metadata": {},
   "outputs": [
    {
     "name": "stdout",
     "output_type": "stream",
     "text": [
      " Volume in drive C is Windows\n",
      " Volume Serial Number is A80C-7DEC\n",
      "\n",
      " Directory of c:\\Users\\lsi8012\\OneDrive - Northwestern University\\FA24\\303-1\\test_env\n",
      "\n",
      "09/27/2024  02:25 PM    <DIR>          .\n",
      "09/27/2024  02:25 PM    <DIR>          ..\n",
      "09/27/2024  07:44 AM    <DIR>          .venv\n",
      "09/27/2024  01:42 PM    <DIR>          images\n",
      "09/27/2024  02:25 PM               695 requirement.txt\n",
      "09/27/2024  02:25 PM            21,352 venv_setup.ipynb\n",
      "               2 File(s)         22,047 bytes\n",
      "               4 Dir(s)  166,334,562,304 bytes free\n"
     ]
    }
   ],
   "source": [
    "%ls"
   ]
  },
  {
   "cell_type": "markdown",
   "id": "298163e0",
   "metadata": {},
   "source": [
    "Step 2: **Share the file**\n",
    "   - Send the `requirements.txt` file to your collaborator, or save it for future use."
   ]
  },
  {
   "cell_type": "markdown",
   "id": "5477fe99",
   "metadata": {},
   "source": [
    "Step 3: **Recreate the environment elsewhere**\n",
    "   - On a new machine or environment, run:\n",
    "     ```bash\n",
    "     pip install -r requirements.txt\n",
    "     ```\n",
    "   "
   ]
  },
  {
   "cell_type": "code",
   "execution_count": null,
   "id": "667f6654",
   "metadata": {},
   "outputs": [
    {
     "name": "stdout",
     "output_type": "stream",
     "text": [
      "Requirement already satisfied: asttokens==2.4.1 in c:\\users\\lsi8012\\onedrive - northwestern university\\fa24\\303-1\\test_env\\.venv\\lib\\site-packages (from -r requirement.txt (line 1)) (2.4.1)\n",
      "Requirement already satisfied: colorama==0.4.6 in c:\\users\\lsi8012\\onedrive - northwestern university\\fa24\\303-1\\test_env\\.venv\\lib\\site-packages (from -r requirement.txt (line 2)) (0.4.6)\n",
      "Requirement already satisfied: comm==0.2.2 in c:\\users\\lsi8012\\onedrive - northwestern university\\fa24\\303-1\\test_env\\.venv\\lib\\site-packages (from -r requirement.txt (line 3)) (0.2.2)\n",
      "Requirement already satisfied: contourpy==1.3.0 in c:\\users\\lsi8012\\onedrive - northwestern university\\fa24\\303-1\\test_env\\.venv\\lib\\site-packages (from -r requirement.txt (line 4)) (1.3.0)\n",
      "Requirement already satisfied: cycler==0.12.1 in c:\\users\\lsi8012\\onedrive - northwestern university\\fa24\\303-1\\test_env\\.venv\\lib\\site-packages (from -r requirement.txt (line 5)) (0.12.1)\n",
      "Requirement already satisfied: debugpy==1.8.6 in c:\\users\\lsi8012\\onedrive - northwestern university\\fa24\\303-1\\test_env\\.venv\\lib\\site-packages (from -r requirement.txt (line 6)) (1.8.6)\n",
      "Requirement already satisfied: decorator==5.1.1 in c:\\users\\lsi8012\\onedrive - northwestern university\\fa24\\303-1\\test_env\\.venv\\lib\\site-packages (from -r requirement.txt (line 7)) (5.1.1)\n",
      "Requirement already satisfied: executing==2.1.0 in c:\\users\\lsi8012\\onedrive - northwestern university\\fa24\\303-1\\test_env\\.venv\\lib\\site-packages (from -r requirement.txt (line 8)) (2.1.0)\n",
      "Requirement already satisfied: fonttools==4.54.1 in c:\\users\\lsi8012\\onedrive - northwestern university\\fa24\\303-1\\test_env\\.venv\\lib\\site-packages (from -r requirement.txt (line 9)) (4.54.1)\n",
      "Requirement already satisfied: ipykernel==6.29.5 in c:\\users\\lsi8012\\onedrive - northwestern university\\fa24\\303-1\\test_env\\.venv\\lib\\site-packages (from -r requirement.txt (line 10)) (6.29.5)\n",
      "Requirement already satisfied: ipython==8.27.0 in c:\\users\\lsi8012\\onedrive - northwestern university\\fa24\\303-1\\test_env\\.venv\\lib\\site-packages (from -r requirement.txt (line 11)) (8.27.0)\n",
      "Requirement already satisfied: jedi==0.19.1 in c:\\users\\lsi8012\\onedrive - northwestern university\\fa24\\303-1\\test_env\\.venv\\lib\\site-packages (from -r requirement.txt (line 12)) (0.19.1)\n",
      "Requirement already satisfied: jupyter_client==8.6.3 in c:\\users\\lsi8012\\onedrive - northwestern university\\fa24\\303-1\\test_env\\.venv\\lib\\site-packages (from -r requirement.txt (line 13)) (8.6.3)\n",
      "Requirement already satisfied: jupyter_core==5.7.2 in c:\\users\\lsi8012\\onedrive - northwestern university\\fa24\\303-1\\test_env\\.venv\\lib\\site-packages (from -r requirement.txt (line 14)) (5.7.2)\n",
      "Requirement already satisfied: kiwisolver==1.4.7 in c:\\users\\lsi8012\\onedrive - northwestern university\\fa24\\303-1\\test_env\\.venv\\lib\\site-packages (from -r requirement.txt (line 15)) (1.4.7)\n",
      "Requirement already satisfied: matplotlib==3.9.2 in c:\\users\\lsi8012\\onedrive - northwestern university\\fa24\\303-1\\test_env\\.venv\\lib\\site-packages (from -r requirement.txt (line 16)) (3.9.2)\n",
      "Requirement already satisfied: matplotlib-inline==0.1.7 in c:\\users\\lsi8012\\onedrive - northwestern university\\fa24\\303-1\\test_env\\.venv\\lib\\site-packages (from -r requirement.txt (line 17)) (0.1.7)\n",
      "Requirement already satisfied: nest-asyncio==1.6.0 in c:\\users\\lsi8012\\onedrive - northwestern university\\fa24\\303-1\\test_env\\.venv\\lib\\site-packages (from -r requirement.txt (line 18)) (1.6.0)\n",
      "Requirement already satisfied: numpy==2.1.1 in c:\\users\\lsi8012\\onedrive - northwestern university\\fa24\\303-1\\test_env\\.venv\\lib\\site-packages (from -r requirement.txt (line 19)) (2.1.1)\n",
      "Requirement already satisfied: packaging==24.1 in c:\\users\\lsi8012\\onedrive - northwestern university\\fa24\\303-1\\test_env\\.venv\\lib\\site-packages (from -r requirement.txt (line 20)) (24.1)\n",
      "Requirement already satisfied: pandas==2.2.3 in c:\\users\\lsi8012\\onedrive - northwestern university\\fa24\\303-1\\test_env\\.venv\\lib\\site-packages (from -r requirement.txt (line 21)) (2.2.3)\n",
      "Requirement already satisfied: parso==0.8.4 in c:\\users\\lsi8012\\onedrive - northwestern university\\fa24\\303-1\\test_env\\.venv\\lib\\site-packages (from -r requirement.txt (line 22)) (0.8.4)\n",
      "Requirement already satisfied: pillow==10.4.0 in c:\\users\\lsi8012\\onedrive - northwestern university\\fa24\\303-1\\test_env\\.venv\\lib\\site-packages (from -r requirement.txt (line 23)) (10.4.0)\n",
      "Requirement already satisfied: platformdirs==4.3.6 in c:\\users\\lsi8012\\onedrive - northwestern university\\fa24\\303-1\\test_env\\.venv\\lib\\site-packages (from -r requirement.txt (line 24)) (4.3.6)\n",
      "Requirement already satisfied: prompt_toolkit==3.0.48 in c:\\users\\lsi8012\\onedrive - northwestern university\\fa24\\303-1\\test_env\\.venv\\lib\\site-packages (from -r requirement.txt (line 25)) (3.0.48)\n",
      "Requirement already satisfied: psutil==6.0.0 in c:\\users\\lsi8012\\onedrive - northwestern university\\fa24\\303-1\\test_env\\.venv\\lib\\site-packages (from -r requirement.txt (line 26)) (6.0.0)\n",
      "Requirement already satisfied: pure_eval==0.2.3 in c:\\users\\lsi8012\\onedrive - northwestern university\\fa24\\303-1\\test_env\\.venv\\lib\\site-packages (from -r requirement.txt (line 27)) (0.2.3)\n",
      "Requirement already satisfied: Pygments==2.18.0 in c:\\users\\lsi8012\\onedrive - northwestern university\\fa24\\303-1\\test_env\\.venv\\lib\\site-packages (from -r requirement.txt (line 28)) (2.18.0)\n",
      "Requirement already satisfied: pyparsing==3.1.4 in c:\\users\\lsi8012\\onedrive - northwestern university\\fa24\\303-1\\test_env\\.venv\\lib\\site-packages (from -r requirement.txt (line 29)) (3.1.4)\n",
      "Requirement already satisfied: python-dateutil==2.9.0.post0 in c:\\users\\lsi8012\\onedrive - northwestern university\\fa24\\303-1\\test_env\\.venv\\lib\\site-packages (from -r requirement.txt (line 30)) (2.9.0.post0)\n",
      "Requirement already satisfied: pytz==2024.2 in c:\\users\\lsi8012\\onedrive - northwestern university\\fa24\\303-1\\test_env\\.venv\\lib\\site-packages (from -r requirement.txt (line 31)) (2024.2)\n",
      "Requirement already satisfied: pywin32==306 in c:\\users\\lsi8012\\onedrive - northwestern university\\fa24\\303-1\\test_env\\.venv\\lib\\site-packages (from -r requirement.txt (line 32)) (306)\n",
      "Requirement already satisfied: pyzmq==26.2.0 in c:\\users\\lsi8012\\onedrive - northwestern university\\fa24\\303-1\\test_env\\.venv\\lib\\site-packages (from -r requirement.txt (line 33)) (26.2.0)\n",
      "Requirement already satisfied: six==1.16.0 in c:\\users\\lsi8012\\onedrive - northwestern university\\fa24\\303-1\\test_env\\.venv\\lib\\site-packages (from -r requirement.txt (line 34)) (1.16.0)\n",
      "Requirement already satisfied: stack-data==0.6.3 in c:\\users\\lsi8012\\onedrive - northwestern university\\fa24\\303-1\\test_env\\.venv\\lib\\site-packages (from -r requirement.txt (line 35)) (0.6.3)\n",
      "Requirement already satisfied: tornado==6.4.1 in c:\\users\\lsi8012\\onedrive - northwestern university\\fa24\\303-1\\test_env\\.venv\\lib\\site-packages (from -r requirement.txt (line 36)) (6.4.1)\n",
      "Requirement already satisfied: traitlets==5.14.3 in c:\\users\\lsi8012\\onedrive - northwestern university\\fa24\\303-1\\test_env\\.venv\\lib\\site-packages (from -r requirement.txt (line 37)) (5.14.3)\n",
      "Requirement already satisfied: tzdata==2024.2 in c:\\users\\lsi8012\\onedrive - northwestern university\\fa24\\303-1\\test_env\\.venv\\lib\\site-packages (from -r requirement.txt (line 38)) (2024.2)\n",
      "Requirement already satisfied: wcwidth==0.2.13 in c:\\users\\lsi8012\\onedrive - northwestern university\\fa24\\303-1\\test_env\\.venv\\lib\\site-packages (from -r requirement.txt (line 39)) (0.2.13)\n",
      "Note: you may need to restart the kernel to use updated packages.\n"
     ]
    }
   ],
   "source": [
    "pip install -r requirement.txt"
   ]
  },
  {
   "cell_type": "markdown",
   "id": "0225df19",
   "metadata": {},
   "source": [
    "This installs all the packages listed in the file, matching the versions you used."
   ]
  },
  {
   "cell_type": "markdown",
   "id": "dd086bf9",
   "metadata": {},
   "source": [
    "**Why is this important?**\n",
    "- Ensures everyone is using the same package versions, reducing errors and inconsistencies.\n",
    "- Makes it easy to set up your project on a new computer or server.\n",
    "- Helps with troubleshooting and collaboration.\n",
    "\n",
    "**Tip:** Always update your `requirements.txt` after installing or upgrading packages, so it stays current with your environment."
   ]
  },
  {
   "cell_type": "markdown",
   "id": "8911ad29",
   "metadata": {},
   "source": [
    "## Dependency Conflicts\n",
    "\n",
    "A **dependency conflict** occurs when two or more packages in your Python environment require different or incompatible versions of the same library.  \n",
    "This can cause errors, unexpected behavior, or even break your code.\n",
    "\n",
    "\n",
    "\n",
    "### Why do dependency conflicts happen?\n",
    "- Many Python packages rely on other packages (called *dependencies*) to work.  \n",
    "- If you install packages that depend on different versions of the same dependency, they may not work together.  \n",
    "- This is especially common in data science, where libraries evolve quickly and have complex interdependencies.  \n",
    "\n",
    "\n",
    "\n",
    "### Example\n",
    "Suppose you install two packages:\n",
    "- `PackageA` requires `numpy==1.24.0`  \n",
    "- `PackageB` requires `numpy==2.2.0`  \n",
    "\n",
    "If you install both with `pip`, the **last specified version wins**. One of the packages may then fail because it cannot use the version of `numpy` that was actually installed.  \n",
    "\n",
    "\n",
    "\n",
    "### How to avoid dependency conflicts\n",
    "\n",
    "- ✅ Use **virtual environments** to isolate dependencies for each project.  \n",
    "- ✅ Check package requirements before installing new libraries.  \n",
    "- ✅ Use tools like **Poetry** or **Conda** to detect and resolve conflicts automatically.  \n"
   ]
  },
  {
   "cell_type": "markdown",
   "id": "85fbe870",
   "metadata": {},
   "source": [
    "## How to Resolve Conflicts and Manage Environments \n",
    "\n",
    "### Use `conda` \n",
    "\n",
    "`conda` is a powerful package and environment management tool, especially popular in data science. It helps you avoid and resolve dependency conflicts by managing packages and their versions more effectively than `pip` alone.\n",
    "\n",
    "**Key features of conda:**\n",
    "- Create isolated environments for different projects\n",
    "- Install packages and their dependencies from the Anaconda repository\n",
    "- Easily switch between environments\n",
    "- Export and share environment configurations\n",
    "\n",
    "**How conda helps with dependency conflicts:**\n",
    "- When you install a package with `conda`, it automatically checks for compatible versions of all dependencies and installs them together.\n",
    "- If a conflict is detected, conda will warn you and suggest solutions, or prevent incompatible installations.\n",
    "\n",
    "**Basic conda commands:**\n",
    "- Create a new environment:\n",
    "  ```bash\n",
    "  conda create --name myenv numpy pandas matplotlib\n",
    "  ```\n",
    "- Activate an environment:\n",
    "  ```bash\n",
    "  conda activate myenv\n",
    "  ```\n",
    "- Install a package in an environment:\n",
    "  ```bash\n",
    "  conda install seaborn\n",
    "  ```\n",
    "- List all environments:\n",
    "  ```bash\n",
    "  conda env list\n",
    "  ```\n",
    "- Export environment configuration:\n",
    "  ```bash\n",
    "  conda env export > environment.yml\n",
    "  ```\n",
    "- Recreate an environment from a file:\n",
    "  ```bash\n",
    "  conda env create -f environment.yml\n",
    "  ```\n",
    "\n",
    "**Example:**\n",
    "Suppose you need to work on two projects that require different versions of `scikit-learn`. You can create two separate environments:\n",
    "```bash\n",
    "conda create --name projectA scikit-learn=0.24\n",
    "conda create --name projectB scikit-learn=1.2\n",
    "```\n",
    "Each environment will have its own compatible dependencies, so you avoid conflicts.\n",
    "\n",
    "**Summary:**\n",
    "Using `conda` is highly recommended for managing complex dependencies and environments in data science workflows."
   ]
  },
  {
   "cell_type": "markdown",
   "id": "ecd282bc",
   "metadata": {},
   "source": [
    "### Use `poetry` to Manage the Environment\n",
    "\n",
    "`poetry` is a modern Python tool for dependency management and packaging. It helps you create, manage, and share Python projects with reproducible environments.\n",
    "\n",
    "**Key features of poetry:**\n",
    "- Handles dependencies and virtual environments automatically\n",
    "- Uses a `pyproject.toml` file to specify project requirements\n",
    "- Locks dependencies for reproducibility (`poetry.lock`)\n",
    "- Simplifies publishing packages to PyPI\n",
    "\n",
    "**How poetry helps with dependency management:**\n",
    "- Automatically resolves and installs compatible versions of all dependencies\n",
    "- Prevents dependency conflicts by using a lock file\n",
    "- Makes it easy to update, add, or remove packages\n",
    "\n",
    "**Basic poetry commands:**\n",
    "- Install poetry (if not already installed):\n",
    "  ```bash\n",
    "  pip install poetry\n",
    "  ```\n",
    "- Create a new project:\n",
    "  ```bash\n",
    "  poetry new myproject\n",
    "  ```\n",
    "- Add a package:\n",
    "  ```bash\n",
    "  poetry add numpy pandas matplotlib\n",
    "  ```\n",
    "- Install dependencies:\n",
    "  ```bash\n",
    "  poetry install\n",
    "  ```\n",
    "- Run commands inside the environment:\n",
    "  ```bash\n",
    "  poetry run python script.py\n",
    "  ```\n",
    "- Update dependencies:\n",
    "  ```bash\n",
    "  poetry update\n",
    "  ```\n",
    "\n",
    "**Example workflow:**\n",
    "1. Create a new project:\n",
    "   ```bash\n",
    "   poetry new ds_project\n",
    "   cd ds_project\n",
    "   ```\n",
    "2. Add dependencies:\n",
    "   ```bash\n",
    "   poetry add numpy pandas matplotlib seaborn\n",
    "   ```\n",
    "3. Install all dependencies:\n",
    "   ```bash\n",
    "   poetry install\n",
    "   ```\n",
    "4. Run your code inside the poetry-managed environment:\n",
    "   ```bash\n",
    "   poetry run python your_script.py\n",
    "   ```\n",
    "\n",
    "**Summary:**\n",
    "`poetry` is highly recommended for modern Python projects, especially when you want reliable dependency management, easy environment setup, and reproducible results."
   ]
  },
  {
   "cell_type": "markdown",
   "id": "499ac6da",
   "metadata": {},
   "source": [
    "### Difference Between `conda` and `poetry`\n",
    "\n",
    "Both `conda` and `poetry` are tools for managing Python environments and dependencies, but they have different strengths and use cases.\n",
    "\n",
    "**conda:**\n",
    "- Manages both Python environments and packages, including non-Python dependencies (e.g., C libraries, compilers)\n",
    "- Works with multiple languages (Python, R, etc.)\n",
    "- Uses the Anaconda repository, which includes many scientific and data science packages\n",
    "- Great for data science workflows, especially when you need packages with compiled code or system-level dependencies\n",
    "- Handles complex dependency resolution and environment isolation\n",
    "\n",
    "**poetry:**\n",
    "- Focuses on Python projects and packages\n",
    "- Uses `pyproject.toml` and `poetry.lock` for reproducible builds\n",
    "- Automatically creates and manages virtual environments\n",
    "- Excellent for modern Python application development and publishing to PyPI\n",
    "- Handles dependency resolution and version locking for Python packages only\n",
    "\n",
    "**Key differences:**\n",
    "- `conda` can install system-level and non-Python dependencies; `poetry` only manages Python packages\n",
    "- `conda` environments can include packages from the Anaconda repository; `poetry` uses PyPI\n",
    "- `poetry` is ideal for pure Python projects and reproducible builds; `conda` is better for scientific computing and mixed-language projects\n",
    "\n",
    "**When to use each:**\n",
    "- Use `conda` if you need scientific libraries, compiled code, or non-Python dependencies\n",
    "- Use `poetry` for modern Python projects, apps, and libraries where you want easy dependency management and publishing\n",
    "\n",
    "**Summary Table:**\n",
    "| Feature                | conda                        | poetry                      |\n",
    "|------------------------|-----------------------------|-----------------------------|\n",
    "| Language support       | Python, R, more             | Python only                 |\n",
    "| Non-Python dependencies| Yes                         | No                          |\n",
    "| Environment isolation  | Yes                         | Yes                         |\n",
    "| Dependency resolution  | Excellent                   | Excellent                   |\n",
    "| Reproducibility        | Good                        | Excellent                   |\n",
    "| Publishing to PyPI     | No                          | Yes                         |\n",
    "\n",
    "Choose the tool that best fits your project needs!"
   ]
  },
  {
   "cell_type": "markdown",
   "id": "781b4b6c",
   "metadata": {},
   "source": [
    "### Modern Python Package Managers: uv, pip, conda, poetry\n",
    "\n",
    "Python's evolution has been closely tied to improvements in package management. Over time, tools like `pip`, `conda`, and `poetry` have made installing and managing packages much easier.\n",
    "\n",
    "**uv** is a new, high-performance Python package manager developed by the creators of `ruff` and written in Rust. It aims to be much faster than traditional tools and supports modern workflows for Python projects.\n",
    "\n",
    "- Learn more about uv: [uv GitHub page](https://github.com/astral-sh/uv)\n",
    "\n",
    "**For this course:**\n",
    "- You will continue using `pip` and `.venv` for installing packages and managing your environment.\n",
    "- As you work on larger or more complex Python projects, or manage multiple environments, consider exploring tools like `conda`, `poetry`, and `uv` for better performance, reproducibility, and ease of use.\n",
    "\n",
    "**Summary:**\n",
    "- `pip` is the standard tool for installing Python packages.\n",
    "- `.venv` helps you create isolated environments.\n",
    "- `conda` and `poetry` offer advanced dependency management and environment handling.\n",
    "- `uv` is an emerging tool for fast, modern Python package management.\n",
    "\n",
    "Stay curious and keep learning about new tools—they can make your workflow smoother and more efficient!"
   ]
  }
 ],
 "metadata": {
  "kernelspec": {
   "display_name": "base",
   "language": "python",
   "name": "python3"
  },
  "language_info": {
   "codemirror_mode": {
    "name": "ipython",
    "version": 3
   },
   "file_extension": ".py",
   "mimetype": "text/x-python",
   "name": "python",
   "nbconvert_exporter": "python",
   "pygments_lexer": "ipython3",
   "version": "3.12.4"
  }
 },
 "nbformat": 4,
 "nbformat_minor": 5
}
