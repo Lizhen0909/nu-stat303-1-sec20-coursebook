{
 "cells": [
  {
   "cell_type": "raw",
   "id": "1e00c4da-1ec9-4402-a28b-6ad4b241b3a8",
   "metadata": {},
   "source": [
    "---\n",
    "title: \"Data structures\"\n",
    "format: \n",
    "  html:\n",
    "    toc-depth: 4\n",
    "    code-fold: false\n",
    "jupyter: python3\n",
    "---"
   ]
  },
  {
   "cell_type": "code",
   "execution_count": null,
   "id": "e72929f1",
   "metadata": {},
   "outputs": [
    {
     "data": {
      "text/html": [
       "<img src=\"images/python_data_types.png\" width=\"700\" height=\"400\"/>"
      ],
      "text/plain": [
       "<IPython.core.display.Image object>"
      ]
     },
     "execution_count": 7,
     "metadata": {},
     "output_type": "execute_result"
    }
   ],
   "source": [
    "#| echo: false\n",
    "\n",
    "# import image module\n",
    "from IPython.display import Image\n",
    "\n",
    "# get the image\n",
    "Image(url=\"images/python_data_types.png\", width=700, height=400)"
   ]
  },
  {
   "cell_type": "markdown",
   "id": "cb0ab307",
   "metadata": {},
   "source": [
    "In data science, you’ll shape raw data **before modeling**. These built-ins are the foundation that explain why `Series`/`DataFrame` (pandas) and `ndarray` (NumPy) behave the way they do."
   ]
  },
  {
   "cell_type": "markdown",
   "id": "41d5852a",
   "metadata": {},
   "source": [
    "## Primitives vs. Containers\n",
    "\n",
    "- **Primitive (single value):** `int`, `float`, `bool`, `None`\n",
    "- **Containers (hold multiple values):** `str`, `list`, `tuple`, `set`, `dict`\n",
    "\n",
    "> Tip: Check any object’s type with `type(x)`."
   ]
  },
  {
   "cell_type": "markdown",
   "id": "a400fc16",
   "metadata": {},
   "source": [
    "## Core Built-in Data Structures\n",
    "\n",
    "### Sequences (ordered, indexable)\n",
    "\n",
    "**Types:** `list`, `tuple`, `str`"
   ]
  },
  {
   "cell_type": "code",
   "execution_count": 8,
   "id": "0d855607",
   "metadata": {},
   "outputs": [],
   "source": [
    "# list (mutable)\n",
    "nums = [10, 20, 20, 30]\n",
    "nums.append(40)        # mutate in place\n",
    "nums[0] = 11           # item assignment\n",
    "nums_slice = nums[1:3] # slicing\n",
    "\n",
    "# tuple (immutable)\n",
    "pt = (42.0, -1.5)      # cannot reassign pt[0]\n",
    "\n",
    "# string (immutable sequence of characters)\n",
    "s = \"data\"\n",
    "s2 = s.upper()         # returns a new string; s unchanged"
   ]
  },
  {
   "cell_type": "markdown",
   "id": "169832e9",
   "metadata": {},
   "source": [
    "**When to use:**\n",
    "\n",
    "* `list`: grow/shrink, frequent edits, ordered data\n",
    "\n",
    "* `tuple`: fixed-size records, function returns, hashable as dict keys\n",
    "\n",
    "* `str`: text processing (we’ll also use `nltk` later)"
   ]
  },
  {
   "cell_type": "markdown",
   "id": "8f83a86d",
   "metadata": {},
   "source": [
    "### Sets (unordered, unique)\n",
    "\n",
    "**Types:** `set`"
   ]
  },
  {
   "cell_type": "code",
   "execution_count": null,
   "id": "37a40747",
   "metadata": {},
   "outputs": [
    {
     "data": {
      "text/plain": [
       "{1, 2}"
      ]
     },
     "execution_count": 9,
     "metadata": {},
     "output_type": "execute_result"
    }
   ],
   "source": [
    "a = {1, 2, 2, 3}       # {1, 2, 3}\n",
    "b = {3, 4}\n",
    "a | b                  # union -> {1, 2, 3, 4}\n",
    "a & b                  # intersection -> {3}\n",
    "a - b                  # difference -> {1, 2}"
   ]
  },
  {
   "cell_type": "markdown",
   "id": "1c8cae57",
   "metadata": {},
   "source": [
    "**When to use:**\n",
    "\n",
    "* Deduplication, membership tests, fast set algebra."
   ]
  },
  {
   "cell_type": "markdown",
   "id": "6316868a",
   "metadata": {},
   "source": [
    "### Mappings (key–value)\n",
    "\n",
    "**Types:** `dict`"
   ]
  },
  {
   "cell_type": "code",
   "execution_count": 10,
   "id": "72df024e",
   "metadata": {},
   "outputs": [
    {
     "name": "stdout",
     "output_type": "stream",
     "text": [
      "name -> Alex\n",
      "year -> 4\n",
      "major -> Stats\n",
      "gpa -> 3.7\n"
     ]
    }
   ],
   "source": [
    "student = {\"name\": \"Alex\", \"year\": 3, \"major\": \"Stats\"}\n",
    "student[\"year\"] = 4               # update\n",
    "student[\"gpa\"] = 3.7              # insert\n",
    "for k, v in student.items():      # iterate keys & values\n",
    "    print(k, \"->\", v)"
   ]
  },
  {
   "cell_type": "markdown",
   "id": "eda8a6f4",
   "metadata": {},
   "source": [
    "**When to use:**\n",
    "\n",
    "* Labeled data, lookups, configuration/state."
   ]
  },
  {
   "cell_type": "markdown",
   "id": "aba33f92",
   "metadata": {},
   "source": [
    "## Iterables vs. Iterators\n",
    "\n",
    "In Python, an **iterable** is any object capable of returning its members one at a time, such as lists, tuples, strings, and dictionaries. You can loop over iterables using a `for` loop.\n",
    "\n",
    "An **iterator** is an object that represents a stream of data; it produces the next value when you call `next()` on it. Iterators are created from iterables using the `iter()` function.\n",
    "\n",
    "**Key differences:**\n",
    "- Iterables can be looped over, but do not remember their position.\n",
    "- Iterators remember their position and can only be advanced one item at a time.\n",
    "\n",
    "**Example:**\n",
    "```python\n",
    "my_list = [1, 2, 3]\n",
    "my_iter = iter(my_list)\n",
    "print(next(my_iter))  # 1\n",
    "print(next(my_iter))  # 2\n",
    "print(next(my_iter))  # 3\n",
    "```\n",
    "Understanding the difference helps you write efficient loops and work with data streams in Python."
   ]
  },
  {
   "cell_type": "markdown",
   "id": "452e9e18",
   "metadata": {},
   "source": [
    "## Common, Efficient Operations\n",
    "\n",
    "### Comprehensions\n",
    "\n",
    "Comprehensions are a concise way to create lists, sets, or dictionaries from iterables by applying an expression to each item in an iterable (such as a list, tuple, or range) and optionally filtering the items based on a condition. They are a powerful and efficient way to generate new collections without the need for explicit loops.\n",
    "\n",
    "**Basic Syntax:**\n",
    "\n",
    "```python\n",
    "new_list = [expression for item in iterable if condition]\n",
    "```\n",
    "- **expression:** What you want to include in the new list (or set/dict).\n",
    "- **item:** Represents each element in the iterable as the comprehension iterates through it.\n",
    "- **iterable:** The source of elements (list, tuple, range, etc.).\n",
    "- **condition (optional):** A filter to control which items are included. If omitted, all items are included.\n",
    "\n",
    "**Why use comprehensions?**\n",
    "- More readable and concise than loops.\n",
    "- Often faster than equivalent for-loops.\n",
    "- Preferred for simple transformations and filtering.\n",
    "\n",
    "**List comprehension example:**\n",
    "\n",
    "Create a list that has squares of natural numbers from 5 to 15."
   ]
  },
  {
   "cell_type": "code",
   "execution_count": 46,
   "id": "14d73d90",
   "metadata": {},
   "outputs": [
    {
     "name": "stdout",
     "output_type": "stream",
     "text": [
      "[25, 36, 49, 64, 81, 100, 121, 144, 169, 196, 225]\n"
     ]
    }
   ],
   "source": [
    "sqrt_natural_no_5_15 = [(x**2) for x in range(5,16)]\n",
    "print(sqrt_natural_no_5_15)"
   ]
  },
  {
   "cell_type": "markdown",
   "id": "7dfc4533",
   "metadata": {},
   "source": [
    "Create a list of tuples, where each tuple consists of a natural number and its square, for natural numbers ranging from 5 to 15."
   ]
  },
  {
   "cell_type": "code",
   "execution_count": 47,
   "id": "ad7ff8e1",
   "metadata": {},
   "outputs": [
    {
     "name": "stdout",
     "output_type": "stream",
     "text": [
      "[(5, 25), (6, 36), (7, 49), (8, 64), (9, 81), (10, 100), (11, 121), (12, 144), (13, 169), (14, 196), (15, 225)]\n"
     ]
    }
   ],
   "source": [
    "sqrt_natural_no_5_15 = [(x,x**2) for x in range(5,16)]\n",
    "print(sqrt_natural_no_5_15)"
   ]
  },
  {
   "cell_type": "markdown",
   "id": "836e2daa",
   "metadata": {},
   "source": [
    "Creating a list of words that start with the letter ‘a’ in a given list of words."
   ]
  },
  {
   "cell_type": "code",
   "execution_count": 48,
   "id": "c7547e9f",
   "metadata": {},
   "outputs": [
    {
     "name": "stdout",
     "output_type": "stream",
     "text": [
      "['apple', 'avocado', 'apricot']\n"
     ]
    }
   ],
   "source": [
    "words = ['apple', 'banana', 'avocado', 'grape', 'apricot']\n",
    "a_words = [word for word in words if word.startswith('a')]\n",
    "print(a_words)"
   ]
  },
  {
   "cell_type": "markdown",
   "id": "9213af72",
   "metadata": {},
   "source": [
    "\n",
    "**Set comprehension:**"
   ]
  },
  {
   "cell_type": "code",
   "execution_count": 39,
   "id": "dcc2f746",
   "metadata": {},
   "outputs": [
    {
     "name": "stdout",
     "output_type": "stream",
     "text": [
      "{'B', 'A'}\n",
      "{3, 5}\n"
     ]
    }
   ],
   "source": [
    "unique_lengths = {len(word) for word in ['cat', 'dog', 'mouse']}  \n",
    "uniq_initials = {name[0].upper() for name in [\"amy\",\"ann\",\"bob\",\"amy\"]}  \n",
    "print(uniq_initials)\n",
    "print(unique_lengths)"
   ]
  },
  {
   "cell_type": "markdown",
   "id": "782a4326",
   "metadata": {},
   "source": [
    "**Dictionary comprehension:**"
   ]
  },
  {
   "cell_type": "code",
   "execution_count": 40,
   "id": "6dceb0a4",
   "metadata": {},
   "outputs": [
    {
     "name": "stdout",
     "output_type": "stream",
     "text": [
      "{'cat': 3, 'dog': 3, 'mouse': 5}\n"
     ]
    }
   ],
   "source": [
    "word_lengths = {word: len(word) for word in ['cat', 'dog', 'mouse']} \n",
    "print(word_lengths)"
   ]
  },
  {
   "cell_type": "markdown",
   "id": "8f5d3739",
   "metadata": {},
   "source": [
    "Comprehensions are preferred for simple transformations and filtering."
   ]
  },
  {
   "cell_type": "markdown",
   "id": "15935007",
   "metadata": {},
   "source": [
    "### Membership & Lookups\n",
    "\n",
    "Membership operations let you check if an item exists in a collection (like a list, set, or dictionary). Use `in` and `not in` for these checks. Lookups retrieve values by key or index, and are fastest in sets and dictionaries.\n",
    "\n",
    "**Examples:**\n",
    "- `3 in [1, 2, 3]` → `True` (checks if 3 is in the list)\n",
    "- `'a' in {'a': 1, 'b': 2}` → `True` (checks if 'a' is a key in the dictionary)\n",
    "- `5 not in {1, 2, 3}` → `True` (checks if 5 is not in the set)\n",
    "\n",
    "**Tip:**\n",
    "- Dictionary and set lookups are very fast (constant time).\n",
    "- List and tuple membership checks are slower (linear time).\n",
    "- For safe dictionary lookups, use `.get(key)` to avoid errors if the key is missing."
   ]
  },
  {
   "cell_type": "markdown",
   "id": "b12e6cbc",
   "metadata": {},
   "source": [
    "### Unpacking\n",
    "\n",
    "Unpacking lets you assign elements of a collection (like a list, tuple, or string) to multiple variables in a single step. This makes your code more readable and concise, especially when working with structured data.\n",
    "\n",
    "**Basic Syntax:**"
   ]
  },
  {
   "cell_type": "code",
   "execution_count": 21,
   "id": "83e0bd8a",
   "metadata": {},
   "outputs": [],
   "source": [
    "pt = (3, 4)\n",
    "x, y = pt  # x=3, y=4 \n",
    "\n",
    "a, b, c = [1, 2, 3]  # a=1, b=2, c=3"
   ]
  },
  {
   "cell_type": "markdown",
   "id": "ee8ec043",
   "metadata": {},
   "source": [
    "You can also use unpacking in loops and with function arguments.\n",
    "\n",
    "**Extended Unpacking:**\n",
    "Python allows you to use the `*` operator to capture multiple elements:"
   ]
  },
  {
   "cell_type": "code",
   "execution_count": 22,
   "id": "fd6deedd",
   "metadata": {},
   "outputs": [
    {
     "name": "stdout",
     "output_type": "stream",
     "text": [
      "[20, 30, 40]\n",
      "[2, 3]\n"
     ]
    }
   ],
   "source": [
    "# Extended unpacking:\n",
    "first, *rest = [10, 20, 30, 40]  # first=10, rest=[20, 30, 40]\n",
    "\n",
    "a, *mid, z = [1,2,3,4] \n",
    "\n",
    "print(rest)\n",
    "print(mid)"
   ]
  },
  {
   "cell_type": "markdown",
   "id": "5d39d5cf",
   "metadata": {},
   "source": [
    "\n",
    "**Unpacking in Loops:**"
   ]
  },
  {
   "cell_type": "code",
   "execution_count": 49,
   "id": "ee38b97a",
   "metadata": {},
   "outputs": [
    {
     "name": "stdout",
     "output_type": "stream",
     "text": [
      "1 a\n",
      "2 b\n",
      "3 c\n"
     ]
    }
   ],
   "source": [
    "pairs = [(1, 'a'), (2, 'b'), (3, 'c')]\n",
    "for num, char in pairs:\n",
    "    print(num, char)"
   ]
  },
  {
   "cell_type": "markdown",
   "id": "1d7d696f",
   "metadata": {},
   "source": [
    "**Unpacking with Dictionaries:**"
   ]
  },
  {
   "cell_type": "code",
   "execution_count": 50,
   "id": "afc8147a",
   "metadata": {},
   "outputs": [
    {
     "name": "stdout",
     "output_type": "stream",
     "text": [
      "name Alex\n",
      "year 3\n"
     ]
    }
   ],
   "source": [
    "student = {\"name\": \"Alex\", \"year\": 3}\n",
    "for key, value in student.items():\n",
    "    print(key, value)"
   ]
  },
  {
   "cell_type": "markdown",
   "id": "bfa00fb0",
   "metadata": {},
   "source": [
    "**Why use unpacking?**\n",
    "\n",
    "- Makes code cleaner and more readable\n",
    "- Quick variable assignment\n",
    "- Useful for working with structured data (e.g., tuples, lists, dicts)\n",
    "- Avoids manual indexing\n",
    "\n",
    "**Tip:**\n",
    "Unpacking works with any iterable, including lists, tuples, strings, and even the results of functions that return multiple values."
   ]
  },
  {
   "cell_type": "markdown",
   "id": "62b5b903",
   "metadata": {},
   "source": [
    "### Sorting in Python Iterables\n",
    "\n",
    "Sorting is a common task when working with data. Python provides flexible ways to order lists, tuples, and other iterables.\n",
    "\n",
    "\n",
    "#### `sorted()` (built-in function)\n",
    "\n",
    "- Returns a **new sorted list** from any iterable.  \n",
    "- Works with lists, tuples, strings, sets, and more.  \n",
    "- Does **not modify** the original iterable."
   ]
  },
  {
   "cell_type": "code",
   "execution_count": 51,
   "id": "d41f7924",
   "metadata": {},
   "outputs": [
    {
     "name": "stdout",
     "output_type": "stream",
     "text": [
      "[1, 1, 3, 4, 5]\n",
      "[3, 1, 4, 1, 5]\n",
      "['h', 'n', 'o', 'p', 't', 'y']\n"
     ]
    }
   ],
   "source": [
    "nums = [3, 1, 4, 1, 5]\n",
    "print(sorted(nums))       # [1, 1, 3, 4, 5]\n",
    "print(nums)               # [3, 1, 4, 1, 5] (unchanged)\n",
    "\n",
    "word = \"python\"\n",
    "print(sorted(word))       # ['h', 'n', 'o', 'p', 't', 'y']"
   ]
  },
  {
   "cell_type": "markdown",
   "id": "62f09bae",
   "metadata": {},
   "source": [
    "#### `.sort()` (list method)\n",
    "\n",
    "- **In-place sort**: modifies the list itself.\n",
    "\n",
    "- Only available for lists (not other iterables).\n",
    "\n",
    "- Returns `None`."
   ]
  },
  {
   "cell_type": "code",
   "execution_count": null,
   "id": "cb8e10a1",
   "metadata": {},
   "outputs": [
    {
     "name": "stdout",
     "output_type": "stream",
     "text": [
      "[1, 1, 3, 4, 5]\n"
     ]
    }
   ],
   "source": [
    "nums = [3, 1, 4, 1, 5]\n",
    "nums.sort()\n",
    "print(nums)    # [1, 1, 3, 4, 5]"
   ]
  },
  {
   "cell_type": "markdown",
   "id": "d633706f",
   "metadata": {},
   "source": [
    "#### Reverse Sorting\n",
    "\n",
    "Both `sorted()` and `.sort()` accept a `reverse` argument."
   ]
  },
  {
   "cell_type": "code",
   "execution_count": 53,
   "id": "d93aa8dc",
   "metadata": {},
   "outputs": [
    {
     "name": "stdout",
     "output_type": "stream",
     "text": [
      "[5, 4, 3, 1, 1]\n"
     ]
    }
   ],
   "source": [
    "nums = [3, 1, 4, 1, 5]\n",
    "print(sorted(nums, reverse=True))"
   ]
  },
  {
   "cell_type": "markdown",
   "id": "cc4deb57",
   "metadata": {},
   "source": [
    "#### Sorting with a key\n",
    "\n",
    "The `key` parameter lets you customize sorting logic."
   ]
  },
  {
   "cell_type": "code",
   "execution_count": 54,
   "id": "550166c2",
   "metadata": {},
   "outputs": [
    {
     "name": "stdout",
     "output_type": "stream",
     "text": [
      "['pear', 'kiwi', 'apple', 'banana']\n",
      "['banana', 'apple', 'kiwi', 'pear']\n"
     ]
    }
   ],
   "source": [
    "# Sort by string length\n",
    "words = [\"pear\", \"apple\", \"banana\", \"kiwi\"]\n",
    "print(sorted(words, key=len))  \n",
    "# ['kiwi', 'pear', 'apple', 'banana']\n",
    "\n",
    "# Sort by last character\n",
    "print(sorted(words, key=lambda w: w[-1]))  \n",
    "# ['banana', 'pear', 'apple', 'kiwi']\n"
   ]
  },
  {
   "cell_type": "markdown",
   "id": "fe8af320",
   "metadata": {},
   "source": [
    "#### Sorting Complex Data\n",
    "\n",
    "For lists of tuples or dicts, use `key`."
   ]
  },
  {
   "cell_type": "code",
   "execution_count": 55,
   "id": "afed38f3",
   "metadata": {},
   "outputs": [
    {
     "name": "stdout",
     "output_type": "stream",
     "text": [
      "[('b', 1), ('c', 2), ('a', 3)]\n",
      "[{'name': 'Chen', 'grade': 78}, {'name': 'Alice', 'grade': 85}, {'name': 'Bob', 'grade': 92}]\n"
     ]
    }
   ],
   "source": [
    "# Sort by the second element of each tuple\n",
    "pairs = [(\"a\", 3), (\"b\", 1), (\"c\", 2)]\n",
    "print(sorted(pairs, key=lambda t: t[1]))  \n",
    "# [('b', 1), ('c', 2), ('a', 3)]\n",
    "\n",
    "# Sort list of dicts by a field\n",
    "students = [\n",
    "    {\"name\": \"Alice\", \"grade\": 85},\n",
    "    {\"name\": \"Bob\", \"grade\": 92},\n",
    "    {\"name\": \"Chen\", \"grade\": 78}\n",
    "]\n",
    "print(sorted(students, key=lambda s: s[\"grade\"]))"
   ]
  },
  {
   "cell_type": "markdown",
   "id": "ec32382d",
   "metadata": {},
   "source": [
    "Sorting strings alphabetically vs. numerically:"
   ]
  },
  {
   "cell_type": "code",
   "execution_count": 56,
   "id": "77d44123",
   "metadata": {},
   "outputs": [
    {
     "name": "stdout",
     "output_type": "stream",
     "text": [
      "['1', '10', '2']\n",
      "['1', '2', '10']\n"
     ]
    }
   ],
   "source": [
    "nums = [\"10\", \"2\", \"1\"]\n",
    "print(sorted(nums))           \n",
    "print(sorted(nums, key=int))"
   ]
  },
  {
   "cell_type": "markdown",
   "id": "1112950d",
   "metadata": {},
   "source": [
    "#### Mini Exercises\n",
    "\n",
    "- Sort [10, 2, 33, 25, 7] in descending order.\n",
    "\n",
    "- Given words = [\"data\", \"python\", \"AI\", \"science\"], sort alphabetically ignoring case.\n",
    "\n",
    "- Sort [(\"Ann\", 22), (\"Bob\", 19), (\"Chen\", 22)] by age, preserving name order when ages match."
   ]
  },
  {
   "cell_type": "markdown",
   "id": "1457e2d1",
   "metadata": {},
   "source": [
    "### Lambda Functions in Python\n",
    "\n",
    "Sometimes you only need a **tiny one-off function** for a specific task (like sorting by length or filtering items). Writing a full `def` feels heavy.  \n",
    "That’s where **lambda functions** help.\n",
    "\n",
    "**Syntax**\n",
    "\n",
    "```python\n",
    "lambda parameters: expression\n",
    "```\n",
    "- Creates an anonymous function (no name required).\n",
    "- Must contain a single expression (not multiple statements).\n",
    "- Automatically returns the value of the expression."
   ]
  },
  {
   "cell_type": "code",
   "execution_count": 58,
   "id": "abf8de03",
   "metadata": {},
   "outputs": [
    {
     "name": "stdout",
     "output_type": "stream",
     "text": [
      "25\n"
     ]
    }
   ],
   "source": [
    "square = lambda x: x**2\n",
    "print(square(5))   # 25"
   ]
  },
  {
   "cell_type": "markdown",
   "id": "dc44a6c2",
   "metadata": {},
   "source": [
    "Using Lambda Functions\n",
    "\n",
    "- With `sorted()`"
   ]
  },
  {
   "cell_type": "code",
   "execution_count": 60,
   "id": "382ec51f",
   "metadata": {},
   "outputs": [
    {
     "name": "stdout",
     "output_type": "stream",
     "text": [
      "['pear', 'kiwi', 'apple', 'banana']\n",
      "['banana', 'apple', 'kiwi', 'pear']\n"
     ]
    }
   ],
   "source": [
    "words = [\"pear\", \"apple\", \"banana\", \"kiwi\"]\n",
    "\n",
    "# Sort by word length\n",
    "print(sorted(words, key=lambda w: len(w)))\n",
    "\n",
    "# Sort by last character\n",
    "print(sorted(words, key=lambda w: w[-1]))\n"
   ]
  },
  {
   "cell_type": "markdown",
   "id": "aeb394fc",
   "metadata": {},
   "source": [
    "- With `map()` and `filter()`"
   ]
  },
  {
   "cell_type": "code",
   "execution_count": null,
   "id": "f49a6454",
   "metadata": {},
   "outputs": [
    {
     "name": "stdout",
     "output_type": "stream",
     "text": [
      "[1, 4, 9, 16, 25]\n",
      "[2, 4]\n"
     ]
    }
   ],
   "source": [
    "nums = [1, 2, 3, 4, 5]\n",
    "\n",
    "# Square each number\n",
    "print(list(map(lambda x: x**2, nums)))  \n",
    "\n",
    "# Keep only even numbers\n",
    "print(list(filter(lambda x: x % 2 == 0, nums)))"
   ]
  },
  {
   "cell_type": "markdown",
   "id": "4276b370",
   "metadata": {},
   "source": [
    "- With `reduce()` (from `functools`)"
   ]
  },
  {
   "cell_type": "code",
   "execution_count": 62,
   "id": "ba47a33e",
   "metadata": {},
   "outputs": [
    {
     "name": "stdout",
     "output_type": "stream",
     "text": [
      "120\n"
     ]
    }
   ],
   "source": [
    "from functools import reduce\n",
    "\n",
    "nums = [1, 2, 3, 4, 5]\n",
    "product = reduce(lambda x, y: x * y, nums)\n",
    "print(product)   # 120"
   ]
  },
  {
   "cell_type": "markdown",
   "id": "a5bba09c",
   "metadata": {},
   "source": [
    "**Key Takeaways:**\n",
    "\n",
    "- `lambda` = quick, throwaway function for one-liners\n",
    "- use `def` if the function\n",
    "   - has multiple steps\n",
    "   - is reused often"
   ]
  },
  {
   "cell_type": "markdown",
   "id": "9e34374e",
   "metadata": {},
   "source": [
    "#### Mini Exercises\n",
    "\n",
    "- Use `lambda` with `sorted()` to order the list:"
   ]
  },
  {
   "cell_type": "code",
   "execution_count": 63,
   "id": "b7980988",
   "metadata": {},
   "outputs": [],
   "source": [
    "nums = [-3, 1, -2, 5, 0]"
   ]
  },
  {
   "cell_type": "markdown",
   "id": "b2524607",
   "metadata": {},
   "source": [
    "- Use `lambda` with `filter()` to keep only names starting with a vowel:"
   ]
  },
  {
   "cell_type": "code",
   "execution_count": 64,
   "id": "850c61c0",
   "metadata": {},
   "outputs": [],
   "source": [
    "names = [\"Alice\", \"Bob\", \"Eve\", \"Uma\", \"Sam\"]\n"
   ]
  },
  {
   "cell_type": "markdown",
   "id": "d47dc850",
   "metadata": {},
   "source": [
    "- Use `lambda` with `map()` to convert Celsius to Fahrenheit:"
   ]
  },
  {
   "cell_type": "code",
   "execution_count": 65,
   "id": "73afa195",
   "metadata": {},
   "outputs": [],
   "source": [
    "temps_c = [0, 20, 37, 100]\n"
   ]
  },
  {
   "cell_type": "markdown",
   "id": "7d99e2a0",
   "metadata": {},
   "source": [
    "### `enumerate()`\n",
    "\n",
    "The `enumerate()` function is a built-in Python tool that adds a counter to any iterable, returning pairs of (index, item) as you loop. This is especially useful when you need both the item and its position in a loop.\n",
    "\n",
    "**Syntax:**\n",
    "\n",
    "```python\n",
    "for index, value in enumerate(iterable, start=0):\n",
    "    # use index and value\n",
    "```\n",
    "- `iterable`: Any sequence (list, tuple, string, etc.)\n",
    "- `start`: Optional, sets the starting index (default is 0)\n",
    "\n",
    "**Why use `enumerate()`?**\n",
    "\n",
    "- Makes code cleaner and less error-prone\n",
    "- Avoids manual index tracking with a separate variable\n",
    "- Works with lists, tuples, strings, and more\n",
    "\n",
    "**Example:**"
   ]
  },
  {
   "cell_type": "code",
   "execution_count": null,
   "id": "38a61a7e",
   "metadata": {},
   "outputs": [
    {
     "name": "stdout",
     "output_type": "stream",
     "text": [
      "0 apple\n",
      "1 banana\n",
      "2 cherry\n"
     ]
    }
   ],
   "source": [
    "fruits = ['apple', 'banana', 'cherry']\n",
    "for idx, fruit in enumerate(fruits):\n",
    "    print(idx, fruit)"
   ]
  },
  {
   "cell_type": "markdown",
   "id": "63b51b34",
   "metadata": {
    "vscode": {
     "languageId": "raw"
    }
   },
   "source": [
    "**Tip:** You can set the starting index with the `start` argument, e.g. `enumerate(my_list, start=1)`.\n",
    "\n",
    "Use `enumerate()` for readable, efficient loops when you need both index and value."
   ]
  },
  {
   "cell_type": "markdown",
   "id": "b2ac0190",
   "metadata": {},
   "source": [
    "### `zip()`\n",
    "\n",
    "The `zip()` function combines two or more iterables (like lists, tuples, or strings) into tuples, pairing elements by their position. This is useful for parallel iteration, creating pairs, or merging data from multiple sources.\n",
    "\n",
    "**Syntax:**\n",
    "```python\n",
    "zip(iterable1, iterable2, ...)\n",
    "```\n",
    "- Each tuple contains one element from each iterable, matched by position.\n",
    "- Stops at the shortest iterable.\n",
    "\n",
    "**Why use `zip()`?**\n",
    "- Parallel iteration over multiple sequences\n",
    "- Pairing related data (e.g., names and scores)\n",
    "- Creating dictionaries from two lists\n",
    "\n",
    "**Example:**"
   ]
  },
  {
   "cell_type": "code",
   "execution_count": 1,
   "id": "15763e3f",
   "metadata": {},
   "outputs": [
    {
     "name": "stdout",
     "output_type": "stream",
     "text": [
      "Alice 85\n",
      "Bob 92\n",
      "Chen 78\n"
     ]
    }
   ],
   "source": [
    "names = ['Alice', 'Bob', 'Chen']\n",
    "scores = [85, 92, 78]\n",
    "for name, score in zip(names, scores):\n",
    "    print(name, score)"
   ]
  },
  {
   "cell_type": "code",
   "execution_count": 2,
   "id": "82731f09",
   "metadata": {},
   "outputs": [
    {
     "name": "stdout",
     "output_type": "stream",
     "text": [
      "{'Alice': 85, 'Bob': 92, 'Chen': 78}\n"
     ]
    }
   ],
   "source": [
    "# Creating a dictionary from two lists:\n",
    "gradebook = dict(zip(names, scores))\n",
    "print(gradebook)"
   ]
  },
  {
   "cell_type": "markdown",
   "id": "30fc4e4d",
   "metadata": {},
   "source": [
    "**Tip:**\n",
    "- You can use `zip(*zipped)` to unzip a list of tuples back into separate lists.\n",
    "- If the input iterables are different lengths, `zip()` stops at the shortest one."
   ]
  },
  {
   "cell_type": "markdown",
   "id": "ff1ff3fe",
   "metadata": {},
   "source": [
    "### Common Functions for Iterables\n",
    "\n",
    "Python provides a variety of built-in functions to operate on iterables, making it easy to manipulate, process, and analyze collections like lists, tuples, strings, sets, and dictionaries. Below is a list of commonly used built-in functions specifically designed for iterables.\n",
    "\n",
    "| Function     | Description                                                                 | Example                                                |\n",
    "|:------------:|:----------------------------------------------------------------------------|:-------------------------------------------------------|\n",
    "| `len()`      | Returns the number of elements in an iterable.                               | `len([1, 2, 3])` → `3`                                 |\n",
    "| `min()`      | Returns the smallest element in an iterable.                                 | `min([3, 1, 4])` → `1`                                 |\n",
    "| `max()`      | Returns the largest element in an iterable.                                  | `max([3, 1, 4])` → `4`                                 |\n",
    "| `sum()`      | Returns the sum of elements in an iterable (numeric types only).             | `sum([1, 2, 3])` → `6`                                 |\n",
    "| `sorted()`   | Returns a sorted list from an iterable (does **not** modify the original).   | `sorted([3, 1, 2])` → `[1, 2, 3]`                      |\n",
    "| `reversed()` | Returns an iterator that accesses the elements of an iterable in reverse.    | `list(reversed([1, 2, 3]))` → `[3, 2, 1]`              |\n",
    "| `enumerate()`| Returns an iterator of tuples containing indices and elements of the iterable.| `list(enumerate(['a', 'b', 'c']))` → `[(0, 'a'), (1, 'b'), (2, 'c')]` |\n",
    "| `all()`      | Returns `True` if all elements of the iterable are true (or if empty).        | `all([True, 1, 'a'])` → `True`                         |\n",
    "| `any()`      | Returns `True` if **any** element of the iterable is true.                   | `any([False, 0, 'b'])` → `True`                        |\n",
    "| `str.join(iterable)` | Joins elements of an iterable (e.g., list, tuple) into a single string, using the given string as a separator. | `''.join(['a', 'b', 'c'])` → `'abc'` |"
   ]
  },
  {
   "cell_type": "markdown",
   "id": "fc9e27d4",
   "metadata": {},
   "source": []
  }
 ],
 "metadata": {
  "kernelspec": {
   "display_name": "base",
   "language": "python",
   "name": "python3"
  },
  "language_info": {
   "codemirror_mode": {
    "name": "ipython",
    "version": 3
   },
   "file_extension": ".py",
   "mimetype": "text/x-python",
   "name": "python",
   "nbconvert_exporter": "python",
   "pygments_lexer": "ipython3",
   "version": "3.12.4"
  }
 },
 "nbformat": 4,
 "nbformat_minor": 5
}
