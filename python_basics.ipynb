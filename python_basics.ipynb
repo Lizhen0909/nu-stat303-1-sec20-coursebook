{
 "cells": [
  {
   "cell_type": "raw",
   "id": "6407ea8e",
   "metadata": {
    "vscode": {
     "languageId": "raw"
    }
   },
   "source": [
    "---\n",
    "title: \"Python Basics\"\n",
    "format: \n",
    "  html:\n",
    "    code-fold: false\n",
    "    toc-depth: 4\n",
    "jupyter: python3\n",
    "---"
   ]
  },
  {
   "cell_type": "code",
   "execution_count": 1,
   "id": "2afd1286",
   "metadata": {},
   "outputs": [
    {
     "data": {
      "text/html": [
       "<img src=\"./images/image.webp\" width=\"300\" height=\"180\"/>"
      ],
      "text/plain": [
       "<IPython.core.display.Image object>"
      ]
     },
     "execution_count": 1,
     "metadata": {},
     "output_type": "execute_result"
    }
   ],
   "source": [
    "#| echo: false\n",
    "\n",
    "# import image module\n",
    "from IPython.display import Image\n",
    "\n",
    "# get the image\n",
    "Image(url=\"./images/image.webp\",width=300, height=180)"
   ]
  },
  {
   "cell_type": "markdown",
   "id": "c6f5b7cb",
   "metadata": {
    "vscode": {
     "languageId": "raw"
    }
   },
   "source": [
    "Before diving into new material, this chapter provides a quick refresher on key Python concepts covered in STAT201, which is the prerequisite for this course. If you have not taken STAT201, or if you feel you need to strengthen your Python skills, please review chapters 3–8 in the [STAT201 book](https://lizhen0909.github.io/Intro_to_programming_for_data_sci/). \n",
    "A solid understanding of Python basics will help you succeed in this course and make it easier to follow the advanced topics ahead."
   ]
  },
  {
   "cell_type": "markdown",
   "id": "e2bcfee2",
   "metadata": {},
   "source": [
    "## Python Variables\n",
    "\n",
    "Variables are fundamental building blocks in Python—they allow you to store, update, and reference data throughout your code. Choosing clear and descriptive variable names makes your code easier to read, debug, and share with others.\n",
    "\n",
    "### Rules for variable names\n",
    "\n",
    "- Variable names must start with a letter (a–z, A–Z) or an underscore (`_`). They cannot begin with a number.\n",
    "- Names can include letters, digits, and underscores (`a_variable`, `profit_margin`, `the_3_musketeers`).\n",
    "- Variable names are case-sensitive: `score`, `Score`, and `SCORE` are all different variables.\n",
    "- Avoid using Python reserved words (like `for`, `if`, `class`, etc.) as variable names.\n",
    "\n",
    "**Tip:** Use descriptive names that reflect the purpose of the variable. This helps you and others understand your code at a glance.\n",
    "\n",
    "Here are some examples of good variable names:"
   ]
  },
  {
   "cell_type": "code",
   "execution_count": 3,
   "id": "2df1a751",
   "metadata": {},
   "outputs": [],
   "source": [
    "# Examples of valid variable names\n",
    "\n",
    "a_variable = 23\n",
    "is_today_Saturday = False\n",
    "my_favorite_car = \"Delorean\"\n",
    "the_3_musketeers = [\"Athos\", \"Porthos\", \"Aramis\"]"
   ]
  },
  {
   "cell_type": "markdown",
   "id": "e5cfcad5",
   "metadata": {},
   "source": [
    "**Note:**\n",
    "\n",
    "If you use an invalid variable name, Python will raise a `SyntaxError` and stop running your code. Always follow the naming rules to avoid these errors and keep your code readable.\n",
    "\n",
    "Common mistakes include:\n",
    "- Starting a variable name with a number (e.g., `2cool4school`)\n",
    "- Using spaces or special characters (e.g., `my variable`, `profit$margin`)\n",
    "- Using reserved words (e.g., `for`, `class`, `if`)\n",
    "\n",
    "Practicing good naming habits will help you write code that is easy to debug and share with others."
   ]
  },
  {
   "cell_type": "markdown",
   "id": "362488bd",
   "metadata": {},
   "source": [
    "### Dynamic Typing in Python Variables\n",
    "\n",
    "Python variables are dynamically typed, meaning you don’t need to declare their type before using them. You can assign a value of any type to a variable, and even change its type later in your code:\n",
    "\n",
    "```python\n",
    "x = 5      # x is an integer\n",
    "x = \"cat\" # now x is a string\n",
    "```\n",
    "\n",
    "To check the type of a variable, use the built-in `type()` function:\n",
    "\n",
    "```python\n",
    "type(x)\n",
    "```\n",
    "\n",
    "This flexibility makes Python easy to use, but it’s important to keep track of your variable types to avoid confusion in your code."
   ]
  },
  {
   "cell_type": "code",
   "execution_count": 4,
   "id": "ac28b292",
   "metadata": {},
   "outputs": [
    {
     "data": {
      "text/plain": [
       "23"
      ]
     },
     "execution_count": 4,
     "metadata": {},
     "output_type": "execute_result"
    }
   ],
   "source": [
    "a_variable"
   ]
  },
  {
   "cell_type": "code",
   "execution_count": 5,
   "id": "a25b67f3",
   "metadata": {},
   "outputs": [
    {
     "data": {
      "text/plain": [
       "int"
      ]
     },
     "execution_count": 5,
     "metadata": {},
     "output_type": "execute_result"
    }
   ],
   "source": [
    "type(a_variable)"
   ]
  },
  {
   "cell_type": "code",
   "execution_count": 6,
   "id": "85d475da",
   "metadata": {},
   "outputs": [
    {
     "data": {
      "text/plain": [
       "False"
      ]
     },
     "execution_count": 6,
     "metadata": {},
     "output_type": "execute_result"
    }
   ],
   "source": [
    "is_today_Saturday"
   ]
  },
  {
   "cell_type": "code",
   "execution_count": 7,
   "id": "77f0b71b",
   "metadata": {},
   "outputs": [
    {
     "data": {
      "text/plain": [
       "bool"
      ]
     },
     "execution_count": 7,
     "metadata": {},
     "output_type": "execute_result"
    }
   ],
   "source": [
    "type(is_today_Saturday)"
   ]
  },
  {
   "cell_type": "code",
   "execution_count": 8,
   "id": "cec014a6",
   "metadata": {},
   "outputs": [
    {
     "data": {
      "text/plain": [
       "'Delorean'"
      ]
     },
     "execution_count": 8,
     "metadata": {},
     "output_type": "execute_result"
    }
   ],
   "source": [
    "my_favorite_car"
   ]
  },
  {
   "cell_type": "code",
   "execution_count": 9,
   "id": "b8431e2f",
   "metadata": {},
   "outputs": [
    {
     "data": {
      "text/plain": [
       "str"
      ]
     },
     "execution_count": 9,
     "metadata": {},
     "output_type": "execute_result"
    }
   ],
   "source": [
    "type(my_favorite_car)"
   ]
  },
  {
   "cell_type": "code",
   "execution_count": 10,
   "id": "75bad417",
   "metadata": {},
   "outputs": [
    {
     "data": {
      "text/plain": [
       "['Athos', 'Porthos', 'Aramis']"
      ]
     },
     "execution_count": 10,
     "metadata": {},
     "output_type": "execute_result"
    }
   ],
   "source": [
    "the_3_musketeers"
   ]
  },
  {
   "cell_type": "code",
   "execution_count": 11,
   "id": "357da3e3",
   "metadata": {},
   "outputs": [
    {
     "data": {
      "text/plain": [
       "list"
      ]
     },
     "execution_count": 11,
     "metadata": {},
     "output_type": "execute_result"
    }
   ],
   "source": [
    "type(the_3_musketeers)"
   ]
  },
  {
   "cell_type": "markdown",
   "id": "51a33bdd",
   "metadata": {},
   "source": [
    "### Multiple Variable Assignment in Python\n",
    "\n",
    "Python allows you to assign values to several variables at once in a single line. This technique is especially useful for initializing related variables and can make your code cleaner and more efficient.\n",
    "\n",
    "**Example:**\n",
    "```python\n",
    "color1, color2, color3 = \"red\", \"green\", \"blue\"\n",
    "```\n",
    "After this assignment:\n",
    "- `color1` is \"red\"\n",
    "- `color2` is \"green\"\n",
    "- `color3` is \"blue\"\n",
    "\n",
    "This approach works for any number of variables, as long as the number of values matches the number of variable names."
   ]
  },
  {
   "cell_type": "code",
   "execution_count": 12,
   "id": "21f65c7b",
   "metadata": {},
   "outputs": [],
   "source": [
    "color1, color2, color3 = \"red\", \"green\", \"blue\""
   ]
  },
  {
   "cell_type": "code",
   "execution_count": 13,
   "id": "ea512462",
   "metadata": {},
   "outputs": [
    {
     "data": {
      "text/plain": [
       "('red', 'blue')"
      ]
     },
     "execution_count": 13,
     "metadata": {},
     "output_type": "execute_result"
    }
   ],
   "source": [
    "color1, color3"
   ]
  },
  {
   "cell_type": "markdown",
   "id": "ac578714",
   "metadata": {},
   "source": [
    "The same value can be assigned to multiple variables by chaining multiple assignment operations within a single statement."
   ]
  },
  {
   "cell_type": "code",
   "execution_count": null,
   "id": "abe4f290",
   "metadata": {},
   "outputs": [],
   "source": [
    "color4 = color5 = color6 = \"magenta\""
   ]
  },
  {
   "cell_type": "markdown",
   "id": "510d0ff2",
   "metadata": {},
   "source": [
    "## Built-in data types\n",
    "\n",
    "Python has several built-in data types for storing different kinds of information in variables."
   ]
  },
  {
   "cell_type": "code",
   "execution_count": 1,
   "id": "54332cbb",
   "metadata": {},
   "outputs": [
    {
     "data": {
      "text/html": [
       "<img src=\"images/python_data_types_all.png\" width=\"700\" height=\"400\"/>"
      ],
      "text/plain": [
       "<IPython.core.display.Image object>"
      ]
     },
     "execution_count": 1,
     "metadata": {},
     "output_type": "execute_result"
    }
   ],
   "source": [
    "#| echo: false\n",
    "\n",
    "# import image module\n",
    "from IPython.display import Image\n",
    "\n",
    "# get the image\n",
    "Image(url=\"images/python_data_types_all.png\", width=700, height=400)"
   ]
  },
  {
   "cell_type": "markdown",
   "id": "76542a92",
   "metadata": {},
   "source": [
    "**Primitive Types**  \n",
    "In Python, **integers, floats, booleans, and `None`** are often called *primitive data types* because they represent a single value.  \n",
    "\n",
    "**Container (Data Structure) Types**  \n",
    "Types such as **strings, lists, tuples, sets, and dictionaries** are *containers* because they can hold multiple values (characters in a string, items in a list, key–value pairs in a dictionary, etc.). We’ll explore these container types in more detail in the next chapter.  \n",
    "\n",
    "**Identifying Types**  \n",
    "You can check the type of any object using Python’s built-in `type()` function. For example:  \n"
   ]
  },
  {
   "cell_type": "code",
   "execution_count": 22,
   "id": "4481434f",
   "metadata": {},
   "outputs": [
    {
     "name": "stdout",
     "output_type": "stream",
     "text": [
      "<class 'int'>\n",
      "<class 'float'>\n",
      "<class 'bool'>\n",
      "<class 'NoneType'>\n",
      "<class 'str'>\n",
      "<class 'list'>\n"
     ]
    }
   ],
   "source": [
    "print(type(42))         # int\n",
    "print(type(3.14))       # float\n",
    "print(type(True))       # bool\n",
    "print(type(None))       # NoneType\n",
    "print(type(\"hello\"))    # str (a sequence / container of characters)\n",
    "print(type([1, 2, 3]))  # list\n"
   ]
  },
  {
   "cell_type": "markdown",
   "id": "6b69dd81",
   "metadata": {},
   "source": [
    "## Python Standard Library\n",
    "\n",
    "The [Python Standard Library](https://docs.python.org/3/library/) provides a wide range of modules and built-in functions that support everyday programming tasks. These tools allow you to write code that is both efficient and readable without reinventing common functionality.\n",
    "\n",
    "**Examples of built-in functions:**\n",
    "- `print()`: Displays output to the screen.\n",
    "- `len()`: Returns the length of an object (like a list or string).\n",
    "- `type()`: Shows the type of a variable.\n",
    "- `sum()`: Adds up all items in an iterable (like a list).\n",
    "- `range()`: Generates a sequence of numbers, often used in loops.\n",
    "\n",
    "You can explore more built-in functions and modules in the official documentation. Using these tools makes your code more readable and powerful.\n",
    "\n",
    "**Example:**"
   ]
  },
  {
   "cell_type": "markdown",
   "id": "7508ff77",
   "metadata": {},
   "source": [
    "**range():** The `range()` function returns a sequence of evenly-spaced integer values. It is commonly used in `for` loops to define the sequence of elements over which the iterations are performed."
   ]
  },
  {
   "cell_type": "markdown",
   "id": "5418d6a2",
   "metadata": {},
   "source": [
    "Below is an example where the `range()` function is used to create a sequence of whole numbers upto 10:"
   ]
  },
  {
   "cell_type": "code",
   "execution_count": 108,
   "id": "9820ed31",
   "metadata": {},
   "outputs": [
    {
     "name": "stdout",
     "output_type": "stream",
     "text": [
      "[1, 2, 3, 4, 5, 6, 7, 8, 9]\n"
     ]
    }
   ],
   "source": [
    "print(list(range(1,10)))"
   ]
  },
  {
   "cell_type": "markdown",
   "id": "e5603d1b",
   "metadata": {},
   "source": [
    "**Date and Time:**\n",
    "\n",
    "Python includes a powerful built-in module called [`datetime`](https://docs.python.org/3/library/datetime.html) for working with dates and times. This module lets you create, manipulate, and format date/time objects easily.\n",
    "\n",
    "- You can get the current date and time.\n",
    "- You can perform arithmetic with dates (e.g., add days, subtract dates).\n",
    "- You can format dates and times for display or parsing.\n",
    "\n",
    "This is essential for tasks like timestamping data, scheduling, or analyzing time series."
   ]
  },
  {
   "cell_type": "code",
   "execution_count": 24,
   "id": "38e2456a",
   "metadata": {},
   "outputs": [],
   "source": [
    "import datetime as dt"
   ]
  },
  {
   "cell_type": "code",
   "execution_count": 25,
   "id": "963b22f5",
   "metadata": {},
   "outputs": [],
   "source": [
    "#Defining a date-time object \n",
    "dt_object = dt.datetime(2022, 9, 20, 11,30,0)"
   ]
  },
  {
   "cell_type": "markdown",
   "id": "7752641f",
   "metadata": {},
   "source": [
    "Information about date and time can be accessed with the relevant attribute of the `datetime` object."
   ]
  },
  {
   "cell_type": "code",
   "execution_count": 26,
   "id": "98f6ae72",
   "metadata": {},
   "outputs": [
    {
     "data": {
      "text/plain": [
       "(20, 2022)"
      ]
     },
     "execution_count": 26,
     "metadata": {},
     "output_type": "execute_result"
    }
   ],
   "source": [
    "dt_object.day, dt_object.year"
   ]
  },
  {
   "cell_type": "markdown",
   "id": "ec88c302",
   "metadata": {},
   "source": [
    "**Formatting Dates and Times:**\n",
    "\n",
    "The `strftime` method in the `datetime` module lets you convert a `datetime` object into a readable string using custom formats. This is useful for displaying dates in a way that matches your needs (e.g., for reports, logs, or user interfaces).\n",
    "\n",
    "Common format codes include:\n",
    "- `%Y`: 4-digit year (e.g., 2025)\n",
    "- `%m`: 2-digit month (01-12)\n",
    "- `%d`: 2-digit day (01-31)\n",
    "- `%H`: Hour (00-23)\n",
    "- `%M`: Minute (00-59)\n",
    "- `%S`: Second (00-59)\n",
    "\n",
    "See the [Python documentation](https://docs.python.org/3/library/datetime.html#strftime-and-strptime-format-codes) for more formatting options."
   ]
  },
  {
   "cell_type": "code",
   "execution_count": 27,
   "id": "b7d53210",
   "metadata": {},
   "outputs": [
    {
     "data": {
      "text/plain": [
       "'09/20/2022'"
      ]
     },
     "execution_count": 27,
     "metadata": {},
     "output_type": "execute_result"
    }
   ],
   "source": [
    "dt_object.strftime('%m/%d/%Y')"
   ]
  },
  {
   "cell_type": "code",
   "execution_count": 100,
   "id": "b441d63d",
   "metadata": {},
   "outputs": [
    {
     "data": {
      "text/plain": [
       "'09/20/22 11:30'"
      ]
     },
     "execution_count": 100,
     "metadata": {},
     "output_type": "execute_result"
    }
   ],
   "source": [
    "dt_object.strftime('%m/%d/%y %H:%M')"
   ]
  },
  {
   "cell_type": "code",
   "execution_count": 99,
   "id": "a18c3b67",
   "metadata": {},
   "outputs": [
    {
     "data": {
      "text/plain": [
       "'Sep-20-2022'"
      ]
     },
     "execution_count": 99,
     "metadata": {},
     "output_type": "execute_result"
    }
   ],
   "source": [
    "dt_object.strftime('%h-%d-%Y')"
   ]
  },
  {
   "cell_type": "markdown",
   "id": "b3b46ec3",
   "metadata": {},
   "source": [
    "## Third-Party Packages (Libraries)\n",
    "\n",
    "While Python has many useful [built-in functions](https://docs.python.org/3/library/functions.html) like `print()`, `abs()`, `max()`, and `sum()`, these are often not enough for data analysis. Third-party libraries extend Python's capabilities and are essential for scientific computing and data science.\n",
    "\n",
    "**Popular libraries and their main uses:**\n",
    "\n",
    "1. **NumPy**: Efficient numerical operations, arrays, and mathematical functions. Essential for scientific and data analysis tasks.\n",
    "2. **Pandas**: Powerful data manipulation and analysis. DataFrames and Series make reading, cleaning, and transforming data easy.\n",
    "3. **Matplotlib & Seaborn**: Data visualization. Matplotlib creates a wide range of plots; Seaborn builds on Matplotlib for attractive statistical graphics.\n",
    "4. **SciPy**: Advanced scientific computing—optimization, integration, statistics, and more.\n",
    "5. **Scikit-learn**: Machine learning—tools for preprocessing, classification, regression, clustering, and model evaluation.\n",
    "6. **Statsmodels**: Statistical modeling and inference (focuses on explanation, not just prediction).\n",
    "\n",
    "**How to use these libraries:**\n",
    "1. **Install the libraries** : Covered by Chapter 2 and 3\n",
    "2. **Import the libraries** in your Python script or Jupyter notebook.\n",
    "3. **Use their functions and classes** to analyze data, visualize results, and build models.\n",
    "\n",
    "These libraries form the foundation of modern data science workflows in Python. You will gain plenty of hands-on experience with each of them throughout this course sequence."
   ]
  },
  {
   "cell_type": "markdown",
   "id": "679115f5",
   "metadata": {},
   "source": [
    "### Importing a Library\n",
    "\n",
    "Use the `import` keyword to bring a library into your Python code.\n",
    "\n",
    "Example:\n",
    "```python\n",
    "import numpy as np\n",
    "```\n",
    "Aliases like `np` make code shorter and easier to read."
   ]
  },
  {
   "cell_type": "code",
   "execution_count": null,
   "id": "bc40d77a",
   "metadata": {},
   "outputs": [
    {
     "data": {
      "text/plain": [
       "array([0, 1, 2, 3, 4, 5, 6, 7])"
      ]
     },
     "execution_count": 64,
     "metadata": {},
     "output_type": "execute_result"
    }
   ],
   "source": [
    "import numpy as np\n",
    "np.arange(8)"
   ]
  },
  {
   "cell_type": "markdown",
   "id": "a699f0f7",
   "metadata": {},
   "source": [
    "**Importing in Python: Key Styles**\n",
    "\n",
    "- Import a whole module:\n",
    "  ```python\n",
    "  import math\n",
    "  ```\n",
    "- Import specific items:\n",
    "  ```python\n",
    "  from random import randint\n",
    "  ```\n",
    "- Use an alias:\n",
    "  ```python\n",
    "  import pandas as pd\n",
    "  ```\n",
    "- Rename an imported item:\n",
    "  ```python\n",
    "  from os.path import join as join_path\n",
    "  ```\n",
    "\n",
    "Pick the style that fits your needs and keeps your code readable."
   ]
  },
  {
   "cell_type": "markdown",
   "id": "498e47f5",
   "metadata": {},
   "source": [
    "## User-defined functions\n",
    "\n",
    "A function is a reusable set of instructions that takes one or more inputs, performs some operations, and often returns an output. **Indeed, while python's standard library and ecosystem libraries offer a wealth of pre-defined functions for a wide range of tasks, there are situations where defining your own functions is not just beneficial but necessary.**\n",
    "\n",
    "<img src=https://www.scientecheasy.com/wp-content/uploads/2022/11/python-function-definition.png width=\"500\">"
   ]
  },
  {
   "cell_type": "markdown",
   "id": "ea2c865f",
   "metadata": {},
   "source": [
    "### Creating and using functions\n",
    "You can define a new function using the def keyword."
   ]
  },
  {
   "cell_type": "code",
   "execution_count": 16,
   "id": "d0973d95",
   "metadata": {},
   "outputs": [],
   "source": [
    "def say_hello():\n",
    "    print('Hello there!')\n",
    "    print('How are you?')"
   ]
  },
  {
   "cell_type": "markdown",
   "id": "cece9ada",
   "metadata": {},
   "source": [
    "Note the round brackets or parentheses `()` and colon `:` after the function's name. Both are essential parts of the syntax. The function's *body* contains an indented block of statements. The statements inside a function's body are not executed when the function is defined. To execute the statements, we need to *call* or *invoke* the function."
   ]
  },
  {
   "cell_type": "code",
   "execution_count": 17,
   "id": "e7e7ed69",
   "metadata": {
    "scrolled": false
   },
   "outputs": [
    {
     "name": "stdout",
     "output_type": "stream",
     "text": [
      "Hello there!\n",
      "How are you?\n"
     ]
    }
   ],
   "source": [
    "say_hello()"
   ]
  },
  {
   "cell_type": "code",
   "execution_count": 18,
   "id": "e3e3f934",
   "metadata": {},
   "outputs": [],
   "source": [
    "def say_hello_to(name):\n",
    "    print('Hello ', name)\n",
    "    print('How are you?')"
   ]
  },
  {
   "cell_type": "code",
   "execution_count": 19,
   "id": "4b7039c6",
   "metadata": {
    "scrolled": true
   },
   "outputs": [
    {
     "name": "stdout",
     "output_type": "stream",
     "text": [
      "Hello  Lizhen\n",
      "How are you?\n"
     ]
    }
   ],
   "source": [
    "say_hello_to('Lizhen')"
   ]
  },
  {
   "cell_type": "code",
   "execution_count": 20,
   "id": "d0d3043a",
   "metadata": {},
   "outputs": [
    {
     "name": "stdout",
     "output_type": "stream",
     "text": [
      "Please enter your name: George\n",
      "Hello  George\n",
      "How are you?\n"
     ]
    }
   ],
   "source": [
    "name = input ('Please enter your name: ')\n",
    "say_hello_to(name)"
   ]
  },
  {
   "cell_type": "markdown",
   "id": "47c31575",
   "metadata": {},
   "source": [
    "### Variable scope: Local and global Variables\n",
    "\n",
    "**Local variable:**\n",
    "When we declare variables inside a function, these variables will have a local scope (within the function). We cannot access them outside the function. These types of variables are called local variables. For example,"
   ]
  },
  {
   "cell_type": "code",
   "execution_count": 22,
   "id": "90ede4ad",
   "metadata": {
    "scrolled": true
   },
   "outputs": [
    {
     "name": "stdout",
     "output_type": "stream",
     "text": [
      "Local Hello\n"
     ]
    }
   ],
   "source": [
    "def greet(): \n",
    "    message = 'Hello'  # local variable\n",
    "    print('Local', message)\n",
    "greet()"
   ]
  },
  {
   "cell_type": "code",
   "execution_count": 1,
   "id": "38d46f27",
   "metadata": {},
   "outputs": [],
   "source": [
    "# print(message) # try to access message variable outside greet() function, uncomment this line to see the error"
   ]
  },
  {
   "cell_type": "markdown",
   "id": "a420a502",
   "metadata": {},
   "source": [
    "As `message` was defined within the function `greet()`, it is local to the function, and cannot be called outside the function."
   ]
  },
  {
   "cell_type": "markdown",
   "id": "cb50f253",
   "metadata": {},
   "source": [
    "**Global variable:**\n",
    "Aa variable declared outside of the function or in global scope is known as a global variable. This means that a global variable can be accessed inside or outside of the function.\n",
    "\n",
    "Let's see an example of how a global variable is created."
   ]
  },
  {
   "cell_type": "code",
   "execution_count": 24,
   "id": "a5dab0bb",
   "metadata": {},
   "outputs": [
    {
     "name": "stdout",
     "output_type": "stream",
     "text": [
      "Local Hello\n",
      "Global Hello\n"
     ]
    }
   ],
   "source": [
    "message = 'Hello'  # declare global variable\n",
    "\n",
    "def greet():\n",
    "    print('Local', message)  # declare local variable\n",
    "\n",
    "greet()\n",
    "print('Global', message)"
   ]
  },
  {
   "cell_type": "markdown",
   "id": "af51874d",
   "metadata": {},
   "source": [
    "### Function Arguments in Python\n",
    "\n",
    "#### Named Arguments\n",
    "\n",
    "When calling functions with multiple arguments, using *named* arguments improves clarity and reduces mistakes. You can also split long function calls across multiple lines for readability.\n",
    "\n",
    "**Example:**\n",
    "```python\n",
    "def greet(name, message):\n",
    "    print(f\"{message}, {name}!\")\n",
    "\n",
    "greet(name=\"Alice\", message=\"Hello\")\n",
    "```\n",
    "\n",
    "Named arguments make your code easier to understand and maintain.\n",
    "\n",
    "Here is an example:"
   ]
  },
  {
   "cell_type": "code",
   "execution_count": 25,
   "id": "e079c2e1",
   "metadata": {},
   "outputs": [],
   "source": [
    "def loan_emi(amount, duration, rate, down_payment=0):\n",
    "    loan_amount = amount - down_payment\n",
    "    emi = loan_amount * rate * ((1+rate)**duration) / (((1+rate)**duration)-1)\n",
    "    return emi"
   ]
  },
  {
   "cell_type": "code",
   "execution_count": 26,
   "id": "3c84bf01",
   "metadata": {},
   "outputs": [],
   "source": [
    "emi1 = loan_emi(\n",
    "    amount=1260000, \n",
    "    duration=8*12, \n",
    "    rate=0.1/12, \n",
    "    down_payment=3e5\n",
    ")"
   ]
  },
  {
   "cell_type": "code",
   "execution_count": 27,
   "id": "d86fbeed",
   "metadata": {
    "scrolled": true
   },
   "outputs": [
    {
     "data": {
      "text/plain": [
       "14567.19753389219"
      ]
     },
     "execution_count": 27,
     "metadata": {},
     "output_type": "execute_result"
    }
   ],
   "source": [
    "emi1"
   ]
  },
  {
   "cell_type": "markdown",
   "id": "46bfc144",
   "metadata": {},
   "source": [
    "#### Optional Arguments\n",
    "Functions with optional arguments offer more flexibility in how you can use them. You can call the function with or without the argument, and if there is no argument in the function call, then a default value is used."
   ]
  },
  {
   "cell_type": "code",
   "execution_count": 29,
   "id": "a91e7d0c",
   "metadata": {},
   "outputs": [
    {
     "data": {
      "text/plain": [
       "19119.4467632335"
      ]
     },
     "execution_count": 29,
     "metadata": {},
     "output_type": "execute_result"
    }
   ],
   "source": [
    "emi2 = loan_emi(\n",
    "    amount=1260000, \n",
    "    duration=8*12, \n",
    "    rate=0.1/12)\n",
    "\n",
    "emi2"
   ]
  },
  {
   "cell_type": "markdown",
   "id": "766e206c",
   "metadata": {},
   "source": [
    "#### `*args` and `**kwargs`\n",
    "\n",
    "We can pass a variable number of arguments to a function using two special symbols in Python:  \n",
    "- `*args` for variable-length **positional arguments**  \n",
    "- `**kwargs` for variable-length **keyword arguments**\n",
    "\n",
    "This is useful when you want your function to accept a variety of arguments."
   ]
  },
  {
   "cell_type": "code",
   "execution_count": 41,
   "id": "53121e9a",
   "metadata": {},
   "outputs": [
    {
     "name": "stdout",
     "output_type": "stream",
     "text": [
      "args:  ('John', 22, 'cs')\n",
      "kwargs:  {'name': 'John', 'age': 22, 'major': 'cs'}\n"
     ]
    }
   ],
   "source": [
    "def myFun(*args,**kwargs):\n",
    "    print(\"args: \", args)\n",
    "    print(\"kwargs: \", kwargs)\n",
    " \n",
    " \n",
    "# Now we can use both *args ,**kwargs\n",
    "# to pass arguments to this function :\n",
    "myFun('John',22,'cs',name=\"John\",age=22,major=\"cs\")"
   ]
  },
  {
   "cell_type": "markdown",
   "id": "b7e029b4",
   "metadata": {},
   "source": [
    "## Control Flow\n",
    "\n",
    "### Branching\n",
    "<img src=https://i.imgur.com/7RfcHV0.png width=\"700\">"
   ]
  },
  {
   "cell_type": "markdown",
   "id": "cda54a3c",
   "metadata": {},
   "source": [
    "As in other languages, python has [built-in keywords](https://docs.python.org/3/tutorial/controlflow.html) that provide conditional flow of control in the code. "
   ]
  },
  {
   "cell_type": "markdown",
   "id": "341d6281",
   "metadata": {},
   "source": [
    "#### Branching with `if`, `else` and `elif`\n",
    "\n",
    "One of the most powerful features of programming languages is *branching*: the ability to make decisions and execute a different set of statements based on whether one or more conditions are true.\n",
    "\n",
    "**The `if` statement**\n",
    "\n",
    "In Python, branching is implemented using the `if` statement, which is written as follows:\n",
    "\n",
    "```\n",
    "if condition:\n",
    "    statement1\n",
    "    statement2\n",
    "```\n",
    "\n",
    "The `condition` can be a value, variable or expression. If the condition evaluates to `True`, then the statements within the *`if` block* are executed. Notice the four spaces before `statement1`, `statement2`, etc. The spaces inform Python that these statements are associated with the `if` statement above. This technique of structuring code by adding spaces is called *indentation*.\n",
    "\n",
    "> **Indentation**: Python relies heavily on *indentation* (white space before a statement) to define code structure. This makes Python code easy to read and understand. You can run into problems if you don't use indentation properly. Indent your code by placing the cursor at the start of the line and pressing the `Tab` key once to add 4 spaces. Pressing `Tab` again will indent the code further by 4 more spaces, and press `Shift+Tab` will reduce the indentation by 4 spaces. \n",
    "\n",
    "\n",
    "For example, let's write some code to check and print a message if a given number is even."
   ]
  },
  {
   "cell_type": "code",
   "execution_count": 43,
   "id": "a5184cad",
   "metadata": {},
   "outputs": [],
   "source": [
    "a_number = 34"
   ]
  },
  {
   "cell_type": "code",
   "execution_count": 44,
   "id": "dd79f945",
   "metadata": {},
   "outputs": [
    {
     "name": "stdout",
     "output_type": "stream",
     "text": [
      "We're inside an if block\n",
      "The given number 34 is even.\n"
     ]
    }
   ],
   "source": [
    "if a_number % 2 == 0:\n",
    "    print(\"We're inside an if block\")\n",
    "    print('The given number {} is even.'.format(a_number))"
   ]
  },
  {
   "cell_type": "markdown",
   "id": "a73e5d56",
   "metadata": {},
   "source": [
    "**The `else` statement**\n",
    "\n",
    "We may want to print a different message if the number is not even in the above example. This can be done by adding the `else` statement. It is written as follows:\n",
    "\n",
    "```\n",
    "if condition:\n",
    "    statement1\n",
    "    statement2\n",
    "else:\n",
    "    statement4\n",
    "    statement5\n",
    "\n",
    "```\n",
    "\n",
    "If `condition` evaluates to `True`, the statements in the `if` block are executed. If it evaluates to `False`, the statements in the `else` block are executed."
   ]
  },
  {
   "cell_type": "code",
   "execution_count": 45,
   "id": "3f159ca7",
   "metadata": {},
   "outputs": [
    {
     "name": "stdout",
     "output_type": "stream",
     "text": [
      "The given number 34 is even.\n"
     ]
    }
   ],
   "source": [
    "if a_number % 2 == 0:\n",
    "    print('The given number {} is even.'.format(a_number))\n",
    "else:\n",
    "    print('The given number {} is odd.'.format(a_number))"
   ]
  },
  {
   "cell_type": "markdown",
   "id": "1242fe45",
   "metadata": {},
   "source": [
    "**The `elif` statement**\n",
    "\n",
    "Python also provides an `elif` statement (short for \"else if\") to chain a series of conditional blocks. The conditions are evaluated one by one. For the first condition that evaluates to `True`, the block of statements below it is executed. The remaining conditions and statements are not evaluated. So, in an `if`, `elif`, `elif`... chain, at most one block of statements is executed, the one corresponding to the first condition that evaluates to `True`. "
   ]
  },
  {
   "cell_type": "code",
   "execution_count": 46,
   "id": "4bdd37e0",
   "metadata": {},
   "outputs": [],
   "source": [
    "today = 'Wednesday'"
   ]
  },
  {
   "cell_type": "code",
   "execution_count": 47,
   "id": "5640f0a8",
   "metadata": {},
   "outputs": [
    {
     "name": "stdout",
     "output_type": "stream",
     "text": [
      "Today is the day of Odin, the supreme diety.\n"
     ]
    }
   ],
   "source": [
    "if today == 'Sunday':\n",
    "    print(\"Today is the day of the sun.\")\n",
    "elif today == 'Monday':\n",
    "    print(\"Today is the day of the moon.\")\n",
    "elif today == 'Tuesday':\n",
    "    print(\"Today is the day of Tyr, the god of war.\")\n",
    "elif today == 'Wednesday':\n",
    "    print(\"Today is the day of Odin, the supreme diety.\")\n",
    "elif today == 'Thursday':\n",
    "    print(\"Today is the day of Thor, the god of thunder.\")\n",
    "elif today == 'Friday':\n",
    "    print(\"Today is the day of Frigga, the goddess of beauty.\")\n",
    "elif today == 'Saturday':\n",
    "    print(\"Today is the day of Saturn, the god of fun and feasting.\")"
   ]
  },
  {
   "cell_type": "markdown",
   "id": "00425e67",
   "metadata": {},
   "source": [
    "In the above example, the first 3 conditions evaluate to `False`, so none of the first 3 messages are printed. The fourth condition evaluates to `True`, so the corresponding message is printed. The remaining conditions are skipped. Try changing the value of `today` above and re-executing the cells to print all the different messages."
   ]
  },
  {
   "cell_type": "markdown",
   "id": "3b080cd2",
   "metadata": {},
   "source": [
    "**Using `if`, `elif`, and `else` together**\n",
    "\n",
    "You can also include an `else` statement at the end of a chain of `if`, `elif`... statements. This code within the `else` block is evaluated when none of the conditions hold true."
   ]
  },
  {
   "cell_type": "code",
   "execution_count": 48,
   "id": "0a63b850",
   "metadata": {},
   "outputs": [],
   "source": [
    "a_number = 49"
   ]
  },
  {
   "cell_type": "code",
   "execution_count": 49,
   "id": "095ee877",
   "metadata": {},
   "outputs": [
    {
     "name": "stdout",
     "output_type": "stream",
     "text": [
      "All checks failed!\n",
      "49 is not divisible by 2, 3 or 5\n"
     ]
    }
   ],
   "source": [
    "if a_number % 2 == 0:\n",
    "    print('{} is divisible by 2'.format(a_number))\n",
    "elif a_number % 3 == 0:\n",
    "    print('{} is divisible by 3'.format(a_number))\n",
    "elif a_number % 5 == 0:\n",
    "    print('{} is divisible by 5'.format(a_number))\n",
    "else:\n",
    "    print('All checks failed!')\n",
    "    print('{} is not divisible by 2, 3 or 5'.format(a_number))"
   ]
  },
  {
   "cell_type": "markdown",
   "id": "0c1076a1",
   "metadata": {},
   "source": [
    "**Non-Boolean Conditions**\n",
    "\n",
    "Note that conditions do not necessarily have to be booleans. In fact, a condition can be any value. The value is converted into a boolean automatically using the `bool` operator. \n",
    "Any value in Python can be converted to a Boolean using the `bool` function. \n",
    "\n",
    "Only the following values evaluate to `False` (they are often called *falsy* values):\n",
    "\n",
    "1. The value `False` itself\n",
    "2. The integer `0`\n",
    "3. The float `0.0`\n",
    "4. The empty value `None`\n",
    "5. The empty text `\"\"`\n",
    "6. The empty list `[]`\n",
    "7. The empty tuple `()`\n",
    "8. The empty dictionary `{}`\n",
    "9. The empty set `set()`\n",
    "10. The empty range `range(0)`\n",
    "\n",
    "Everything else evaluates to `True` (a value that evaluates to `True` is often called a *truthy* value)."
   ]
  },
  {
   "cell_type": "code",
   "execution_count": 50,
   "id": "7fc7083e",
   "metadata": {},
   "outputs": [
    {
     "name": "stdout",
     "output_type": "stream",
     "text": [
      "The condition evaluted to False\n"
     ]
    }
   ],
   "source": [
    "if '':\n",
    "    print('The condition evaluted to True')\n",
    "else:\n",
    "    print('The condition evaluted to False')"
   ]
  },
  {
   "cell_type": "code",
   "execution_count": 51,
   "id": "14c29622",
   "metadata": {},
   "outputs": [
    {
     "name": "stdout",
     "output_type": "stream",
     "text": [
      "The condition evaluted to True\n"
     ]
    }
   ],
   "source": [
    "if 'Hello':\n",
    "    print('The condition evaluted to True')\n",
    "else:\n",
    "    print('The condition evaluted to False')"
   ]
  },
  {
   "cell_type": "code",
   "execution_count": 52,
   "id": "97352996",
   "metadata": {},
   "outputs": [
    {
     "name": "stdout",
     "output_type": "stream",
     "text": [
      "The condition evaluted to True\n"
     ]
    }
   ],
   "source": [
    "if { 'a': 34 }:\n",
    "    print('The condition evaluted to True')\n",
    "else:\n",
    "    print('The condition evaluted to False')"
   ]
  },
  {
   "cell_type": "code",
   "execution_count": 53,
   "id": "873bda98",
   "metadata": {},
   "outputs": [
    {
     "name": "stdout",
     "output_type": "stream",
     "text": [
      "The condition evaluted to False\n"
     ]
    }
   ],
   "source": [
    "if None:\n",
    "    print('The condition evaluted to True')\n",
    "else:\n",
    "    print('The condition evaluted to False')"
   ]
  },
  {
   "cell_type": "markdown",
   "id": "8b59e8b7",
   "metadata": {},
   "source": [
    "**Nested conditional statements**\n",
    "\n",
    "The code inside an `if` block can also include an `if` statement inside it. This pattern is called `nesting` and is used to check for another condition after a particular condition holds true."
   ]
  },
  {
   "cell_type": "code",
   "execution_count": 54,
   "id": "debaa56d",
   "metadata": {},
   "outputs": [],
   "source": [
    "a_number = 15"
   ]
  },
  {
   "cell_type": "code",
   "execution_count": 58,
   "id": "83eb90be",
   "metadata": {},
   "outputs": [
    {
     "name": "stdout",
     "output_type": "stream",
     "text": [
      "15 is odd\n",
      "15 is also divisible by 5\n"
     ]
    }
   ],
   "source": [
    "if a_number % 2 == 0:\n",
    "    print(\"{} is even\".format(a_number))\n",
    "    if a_number % 3 == 0:\n",
    "        print(\"{} is also divisible by 3\".format(a_number))\n",
    "    else:\n",
    "        print(\"{} is not divisibule by 3\".format(a_number))\n",
    "else:\n",
    "    print(\"{} is odd\".format(a_number))\n",
    "    if a_number % 5 == 0:\n",
    "        print(\"{} is also divisible by 5\".format(a_number))\n",
    "    else:\n",
    "        print(\"{} is not divisibule by 5\".format(a_number))"
   ]
  },
  {
   "cell_type": "markdown",
   "id": "87f6bfde",
   "metadata": {},
   "source": [
    "Notice how the `print` statements are indented by 8 spaces to indicate that they are part of the inner `if`/`else` blocks.\n",
    "\n",
    "> Nested `if`, `else` statements are often confusing to read and prone to human error. It's good to avoid nesting whenever possible, or limit the nesting to 1 or 2 levels."
   ]
  },
  {
   "cell_type": "markdown",
   "id": "ecf28575",
   "metadata": {},
   "source": [
    "**Shorthand `if` conditional expression**\n",
    "\n",
    "A frequent use case of the `if` statement involves testing a condition and setting a variable's value based on the condition.\n",
    "\n",
    "Python provides a shorter syntax, which allows writing such conditions in a single line of code. It is known as a *conditional expression*, sometimes also referred to as a *ternary operator*. It has the following syntax:\n",
    "\n",
    "```\n",
    "x = true_value if condition else false_value\n",
    "```\n",
    "\n",
    "It has the same behavior as the following `if`-`else` block:\n",
    "\n",
    "```\n",
    "if condition:\n",
    "    x = true_value\n",
    "else:\n",
    "    x = false_value\n",
    "```\n",
    "\n",
    "Let's try it out for the example above."
   ]
  },
  {
   "cell_type": "code",
   "execution_count": 59,
   "id": "111a90b9",
   "metadata": {},
   "outputs": [],
   "source": [
    "parity = 'even' if a_number % 2 == 0 else 'odd'"
   ]
  },
  {
   "cell_type": "code",
   "execution_count": 60,
   "id": "68018126",
   "metadata": {},
   "outputs": [
    {
     "name": "stdout",
     "output_type": "stream",
     "text": [
      "The number 15 is odd.\n"
     ]
    }
   ],
   "source": [
    "print('The number {} is {}.'.format(a_number, parity))"
   ]
  },
  {
   "cell_type": "markdown",
   "id": "dad58590",
   "metadata": {},
   "source": [
    "**The `pass` statement**\n",
    "\n",
    "`if` statements cannot be empty, there must be at least one statement in every `if` and `elif` block. We can use the `pass` statement to do nothing and avoid getting an error."
   ]
  },
  {
   "cell_type": "code",
   "execution_count": 61,
   "id": "e0d86a76",
   "metadata": {},
   "outputs": [],
   "source": [
    "a_number = 9"
   ]
  },
  {
   "cell_type": "code",
   "execution_count": 2,
   "id": "2c04f9dd",
   "metadata": {},
   "outputs": [],
   "source": [
    "# please uncomment the code below and see the error message\n",
    "# if a_number % 2 == 0:\n",
    "    \n",
    "# elif a_number % 3 == 0:\n",
    "#    print('{} is divisible by 3 but not divisible by 2')"
   ]
  },
  {
   "cell_type": "markdown",
   "id": "4b0dacc2",
   "metadata": {},
   "source": [
    "As there must be at least one statement withihng the `if` block, the above code throws an error."
   ]
  },
  {
   "cell_type": "code",
   "execution_count": 63,
   "id": "2d809588",
   "metadata": {},
   "outputs": [
    {
     "name": "stdout",
     "output_type": "stream",
     "text": [
      "9 is divisible by 3 but not divisible by 2\n"
     ]
    }
   ],
   "source": [
    "if a_number % 2 == 0:\n",
    "    pass\n",
    "elif a_number % 3 == 0:\n",
    "    print('{} is divisible by 3 but not divisible by 2'.format(a_number))"
   ]
  },
  {
   "cell_type": "markdown",
   "id": "214f4af0",
   "metadata": {},
   "source": [
    "### Loops\n",
    "\n",
    "#### `while` loops\n",
    "\n",
    "Another powerful feature of programming languages, closely related to branching, is running one or more statements multiple times. This feature is often referred to as *iteration* on *looping*, and there are two ways to do this in Python: using `while` loops and `for` loops. \n",
    "\n",
    "`while` loops have the following syntax:\n",
    "\n",
    "```\n",
    "while condition:\n",
    "    statement(s)\n",
    "```\n",
    "\n",
    "Statements in the code block under `while` are executed repeatedly as long as the `condition` evaluates to `True`. Generally, one of the statements under `while` makes some change to a variable that causes the condition to evaluate to `False` after a certain number of iterations.\n",
    "\n",
    "Let's try to calculate the factorial of `100` using a `while` loop. The factorial of a number `n` is the product (multiplication) of all the numbers from `1` to `n`, i.e., `1*2*3*...*(n-2)*(n-1)*n`."
   ]
  },
  {
   "cell_type": "code",
   "execution_count": 65,
   "id": "adc913a0",
   "metadata": {},
   "outputs": [
    {
     "name": "stdout",
     "output_type": "stream",
     "text": [
      "The factorial of 100 is: 3628800\n"
     ]
    }
   ],
   "source": [
    "result = 1\n",
    "i = 1\n",
    "\n",
    "while i <= 10:\n",
    "    result = result * i\n",
    "    i = i+1\n",
    "\n",
    "print('The factorial of 100 is: {}'.format(result))"
   ]
  },
  {
   "cell_type": "markdown",
   "id": "87abe782",
   "metadata": {},
   "source": [
    "#### Infinite Loops\n",
    "\n",
    "Suppose the condition in a `while` loop always holds true. In that case, Python repeatedly executes the code within the loop forever, and the execution of the code never completes. This situation is called an infinite loop. It generally indicates that you've made a mistake in your code. For example, you may have provided the wrong condition or forgotten to update a variable within the loop, eventually falsifying the condition.\n",
    "\n",
    "If your code is *stuck* in an infinite loop during execution, just press the \"Stop\" button on the toolbar (next to \"Run\") or select \"Kernel > Interrupt\" from the menu bar. This will *interrupt* the execution of the code. The following two cells both lead to infinite loops and need to be interrupted."
   ]
  },
  {
   "cell_type": "code",
   "execution_count": null,
   "id": "bd1e5f94",
   "metadata": {},
   "outputs": [],
   "source": [
    "# INFINITE LOOP - INTERRUPT THIS CELL\n",
    "\n",
    "result = 1\n",
    "i = 1\n",
    "\n",
    "while i <= 100:\n",
    "    result = result * i\n",
    "    # forgot to increment i"
   ]
  },
  {
   "cell_type": "code",
   "execution_count": null,
   "id": "6f773eca",
   "metadata": {},
   "outputs": [],
   "source": [
    "# INFINITE LOOP - INTERRUPT THIS CELL\n",
    "\n",
    "result = 1\n",
    "i = 1\n",
    "\n",
    "while i > 0 : # wrong condition\n",
    "    result *= i\n",
    "    i += 1"
   ]
  },
  {
   "cell_type": "markdown",
   "id": "19cd7dba",
   "metadata": {},
   "source": [
    "#### `break` and `continue` statements\n",
    "\n",
    "In Python, `break` and `continue` statements can alter the flow of a normal loop.\n",
    "<img src=https://files.realpython.com/media/t.899f357dd948.png width=\"300\">\n",
    "\n",
    "We can use the `break` statement within the loop's body to immediately stop the execution and *break* out of the loop.\n",
    "with the continue statement. If the condition evaluates to `True`, then the loop will move to the next iteration."
   ]
  },
  {
   "cell_type": "code",
   "execution_count": 69,
   "id": "541aa33a",
   "metadata": {},
   "outputs": [
    {
     "name": "stdout",
     "output_type": "stream",
     "text": [
      "Magic number 42 reached! Stopping execution..\n",
      "i: 42\n",
      "result: 1405006117752879898543142606244511569936384000000000\n"
     ]
    }
   ],
   "source": [
    "i = 1\n",
    "result = 1\n",
    "\n",
    "while i <= 100:\n",
    "    result *= i\n",
    "    if i == 42:\n",
    "        print('Magic number 42 reached! Stopping execution..')\n",
    "        break\n",
    "    i += 1\n",
    "    \n",
    "print('i:', i)\n",
    "print('result:', result)"
   ]
  },
  {
   "cell_type": "code",
   "execution_count": 71,
   "id": "6da1b423",
   "metadata": {},
   "outputs": [
    {
     "name": "stdout",
     "output_type": "stream",
     "text": [
      "Skipping 2\n",
      "Multiplying with 3\n",
      "Skipping 4\n",
      "Multiplying with 5\n",
      "Skipping 6\n",
      "Multiplying with 7\n",
      "Skipping 8\n",
      "i: 8\n",
      "result: 105\n"
     ]
    }
   ],
   "source": [
    "i = 1\n",
    "result = 1\n",
    "\n",
    "while i < 8:\n",
    "    i += 1\n",
    "    if i % 2 == 0:\n",
    "        print('Skipping {}'.format(i))\n",
    "        continue\n",
    "    print('Multiplying with {}'.format(i))\n",
    "    result = result * i\n",
    "    \n",
    "print('i:', i)\n",
    "print('result:', result)"
   ]
  },
  {
   "cell_type": "markdown",
   "id": "861a2110",
   "metadata": {},
   "source": [
    "In the example above, the statement `result = result * i` inside the loop is skipped when `i` is even, as indicated by the messages printed during execution.\n",
    "\n",
    "> **Logging**: The process of adding `print` statements at different points in the code *(often within loops and conditional statements)* for inspecting the values of variables at various stages of execution is called logging. As our programs get larger, they naturally become prone to human errors. Logging can help in verifying the program is working as expected. In many cases, `print` statements are added while writing & testing some code and are removed later."
   ]
  },
  {
   "cell_type": "markdown",
   "id": "1dfedae8",
   "metadata": {},
   "source": [
    "Task: Guess the output and explain it."
   ]
  },
  {
   "cell_type": "code",
   "execution_count": 72,
   "id": "e2945e9e",
   "metadata": {},
   "outputs": [
    {
     "name": "stdout",
     "output_type": "stream",
     "text": [
      "s\n",
      "t\n",
      "r\n",
      "The end\n"
     ]
    }
   ],
   "source": [
    "# Use of break statement inside the loop\n",
    "\n",
    "for val in \"string\":\n",
    "    if val == \"i\":\n",
    "        break\n",
    "    print(val)\n",
    "\n",
    "print(\"The end\")"
   ]
  },
  {
   "cell_type": "code",
   "execution_count": 73,
   "id": "62c1c61b",
   "metadata": {},
   "outputs": [
    {
     "name": "stdout",
     "output_type": "stream",
     "text": [
      "s\n",
      "t\n",
      "r\n",
      "n\n",
      "g\n",
      "The end\n"
     ]
    }
   ],
   "source": [
    "# Program to show the use of continue statement inside loops\n",
    "\n",
    "for val in \"string\":\n",
    "    if val == \"i\":\n",
    "        continue\n",
    "    print(val)\n",
    "\n",
    "print(\"The end\")"
   ]
  },
  {
   "cell_type": "markdown",
   "id": "315dd0b4",
   "metadata": {},
   "source": [
    "#### `for` loops\n",
    "\n",
    "A `for` loop is used for iterating or looping over sequences, i.e., lists, tuples, dictionaries, strings, and *ranges*. For loops have the following syntax:\n",
    "\n",
    "```\n",
    "for value in sequence:\n",
    "    statement(s)\n",
    "```\n",
    "\n",
    "The statements within the loop are executed once for each element in `sequence`. Here's an example that prints all the element of a list."
   ]
  },
  {
   "cell_type": "code",
   "execution_count": 74,
   "id": "ac564612",
   "metadata": {},
   "outputs": [
    {
     "name": "stdout",
     "output_type": "stream",
     "text": [
      "Monday\n",
      "Tuesday\n",
      "Wednesday\n",
      "Thursday\n",
      "Friday\n"
     ]
    }
   ],
   "source": [
    "days = ['Monday', 'Tuesday', 'Wednesday', 'Thursday', 'Friday']\n",
    "\n",
    "for day in days:\n",
    "    print(day)"
   ]
  },
  {
   "cell_type": "code",
   "execution_count": 75,
   "id": "e00d9711",
   "metadata": {},
   "outputs": [
    {
     "name": "stdout",
     "output_type": "stream",
     "text": [
      "M\n",
      "o\n",
      "n\n",
      "d\n",
      "a\n",
      "y\n"
     ]
    }
   ],
   "source": [
    "# Looping over a string\n",
    "for char in 'Monday':\n",
    "    print(char)"
   ]
  },
  {
   "cell_type": "code",
   "execution_count": 76,
   "id": "055490ae",
   "metadata": {},
   "outputs": [
    {
     "name": "stdout",
     "output_type": "stream",
     "text": [
      "Key: name , Value: John Doe\n",
      "Key: sex , Value: Male\n",
      "Key: age , Value: 32\n",
      "Key: married , Value: True\n"
     ]
    }
   ],
   "source": [
    "# Looping over a dictionary\n",
    "person = {\n",
    "    'name': 'John Doe',\n",
    "    'sex': 'Male',\n",
    "    'age': 32,\n",
    "    'married': True\n",
    "}\n",
    "\n",
    "for key, value in person.items():\n",
    "    print(\"Key:\", key, \",\", \"Value:\", value)"
   ]
  },
  {
   "cell_type": "markdown",
   "id": "9bac4b8d",
   "metadata": {},
   "source": [
    "#### Iterating using `range` and `enumerate`\n",
    "\n",
    "The `range` function is used to create a sequence of numbers that can be iterated over using a `for` loop. It can be used in 3 ways:\n",
    " \n",
    "* `range(n)` - Creates a sequence of numbers from `0` to `n-1`\n",
    "* `range(a, b)` - Creates a sequence of numbers from `a` to `b-1`\n",
    "* `range(a, b, step)` - Creates a sequence of numbers from `a` to `b-1` with increments of `step`\n",
    "\n",
    "Let's try it out."
   ]
  },
  {
   "cell_type": "code",
   "execution_count": 78,
   "id": "71a53f7a",
   "metadata": {},
   "outputs": [
    {
     "name": "stdout",
     "output_type": "stream",
     "text": [
      "0\n",
      "1\n",
      "2\n",
      "3\n"
     ]
    }
   ],
   "source": [
    "for i in range(4):\n",
    "    print(i)"
   ]
  },
  {
   "cell_type": "code",
   "execution_count": 79,
   "id": "7eab2d2b",
   "metadata": {},
   "outputs": [
    {
     "name": "stdout",
     "output_type": "stream",
     "text": [
      "3\n",
      "4\n",
      "5\n",
      "6\n",
      "7\n"
     ]
    }
   ],
   "source": [
    "for i in range(3, 8):\n",
    "    print(i)"
   ]
  },
  {
   "cell_type": "code",
   "execution_count": 80,
   "id": "752f458b",
   "metadata": {},
   "outputs": [
    {
     "name": "stdout",
     "output_type": "stream",
     "text": [
      "3\n",
      "7\n",
      "11\n"
     ]
    }
   ],
   "source": [
    "for i in range(3, 14, 4):\n",
    "    print(i)"
   ]
  },
  {
   "cell_type": "markdown",
   "id": "cb25b550",
   "metadata": {},
   "source": [
    "Ranges are used for iterating over lists when you need to track the index of elements while iterating."
   ]
  },
  {
   "cell_type": "code",
   "execution_count": 81,
   "id": "a2c40786",
   "metadata": {},
   "outputs": [
    {
     "name": "stdout",
     "output_type": "stream",
     "text": [
      "The value at position 0 is Monday.\n",
      "The value at position 1 is Tuesday.\n",
      "The value at position 2 is Wednesday.\n",
      "The value at position 3 is Thursday.\n",
      "The value at position 4 is Friday.\n"
     ]
    }
   ],
   "source": [
    "a_list = ['Monday', 'Tuesday', 'Wednesday', 'Thursday', 'Friday']\n",
    "\n",
    "for i in range(len(a_list)):\n",
    "    print('The value at position {} is {}.'.format(i, a_list[i]))"
   ]
  },
  {
   "cell_type": "markdown",
   "id": "fbcbcaf2",
   "metadata": {},
   "source": [
    "Another way to achieve the same result is by using the `enumerate` function with `a_list` as an input, which returns a tuple containing the index and the corresponding element."
   ]
  },
  {
   "cell_type": "code",
   "execution_count": 82,
   "id": "7734cd7c",
   "metadata": {},
   "outputs": [
    {
     "name": "stdout",
     "output_type": "stream",
     "text": [
      "The value at position 0 is Monday.\n",
      "The value at position 1 is Tuesday.\n",
      "The value at position 2 is Wednesday.\n",
      "The value at position 3 is Thursday.\n",
      "The value at position 4 is Friday.\n"
     ]
    }
   ],
   "source": [
    "for i, val in enumerate(a_list):\n",
    "    print('The value at position {} is {}.'.format(i, val))"
   ]
  },
  {
   "cell_type": "markdown",
   "id": "71cd71e1",
   "metadata": {},
   "source": [
    "## Object Oriented Programming"
   ]
  },
  {
   "cell_type": "markdown",
   "id": "fa268fe7",
   "metadata": {},
   "source": [
    "Python is an object-oriented programming language. In layman terms, it means that every number, string, data structure, function, class, module, etc., exists in the python interpreter as a python object. An object may have attributes and methods associated with it. For example, let us define a variable that stores an integer:"
   ]
  },
  {
   "cell_type": "code",
   "execution_count": null,
   "id": "417e0efa",
   "metadata": {},
   "outputs": [],
   "source": [
    "var = 2"
   ]
  },
  {
   "cell_type": "markdown",
   "id": "8422d030",
   "metadata": {},
   "source": [
    "The variable `var` is an object that has attributes and methods associated with it. For example a couple of its attributes are `real` and `imag`, which store the real and imaginary parts respectively, of the object `var`:"
   ]
  },
  {
   "cell_type": "code",
   "execution_count": null,
   "id": "020036fc",
   "metadata": {},
   "outputs": [
    {
     "name": "stdout",
     "output_type": "stream",
     "text": [
      "Real part of 'var':  2\n",
      "Real part of 'var':  0\n"
     ]
    }
   ],
   "source": [
    "print(\"Real part of 'var': \",var.real)\n",
    "print(\"Real part of 'var': \",var.imag)"
   ]
  },
  {
   "cell_type": "markdown",
   "id": "8a2ab371",
   "metadata": {},
   "source": [
    "**Attribute:** An attribute is a value associated with an object, defined within the class of the object. \n",
    "\n",
    "**Method:** A method is a function associated with an object, defined within the class of the object, and has access to the attributes associated with the object.\n",
    "\n",
    "For looking at attributes and methods associated with an object, say `obj`, press tab key after typing `obj.`."
   ]
  },
  {
   "cell_type": "markdown",
   "id": "36c16bfb",
   "metadata": {},
   "source": [
    "Consider the example below of a class *example_class*:"
   ]
  },
  {
   "cell_type": "code",
   "execution_count": null,
   "id": "58e3be8e",
   "metadata": {},
   "outputs": [],
   "source": [
    "class example_class:\n",
    "    class_name = 'My Class'\n",
    "    def my_method(self):\n",
    "        print('Hello World!')\n",
    "\n",
    "e = example_class()"
   ]
  },
  {
   "cell_type": "markdown",
   "id": "5ef9b674",
   "metadata": {},
   "source": [
    "In the above class, `class_name` is an attribute, while `my_method` is a method."
   ]
  },
  {
   "cell_type": "markdown",
   "id": "3f9bb8a2",
   "metadata": {},
   "source": [
    "#### Call by Reference in Python\n",
    "\n",
    "Python uses *call by object reference* (also called *call by sharing*). When you assign an object to a variable, the variable points to the object in memory—not a copy.\n",
    "\n",
    "Changes made through one reference affect the original object. This is important to remember when working with mutable types like lists and dictionaries."
   ]
  },
  {
   "cell_type": "code",
   "execution_count": null,
   "id": "7d0182fa",
   "metadata": {},
   "outputs": [],
   "source": [
    "x = [5,3]"
   ]
  },
  {
   "cell_type": "markdown",
   "id": "b7cc37f5",
   "metadata": {},
   "source": [
    "The variable name `x` is a reference to the memory location where the object `[5, 3]` is stored. Now, suppose we assign `x` to a new variable `y`:"
   ]
  },
  {
   "cell_type": "code",
   "execution_count": null,
   "id": "21b92fe1",
   "metadata": {},
   "outputs": [],
   "source": [
    "y = x"
   ]
  },
  {
   "cell_type": "markdown",
   "id": "7a2e7ec8",
   "metadata": {},
   "source": [
    "In the above statement the variable name `y` now refers to the same object `[5,3]`. The object `[5,3]` does **not** get copied to a new memory location referred by `y`. To prove this, let us add an element to `y`:"
   ]
  },
  {
   "cell_type": "code",
   "execution_count": null,
   "id": "3d1370e0",
   "metadata": {},
   "outputs": [
    {
     "name": "stdout",
     "output_type": "stream",
     "text": [
      "[5, 3, 4]\n"
     ]
    }
   ],
   "source": [
    "y.append(4)\n",
    "print(y)"
   ]
  },
  {
   "cell_type": "code",
   "execution_count": null,
   "id": "fb28f4cf",
   "metadata": {},
   "outputs": [
    {
     "name": "stdout",
     "output_type": "stream",
     "text": [
      "[5, 3, 4]\n"
     ]
    }
   ],
   "source": [
    "print(x)"
   ]
  },
  {
   "cell_type": "markdown",
   "id": "4a9b5d52",
   "metadata": {},
   "source": [
    "When we changed `y`, note that `x` also changed to the same object, showing that `x` and `y` refer to the same object, instead of referring to different copies of the same object."
   ]
  }
 ],
 "metadata": {
  "kernelspec": {
   "display_name": "base",
   "language": "python",
   "name": "python3"
  },
  "language_info": {
   "codemirror_mode": {
    "name": "ipython",
    "version": 3
   },
   "file_extension": ".py",
   "mimetype": "text/x-python",
   "name": "python",
   "nbconvert_exporter": "python",
   "pygments_lexer": "ipython3",
   "version": "3.12.4"
  }
 },
 "nbformat": 4,
 "nbformat_minor": 5
}
