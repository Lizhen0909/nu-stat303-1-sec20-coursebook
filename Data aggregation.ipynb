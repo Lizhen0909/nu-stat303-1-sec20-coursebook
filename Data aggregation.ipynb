{
 "cells": [
  {
   "cell_type": "raw",
   "metadata": {},
   "source": [
    "---\n",
    "title: \"Data Grouping and Aggregation\"\n",
    "format: \n",
    "  html:\n",
    "    code-fold: false\n",
    "    toc-depth: 4\n",
    "jupyter: python3\n",
    "---"
   ]
  },
  {
   "cell_type": "markdown",
   "metadata": {},
   "source": [
    "Grouping and aggregation are essential in data science because they enable meaningful analysis and insights from complex and large-scale datasets. Here are key reasons why they are important:\n",
    "\n",
    "* **Data Summarization:** Grouping allows you to condense large amounts of data into concise summaries. Aggregation provides statistical summaries (e.g., mean, sum, count), making it easier to understand data trends and characteristics without needing to examine every detail.\n",
    "* **Insights Across Categories:** Grouping by categories, like regions, demographics, or time periods, lets you analyze patterns within each group. For example, aggregating sales data by region can reveal which areas are performing better, or grouping customer data by age group can highlight consumer trends.\n",
    "* **Time Series Analysis:** In time-series data, grouping by time intervals (e.g., day, month, quarter) allows you to observe trends over time, which can be crucial for forecasting, seasonal analysis, and trend detection.\n",
    "* **Reducing Data Complexity:** By summarizing data at a higher level, you reduce complexity, making it easier to visualize and interpret, especially in large datasets where working with raw data could be overwhelming.\n",
    "\n",
    "In this chapter, we are going to see grouping and aggregating using pandas. Grouping and aggregating will help to achieve data analysis easily using various functions. These methods will help us to the group and summarize our data and make complex analysis comparatively easy.  \n",
    "\n",
    "Througout this chapter, we will use *gdp_lifeExpectancy.csv*, let's read the csv file to pandas dataframe first"
   ]
  },
  {
   "cell_type": "code",
   "execution_count": 2,
   "metadata": {},
   "outputs": [],
   "source": [
    "import pandas as pd\n",
    "import numpy as np\n",
    "import seaborn as sns\n",
    "import matplotlib.pyplot as plt\n",
    "\n",
    "%matplotlib inline"
   ]
  },
  {
   "cell_type": "code",
   "execution_count": 3,
   "metadata": {},
   "outputs": [
    {
     "data": {
      "text/html": [
       "<div>\n",
       "<style scoped>\n",
       "    .dataframe tbody tr th:only-of-type {\n",
       "        vertical-align: middle;\n",
       "    }\n",
       "\n",
       "    .dataframe tbody tr th {\n",
       "        vertical-align: top;\n",
       "    }\n",
       "\n",
       "    .dataframe thead th {\n",
       "        text-align: right;\n",
       "    }\n",
       "</style>\n",
       "<table border=\"1\" class=\"dataframe\">\n",
       "  <thead>\n",
       "    <tr style=\"text-align: right;\">\n",
       "      <th></th>\n",
       "      <th>country</th>\n",
       "      <th>continent</th>\n",
       "      <th>year</th>\n",
       "      <th>lifeExp</th>\n",
       "      <th>pop</th>\n",
       "      <th>gdpPercap</th>\n",
       "    </tr>\n",
       "  </thead>\n",
       "  <tbody>\n",
       "    <tr>\n",
       "      <th>0</th>\n",
       "      <td>Afghanistan</td>\n",
       "      <td>Asia</td>\n",
       "      <td>1952</td>\n",
       "      <td>28.801</td>\n",
       "      <td>8425333</td>\n",
       "      <td>779.445314</td>\n",
       "    </tr>\n",
       "    <tr>\n",
       "      <th>1</th>\n",
       "      <td>Afghanistan</td>\n",
       "      <td>Asia</td>\n",
       "      <td>1957</td>\n",
       "      <td>30.332</td>\n",
       "      <td>9240934</td>\n",
       "      <td>820.853030</td>\n",
       "    </tr>\n",
       "    <tr>\n",
       "      <th>2</th>\n",
       "      <td>Afghanistan</td>\n",
       "      <td>Asia</td>\n",
       "      <td>1962</td>\n",
       "      <td>31.997</td>\n",
       "      <td>10267083</td>\n",
       "      <td>853.100710</td>\n",
       "    </tr>\n",
       "    <tr>\n",
       "      <th>3</th>\n",
       "      <td>Afghanistan</td>\n",
       "      <td>Asia</td>\n",
       "      <td>1967</td>\n",
       "      <td>34.020</td>\n",
       "      <td>11537966</td>\n",
       "      <td>836.197138</td>\n",
       "    </tr>\n",
       "    <tr>\n",
       "      <th>4</th>\n",
       "      <td>Afghanistan</td>\n",
       "      <td>Asia</td>\n",
       "      <td>1972</td>\n",
       "      <td>36.088</td>\n",
       "      <td>13079460</td>\n",
       "      <td>739.981106</td>\n",
       "    </tr>\n",
       "  </tbody>\n",
       "</table>\n",
       "</div>"
      ],
      "text/plain": [
       "       country continent  year  lifeExp       pop   gdpPercap\n",
       "0  Afghanistan      Asia  1952   28.801   8425333  779.445314\n",
       "1  Afghanistan      Asia  1957   30.332   9240934  820.853030\n",
       "2  Afghanistan      Asia  1962   31.997  10267083  853.100710\n",
       "3  Afghanistan      Asia  1967   34.020  11537966  836.197138\n",
       "4  Afghanistan      Asia  1972   36.088  13079460  739.981106"
      ]
     },
     "execution_count": 3,
     "metadata": {},
     "output_type": "execute_result"
    }
   ],
   "source": [
    "# Load the data\n",
    "gdp_lifeExp_data = pd.read_csv('./Datasets/gdp_lifeExpectancy.csv')\n",
    "gdp_lifeExp_data.head()"
   ]
  },
  {
   "cell_type": "markdown",
   "metadata": {},
   "source": [
    "## Grouping by a single column\n",
    "\n",
    "`groupby()` allows you to split a DataFrame based on the values in one or more columns. First, we’ll explore grouping by a single column.\n",
    "\n",
    "### Syntax of `groupby()`\n",
    "\n",
    "* `DataFrame.groupby(by=\"column_name\")` – Groups data by the specified column.\n",
    "\n",
    "Consider the life expectancy dataset. suppose we want to group by the observations by `continent` by passing it as an argument to the `groupby()` method."
   ]
  },
  {
   "cell_type": "code",
   "execution_count": 4,
   "metadata": {},
   "outputs": [],
   "source": [
    "#Creating a GroupBy object\n",
    "grouped = gdp_lifeExp_data.groupby('continent')\n",
    "#This will split the data into groups that correspond to values of the column 'continent'"
   ]
  },
  {
   "cell_type": "markdown",
   "metadata": {},
   "source": [
    "The `groupby()` method returns a GroupBy object."
   ]
  },
  {
   "cell_type": "code",
   "execution_count": 5,
   "metadata": {},
   "outputs": [
    {
     "data": {
      "text/plain": [
       "pandas.core.groupby.generic.DataFrameGroupBy"
      ]
     },
     "execution_count": 5,
     "metadata": {},
     "output_type": "execute_result"
    }
   ],
   "source": [
    "#A 'GroupBy' objects is created with the `groupby()` function\n",
    "type(grouped)"
   ]
  },
  {
   "cell_type": "markdown",
   "metadata": {},
   "source": [
    "The GroupBy object `grouped` contains the information of the groups in which the data is distributed. Each observation has been assigned to a specific group of the column(s) used to group the data. However, note that the dataset is not physically split into different DataFrames.  For example, in the above case, each observation is assigned to a particular group depending on the value of the `continent` for that observation. However, all the observations are still in the same DataFrame `data`."
   ]
  },
  {
   "cell_type": "markdown",
   "metadata": {},
   "source": [
    "### Attributes and methods of the [*GroupBy*](https://pandas.pydata.org/docs/reference/groupby.html) object"
   ]
  },
  {
   "cell_type": "markdown",
   "metadata": {},
   "source": [
    "#### `keys`\n",
    "\n",
    "The object(s) grouping the data are called *key(s)*. Here `continent` is the group key. The keys of the *GroupBy* object can be seen using Its `keys` attribute."
   ]
  },
  {
   "cell_type": "code",
   "execution_count": 6,
   "metadata": {},
   "outputs": [
    {
     "data": {
      "text/plain": [
       "'continent'"
      ]
     },
     "execution_count": 6,
     "metadata": {},
     "output_type": "execute_result"
    }
   ],
   "source": [
    "#Key(s) of the GroupBy object\n",
    "grouped.keys"
   ]
  },
  {
   "cell_type": "markdown",
   "metadata": {},
   "source": [
    "#### [`ngroups`](https://pandas.pydata.org/pandas-docs/stable/reference/api/pandas.core.groupby.GroupBy.ngroup.html)\n",
    "The number of groups in which the data is distributed based on the keys can be seen with the `ngroups` attribute."
   ]
  },
  {
   "cell_type": "code",
   "execution_count": 7,
   "metadata": {},
   "outputs": [
    {
     "data": {
      "text/plain": [
       "5"
      ]
     },
     "execution_count": 7,
     "metadata": {},
     "output_type": "execute_result"
    }
   ],
   "source": [
    "#The number of groups based on the key(s)\n",
    "grouped.ngroups"
   ]
  },
  {
   "cell_type": "markdown",
   "metadata": {},
   "source": [
    "The group names are the *keys* of the dictionary, while the row labels are the corresponding *values*"
   ]
  },
  {
   "cell_type": "code",
   "execution_count": 8,
   "metadata": {},
   "outputs": [
    {
     "data": {
      "text/plain": [
       "dict_keys(['Africa', 'Americas', 'Asia', 'Europe', 'Oceania'])"
      ]
     },
     "execution_count": 8,
     "metadata": {},
     "output_type": "execute_result"
    }
   ],
   "source": [
    "#Group names\n",
    "grouped.groups.keys()"
   ]
  },
  {
   "cell_type": "markdown",
   "metadata": {},
   "source": [
    "#### [`groups`](https://pandas.pydata.org/docs/reference/api/pandas.core.groupby.GroupBy.groups.html)\n",
    "The `groups` attribute of the *GroupBy* object contains the group labels (or names) and the row labels of the observations in each group, as a dictionary."
   ]
  },
  {
   "cell_type": "code",
   "execution_count": 9,
   "metadata": {},
   "outputs": [
    {
     "data": {
      "text/plain": [
       "{'Africa': [24, 25, 26, 27, 28, 29, 30, 31, 32, 33, 34, 35, 36, 37, 38, 39, 40, 41, 42, 43, 44, 45, 46, 47, 120, 121, 122, 123, 124, 125, 126, 127, 128, 129, 130, 131, 156, 157, 158, 159, 160, 161, 162, 163, 164, 165, 166, 167, 192, 193, 194, 195, 196, 197, 198, 199, 200, 201, 202, 203, 204, 205, 206, 207, 208, 209, 210, 211, 212, 213, 214, 215, 228, 229, 230, 231, 232, 233, 234, 235, 236, 237, 238, 239, 252, 253, 254, 255, 256, 257, 258, 259, 260, 261, 262, 263, 264, 265, 266, 267, ...], 'Americas': [48, 49, 50, 51, 52, 53, 54, 55, 56, 57, 58, 59, 132, 133, 134, 135, 136, 137, 138, 139, 140, 141, 142, 143, 168, 169, 170, 171, 172, 173, 174, 175, 176, 177, 178, 179, 240, 241, 242, 243, 244, 245, 246, 247, 248, 249, 250, 251, 276, 277, 278, 279, 280, 281, 282, 283, 284, 285, 286, 287, 300, 301, 302, 303, 304, 305, 306, 307, 308, 309, 310, 311, 348, 349, 350, 351, 352, 353, 354, 355, 356, 357, 358, 359, 384, 385, 386, 387, 388, 389, 390, 391, 392, 393, 394, 395, 432, 433, 434, 435, ...], 'Asia': [0, 1, 2, 3, 4, 5, 6, 7, 8, 9, 10, 11, 84, 85, 86, 87, 88, 89, 90, 91, 92, 93, 94, 95, 96, 97, 98, 99, 100, 101, 102, 103, 104, 105, 106, 107, 216, 217, 218, 219, 220, 221, 222, 223, 224, 225, 226, 227, 288, 289, 290, 291, 292, 293, 294, 295, 296, 297, 298, 299, 660, 661, 662, 663, 664, 665, 666, 667, 668, 669, 670, 671, 696, 697, 698, 699, 700, 701, 702, 703, 704, 705, 706, 707, 708, 709, 710, 711, 712, 713, 714, 715, 716, 717, 718, 719, 720, 721, 722, 723, ...], 'Europe': [12, 13, 14, 15, 16, 17, 18, 19, 20, 21, 22, 23, 72, 73, 74, 75, 76, 77, 78, 79, 80, 81, 82, 83, 108, 109, 110, 111, 112, 113, 114, 115, 116, 117, 118, 119, 144, 145, 146, 147, 148, 149, 150, 151, 152, 153, 154, 155, 180, 181, 182, 183, 184, 185, 186, 187, 188, 189, 190, 191, 372, 373, 374, 375, 376, 377, 378, 379, 380, 381, 382, 383, 396, 397, 398, 399, 400, 401, 402, 403, 404, 405, 406, 407, 408, 409, 410, 411, 412, 413, 414, 415, 416, 417, 418, 419, 516, 517, 518, 519, ...], 'Oceania': [60, 61, 62, 63, 64, 65, 66, 67, 68, 69, 70, 71, 1092, 1093, 1094, 1095, 1096, 1097, 1098, 1099, 1100, 1101, 1102, 1103]}"
      ]
     },
     "execution_count": 9,
     "metadata": {},
     "output_type": "execute_result"
    }
   ],
   "source": [
    "#The groups (in the dictionary format)\n",
    "grouped.groups"
   ]
  },
  {
   "cell_type": "markdown",
   "metadata": {},
   "source": [
    "#### `groups.values`\n",
    "The `groups.values` attribute of the *GroupBy* object contains the row labels of the observations in each group, as a dictionary."
   ]
  },
  {
   "cell_type": "code",
   "execution_count": 10,
   "metadata": {},
   "outputs": [
    {
     "data": {
      "text/plain": [
       "dict_values([Index([  24,   25,   26,   27,   28,   29,   30,   31,   32,   33,\n",
       "       ...\n",
       "       1694, 1695, 1696, 1697, 1698, 1699, 1700, 1701, 1702, 1703],\n",
       "      dtype='int64', length=624), Index([  48,   49,   50,   51,   52,   53,   54,   55,   56,   57,\n",
       "       ...\n",
       "       1634, 1635, 1636, 1637, 1638, 1639, 1640, 1641, 1642, 1643],\n",
       "      dtype='int64', length=300), Index([   0,    1,    2,    3,    4,    5,    6,    7,    8,    9,\n",
       "       ...\n",
       "       1670, 1671, 1672, 1673, 1674, 1675, 1676, 1677, 1678, 1679],\n",
       "      dtype='int64', length=396), Index([  12,   13,   14,   15,   16,   17,   18,   19,   20,   21,\n",
       "       ...\n",
       "       1598, 1599, 1600, 1601, 1602, 1603, 1604, 1605, 1606, 1607],\n",
       "      dtype='int64', length=360), Index([  60,   61,   62,   63,   64,   65,   66,   67,   68,   69,   70,   71,\n",
       "       1092, 1093, 1094, 1095, 1096, 1097, 1098, 1099, 1100, 1101, 1102, 1103],\n",
       "      dtype='int64')])"
      ]
     },
     "execution_count": 10,
     "metadata": {},
     "output_type": "execute_result"
    }
   ],
   "source": [
    "#Group values are the row labels corresponding to a particular group\n",
    "grouped.groups.values()"
   ]
  },
  {
   "cell_type": "markdown",
   "metadata": {},
   "source": [
    "#### [`size()`](https://pandas.pydata.org/docs/reference/api/pandas.core.groupby.GroupBy.size.html)\n",
    "The `size()` method of the *GroupBy* object returns the number of observations in each group."
   ]
  },
  {
   "cell_type": "code",
   "execution_count": 11,
   "metadata": {},
   "outputs": [
    {
     "data": {
      "text/plain": [
       "continent\n",
       "Africa      624\n",
       "Americas    300\n",
       "Asia        396\n",
       "Europe      360\n",
       "Oceania      24\n",
       "dtype: int64"
      ]
     },
     "execution_count": 11,
     "metadata": {},
     "output_type": "execute_result"
    }
   ],
   "source": [
    "#Number of observations in each group\n",
    "grouped.size()"
   ]
  },
  {
   "cell_type": "markdown",
   "metadata": {},
   "source": [
    "#### [`first()`](https://pandas.pydata.org/pandas-docs/stable/reference/api/pandas.core.groupby.GroupBy.first.html)\n",
    "The first non missing element of each group is returned with the `first()` method of the *GroupBy* object."
   ]
  },
  {
   "cell_type": "code",
   "execution_count": 12,
   "metadata": {},
   "outputs": [
    {
     "data": {
      "text/html": [
       "<div>\n",
       "<style scoped>\n",
       "    .dataframe tbody tr th:only-of-type {\n",
       "        vertical-align: middle;\n",
       "    }\n",
       "\n",
       "    .dataframe tbody tr th {\n",
       "        vertical-align: top;\n",
       "    }\n",
       "\n",
       "    .dataframe thead th {\n",
       "        text-align: right;\n",
       "    }\n",
       "</style>\n",
       "<table border=\"1\" class=\"dataframe\">\n",
       "  <thead>\n",
       "    <tr style=\"text-align: right;\">\n",
       "      <th></th>\n",
       "      <th>country</th>\n",
       "      <th>year</th>\n",
       "      <th>lifeExp</th>\n",
       "      <th>pop</th>\n",
       "      <th>gdpPercap</th>\n",
       "    </tr>\n",
       "    <tr>\n",
       "      <th>continent</th>\n",
       "      <th></th>\n",
       "      <th></th>\n",
       "      <th></th>\n",
       "      <th></th>\n",
       "      <th></th>\n",
       "    </tr>\n",
       "  </thead>\n",
       "  <tbody>\n",
       "    <tr>\n",
       "      <th>Africa</th>\n",
       "      <td>Algeria</td>\n",
       "      <td>1952</td>\n",
       "      <td>43.077</td>\n",
       "      <td>9279525</td>\n",
       "      <td>2449.008185</td>\n",
       "    </tr>\n",
       "    <tr>\n",
       "      <th>Americas</th>\n",
       "      <td>Argentina</td>\n",
       "      <td>1952</td>\n",
       "      <td>62.485</td>\n",
       "      <td>17876956</td>\n",
       "      <td>5911.315053</td>\n",
       "    </tr>\n",
       "    <tr>\n",
       "      <th>Asia</th>\n",
       "      <td>Afghanistan</td>\n",
       "      <td>1952</td>\n",
       "      <td>28.801</td>\n",
       "      <td>8425333</td>\n",
       "      <td>779.445314</td>\n",
       "    </tr>\n",
       "    <tr>\n",
       "      <th>Europe</th>\n",
       "      <td>Albania</td>\n",
       "      <td>1952</td>\n",
       "      <td>55.230</td>\n",
       "      <td>1282697</td>\n",
       "      <td>1601.056136</td>\n",
       "    </tr>\n",
       "    <tr>\n",
       "      <th>Oceania</th>\n",
       "      <td>Australia</td>\n",
       "      <td>1952</td>\n",
       "      <td>69.120</td>\n",
       "      <td>8691212</td>\n",
       "      <td>10039.595640</td>\n",
       "    </tr>\n",
       "  </tbody>\n",
       "</table>\n",
       "</div>"
      ],
      "text/plain": [
       "               country  year  lifeExp       pop     gdpPercap\n",
       "continent                                                    \n",
       "Africa         Algeria  1952   43.077   9279525   2449.008185\n",
       "Americas     Argentina  1952   62.485  17876956   5911.315053\n",
       "Asia       Afghanistan  1952   28.801   8425333    779.445314\n",
       "Europe         Albania  1952   55.230   1282697   1601.056136\n",
       "Oceania      Australia  1952   69.120   8691212  10039.595640"
      ]
     },
     "execution_count": 12,
     "metadata": {},
     "output_type": "execute_result"
    }
   ],
   "source": [
    "#The first element of the group can be printed using the first() method\n",
    "grouped.first()"
   ]
  },
  {
   "cell_type": "markdown",
   "metadata": {},
   "source": [
    "#### [`get_group()`](https://pandas.pydata.org/pandas-docs/stable/reference/api/pandas.core.groupby.GroupBy.get_group.html)\n",
    "This method returns the observations for a particular group of the *GroupBy* object."
   ]
  },
  {
   "cell_type": "code",
   "execution_count": 13,
   "metadata": {},
   "outputs": [
    {
     "data": {
      "text/html": [
       "<div>\n",
       "<style scoped>\n",
       "    .dataframe tbody tr th:only-of-type {\n",
       "        vertical-align: middle;\n",
       "    }\n",
       "\n",
       "    .dataframe tbody tr th {\n",
       "        vertical-align: top;\n",
       "    }\n",
       "\n",
       "    .dataframe thead th {\n",
       "        text-align: right;\n",
       "    }\n",
       "</style>\n",
       "<table border=\"1\" class=\"dataframe\">\n",
       "  <thead>\n",
       "    <tr style=\"text-align: right;\">\n",
       "      <th></th>\n",
       "      <th>country</th>\n",
       "      <th>continent</th>\n",
       "      <th>year</th>\n",
       "      <th>lifeExp</th>\n",
       "      <th>pop</th>\n",
       "      <th>gdpPercap</th>\n",
       "    </tr>\n",
       "  </thead>\n",
       "  <tbody>\n",
       "    <tr>\n",
       "      <th>0</th>\n",
       "      <td>Afghanistan</td>\n",
       "      <td>Asia</td>\n",
       "      <td>1952</td>\n",
       "      <td>28.801</td>\n",
       "      <td>8425333</td>\n",
       "      <td>779.445314</td>\n",
       "    </tr>\n",
       "    <tr>\n",
       "      <th>1</th>\n",
       "      <td>Afghanistan</td>\n",
       "      <td>Asia</td>\n",
       "      <td>1957</td>\n",
       "      <td>30.332</td>\n",
       "      <td>9240934</td>\n",
       "      <td>820.853030</td>\n",
       "    </tr>\n",
       "    <tr>\n",
       "      <th>2</th>\n",
       "      <td>Afghanistan</td>\n",
       "      <td>Asia</td>\n",
       "      <td>1962</td>\n",
       "      <td>31.997</td>\n",
       "      <td>10267083</td>\n",
       "      <td>853.100710</td>\n",
       "    </tr>\n",
       "    <tr>\n",
       "      <th>3</th>\n",
       "      <td>Afghanistan</td>\n",
       "      <td>Asia</td>\n",
       "      <td>1967</td>\n",
       "      <td>34.020</td>\n",
       "      <td>11537966</td>\n",
       "      <td>836.197138</td>\n",
       "    </tr>\n",
       "    <tr>\n",
       "      <th>4</th>\n",
       "      <td>Afghanistan</td>\n",
       "      <td>Asia</td>\n",
       "      <td>1972</td>\n",
       "      <td>36.088</td>\n",
       "      <td>13079460</td>\n",
       "      <td>739.981106</td>\n",
       "    </tr>\n",
       "    <tr>\n",
       "      <th>...</th>\n",
       "      <td>...</td>\n",
       "      <td>...</td>\n",
       "      <td>...</td>\n",
       "      <td>...</td>\n",
       "      <td>...</td>\n",
       "      <td>...</td>\n",
       "    </tr>\n",
       "    <tr>\n",
       "      <th>1675</th>\n",
       "      <td>Yemen, Rep.</td>\n",
       "      <td>Asia</td>\n",
       "      <td>1987</td>\n",
       "      <td>52.922</td>\n",
       "      <td>11219340</td>\n",
       "      <td>1971.741538</td>\n",
       "    </tr>\n",
       "    <tr>\n",
       "      <th>1676</th>\n",
       "      <td>Yemen, Rep.</td>\n",
       "      <td>Asia</td>\n",
       "      <td>1992</td>\n",
       "      <td>55.599</td>\n",
       "      <td>13367997</td>\n",
       "      <td>1879.496673</td>\n",
       "    </tr>\n",
       "    <tr>\n",
       "      <th>1677</th>\n",
       "      <td>Yemen, Rep.</td>\n",
       "      <td>Asia</td>\n",
       "      <td>1997</td>\n",
       "      <td>58.020</td>\n",
       "      <td>15826497</td>\n",
       "      <td>2117.484526</td>\n",
       "    </tr>\n",
       "    <tr>\n",
       "      <th>1678</th>\n",
       "      <td>Yemen, Rep.</td>\n",
       "      <td>Asia</td>\n",
       "      <td>2002</td>\n",
       "      <td>60.308</td>\n",
       "      <td>18701257</td>\n",
       "      <td>2234.820827</td>\n",
       "    </tr>\n",
       "    <tr>\n",
       "      <th>1679</th>\n",
       "      <td>Yemen, Rep.</td>\n",
       "      <td>Asia</td>\n",
       "      <td>2007</td>\n",
       "      <td>62.698</td>\n",
       "      <td>22211743</td>\n",
       "      <td>2280.769906</td>\n",
       "    </tr>\n",
       "  </tbody>\n",
       "</table>\n",
       "<p>396 rows × 6 columns</p>\n",
       "</div>"
      ],
      "text/plain": [
       "          country continent  year  lifeExp       pop    gdpPercap\n",
       "0     Afghanistan      Asia  1952   28.801   8425333   779.445314\n",
       "1     Afghanistan      Asia  1957   30.332   9240934   820.853030\n",
       "2     Afghanistan      Asia  1962   31.997  10267083   853.100710\n",
       "3     Afghanistan      Asia  1967   34.020  11537966   836.197138\n",
       "4     Afghanistan      Asia  1972   36.088  13079460   739.981106\n",
       "...           ...       ...   ...      ...       ...          ...\n",
       "1675  Yemen, Rep.      Asia  1987   52.922  11219340  1971.741538\n",
       "1676  Yemen, Rep.      Asia  1992   55.599  13367997  1879.496673\n",
       "1677  Yemen, Rep.      Asia  1997   58.020  15826497  2117.484526\n",
       "1678  Yemen, Rep.      Asia  2002   60.308  18701257  2234.820827\n",
       "1679  Yemen, Rep.      Asia  2007   62.698  22211743  2280.769906\n",
       "\n",
       "[396 rows x 6 columns]"
      ]
     },
     "execution_count": 13,
     "metadata": {},
     "output_type": "execute_result"
    }
   ],
   "source": [
    "#Observations for individual groups can be obtained using the get_group() function\n",
    "grouped.get_group('Asia')"
   ]
  },
  {
   "cell_type": "markdown",
   "metadata": {},
   "source": [
    "## Data aggregation within groups\n",
    "\n",
    "### Common Aggregation Functions\n",
    "\n",
    "Aggregation functions are essential for summarizing and analyzing data in pandas. These functions allow you to compute summary statistics for your data, making it easier to identify trends and patterns.\n",
    "\n",
    "Below are some of the most commonly used aggregation functions when working with grouped data in pandas:\n",
    "\n",
    "- **`mean()`** – Calculates the **average** value of the group.\n",
    "- **`sum()`** – Computes the **total** value by summing all elements in the group.\n",
    "- **`min()`** – Finds the **minimum** value in the group.\n",
    "- **`max()`** – Finds the **maximum** value in the group.\n",
    "- **`count()`** – Returns the **number of occurrences** or entries in the group.\n",
    "- **`median()`** – Finds the **middle value** in the sorted group.\n",
    "- **`std()`** – Calculates the **standard deviation**, measuring the spread or variation in the values of the group.\n",
    "\n",
    "Each of these functions can help summarize and provide insights into different aspects of the grouped data.\n",
    "\n"
   ]
  },
  {
   "cell_type": "markdown",
   "metadata": {},
   "source": [
    "Consider the life expectancy dataset, let's find the mean life expectancy, population and GDP per capita for each country during the period of 1952 -2007.\n",
    "\n",
    "Next, we’ll find the mean statistics for each group with the `mean()` method. The method will be applied on all columns of the DataFrame and all groups."
   ]
  },
  {
   "cell_type": "code",
   "execution_count": 14,
   "metadata": {},
   "outputs": [
    {
     "data": {
      "text/html": [
       "<div>\n",
       "<style scoped>\n",
       "    .dataframe tbody tr th:only-of-type {\n",
       "        vertical-align: middle;\n",
       "    }\n",
       "\n",
       "    .dataframe tbody tr th {\n",
       "        vertical-align: top;\n",
       "    }\n",
       "\n",
       "    .dataframe thead th {\n",
       "        text-align: right;\n",
       "    }\n",
       "</style>\n",
       "<table border=\"1\" class=\"dataframe\">\n",
       "  <thead>\n",
       "    <tr style=\"text-align: right;\">\n",
       "      <th></th>\n",
       "      <th>lifeExp</th>\n",
       "      <th>pop</th>\n",
       "      <th>gdpPercap</th>\n",
       "    </tr>\n",
       "    <tr>\n",
       "      <th>country</th>\n",
       "      <th></th>\n",
       "      <th></th>\n",
       "      <th></th>\n",
       "    </tr>\n",
       "  </thead>\n",
       "  <tbody>\n",
       "    <tr>\n",
       "      <th>Afghanistan</th>\n",
       "      <td>37.478833</td>\n",
       "      <td>1.582372e+07</td>\n",
       "      <td>802.674598</td>\n",
       "    </tr>\n",
       "    <tr>\n",
       "      <th>Albania</th>\n",
       "      <td>68.432917</td>\n",
       "      <td>2.580249e+06</td>\n",
       "      <td>3255.366633</td>\n",
       "    </tr>\n",
       "    <tr>\n",
       "      <th>Algeria</th>\n",
       "      <td>59.030167</td>\n",
       "      <td>1.987541e+07</td>\n",
       "      <td>4426.025973</td>\n",
       "    </tr>\n",
       "    <tr>\n",
       "      <th>Angola</th>\n",
       "      <td>37.883500</td>\n",
       "      <td>7.309390e+06</td>\n",
       "      <td>3607.100529</td>\n",
       "    </tr>\n",
       "    <tr>\n",
       "      <th>Argentina</th>\n",
       "      <td>69.060417</td>\n",
       "      <td>2.860224e+07</td>\n",
       "      <td>8955.553783</td>\n",
       "    </tr>\n",
       "    <tr>\n",
       "      <th>...</th>\n",
       "      <td>...</td>\n",
       "      <td>...</td>\n",
       "      <td>...</td>\n",
       "    </tr>\n",
       "    <tr>\n",
       "      <th>Vietnam</th>\n",
       "      <td>57.479500</td>\n",
       "      <td>5.456857e+07</td>\n",
       "      <td>1017.712615</td>\n",
       "    </tr>\n",
       "    <tr>\n",
       "      <th>West Bank and Gaza</th>\n",
       "      <td>60.328667</td>\n",
       "      <td>1.848606e+06</td>\n",
       "      <td>3759.996781</td>\n",
       "    </tr>\n",
       "    <tr>\n",
       "      <th>Yemen, Rep.</th>\n",
       "      <td>46.780417</td>\n",
       "      <td>1.084319e+07</td>\n",
       "      <td>1569.274672</td>\n",
       "    </tr>\n",
       "    <tr>\n",
       "      <th>Zambia</th>\n",
       "      <td>45.996333</td>\n",
       "      <td>6.353805e+06</td>\n",
       "      <td>1358.199409</td>\n",
       "    </tr>\n",
       "    <tr>\n",
       "      <th>Zimbabwe</th>\n",
       "      <td>52.663167</td>\n",
       "      <td>7.641966e+06</td>\n",
       "      <td>635.858042</td>\n",
       "    </tr>\n",
       "  </tbody>\n",
       "</table>\n",
       "<p>142 rows × 3 columns</p>\n",
       "</div>"
      ],
      "text/plain": [
       "                      lifeExp           pop    gdpPercap\n",
       "country                                                 \n",
       "Afghanistan         37.478833  1.582372e+07   802.674598\n",
       "Albania             68.432917  2.580249e+06  3255.366633\n",
       "Algeria             59.030167  1.987541e+07  4426.025973\n",
       "Angola              37.883500  7.309390e+06  3607.100529\n",
       "Argentina           69.060417  2.860224e+07  8955.553783\n",
       "...                       ...           ...          ...\n",
       "Vietnam             57.479500  5.456857e+07  1017.712615\n",
       "West Bank and Gaza  60.328667  1.848606e+06  3759.996781\n",
       "Yemen, Rep.         46.780417  1.084319e+07  1569.274672\n",
       "Zambia              45.996333  6.353805e+06  1358.199409\n",
       "Zimbabwe            52.663167  7.641966e+06   635.858042\n",
       "\n",
       "[142 rows x 3 columns]"
      ]
     },
     "execution_count": 14,
     "metadata": {},
     "output_type": "execute_result"
    }
   ],
   "source": [
    "#Grouping the observations by 'country'\n",
    "grouped_country = gdp_lifeExp_data.drop (['continent', 'year'], axis = 1).groupby('country')\n",
    "\n",
    "#Finding the mean stastistic of all columns of the DataFrame and all groups\n",
    "grouped_country.mean()"
   ]
  },
  {
   "cell_type": "markdown",
   "metadata": {},
   "source": [
    "Next, we’ll find the standard deviation statistics for each group with the `std()` method."
   ]
  },
  {
   "cell_type": "code",
   "execution_count": 15,
   "metadata": {},
   "outputs": [
    {
     "data": {
      "text/html": [
       "<div>\n",
       "<style scoped>\n",
       "    .dataframe tbody tr th:only-of-type {\n",
       "        vertical-align: middle;\n",
       "    }\n",
       "\n",
       "    .dataframe tbody tr th {\n",
       "        vertical-align: top;\n",
       "    }\n",
       "\n",
       "    .dataframe thead th {\n",
       "        text-align: right;\n",
       "    }\n",
       "</style>\n",
       "<table border=\"1\" class=\"dataframe\">\n",
       "  <thead>\n",
       "    <tr style=\"text-align: right;\">\n",
       "      <th></th>\n",
       "      <th>lifeExp</th>\n",
       "      <th>pop</th>\n",
       "      <th>gdpPercap</th>\n",
       "    </tr>\n",
       "    <tr>\n",
       "      <th>country</th>\n",
       "      <th></th>\n",
       "      <th></th>\n",
       "      <th></th>\n",
       "    </tr>\n",
       "  </thead>\n",
       "  <tbody>\n",
       "    <tr>\n",
       "      <th>Afghanistan</th>\n",
       "      <td>5.098646</td>\n",
       "      <td>7.114583e+06</td>\n",
       "      <td>108.202929</td>\n",
       "    </tr>\n",
       "    <tr>\n",
       "      <th>Albania</th>\n",
       "      <td>6.322911</td>\n",
       "      <td>8.285855e+05</td>\n",
       "      <td>1192.351513</td>\n",
       "    </tr>\n",
       "    <tr>\n",
       "      <th>Algeria</th>\n",
       "      <td>10.340069</td>\n",
       "      <td>8.613355e+06</td>\n",
       "      <td>1310.337656</td>\n",
       "    </tr>\n",
       "    <tr>\n",
       "      <th>Angola</th>\n",
       "      <td>4.005276</td>\n",
       "      <td>2.672281e+06</td>\n",
       "      <td>1165.900251</td>\n",
       "    </tr>\n",
       "    <tr>\n",
       "      <th>Argentina</th>\n",
       "      <td>4.186470</td>\n",
       "      <td>7.546609e+06</td>\n",
       "      <td>1862.583151</td>\n",
       "    </tr>\n",
       "    <tr>\n",
       "      <th>...</th>\n",
       "      <td>...</td>\n",
       "      <td>...</td>\n",
       "      <td>...</td>\n",
       "    </tr>\n",
       "    <tr>\n",
       "      <th>Vietnam</th>\n",
       "      <td>12.172331</td>\n",
       "      <td>2.052585e+07</td>\n",
       "      <td>567.482251</td>\n",
       "    </tr>\n",
       "    <tr>\n",
       "      <th>West Bank and Gaza</th>\n",
       "      <td>11.000069</td>\n",
       "      <td>1.023057e+06</td>\n",
       "      <td>1716.840614</td>\n",
       "    </tr>\n",
       "    <tr>\n",
       "      <th>Yemen, Rep.</th>\n",
       "      <td>11.019302</td>\n",
       "      <td>5.590408e+06</td>\n",
       "      <td>609.939160</td>\n",
       "    </tr>\n",
       "    <tr>\n",
       "      <th>Zambia</th>\n",
       "      <td>4.453246</td>\n",
       "      <td>3.096949e+06</td>\n",
       "      <td>247.494984</td>\n",
       "    </tr>\n",
       "    <tr>\n",
       "      <th>Zimbabwe</th>\n",
       "      <td>7.071816</td>\n",
       "      <td>3.376895e+06</td>\n",
       "      <td>133.689213</td>\n",
       "    </tr>\n",
       "  </tbody>\n",
       "</table>\n",
       "<p>142 rows × 3 columns</p>\n",
       "</div>"
      ],
      "text/plain": [
       "                      lifeExp           pop    gdpPercap\n",
       "country                                                 \n",
       "Afghanistan          5.098646  7.114583e+06   108.202929\n",
       "Albania              6.322911  8.285855e+05  1192.351513\n",
       "Algeria             10.340069  8.613355e+06  1310.337656\n",
       "Angola               4.005276  2.672281e+06  1165.900251\n",
       "Argentina            4.186470  7.546609e+06  1862.583151\n",
       "...                       ...           ...          ...\n",
       "Vietnam             12.172331  2.052585e+07   567.482251\n",
       "West Bank and Gaza  11.000069  1.023057e+06  1716.840614\n",
       "Yemen, Rep.         11.019302  5.590408e+06   609.939160\n",
       "Zambia               4.453246  3.096949e+06   247.494984\n",
       "Zimbabwe             7.071816  3.376895e+06   133.689213\n",
       "\n",
       "[142 rows x 3 columns]"
      ]
     },
     "execution_count": 15,
     "metadata": {},
     "output_type": "execute_result"
    }
   ],
   "source": [
    "grouped_country.std()"
   ]
  },
  {
   "cell_type": "markdown",
   "metadata": {},
   "source": [
    "Alternatively, you can compute other statistical metrics."
   ]
  },
  {
   "cell_type": "markdown",
   "metadata": {},
   "source": [
    "### Multiple aggregations and Custom aggregation using [`agg()`](https://pandas.pydata.org/docs/reference/api/pandas.DataFrame.agg.html)"
   ]
  },
  {
   "cell_type": "markdown",
   "metadata": {},
   "source": [
    "#### Multiple aggregations\n",
    "\n",
    "Directly applying the aggregate methods of the *GroupBy* object such as mean, count, etc., lets us apply only one function at a time. Also, we may wish to apply an aggregate function of our own, which is not there in the set of methods of the *GroupBy* object, such as the range of values of a column.\n",
    "\n",
    "The `agg()` function of a *GroupBy* object lets us aggregate data using: \n",
    "\n",
    "1. Multiple aggregation functions\n",
    "\n",
    "2. Custom aggregate functions (in addition to in-built functions like mean, std, count etc.) "
   ]
  },
  {
   "cell_type": "markdown",
   "metadata": {},
   "source": [
    "Consider the life expectancy dataset, Let us use the agg() method of the GroupBy object to simultaneously find the mean and standard deviation of the *gdpPercap* for each country.\n",
    "\n",
    "For aggregating by multiple functions, we pass a list of strings to agg(), where the strings are the function names."
   ]
  },
  {
   "cell_type": "code",
   "execution_count": 16,
   "metadata": {},
   "outputs": [
    {
     "data": {
      "text/html": [
       "<div>\n",
       "<style scoped>\n",
       "    .dataframe tbody tr th:only-of-type {\n",
       "        vertical-align: middle;\n",
       "    }\n",
       "\n",
       "    .dataframe tbody tr th {\n",
       "        vertical-align: top;\n",
       "    }\n",
       "\n",
       "    .dataframe thead th {\n",
       "        text-align: right;\n",
       "    }\n",
       "</style>\n",
       "<table border=\"1\" class=\"dataframe\">\n",
       "  <thead>\n",
       "    <tr style=\"text-align: right;\">\n",
       "      <th></th>\n",
       "      <th>mean</th>\n",
       "      <th>std</th>\n",
       "    </tr>\n",
       "    <tr>\n",
       "      <th>country</th>\n",
       "      <th></th>\n",
       "      <th></th>\n",
       "    </tr>\n",
       "  </thead>\n",
       "  <tbody>\n",
       "    <tr>\n",
       "      <th>Kuwait</th>\n",
       "      <td>65332.910472</td>\n",
       "      <td>33882.139536</td>\n",
       "    </tr>\n",
       "    <tr>\n",
       "      <th>Switzerland</th>\n",
       "      <td>27074.334405</td>\n",
       "      <td>6886.463308</td>\n",
       "    </tr>\n",
       "    <tr>\n",
       "      <th>Norway</th>\n",
       "      <td>26747.306554</td>\n",
       "      <td>13421.947245</td>\n",
       "    </tr>\n",
       "    <tr>\n",
       "      <th>United States</th>\n",
       "      <td>26261.151347</td>\n",
       "      <td>9695.058103</td>\n",
       "    </tr>\n",
       "    <tr>\n",
       "      <th>Canada</th>\n",
       "      <td>22410.746340</td>\n",
       "      <td>8210.112789</td>\n",
       "    </tr>\n",
       "  </tbody>\n",
       "</table>\n",
       "</div>"
      ],
      "text/plain": [
       "                       mean           std\n",
       "country                                  \n",
       "Kuwait         65332.910472  33882.139536\n",
       "Switzerland    27074.334405   6886.463308\n",
       "Norway         26747.306554  13421.947245\n",
       "United States  26261.151347   9695.058103\n",
       "Canada         22410.746340   8210.112789"
      ]
     },
     "execution_count": 16,
     "metadata": {},
     "output_type": "execute_result"
    }
   ],
   "source": [
    "grouped_country['gdpPercap'].agg(['mean','std']).sort_values(by = 'mean',ascending = False).head()"
   ]
  },
  {
   "cell_type": "markdown",
   "metadata": {},
   "source": [
    "#### Custom aggregation\n",
    "\n",
    "In addition to the mean and standard deviation of the gdpPercap of each country, let us also include the \n",
    " range of gdpPercap in the table above using lambda function"
   ]
  },
  {
   "cell_type": "code",
   "execution_count": 17,
   "metadata": {},
   "outputs": [
    {
     "data": {
      "text/plain": [
       "country\n",
       "Afghanistan            342.670088\n",
       "Albania               4335.973390\n",
       "Algeria               3774.359280\n",
       "Angola                3245.635491\n",
       "Argentina             6868.064587\n",
       "                         ...     \n",
       "Vietnam               1836.509912\n",
       "West Bank and Gaza    5595.075290\n",
       "Yemen, Rep.           1499.052330\n",
       "Zambia                 705.723500\n",
       "Zimbabwe               392.478061\n",
       "Name: gdpPercap, Length: 142, dtype: float64"
      ]
     },
     "execution_count": 17,
     "metadata": {},
     "output_type": "execute_result"
    }
   ],
   "source": [
    "grouped_country['gdpPercap'].agg(lambda x: x.max() - x.min())"
   ]
  },
  {
   "cell_type": "code",
   "execution_count": 18,
   "metadata": {},
   "outputs": [],
   "source": [
    "# define a function that calculates the range\n",
    "def range_func(x):\n",
    "    return x.max() - x.min()"
   ]
  },
  {
   "cell_type": "code",
   "execution_count": 19,
   "metadata": {},
   "outputs": [
    {
     "data": {
      "text/html": [
       "<div>\n",
       "<style scoped>\n",
       "    .dataframe tbody tr th:only-of-type {\n",
       "        vertical-align: middle;\n",
       "    }\n",
       "\n",
       "    .dataframe tbody tr th {\n",
       "        vertical-align: top;\n",
       "    }\n",
       "\n",
       "    .dataframe thead th {\n",
       "        text-align: right;\n",
       "    }\n",
       "</style>\n",
       "<table border=\"1\" class=\"dataframe\">\n",
       "  <thead>\n",
       "    <tr style=\"text-align: right;\">\n",
       "      <th></th>\n",
       "      <th>mean</th>\n",
       "      <th>std</th>\n",
       "      <th>range_func</th>\n",
       "    </tr>\n",
       "    <tr>\n",
       "      <th>country</th>\n",
       "      <th></th>\n",
       "      <th></th>\n",
       "      <th></th>\n",
       "    </tr>\n",
       "  </thead>\n",
       "  <tbody>\n",
       "    <tr>\n",
       "      <th>Kuwait</th>\n",
       "      <td>65332.910472</td>\n",
       "      <td>33882.139536</td>\n",
       "      <td>85404.702920</td>\n",
       "    </tr>\n",
       "    <tr>\n",
       "      <th>Singapore</th>\n",
       "      <td>17425.382267</td>\n",
       "      <td>14926.147774</td>\n",
       "      <td>44828.041413</td>\n",
       "    </tr>\n",
       "    <tr>\n",
       "      <th>Norway</th>\n",
       "      <td>26747.306554</td>\n",
       "      <td>13421.947245</td>\n",
       "      <td>39261.768450</td>\n",
       "    </tr>\n",
       "    <tr>\n",
       "      <th>Hong Kong, China</th>\n",
       "      <td>16228.700865</td>\n",
       "      <td>12207.329731</td>\n",
       "      <td>36670.557461</td>\n",
       "    </tr>\n",
       "    <tr>\n",
       "      <th>Ireland</th>\n",
       "      <td>15758.606238</td>\n",
       "      <td>11573.311022</td>\n",
       "      <td>35465.716022</td>\n",
       "    </tr>\n",
       "    <tr>\n",
       "      <th>...</th>\n",
       "      <td>...</td>\n",
       "      <td>...</td>\n",
       "      <td>...</td>\n",
       "    </tr>\n",
       "    <tr>\n",
       "      <th>Rwanda</th>\n",
       "      <td>675.669043</td>\n",
       "      <td>142.229906</td>\n",
       "      <td>388.246772</td>\n",
       "    </tr>\n",
       "    <tr>\n",
       "      <th>Senegal</th>\n",
       "      <td>1533.121694</td>\n",
       "      <td>105.399353</td>\n",
       "      <td>344.572767</td>\n",
       "    </tr>\n",
       "    <tr>\n",
       "      <th>Afghanistan</th>\n",
       "      <td>802.674598</td>\n",
       "      <td>108.202929</td>\n",
       "      <td>342.670088</td>\n",
       "    </tr>\n",
       "    <tr>\n",
       "      <th>Ethiopia</th>\n",
       "      <td>509.115155</td>\n",
       "      <td>96.427627</td>\n",
       "      <td>328.659296</td>\n",
       "    </tr>\n",
       "    <tr>\n",
       "      <th>Burundi</th>\n",
       "      <td>471.662990</td>\n",
       "      <td>99.329720</td>\n",
       "      <td>292.403419</td>\n",
       "    </tr>\n",
       "  </tbody>\n",
       "</table>\n",
       "<p>142 rows × 3 columns</p>\n",
       "</div>"
      ],
      "text/plain": [
       "                          mean           std    range_func\n",
       "country                                                   \n",
       "Kuwait            65332.910472  33882.139536  85404.702920\n",
       "Singapore         17425.382267  14926.147774  44828.041413\n",
       "Norway            26747.306554  13421.947245  39261.768450\n",
       "Hong Kong, China  16228.700865  12207.329731  36670.557461\n",
       "Ireland           15758.606238  11573.311022  35465.716022\n",
       "...                        ...           ...           ...\n",
       "Rwanda              675.669043    142.229906    388.246772\n",
       "Senegal            1533.121694    105.399353    344.572767\n",
       "Afghanistan         802.674598    108.202929    342.670088\n",
       "Ethiopia            509.115155     96.427627    328.659296\n",
       "Burundi             471.662990     99.329720    292.403419\n",
       "\n",
       "[142 rows x 3 columns]"
      ]
     },
     "execution_count": 19,
     "metadata": {},
     "output_type": "execute_result"
    }
   ],
   "source": [
    "# apply the range function to the 'gdpPercap' column besides the mean and standard deviation\n",
    "grouped_country['gdpPercap'].agg(['mean', 'std', range_func]).sort_values(by = 'range_func', ascending = False)\n"
   ]
  },
  {
   "cell_type": "markdown",
   "metadata": {},
   "source": [
    "For aggregating by multiple functions & changing the column names resulting from those functions, we pass a list of tuples to `agg()`, where each tuple is of length two, and contains the new column name & the function to be applied."
   ]
  },
  {
   "cell_type": "code",
   "execution_count": 20,
   "metadata": {},
   "outputs": [
    {
     "data": {
      "text/html": [
       "<div>\n",
       "<style scoped>\n",
       "    .dataframe tbody tr th:only-of-type {\n",
       "        vertical-align: middle;\n",
       "    }\n",
       "\n",
       "    .dataframe tbody tr th {\n",
       "        vertical-align: top;\n",
       "    }\n",
       "\n",
       "    .dataframe thead th {\n",
       "        text-align: right;\n",
       "    }\n",
       "</style>\n",
       "<table border=\"1\" class=\"dataframe\">\n",
       "  <thead>\n",
       "    <tr style=\"text-align: right;\">\n",
       "      <th></th>\n",
       "      <th>Average</th>\n",
       "      <th>Standard Deviation</th>\n",
       "      <th>90th Percentile</th>\n",
       "    </tr>\n",
       "    <tr>\n",
       "      <th>country</th>\n",
       "      <th></th>\n",
       "      <th></th>\n",
       "      <th></th>\n",
       "    </tr>\n",
       "  </thead>\n",
       "  <tbody>\n",
       "    <tr>\n",
       "      <th>Kuwait</th>\n",
       "      <td>65332.910472</td>\n",
       "      <td>33882.139536</td>\n",
       "      <td>109251.315590</td>\n",
       "    </tr>\n",
       "    <tr>\n",
       "      <th>Norway</th>\n",
       "      <td>26747.306554</td>\n",
       "      <td>13421.947245</td>\n",
       "      <td>44343.894158</td>\n",
       "    </tr>\n",
       "    <tr>\n",
       "      <th>United States</th>\n",
       "      <td>26261.151347</td>\n",
       "      <td>9695.058103</td>\n",
       "      <td>38764.132898</td>\n",
       "    </tr>\n",
       "    <tr>\n",
       "      <th>Singapore</th>\n",
       "      <td>17425.382267</td>\n",
       "      <td>14926.147774</td>\n",
       "      <td>35772.742520</td>\n",
       "    </tr>\n",
       "    <tr>\n",
       "      <th>Switzerland</th>\n",
       "      <td>27074.334405</td>\n",
       "      <td>6886.463308</td>\n",
       "      <td>34246.394240</td>\n",
       "    </tr>\n",
       "    <tr>\n",
       "      <th>...</th>\n",
       "      <td>...</td>\n",
       "      <td>...</td>\n",
       "      <td>...</td>\n",
       "    </tr>\n",
       "    <tr>\n",
       "      <th>Liberia</th>\n",
       "      <td>604.814141</td>\n",
       "      <td>98.988329</td>\n",
       "      <td>706.275527</td>\n",
       "    </tr>\n",
       "    <tr>\n",
       "      <th>Malawi</th>\n",
       "      <td>575.447212</td>\n",
       "      <td>122.999953</td>\n",
       "      <td>689.590541</td>\n",
       "    </tr>\n",
       "    <tr>\n",
       "      <th>Burundi</th>\n",
       "      <td>471.662990</td>\n",
       "      <td>99.329720</td>\n",
       "      <td>615.597260</td>\n",
       "    </tr>\n",
       "    <tr>\n",
       "      <th>Myanmar</th>\n",
       "      <td>439.333333</td>\n",
       "      <td>175.401531</td>\n",
       "      <td>592.300000</td>\n",
       "    </tr>\n",
       "    <tr>\n",
       "      <th>Ethiopia</th>\n",
       "      <td>509.115155</td>\n",
       "      <td>96.427627</td>\n",
       "      <td>577.448804</td>\n",
       "    </tr>\n",
       "  </tbody>\n",
       "</table>\n",
       "<p>142 rows × 3 columns</p>\n",
       "</div>"
      ],
      "text/plain": [
       "                    Average  Standard Deviation  90th Percentile\n",
       "country                                                         \n",
       "Kuwait         65332.910472        33882.139536    109251.315590\n",
       "Norway         26747.306554        13421.947245     44343.894158\n",
       "United States  26261.151347         9695.058103     38764.132898\n",
       "Singapore      17425.382267        14926.147774     35772.742520\n",
       "Switzerland    27074.334405         6886.463308     34246.394240\n",
       "...                     ...                 ...              ...\n",
       "Liberia          604.814141           98.988329       706.275527\n",
       "Malawi           575.447212          122.999953       689.590541\n",
       "Burundi          471.662990           99.329720       615.597260\n",
       "Myanmar          439.333333          175.401531       592.300000\n",
       "Ethiopia         509.115155           96.427627       577.448804\n",
       "\n",
       "[142 rows x 3 columns]"
      ]
     },
     "execution_count": 20,
     "metadata": {},
     "output_type": "execute_result"
    }
   ],
   "source": [
    "#Simultaneous renaming of columns while grouping\n",
    "grouped_country['gdpPercap'].agg([('Average','mean'),('Standard Deviation','std'),('90th Percentile',lambda x:x.quantile(0.9))]).sort_values(by = '90th Percentile',ascending = False)"
   ]
  },
  {
   "cell_type": "markdown",
   "metadata": {},
   "source": [
    "###  Multiple aggregate functions on multiple columns\n",
    "\n",
    "Let us find the mean and standard deviation of lifeExp and pop for each country"
   ]
  },
  {
   "cell_type": "code",
   "execution_count": 21,
   "metadata": {},
   "outputs": [
    {
     "data": {
      "text/html": [
       "<div>\n",
       "<style scoped>\n",
       "    .dataframe tbody tr th:only-of-type {\n",
       "        vertical-align: middle;\n",
       "    }\n",
       "\n",
       "    .dataframe tbody tr th {\n",
       "        vertical-align: top;\n",
       "    }\n",
       "\n",
       "    .dataframe thead tr th {\n",
       "        text-align: left;\n",
       "    }\n",
       "\n",
       "    .dataframe thead tr:last-of-type th {\n",
       "        text-align: right;\n",
       "    }\n",
       "</style>\n",
       "<table border=\"1\" class=\"dataframe\">\n",
       "  <thead>\n",
       "    <tr>\n",
       "      <th></th>\n",
       "      <th colspan=\"2\" halign=\"left\">lifeExp</th>\n",
       "      <th colspan=\"2\" halign=\"left\">pop</th>\n",
       "    </tr>\n",
       "    <tr>\n",
       "      <th></th>\n",
       "      <th>mean</th>\n",
       "      <th>std</th>\n",
       "      <th>mean</th>\n",
       "      <th>std</th>\n",
       "    </tr>\n",
       "    <tr>\n",
       "      <th>country</th>\n",
       "      <th></th>\n",
       "      <th></th>\n",
       "      <th></th>\n",
       "      <th></th>\n",
       "    </tr>\n",
       "  </thead>\n",
       "  <tbody>\n",
       "    <tr>\n",
       "      <th>Iceland</th>\n",
       "      <td>76.511417</td>\n",
       "      <td>3.026593</td>\n",
       "      <td>2.269781e+05</td>\n",
       "      <td>4.854168e+04</td>\n",
       "    </tr>\n",
       "    <tr>\n",
       "      <th>Sweden</th>\n",
       "      <td>76.177000</td>\n",
       "      <td>3.003990</td>\n",
       "      <td>8.220029e+06</td>\n",
       "      <td>6.365660e+05</td>\n",
       "    </tr>\n",
       "    <tr>\n",
       "      <th>Norway</th>\n",
       "      <td>75.843000</td>\n",
       "      <td>2.423994</td>\n",
       "      <td>4.031441e+06</td>\n",
       "      <td>4.107955e+05</td>\n",
       "    </tr>\n",
       "    <tr>\n",
       "      <th>Netherlands</th>\n",
       "      <td>75.648500</td>\n",
       "      <td>2.486363</td>\n",
       "      <td>1.378680e+07</td>\n",
       "      <td>2.005631e+06</td>\n",
       "    </tr>\n",
       "    <tr>\n",
       "      <th>Switzerland</th>\n",
       "      <td>75.565083</td>\n",
       "      <td>4.011572</td>\n",
       "      <td>6.384293e+06</td>\n",
       "      <td>8.582009e+05</td>\n",
       "    </tr>\n",
       "    <tr>\n",
       "      <th>...</th>\n",
       "      <td>...</td>\n",
       "      <td>...</td>\n",
       "      <td>...</td>\n",
       "      <td>...</td>\n",
       "    </tr>\n",
       "    <tr>\n",
       "      <th>Mozambique</th>\n",
       "      <td>40.379500</td>\n",
       "      <td>4.599184</td>\n",
       "      <td>1.204670e+07</td>\n",
       "      <td>4.457509e+06</td>\n",
       "    </tr>\n",
       "    <tr>\n",
       "      <th>Guinea-Bissau</th>\n",
       "      <td>39.210250</td>\n",
       "      <td>4.937369</td>\n",
       "      <td>8.820084e+05</td>\n",
       "      <td>3.132917e+05</td>\n",
       "    </tr>\n",
       "    <tr>\n",
       "      <th>Angola</th>\n",
       "      <td>37.883500</td>\n",
       "      <td>4.005276</td>\n",
       "      <td>7.309390e+06</td>\n",
       "      <td>2.672281e+06</td>\n",
       "    </tr>\n",
       "    <tr>\n",
       "      <th>Afghanistan</th>\n",
       "      <td>37.478833</td>\n",
       "      <td>5.098646</td>\n",
       "      <td>1.582372e+07</td>\n",
       "      <td>7.114583e+06</td>\n",
       "    </tr>\n",
       "    <tr>\n",
       "      <th>Sierra Leone</th>\n",
       "      <td>36.769167</td>\n",
       "      <td>3.937828</td>\n",
       "      <td>3.605425e+06</td>\n",
       "      <td>1.270945e+06</td>\n",
       "    </tr>\n",
       "  </tbody>\n",
       "</table>\n",
       "<p>142 rows × 4 columns</p>\n",
       "</div>"
      ],
      "text/plain": [
       "                 lifeExp                     pop              \n",
       "                    mean       std          mean           std\n",
       "country                                                       \n",
       "Iceland        76.511417  3.026593  2.269781e+05  4.854168e+04\n",
       "Sweden         76.177000  3.003990  8.220029e+06  6.365660e+05\n",
       "Norway         75.843000  2.423994  4.031441e+06  4.107955e+05\n",
       "Netherlands    75.648500  2.486363  1.378680e+07  2.005631e+06\n",
       "Switzerland    75.565083  4.011572  6.384293e+06  8.582009e+05\n",
       "...                  ...       ...           ...           ...\n",
       "Mozambique     40.379500  4.599184  1.204670e+07  4.457509e+06\n",
       "Guinea-Bissau  39.210250  4.937369  8.820084e+05  3.132917e+05\n",
       "Angola         37.883500  4.005276  7.309390e+06  2.672281e+06\n",
       "Afghanistan    37.478833  5.098646  1.582372e+07  7.114583e+06\n",
       "Sierra Leone   36.769167  3.937828  3.605425e+06  1.270945e+06\n",
       "\n",
       "[142 rows x 4 columns]"
      ]
     },
     "execution_count": 21,
     "metadata": {},
     "output_type": "execute_result"
    }
   ],
   "source": [
    "# find the meand and standard deviation of the 'lifeExp' and 'pop' column for each country\n",
    "grouped_country[['lifeExp', 'pop']].agg(['mean', 'std']).sort_values(by = ('lifeExp', 'mean'), ascending = False)"
   ]
  },
  {
   "cell_type": "markdown",
   "metadata": {},
   "source": [
    "### Distinct aggregate functions on multiple columns\n",
    "\n",
    "For aggregating by multiple functions, we pass a list of strings to `agg()`, where the strings are the function names. \n",
    "\n",
    "For aggregating by multiple functions & changing the column names resulting from those functions, we pass a list of tuples to `agg()`, where each tuple is of length two, and contains the new column name as the first object and the function to be applied as the second object of the tuple.\n",
    "\n",
    "For aggregating by multiple functions such that a distinct set of functions is applied to each column, we pass a dictionary to `agg()`, where the keys are the column names on which the function is to be applied, and the values are the list of strings that are the function names, or a list of tuples if we also wish to name the aggregated columns."
   ]
  },
  {
   "cell_type": "code",
   "execution_count": 22,
   "metadata": {},
   "outputs": [
    {
     "data": {
      "text/html": [
       "<div>\n",
       "<style scoped>\n",
       "    .dataframe tbody tr th:only-of-type {\n",
       "        vertical-align: middle;\n",
       "    }\n",
       "\n",
       "    .dataframe tbody tr th {\n",
       "        vertical-align: top;\n",
       "    }\n",
       "\n",
       "    .dataframe thead tr th {\n",
       "        text-align: left;\n",
       "    }\n",
       "\n",
       "    .dataframe thead tr:last-of-type th {\n",
       "        text-align: right;\n",
       "    }\n",
       "</style>\n",
       "<table border=\"1\" class=\"dataframe\">\n",
       "  <thead>\n",
       "    <tr>\n",
       "      <th></th>\n",
       "      <th colspan=\"2\" halign=\"left\">gdpPercap</th>\n",
       "      <th colspan=\"2\" halign=\"left\">lifeExp</th>\n",
       "      <th colspan=\"2\" halign=\"left\">pop</th>\n",
       "    </tr>\n",
       "    <tr>\n",
       "      <th></th>\n",
       "      <th>mean</th>\n",
       "      <th>std</th>\n",
       "      <th>median</th>\n",
       "      <th>std</th>\n",
       "      <th>max</th>\n",
       "      <th>min</th>\n",
       "    </tr>\n",
       "    <tr>\n",
       "      <th>country</th>\n",
       "      <th></th>\n",
       "      <th></th>\n",
       "      <th></th>\n",
       "      <th></th>\n",
       "      <th></th>\n",
       "      <th></th>\n",
       "    </tr>\n",
       "  </thead>\n",
       "  <tbody>\n",
       "    <tr>\n",
       "      <th>Afghanistan</th>\n",
       "      <td>802.674598</td>\n",
       "      <td>108.202929</td>\n",
       "      <td>39.1460</td>\n",
       "      <td>5.098646</td>\n",
       "      <td>31889923</td>\n",
       "      <td>8425333</td>\n",
       "    </tr>\n",
       "    <tr>\n",
       "      <th>Albania</th>\n",
       "      <td>3255.366633</td>\n",
       "      <td>1192.351513</td>\n",
       "      <td>69.6750</td>\n",
       "      <td>6.322911</td>\n",
       "      <td>3600523</td>\n",
       "      <td>1282697</td>\n",
       "    </tr>\n",
       "    <tr>\n",
       "      <th>Algeria</th>\n",
       "      <td>4426.025973</td>\n",
       "      <td>1310.337656</td>\n",
       "      <td>59.6910</td>\n",
       "      <td>10.340069</td>\n",
       "      <td>33333216</td>\n",
       "      <td>9279525</td>\n",
       "    </tr>\n",
       "    <tr>\n",
       "      <th>Angola</th>\n",
       "      <td>3607.100529</td>\n",
       "      <td>1165.900251</td>\n",
       "      <td>39.6945</td>\n",
       "      <td>4.005276</td>\n",
       "      <td>12420476</td>\n",
       "      <td>4232095</td>\n",
       "    </tr>\n",
       "    <tr>\n",
       "      <th>Argentina</th>\n",
       "      <td>8955.553783</td>\n",
       "      <td>1862.583151</td>\n",
       "      <td>69.2115</td>\n",
       "      <td>4.186470</td>\n",
       "      <td>40301927</td>\n",
       "      <td>17876956</td>\n",
       "    </tr>\n",
       "    <tr>\n",
       "      <th>...</th>\n",
       "      <td>...</td>\n",
       "      <td>...</td>\n",
       "      <td>...</td>\n",
       "      <td>...</td>\n",
       "      <td>...</td>\n",
       "      <td>...</td>\n",
       "    </tr>\n",
       "    <tr>\n",
       "      <th>Vietnam</th>\n",
       "      <td>1017.712615</td>\n",
       "      <td>567.482251</td>\n",
       "      <td>57.2900</td>\n",
       "      <td>12.172331</td>\n",
       "      <td>85262356</td>\n",
       "      <td>26246839</td>\n",
       "    </tr>\n",
       "    <tr>\n",
       "      <th>West Bank and Gaza</th>\n",
       "      <td>3759.996781</td>\n",
       "      <td>1716.840614</td>\n",
       "      <td>62.5855</td>\n",
       "      <td>11.000069</td>\n",
       "      <td>4018332</td>\n",
       "      <td>1030585</td>\n",
       "    </tr>\n",
       "    <tr>\n",
       "      <th>Yemen, Rep.</th>\n",
       "      <td>1569.274672</td>\n",
       "      <td>609.939160</td>\n",
       "      <td>46.6440</td>\n",
       "      <td>11.019302</td>\n",
       "      <td>22211743</td>\n",
       "      <td>4963829</td>\n",
       "    </tr>\n",
       "    <tr>\n",
       "      <th>Zambia</th>\n",
       "      <td>1358.199409</td>\n",
       "      <td>247.494984</td>\n",
       "      <td>46.0615</td>\n",
       "      <td>4.453246</td>\n",
       "      <td>11746035</td>\n",
       "      <td>2672000</td>\n",
       "    </tr>\n",
       "    <tr>\n",
       "      <th>Zimbabwe</th>\n",
       "      <td>635.858042</td>\n",
       "      <td>133.689213</td>\n",
       "      <td>53.1765</td>\n",
       "      <td>7.071816</td>\n",
       "      <td>12311143</td>\n",
       "      <td>3080907</td>\n",
       "    </tr>\n",
       "  </tbody>\n",
       "</table>\n",
       "<p>142 rows × 6 columns</p>\n",
       "</div>"
      ],
      "text/plain": [
       "                      gdpPercap               lifeExp                  pop  \\\n",
       "                           mean          std   median        std       max   \n",
       "country                                                                      \n",
       "Afghanistan          802.674598   108.202929  39.1460   5.098646  31889923   \n",
       "Albania             3255.366633  1192.351513  69.6750   6.322911   3600523   \n",
       "Algeria             4426.025973  1310.337656  59.6910  10.340069  33333216   \n",
       "Angola              3607.100529  1165.900251  39.6945   4.005276  12420476   \n",
       "Argentina           8955.553783  1862.583151  69.2115   4.186470  40301927   \n",
       "...                         ...          ...      ...        ...       ...   \n",
       "Vietnam             1017.712615   567.482251  57.2900  12.172331  85262356   \n",
       "West Bank and Gaza  3759.996781  1716.840614  62.5855  11.000069   4018332   \n",
       "Yemen, Rep.         1569.274672   609.939160  46.6440  11.019302  22211743   \n",
       "Zambia              1358.199409   247.494984  46.0615   4.453246  11746035   \n",
       "Zimbabwe             635.858042   133.689213  53.1765   7.071816  12311143   \n",
       "\n",
       "                              \n",
       "                         min  \n",
       "country                       \n",
       "Afghanistan          8425333  \n",
       "Albania              1282697  \n",
       "Algeria              9279525  \n",
       "Angola               4232095  \n",
       "Argentina           17876956  \n",
       "...                      ...  \n",
       "Vietnam             26246839  \n",
       "West Bank and Gaza   1030585  \n",
       "Yemen, Rep.          4963829  \n",
       "Zambia               2672000  \n",
       "Zimbabwe             3080907  \n",
       "\n",
       "[142 rows x 6 columns]"
      ]
     },
     "execution_count": 22,
     "metadata": {},
     "output_type": "execute_result"
    }
   ],
   "source": [
    "# We can use a list to apply multiple aggregation functions to a single column, and a dictionary to specify different functions for multiple columns\n",
    "# Use string names for the aggregation functions\n",
    "grouped_country.agg({\"gdpPercap\": [\"mean\", \"std\"], \"lifeExp\": [\"median\", \"std\"], \"pop\": [\"max\", \"min\"]})"
   ]
  },
  {
   "cell_type": "markdown",
   "metadata": {},
   "source": [
    "Next, for each country, find the mean and standard deviation of the `lifeExp`, and the minimum and maximum values of gdpPercap."
   ]
  },
  {
   "cell_type": "code",
   "execution_count": 23,
   "metadata": {},
   "outputs": [
    {
     "data": {
      "text/html": [
       "<div>\n",
       "<style scoped>\n",
       "    .dataframe tbody tr th:only-of-type {\n",
       "        vertical-align: middle;\n",
       "    }\n",
       "\n",
       "    .dataframe tbody tr th {\n",
       "        vertical-align: top;\n",
       "    }\n",
       "\n",
       "    .dataframe thead tr th {\n",
       "        text-align: left;\n",
       "    }\n",
       "\n",
       "    .dataframe thead tr:last-of-type th {\n",
       "        text-align: right;\n",
       "    }\n",
       "</style>\n",
       "<table border=\"1\" class=\"dataframe\">\n",
       "  <thead>\n",
       "    <tr>\n",
       "      <th></th>\n",
       "      <th colspan=\"2\" halign=\"left\">lifeExp</th>\n",
       "      <th colspan=\"2\" halign=\"left\">gdpPercap</th>\n",
       "    </tr>\n",
       "    <tr>\n",
       "      <th></th>\n",
       "      <th>Average</th>\n",
       "      <th>Standard deviation</th>\n",
       "      <th>min</th>\n",
       "      <th>max</th>\n",
       "    </tr>\n",
       "    <tr>\n",
       "      <th>country</th>\n",
       "      <th></th>\n",
       "      <th></th>\n",
       "      <th></th>\n",
       "      <th></th>\n",
       "    </tr>\n",
       "  </thead>\n",
       "  <tbody>\n",
       "    <tr>\n",
       "      <th>Afghanistan</th>\n",
       "      <td>37.478833</td>\n",
       "      <td>5.098646</td>\n",
       "      <td>635.341351</td>\n",
       "      <td>978.011439</td>\n",
       "    </tr>\n",
       "    <tr>\n",
       "      <th>Albania</th>\n",
       "      <td>68.432917</td>\n",
       "      <td>6.322911</td>\n",
       "      <td>1601.056136</td>\n",
       "      <td>5937.029526</td>\n",
       "    </tr>\n",
       "    <tr>\n",
       "      <th>Algeria</th>\n",
       "      <td>59.030167</td>\n",
       "      <td>10.340069</td>\n",
       "      <td>2449.008185</td>\n",
       "      <td>6223.367465</td>\n",
       "    </tr>\n",
       "    <tr>\n",
       "      <th>Angola</th>\n",
       "      <td>37.883500</td>\n",
       "      <td>4.005276</td>\n",
       "      <td>2277.140884</td>\n",
       "      <td>5522.776375</td>\n",
       "    </tr>\n",
       "    <tr>\n",
       "      <th>Argentina</th>\n",
       "      <td>69.060417</td>\n",
       "      <td>4.186470</td>\n",
       "      <td>5911.315053</td>\n",
       "      <td>12779.379640</td>\n",
       "    </tr>\n",
       "    <tr>\n",
       "      <th>...</th>\n",
       "      <td>...</td>\n",
       "      <td>...</td>\n",
       "      <td>...</td>\n",
       "      <td>...</td>\n",
       "    </tr>\n",
       "    <tr>\n",
       "      <th>Vietnam</th>\n",
       "      <td>57.479500</td>\n",
       "      <td>12.172331</td>\n",
       "      <td>605.066492</td>\n",
       "      <td>2441.576404</td>\n",
       "    </tr>\n",
       "    <tr>\n",
       "      <th>West Bank and Gaza</th>\n",
       "      <td>60.328667</td>\n",
       "      <td>11.000069</td>\n",
       "      <td>1515.592329</td>\n",
       "      <td>7110.667619</td>\n",
       "    </tr>\n",
       "    <tr>\n",
       "      <th>Yemen, Rep.</th>\n",
       "      <td>46.780417</td>\n",
       "      <td>11.019302</td>\n",
       "      <td>781.717576</td>\n",
       "      <td>2280.769906</td>\n",
       "    </tr>\n",
       "    <tr>\n",
       "      <th>Zambia</th>\n",
       "      <td>45.996333</td>\n",
       "      <td>4.453246</td>\n",
       "      <td>1071.353818</td>\n",
       "      <td>1777.077318</td>\n",
       "    </tr>\n",
       "    <tr>\n",
       "      <th>Zimbabwe</th>\n",
       "      <td>52.663167</td>\n",
       "      <td>7.071816</td>\n",
       "      <td>406.884115</td>\n",
       "      <td>799.362176</td>\n",
       "    </tr>\n",
       "  </tbody>\n",
       "</table>\n",
       "<p>142 rows × 4 columns</p>\n",
       "</div>"
      ],
      "text/plain": [
       "                      lifeExp                       gdpPercap              \n",
       "                      Average Standard deviation          min           max\n",
       "country                                                                    \n",
       "Afghanistan         37.478833           5.098646   635.341351    978.011439\n",
       "Albania             68.432917           6.322911  1601.056136   5937.029526\n",
       "Algeria             59.030167          10.340069  2449.008185   6223.367465\n",
       "Angola              37.883500           4.005276  2277.140884   5522.776375\n",
       "Argentina           69.060417           4.186470  5911.315053  12779.379640\n",
       "...                       ...                ...          ...           ...\n",
       "Vietnam             57.479500          12.172331   605.066492   2441.576404\n",
       "West Bank and Gaza  60.328667          11.000069  1515.592329   7110.667619\n",
       "Yemen, Rep.         46.780417          11.019302   781.717576   2280.769906\n",
       "Zambia              45.996333           4.453246  1071.353818   1777.077318\n",
       "Zimbabwe            52.663167           7.071816   406.884115    799.362176\n",
       "\n",
       "[142 rows x 4 columns]"
      ]
     },
     "execution_count": 23,
     "metadata": {},
     "output_type": "execute_result"
    }
   ],
   "source": [
    "#Specifying arguments to the function as a dictionary if distinct functions are to be applied on distinct columns\n",
    "grouped_country.agg({'lifeExp':[('Average','mean'),('Standard deviation','std')],'gdpPercap':['min','max']})"
   ]
  },
  {
   "cell_type": "markdown",
   "metadata": {},
   "source": [
    "## Grouping by Multiple Columns\n",
    "\n",
    "Above, we demonstrated grouping by a single column, which is useful for summarizing data based on one categorical variable. However, in many cases, we need to group by multiple columns. Grouping by multiple columns allows us to create more detailed summaries by accounting for multiple categorical variables. This approach enables us to analyze data at a finer granularity, revealing insights that might be missed with single-column grouping alone. \n",
    "\n",
    "### Basic Syntax for Grouping by Multiple Columns\n",
    "\n",
    "Use `groupby()` with a list of column names to group data by multiple columns.\n",
    "\n",
    "* `DataFrame.groupby(by=[\"col1\", \"col2\"])` \n",
    "\n",
    "Consider the life expectancy dataset, we can group by both country and continent to analyze `gdpPercap`, `lifeExp`, and `pop` trends for each country within each continent, providing a more comprehensive view of the data."
   ]
  },
  {
   "cell_type": "code",
   "execution_count": 24,
   "metadata": {},
   "outputs": [],
   "source": [
    "#Grouping by multiple columns\n",
    "grouped_continent_contry = gdp_lifeExp_data.groupby(['continent', 'country'])[ \"lifeExp\"].agg(['mean', 'std', 'max', 'min']).sort_values(by = 'mean', ascending = False)"
   ]
  },
  {
   "cell_type": "code",
   "execution_count": 25,
   "metadata": {},
   "outputs": [
    {
     "data": {
      "text/html": [
       "<div>\n",
       "<style scoped>\n",
       "    .dataframe tbody tr th:only-of-type {\n",
       "        vertical-align: middle;\n",
       "    }\n",
       "\n",
       "    .dataframe tbody tr th {\n",
       "        vertical-align: top;\n",
       "    }\n",
       "\n",
       "    .dataframe thead th {\n",
       "        text-align: right;\n",
       "    }\n",
       "</style>\n",
       "<table border=\"1\" class=\"dataframe\">\n",
       "  <thead>\n",
       "    <tr style=\"text-align: right;\">\n",
       "      <th></th>\n",
       "      <th></th>\n",
       "      <th>mean</th>\n",
       "      <th>std</th>\n",
       "      <th>max</th>\n",
       "      <th>min</th>\n",
       "    </tr>\n",
       "    <tr>\n",
       "      <th>continent</th>\n",
       "      <th>country</th>\n",
       "      <th></th>\n",
       "      <th></th>\n",
       "      <th></th>\n",
       "      <th></th>\n",
       "    </tr>\n",
       "  </thead>\n",
       "  <tbody>\n",
       "    <tr>\n",
       "      <th rowspan=\"5\" valign=\"top\">Europe</th>\n",
       "      <th>Iceland</th>\n",
       "      <td>76.511417</td>\n",
       "      <td>3.026593</td>\n",
       "      <td>81.757</td>\n",
       "      <td>72.490</td>\n",
       "    </tr>\n",
       "    <tr>\n",
       "      <th>Sweden</th>\n",
       "      <td>76.177000</td>\n",
       "      <td>3.003990</td>\n",
       "      <td>80.884</td>\n",
       "      <td>71.860</td>\n",
       "    </tr>\n",
       "    <tr>\n",
       "      <th>Norway</th>\n",
       "      <td>75.843000</td>\n",
       "      <td>2.423994</td>\n",
       "      <td>80.196</td>\n",
       "      <td>72.670</td>\n",
       "    </tr>\n",
       "    <tr>\n",
       "      <th>Netherlands</th>\n",
       "      <td>75.648500</td>\n",
       "      <td>2.486363</td>\n",
       "      <td>79.762</td>\n",
       "      <td>72.130</td>\n",
       "    </tr>\n",
       "    <tr>\n",
       "      <th>Switzerland</th>\n",
       "      <td>75.565083</td>\n",
       "      <td>4.011572</td>\n",
       "      <td>81.701</td>\n",
       "      <td>69.620</td>\n",
       "    </tr>\n",
       "    <tr>\n",
       "      <th>...</th>\n",
       "      <th>...</th>\n",
       "      <td>...</td>\n",
       "      <td>...</td>\n",
       "      <td>...</td>\n",
       "      <td>...</td>\n",
       "    </tr>\n",
       "    <tr>\n",
       "      <th rowspan=\"3\" valign=\"top\">Africa</th>\n",
       "      <th>Mozambique</th>\n",
       "      <td>40.379500</td>\n",
       "      <td>4.599184</td>\n",
       "      <td>46.344</td>\n",
       "      <td>31.286</td>\n",
       "    </tr>\n",
       "    <tr>\n",
       "      <th>Guinea-Bissau</th>\n",
       "      <td>39.210250</td>\n",
       "      <td>4.937369</td>\n",
       "      <td>46.388</td>\n",
       "      <td>32.500</td>\n",
       "    </tr>\n",
       "    <tr>\n",
       "      <th>Angola</th>\n",
       "      <td>37.883500</td>\n",
       "      <td>4.005276</td>\n",
       "      <td>42.731</td>\n",
       "      <td>30.015</td>\n",
       "    </tr>\n",
       "    <tr>\n",
       "      <th>Asia</th>\n",
       "      <th>Afghanistan</th>\n",
       "      <td>37.478833</td>\n",
       "      <td>5.098646</td>\n",
       "      <td>43.828</td>\n",
       "      <td>28.801</td>\n",
       "    </tr>\n",
       "    <tr>\n",
       "      <th>Africa</th>\n",
       "      <th>Sierra Leone</th>\n",
       "      <td>36.769167</td>\n",
       "      <td>3.937828</td>\n",
       "      <td>42.568</td>\n",
       "      <td>30.331</td>\n",
       "    </tr>\n",
       "  </tbody>\n",
       "</table>\n",
       "<p>142 rows × 4 columns</p>\n",
       "</div>"
      ],
      "text/plain": [
       "                              mean       std     max     min\n",
       "continent country                                           \n",
       "Europe    Iceland        76.511417  3.026593  81.757  72.490\n",
       "          Sweden         76.177000  3.003990  80.884  71.860\n",
       "          Norway         75.843000  2.423994  80.196  72.670\n",
       "          Netherlands    75.648500  2.486363  79.762  72.130\n",
       "          Switzerland    75.565083  4.011572  81.701  69.620\n",
       "...                            ...       ...     ...     ...\n",
       "Africa    Mozambique     40.379500  4.599184  46.344  31.286\n",
       "          Guinea-Bissau  39.210250  4.937369  46.388  32.500\n",
       "          Angola         37.883500  4.005276  42.731  30.015\n",
       "Asia      Afghanistan    37.478833  5.098646  43.828  28.801\n",
       "Africa    Sierra Leone   36.769167  3.937828  42.568  30.331\n",
       "\n",
       "[142 rows x 4 columns]"
      ]
     },
     "execution_count": 25,
     "metadata": {},
     "output_type": "execute_result"
    }
   ],
   "source": [
    "grouped_continent_contry"
   ]
  },
  {
   "cell_type": "markdown",
   "metadata": {},
   "source": [
    "### Understanding Hierarchical (Multi-Level) Indexing\n",
    "\n",
    "* Grouping by multiple columns creates a hierarchical index (also called a multi-level index).\n",
    "* This index allows each level (e.g., continent, country) to act as an independent category that can be accessed individually.\n",
    "\n",
    " In the above output, `continent` and `country` form a two-level hierarchical index, allowing us to drill down from continent-level to country-level summaries."
   ]
  },
  {
   "cell_type": "code",
   "execution_count": 26,
   "metadata": {},
   "outputs": [
    {
     "data": {
      "text/plain": [
       "2"
      ]
     },
     "execution_count": 26,
     "metadata": {},
     "output_type": "execute_result"
    }
   ],
   "source": [
    "grouped_continent_contry.index.nlevels"
   ]
  },
  {
   "cell_type": "code",
   "execution_count": 27,
   "metadata": {},
   "outputs": [
    {
     "data": {
      "text/plain": [
       "Index(['Africa', 'Americas', 'Asia', 'Europe', 'Oceania'], dtype='object', name='continent')"
      ]
     },
     "execution_count": 27,
     "metadata": {},
     "output_type": "execute_result"
    }
   ],
   "source": [
    "# get the first level of the index\n",
    "grouped_continent_contry.index.levels[0]"
   ]
  },
  {
   "cell_type": "code",
   "execution_count": 28,
   "metadata": {},
   "outputs": [
    {
     "data": {
      "text/plain": [
       "Index(['Afghanistan', 'Albania', 'Algeria', 'Angola', 'Argentina', 'Australia',\n",
       "       'Austria', 'Bahrain', 'Bangladesh', 'Belgium',\n",
       "       ...\n",
       "       'Uganda', 'United Kingdom', 'United States', 'Uruguay', 'Venezuela',\n",
       "       'Vietnam', 'West Bank and Gaza', 'Yemen, Rep.', 'Zambia', 'Zimbabwe'],\n",
       "      dtype='object', name='country', length=142)"
      ]
     },
     "execution_count": 28,
     "metadata": {},
     "output_type": "execute_result"
    }
   ],
   "source": [
    "# get the second level of the index\n",
    "grouped_continent_contry.index.levels[1]"
   ]
  },
  {
   "cell_type": "markdown",
   "metadata": {},
   "source": [
    "### Subsetting Data in a Hierarchical Index\n",
    "\n",
    "`grouped_continent_country` is still a DataFrame with hierarchical indexing. You can use `.loc[]` for subsetting, just as you would with a single-level index."
   ]
  },
  {
   "cell_type": "code",
   "execution_count": 29,
   "metadata": {},
   "outputs": [
    {
     "data": {
      "text/html": [
       "<div>\n",
       "<style scoped>\n",
       "    .dataframe tbody tr th:only-of-type {\n",
       "        vertical-align: middle;\n",
       "    }\n",
       "\n",
       "    .dataframe tbody tr th {\n",
       "        vertical-align: top;\n",
       "    }\n",
       "\n",
       "    .dataframe thead th {\n",
       "        text-align: right;\n",
       "    }\n",
       "</style>\n",
       "<table border=\"1\" class=\"dataframe\">\n",
       "  <thead>\n",
       "    <tr style=\"text-align: right;\">\n",
       "      <th></th>\n",
       "      <th>mean</th>\n",
       "      <th>std</th>\n",
       "      <th>max</th>\n",
       "      <th>min</th>\n",
       "    </tr>\n",
       "    <tr>\n",
       "      <th>country</th>\n",
       "      <th></th>\n",
       "      <th></th>\n",
       "      <th></th>\n",
       "      <th></th>\n",
       "    </tr>\n",
       "  </thead>\n",
       "  <tbody>\n",
       "    <tr>\n",
       "      <th>Canada</th>\n",
       "      <td>74.902750</td>\n",
       "      <td>3.952871</td>\n",
       "      <td>80.653</td>\n",
       "      <td>68.750</td>\n",
       "    </tr>\n",
       "    <tr>\n",
       "      <th>United States</th>\n",
       "      <td>73.478500</td>\n",
       "      <td>3.343781</td>\n",
       "      <td>78.242</td>\n",
       "      <td>68.440</td>\n",
       "    </tr>\n",
       "    <tr>\n",
       "      <th>Puerto Rico</th>\n",
       "      <td>72.739333</td>\n",
       "      <td>3.984267</td>\n",
       "      <td>78.746</td>\n",
       "      <td>64.280</td>\n",
       "    </tr>\n",
       "    <tr>\n",
       "      <th>Cuba</th>\n",
       "      <td>71.045083</td>\n",
       "      <td>6.022798</td>\n",
       "      <td>78.273</td>\n",
       "      <td>59.421</td>\n",
       "    </tr>\n",
       "    <tr>\n",
       "      <th>Uruguay</th>\n",
       "      <td>70.781583</td>\n",
       "      <td>3.342937</td>\n",
       "      <td>76.384</td>\n",
       "      <td>66.071</td>\n",
       "    </tr>\n",
       "  </tbody>\n",
       "</table>\n",
       "</div>"
      ],
      "text/plain": [
       "                    mean       std     max     min\n",
       "country                                           \n",
       "Canada         74.902750  3.952871  80.653  68.750\n",
       "United States  73.478500  3.343781  78.242  68.440\n",
       "Puerto Rico    72.739333  3.984267  78.746  64.280\n",
       "Cuba           71.045083  6.022798  78.273  59.421\n",
       "Uruguay        70.781583  3.342937  76.384  66.071"
      ]
     },
     "execution_count": 29,
     "metadata": {},
     "output_type": "execute_result"
    }
   ],
   "source": [
    "# get the observations for the 'Americas' continent\n",
    "grouped_continent_contry.loc['Americas'].head()"
   ]
  },
  {
   "cell_type": "code",
   "execution_count": 30,
   "metadata": {},
   "outputs": [
    {
     "data": {
      "text/plain": [
       "country\n",
       "Canada           74.902750\n",
       "United States    73.478500\n",
       "Puerto Rico      72.739333\n",
       "Cuba             71.045083\n",
       "Uruguay          70.781583\n",
       "Name: mean, dtype: float64"
      ]
     },
     "execution_count": 30,
     "metadata": {},
     "output_type": "execute_result"
    }
   ],
   "source": [
    "# get the mean life expectancy for the 'Americas' continent\n",
    "grouped_continent_contry.loc['Americas']['mean'].head()"
   ]
  },
  {
   "cell_type": "code",
   "execution_count": 31,
   "metadata": {},
   "outputs": [
    {
     "data": {
      "text/plain": [
       "country\n",
       "Canada           74.902750\n",
       "United States    73.478500\n",
       "Puerto Rico      72.739333\n",
       "Cuba             71.045083\n",
       "Uruguay          70.781583\n",
       "Name: mean, dtype: float64"
      ]
     },
     "execution_count": 31,
     "metadata": {},
     "output_type": "execute_result"
    }
   ],
   "source": [
    "# another way to get the mean life expectancy for the 'Americas' continent\n",
    "grouped_continent_contry.loc['Americas', 'mean'].head()"
   ]
  },
  {
   "cell_type": "markdown",
   "metadata": {},
   "source": [
    "You can use a tuple to access data for specific levels in a multi-level index."
   ]
  },
  {
   "cell_type": "code",
   "execution_count": 32,
   "metadata": {},
   "outputs": [
    {
     "data": {
      "text/plain": [
       "mean    73.478500\n",
       "std      3.343781\n",
       "max     78.242000\n",
       "min     68.440000\n",
       "Name: (Americas, United States), dtype: float64"
      ]
     },
     "execution_count": 32,
     "metadata": {},
     "output_type": "execute_result"
    }
   ],
   "source": [
    "# get the observations for the 'United States' country\n",
    "grouped_continent_contry.loc[( 'Americas', 'United States')]"
   ]
  },
  {
   "cell_type": "code",
   "execution_count": 33,
   "metadata": {},
   "outputs": [
    {
     "data": {
      "text/plain": [
       "mean    73.478500\n",
       "std      3.343781\n",
       "Name: (Americas, United States), dtype: float64"
      ]
     },
     "execution_count": 33,
     "metadata": {},
     "output_type": "execute_result"
    }
   ],
   "source": [
    "grouped_continent_contry.loc[( 'Americas', 'United States'), ['mean', 'std']]"
   ]
  },
  {
   "cell_type": "code",
   "execution_count": 34,
   "metadata": {},
   "outputs": [
    {
     "data": {
      "text/plain": [
       "Index(['country', 'continent', 'year', 'lifeExp', 'pop', 'gdpPercap'], dtype='object')"
      ]
     },
     "execution_count": 34,
     "metadata": {},
     "output_type": "execute_result"
    }
   ],
   "source": [
    "gdp_lifeExp_data.columns"
   ]
  },
  {
   "cell_type": "markdown",
   "metadata": {},
   "source": [
    "Finally, you can use `reset_index()` to convert the hierarchical index into a regular index, allowing you to apply the standard subsetting and filtering methods covered in previous chapters"
   ]
  },
  {
   "cell_type": "code",
   "execution_count": 35,
   "metadata": {},
   "outputs": [
    {
     "data": {
      "text/html": [
       "<div>\n",
       "<style scoped>\n",
       "    .dataframe tbody tr th:only-of-type {\n",
       "        vertical-align: middle;\n",
       "    }\n",
       "\n",
       "    .dataframe tbody tr th {\n",
       "        vertical-align: top;\n",
       "    }\n",
       "\n",
       "    .dataframe thead th {\n",
       "        text-align: right;\n",
       "    }\n",
       "</style>\n",
       "<table border=\"1\" class=\"dataframe\">\n",
       "  <thead>\n",
       "    <tr style=\"text-align: right;\">\n",
       "      <th></th>\n",
       "      <th>continent</th>\n",
       "      <th>country</th>\n",
       "      <th>mean</th>\n",
       "      <th>std</th>\n",
       "      <th>max</th>\n",
       "      <th>min</th>\n",
       "    </tr>\n",
       "  </thead>\n",
       "  <tbody>\n",
       "    <tr>\n",
       "      <th>0</th>\n",
       "      <td>Europe</td>\n",
       "      <td>Iceland</td>\n",
       "      <td>76.511417</td>\n",
       "      <td>3.026593</td>\n",
       "      <td>81.757</td>\n",
       "      <td>72.49</td>\n",
       "    </tr>\n",
       "    <tr>\n",
       "      <th>1</th>\n",
       "      <td>Europe</td>\n",
       "      <td>Sweden</td>\n",
       "      <td>76.177000</td>\n",
       "      <td>3.003990</td>\n",
       "      <td>80.884</td>\n",
       "      <td>71.86</td>\n",
       "    </tr>\n",
       "    <tr>\n",
       "      <th>2</th>\n",
       "      <td>Europe</td>\n",
       "      <td>Norway</td>\n",
       "      <td>75.843000</td>\n",
       "      <td>2.423994</td>\n",
       "      <td>80.196</td>\n",
       "      <td>72.67</td>\n",
       "    </tr>\n",
       "    <tr>\n",
       "      <th>3</th>\n",
       "      <td>Europe</td>\n",
       "      <td>Netherlands</td>\n",
       "      <td>75.648500</td>\n",
       "      <td>2.486363</td>\n",
       "      <td>79.762</td>\n",
       "      <td>72.13</td>\n",
       "    </tr>\n",
       "    <tr>\n",
       "      <th>4</th>\n",
       "      <td>Europe</td>\n",
       "      <td>Switzerland</td>\n",
       "      <td>75.565083</td>\n",
       "      <td>4.011572</td>\n",
       "      <td>81.701</td>\n",
       "      <td>69.62</td>\n",
       "    </tr>\n",
       "  </tbody>\n",
       "</table>\n",
       "</div>"
      ],
      "text/plain": [
       "  continent      country       mean       std     max    min\n",
       "0    Europe      Iceland  76.511417  3.026593  81.757  72.49\n",
       "1    Europe       Sweden  76.177000  3.003990  80.884  71.86\n",
       "2    Europe       Norway  75.843000  2.423994  80.196  72.67\n",
       "3    Europe  Netherlands  75.648500  2.486363  79.762  72.13\n",
       "4    Europe  Switzerland  75.565083  4.011572  81.701  69.62"
      ]
     },
     "execution_count": 35,
     "metadata": {},
     "output_type": "execute_result"
    }
   ],
   "source": [
    "grouped_continent_contry.reset_index().head()"
   ]
  },
  {
   "cell_type": "markdown",
   "metadata": {},
   "source": [
    "### Grouping by multiple columns and aggregating multiple variables"
   ]
  },
  {
   "cell_type": "code",
   "execution_count": 36,
   "metadata": {},
   "outputs": [
    {
     "data": {
      "text/html": [
       "<div>\n",
       "<style scoped>\n",
       "    .dataframe tbody tr th:only-of-type {\n",
       "        vertical-align: middle;\n",
       "    }\n",
       "\n",
       "    .dataframe tbody tr th {\n",
       "        vertical-align: top;\n",
       "    }\n",
       "\n",
       "    .dataframe thead tr th {\n",
       "        text-align: left;\n",
       "    }\n",
       "\n",
       "    .dataframe thead tr:last-of-type th {\n",
       "        text-align: right;\n",
       "    }\n",
       "</style>\n",
       "<table border=\"1\" class=\"dataframe\">\n",
       "  <thead>\n",
       "    <tr>\n",
       "      <th></th>\n",
       "      <th></th>\n",
       "      <th></th>\n",
       "      <th colspan=\"3\" halign=\"left\">lifeExp</th>\n",
       "      <th colspan=\"3\" halign=\"left\">pop</th>\n",
       "      <th colspan=\"3\" halign=\"left\">gdpPercap</th>\n",
       "    </tr>\n",
       "    <tr>\n",
       "      <th></th>\n",
       "      <th></th>\n",
       "      <th></th>\n",
       "      <th>mean</th>\n",
       "      <th>max</th>\n",
       "      <th>min</th>\n",
       "      <th>mean</th>\n",
       "      <th>max</th>\n",
       "      <th>min</th>\n",
       "      <th>mean</th>\n",
       "      <th>max</th>\n",
       "      <th>min</th>\n",
       "    </tr>\n",
       "    <tr>\n",
       "      <th>continent</th>\n",
       "      <th>country</th>\n",
       "      <th>year</th>\n",
       "      <th></th>\n",
       "      <th></th>\n",
       "      <th></th>\n",
       "      <th></th>\n",
       "      <th></th>\n",
       "      <th></th>\n",
       "      <th></th>\n",
       "      <th></th>\n",
       "      <th></th>\n",
       "    </tr>\n",
       "  </thead>\n",
       "  <tbody>\n",
       "    <tr>\n",
       "      <th rowspan=\"5\" valign=\"top\">Africa</th>\n",
       "      <th rowspan=\"5\" valign=\"top\">Algeria</th>\n",
       "      <th>1952</th>\n",
       "      <td>43.077</td>\n",
       "      <td>43.077</td>\n",
       "      <td>43.077</td>\n",
       "      <td>9279525.0</td>\n",
       "      <td>9279525</td>\n",
       "      <td>9279525</td>\n",
       "      <td>2449.008185</td>\n",
       "      <td>2449.008185</td>\n",
       "      <td>2449.008185</td>\n",
       "    </tr>\n",
       "    <tr>\n",
       "      <th>1957</th>\n",
       "      <td>45.685</td>\n",
       "      <td>45.685</td>\n",
       "      <td>45.685</td>\n",
       "      <td>10270856.0</td>\n",
       "      <td>10270856</td>\n",
       "      <td>10270856</td>\n",
       "      <td>3013.976023</td>\n",
       "      <td>3013.976023</td>\n",
       "      <td>3013.976023</td>\n",
       "    </tr>\n",
       "    <tr>\n",
       "      <th>1962</th>\n",
       "      <td>48.303</td>\n",
       "      <td>48.303</td>\n",
       "      <td>48.303</td>\n",
       "      <td>11000948.0</td>\n",
       "      <td>11000948</td>\n",
       "      <td>11000948</td>\n",
       "      <td>2550.816880</td>\n",
       "      <td>2550.816880</td>\n",
       "      <td>2550.816880</td>\n",
       "    </tr>\n",
       "    <tr>\n",
       "      <th>1967</th>\n",
       "      <td>51.407</td>\n",
       "      <td>51.407</td>\n",
       "      <td>51.407</td>\n",
       "      <td>12760499.0</td>\n",
       "      <td>12760499</td>\n",
       "      <td>12760499</td>\n",
       "      <td>3246.991771</td>\n",
       "      <td>3246.991771</td>\n",
       "      <td>3246.991771</td>\n",
       "    </tr>\n",
       "    <tr>\n",
       "      <th>1972</th>\n",
       "      <td>54.518</td>\n",
       "      <td>54.518</td>\n",
       "      <td>54.518</td>\n",
       "      <td>14760787.0</td>\n",
       "      <td>14760787</td>\n",
       "      <td>14760787</td>\n",
       "      <td>4182.663766</td>\n",
       "      <td>4182.663766</td>\n",
       "      <td>4182.663766</td>\n",
       "    </tr>\n",
       "    <tr>\n",
       "      <th>...</th>\n",
       "      <th>...</th>\n",
       "      <th>...</th>\n",
       "      <td>...</td>\n",
       "      <td>...</td>\n",
       "      <td>...</td>\n",
       "      <td>...</td>\n",
       "      <td>...</td>\n",
       "      <td>...</td>\n",
       "      <td>...</td>\n",
       "      <td>...</td>\n",
       "      <td>...</td>\n",
       "    </tr>\n",
       "    <tr>\n",
       "      <th rowspan=\"5\" valign=\"top\">Oceania</th>\n",
       "      <th rowspan=\"5\" valign=\"top\">New Zealand</th>\n",
       "      <th>1987</th>\n",
       "      <td>74.320</td>\n",
       "      <td>74.320</td>\n",
       "      <td>74.320</td>\n",
       "      <td>3317166.0</td>\n",
       "      <td>3317166</td>\n",
       "      <td>3317166</td>\n",
       "      <td>19007.191290</td>\n",
       "      <td>19007.191290</td>\n",
       "      <td>19007.191290</td>\n",
       "    </tr>\n",
       "    <tr>\n",
       "      <th>1992</th>\n",
       "      <td>76.330</td>\n",
       "      <td>76.330</td>\n",
       "      <td>76.330</td>\n",
       "      <td>3437674.0</td>\n",
       "      <td>3437674</td>\n",
       "      <td>3437674</td>\n",
       "      <td>18363.324940</td>\n",
       "      <td>18363.324940</td>\n",
       "      <td>18363.324940</td>\n",
       "    </tr>\n",
       "    <tr>\n",
       "      <th>1997</th>\n",
       "      <td>77.550</td>\n",
       "      <td>77.550</td>\n",
       "      <td>77.550</td>\n",
       "      <td>3676187.0</td>\n",
       "      <td>3676187</td>\n",
       "      <td>3676187</td>\n",
       "      <td>21050.413770</td>\n",
       "      <td>21050.413770</td>\n",
       "      <td>21050.413770</td>\n",
       "    </tr>\n",
       "    <tr>\n",
       "      <th>2002</th>\n",
       "      <td>79.110</td>\n",
       "      <td>79.110</td>\n",
       "      <td>79.110</td>\n",
       "      <td>3908037.0</td>\n",
       "      <td>3908037</td>\n",
       "      <td>3908037</td>\n",
       "      <td>23189.801350</td>\n",
       "      <td>23189.801350</td>\n",
       "      <td>23189.801350</td>\n",
       "    </tr>\n",
       "    <tr>\n",
       "      <th>2007</th>\n",
       "      <td>80.204</td>\n",
       "      <td>80.204</td>\n",
       "      <td>80.204</td>\n",
       "      <td>4115771.0</td>\n",
       "      <td>4115771</td>\n",
       "      <td>4115771</td>\n",
       "      <td>25185.009110</td>\n",
       "      <td>25185.009110</td>\n",
       "      <td>25185.009110</td>\n",
       "    </tr>\n",
       "  </tbody>\n",
       "</table>\n",
       "<p>1704 rows × 9 columns</p>\n",
       "</div>"
      ],
      "text/plain": [
       "                           lifeExp                         pop            \\\n",
       "                              mean     max     min        mean       max   \n",
       "continent country     year                                                 \n",
       "Africa    Algeria     1952  43.077  43.077  43.077   9279525.0   9279525   \n",
       "                      1957  45.685  45.685  45.685  10270856.0  10270856   \n",
       "                      1962  48.303  48.303  48.303  11000948.0  11000948   \n",
       "                      1967  51.407  51.407  51.407  12760499.0  12760499   \n",
       "                      1972  54.518  54.518  54.518  14760787.0  14760787   \n",
       "...                            ...     ...     ...         ...       ...   \n",
       "Oceania   New Zealand 1987  74.320  74.320  74.320   3317166.0   3317166   \n",
       "                      1992  76.330  76.330  76.330   3437674.0   3437674   \n",
       "                      1997  77.550  77.550  77.550   3676187.0   3676187   \n",
       "                      2002  79.110  79.110  79.110   3908037.0   3908037   \n",
       "                      2007  80.204  80.204  80.204   4115771.0   4115771   \n",
       "\n",
       "                                         gdpPercap                              \n",
       "                                 min          mean           max           min  \n",
       "continent country     year                                                      \n",
       "Africa    Algeria     1952   9279525   2449.008185   2449.008185   2449.008185  \n",
       "                      1957  10270856   3013.976023   3013.976023   3013.976023  \n",
       "                      1962  11000948   2550.816880   2550.816880   2550.816880  \n",
       "                      1967  12760499   3246.991771   3246.991771   3246.991771  \n",
       "                      1972  14760787   4182.663766   4182.663766   4182.663766  \n",
       "...                              ...           ...           ...           ...  \n",
       "Oceania   New Zealand 1987   3317166  19007.191290  19007.191290  19007.191290  \n",
       "                      1992   3437674  18363.324940  18363.324940  18363.324940  \n",
       "                      1997   3676187  21050.413770  21050.413770  21050.413770  \n",
       "                      2002   3908037  23189.801350  23189.801350  23189.801350  \n",
       "                      2007   4115771  25185.009110  25185.009110  25185.009110  \n",
       "\n",
       "[1704 rows x 9 columns]"
      ]
     },
     "execution_count": 36,
     "metadata": {},
     "output_type": "execute_result"
    }
   ],
   "source": [
    "#Grouping by multiple columns\n",
    "grouped_continent_contry_multi = gdp_lifeExp_data.groupby(['continent', 'country','year'])[ ['lifeExp', 'pop', 'gdpPercap']].agg(['mean', 'max', 'min'])\n",
    "grouped_continent_contry_multi"
   ]
  },
  {
   "cell_type": "markdown",
   "metadata": {},
   "source": [
    "Breaking Down Grouping and Aggregation\n",
    "\n",
    "- **Grouping by Multiple Columns**:  \n",
    "  In this example, we are grouping the data by three columns: `continent`, `country`, and `year`. This creates groups based on unique combinations of these columns.\n",
    "\n",
    "- **Aggregating Multiple Variables**:  \n",
    "  We apply multiple aggregation functions (`mean`, `std`, `max`, and `min`) to multiple variables (`lifeExp`, `pop`, and `gdpPercap`).\n",
    "\n",
    "This type of operation is commonly referred to as **\"multi-column grouping with multiple aggregations\"** in pandas. It’s a powerful approach because it allows us to obtain a detailed statistical summary for each combination of grouping columns across several variables."
   ]
  },
  {
   "cell_type": "code",
   "execution_count": 37,
   "metadata": {},
   "outputs": [
    {
     "data": {
      "text/plain": [
       "2"
      ]
     },
     "execution_count": 37,
     "metadata": {},
     "output_type": "execute_result"
    }
   ],
   "source": [
    "# its columns are also two levels deep\n",
    "grouped_continent_contry_multi.columns.nlevels"
   ]
  },
  {
   "cell_type": "code",
   "execution_count": 38,
   "metadata": {},
   "outputs": [
    {
     "data": {
      "text/plain": [
       "year\n",
       "1952    68.440\n",
       "1957    69.490\n",
       "1962    70.210\n",
       "1967    70.760\n",
       "1972    71.340\n",
       "1977    73.380\n",
       "1982    74.650\n",
       "1987    75.020\n",
       "1992    76.090\n",
       "1997    76.810\n",
       "2002    77.310\n",
       "2007    78.242\n",
       "Name: (lifeExp, mean), dtype: float64"
      ]
     },
     "execution_count": 38,
     "metadata": {},
     "output_type": "execute_result"
    }
   ],
   "source": [
    "# pass a tuple to the loc() method to access the values of the multi-level columns with a multi-level index\n",
    "grouped_continent_contry_multi.loc[('Americas','United States'), ('lifeExp', 'mean')]"
   ]
  },
  {
   "cell_type": "markdown",
   "metadata": {},
   "source": [
    "##  Advanced Operations within groups: `apply()`, `transform()`, and `filter()`"
   ]
  },
  {
   "cell_type": "markdown",
   "metadata": {},
   "source": [
    "### Using [`apply()`](https://pandas.pydata.org/pandas-docs/stable/reference/api/pandas.core.groupby.GroupBy.apply.html) on groups\n",
    "\n",
    "The `apply()` function applies a custom function to each group, allowing for flexible operations. The function can return either a scalar, Series, or DataFrame."
   ]
  },
  {
   "cell_type": "markdown",
   "metadata": {},
   "source": [
    "**Example**:  Consider the life expectancy dataset, find the top 3 life expectancy values for each continent"
   ]
  },
  {
   "cell_type": "markdown",
   "metadata": {},
   "source": [
    "We'll first define a function that sorts a dataset by decreasing life expectancy and returns the top 3 rows. Then, we'll apply this function on each group using the `apply()` method of the *GroupBy* object."
   ]
  },
  {
   "cell_type": "code",
   "execution_count": 39,
   "metadata": {},
   "outputs": [],
   "source": [
    "# Define a function to get the top 3 rows based on life expectancy for each group\n",
    "def top_3_life_expectancy(group):\n",
    "    return group.nlargest(3, 'lifeExp')"
   ]
  },
  {
   "cell_type": "code",
   "execution_count": 40,
   "metadata": {},
   "outputs": [],
   "source": [
    "#Defining the groups in the data\n",
    "grouped_gdpcapital_data = gdp_lifeExp_data.groupby('continent')"
   ]
  },
  {
   "cell_type": "markdown",
   "metadata": {},
   "source": [
    "Now we'll use the `apply()` method to apply the `top_3_life_expectancy()` function on each group of the object `grouped_gdpcapital_data`."
   ]
  },
  {
   "cell_type": "code",
   "execution_count": 41,
   "metadata": {},
   "outputs": [
    {
     "data": {
      "text/html": [
       "<div>\n",
       "<style scoped>\n",
       "    .dataframe tbody tr th:only-of-type {\n",
       "        vertical-align: middle;\n",
       "    }\n",
       "\n",
       "    .dataframe tbody tr th {\n",
       "        vertical-align: top;\n",
       "    }\n",
       "\n",
       "    .dataframe thead th {\n",
       "        text-align: right;\n",
       "    }\n",
       "</style>\n",
       "<table border=\"1\" class=\"dataframe\">\n",
       "  <thead>\n",
       "    <tr style=\"text-align: right;\">\n",
       "      <th></th>\n",
       "      <th>continent</th>\n",
       "      <th>country</th>\n",
       "      <th>year</th>\n",
       "      <th>lifeExp</th>\n",
       "      <th>gdpPercap</th>\n",
       "    </tr>\n",
       "  </thead>\n",
       "  <tbody>\n",
       "    <tr>\n",
       "      <th>0</th>\n",
       "      <td>Africa</td>\n",
       "      <td>Reunion</td>\n",
       "      <td>2007</td>\n",
       "      <td>76.442</td>\n",
       "      <td>7670.122558</td>\n",
       "    </tr>\n",
       "    <tr>\n",
       "      <th>1</th>\n",
       "      <td>Africa</td>\n",
       "      <td>Reunion</td>\n",
       "      <td>2002</td>\n",
       "      <td>75.744</td>\n",
       "      <td>6316.165200</td>\n",
       "    </tr>\n",
       "    <tr>\n",
       "      <th>2</th>\n",
       "      <td>Africa</td>\n",
       "      <td>Reunion</td>\n",
       "      <td>1997</td>\n",
       "      <td>74.772</td>\n",
       "      <td>6071.941411</td>\n",
       "    </tr>\n",
       "    <tr>\n",
       "      <th>3</th>\n",
       "      <td>Americas</td>\n",
       "      <td>Canada</td>\n",
       "      <td>2007</td>\n",
       "      <td>80.653</td>\n",
       "      <td>36319.235010</td>\n",
       "    </tr>\n",
       "    <tr>\n",
       "      <th>4</th>\n",
       "      <td>Americas</td>\n",
       "      <td>Canada</td>\n",
       "      <td>2002</td>\n",
       "      <td>79.770</td>\n",
       "      <td>33328.965070</td>\n",
       "    </tr>\n",
       "  </tbody>\n",
       "</table>\n",
       "</div>"
      ],
      "text/plain": [
       "  continent  country  year  lifeExp     gdpPercap\n",
       "0    Africa  Reunion  2007   76.442   7670.122558\n",
       "1    Africa  Reunion  2002   75.744   6316.165200\n",
       "2    Africa  Reunion  1997   74.772   6071.941411\n",
       "3  Americas   Canada  2007   80.653  36319.235010\n",
       "4  Americas   Canada  2002   79.770  33328.965070"
      ]
     },
     "execution_count": 41,
     "metadata": {},
     "output_type": "execute_result"
    }
   ],
   "source": [
    "# Apply the function to each continent group\n",
    "top_life_expectancy = gdp_lifeExp_data.groupby('continent')[['continent', 'country', 'year', 'lifeExp', 'gdpPercap']].apply(top_3_life_expectancy).reset_index(drop=True)\n",
    "\n",
    "# Display the result\n",
    "top_life_expectancy.head()"
   ]
  },
  {
   "cell_type": "markdown",
   "metadata": {},
   "source": [
    "The `top_3_life_expectancy()` function is applied to each group, and the results are concatenated internally with the `concat()` function. The output therefore has a hierarchical index whose outer level indices are the group keys."
   ]
  },
  {
   "cell_type": "markdown",
   "metadata": {},
   "source": [
    "We can also use a lambda function instead of separately defining the function `top_3_life_expectancy()`:"
   ]
  },
  {
   "cell_type": "code",
   "execution_count": 42,
   "metadata": {},
   "outputs": [
    {
     "data": {
      "text/html": [
       "<div>\n",
       "<style scoped>\n",
       "    .dataframe tbody tr th:only-of-type {\n",
       "        vertical-align: middle;\n",
       "    }\n",
       "\n",
       "    .dataframe tbody tr th {\n",
       "        vertical-align: top;\n",
       "    }\n",
       "\n",
       "    .dataframe thead th {\n",
       "        text-align: right;\n",
       "    }\n",
       "</style>\n",
       "<table border=\"1\" class=\"dataframe\">\n",
       "  <thead>\n",
       "    <tr style=\"text-align: right;\">\n",
       "      <th></th>\n",
       "      <th>continent</th>\n",
       "      <th>country</th>\n",
       "      <th>year</th>\n",
       "      <th>lifeExp</th>\n",
       "      <th>gdpPercap</th>\n",
       "    </tr>\n",
       "  </thead>\n",
       "  <tbody>\n",
       "    <tr>\n",
       "      <th>0</th>\n",
       "      <td>Africa</td>\n",
       "      <td>Reunion</td>\n",
       "      <td>2007</td>\n",
       "      <td>76.442</td>\n",
       "      <td>7670.122558</td>\n",
       "    </tr>\n",
       "    <tr>\n",
       "      <th>1</th>\n",
       "      <td>Africa</td>\n",
       "      <td>Reunion</td>\n",
       "      <td>2002</td>\n",
       "      <td>75.744</td>\n",
       "      <td>6316.165200</td>\n",
       "    </tr>\n",
       "    <tr>\n",
       "      <th>2</th>\n",
       "      <td>Africa</td>\n",
       "      <td>Reunion</td>\n",
       "      <td>1997</td>\n",
       "      <td>74.772</td>\n",
       "      <td>6071.941411</td>\n",
       "    </tr>\n",
       "    <tr>\n",
       "      <th>3</th>\n",
       "      <td>Americas</td>\n",
       "      <td>Canada</td>\n",
       "      <td>2007</td>\n",
       "      <td>80.653</td>\n",
       "      <td>36319.235010</td>\n",
       "    </tr>\n",
       "    <tr>\n",
       "      <th>4</th>\n",
       "      <td>Americas</td>\n",
       "      <td>Canada</td>\n",
       "      <td>2002</td>\n",
       "      <td>79.770</td>\n",
       "      <td>33328.965070</td>\n",
       "    </tr>\n",
       "  </tbody>\n",
       "</table>\n",
       "</div>"
      ],
      "text/plain": [
       "  continent  country  year  lifeExp     gdpPercap\n",
       "0    Africa  Reunion  2007   76.442   7670.122558\n",
       "1    Africa  Reunion  2002   75.744   6316.165200\n",
       "2    Africa  Reunion  1997   74.772   6071.941411\n",
       "3  Americas   Canada  2007   80.653  36319.235010\n",
       "4  Americas   Canada  2002   79.770  33328.965070"
      ]
     },
     "execution_count": 42,
     "metadata": {},
     "output_type": "execute_result"
    }
   ],
   "source": [
    "\n",
    "# Use a lambda function to get the top 3 life expectancy values for each continent\n",
    "top_life_expectancy = (\n",
    "    gdp_lifeExp_data\n",
    "    .groupby('continent')[['continent', 'country', 'year', 'lifeExp', 'gdpPercap']]  # Avoid adding group labels in the index\n",
    "    .apply(lambda x: x.nlargest(3, 'lifeExp'))\n",
    "    .reset_index(drop=True)\n",
    ")\n",
    "\n",
    "# Display the result\n",
    "top_life_expectancy.head()"
   ]
  },
  {
   "cell_type": "markdown",
   "metadata": {},
   "source": [
    "### Using [`transform()`](https://pandas.pydata.org/docs/reference/api/pandas.core.groupby.DataFrameGroupBy.transform.html) on Groups\n",
    "\n",
    "The `transform()` function applies a function to each group and returns a Series aligned with the original DataFrame's index. This makes it suitable for adding or modifying columns based on group-level calculations."
   ]
  },
  {
   "cell_type": "markdown",
   "metadata": {},
   "source": [
    "Recall that in the data cleaning and preparation chapter, we imputed missing values based on correlated variables in the dataset.\n",
    "\n",
    "In the example provided, some countries had missing values for GDP per capita. To handle this, we imputed the missing GDP per capita for each country using the average GDP per capita of its corresponding continent.\n",
    "\n",
    "Now,  we’ll explore an alternative approach using `groupby()` and `transform()` to perform this imputation."
   ]
  },
  {
   "cell_type": "markdown",
   "metadata": {},
   "source": [
    "Let us read the datasets and the function that makes a visualization to compare the imputed values with the actual values."
   ]
  },
  {
   "cell_type": "code",
   "execution_count": 43,
   "metadata": {},
   "outputs": [],
   "source": [
    "#Importing data with missing values\n",
    "gdp_missing_data = pd.read_csv('./Datasets/GDP_missing_data.csv')\n",
    "\n",
    "#Importing data with all values\n",
    "gdp_complete_data = pd.read_csv('./Datasets/GDP_complete_data.csv')"
   ]
  },
  {
   "cell_type": "code",
   "execution_count": 44,
   "metadata": {},
   "outputs": [],
   "source": [
    "#Index of rows with missing values for GDP per capita\n",
    "null_ind_gdpPC = gdp_missing_data.index[gdp_missing_data.gdpPerCapita.isnull()]\n",
    "\n",
    "#Defining a function to plot the imputed values vs actual values \n",
    "def plot_actual_vs_predicted():\n",
    "    fig, ax = plt.subplots(figsize=(8, 6))\n",
    "    plt.rc('xtick', labelsize=15) \n",
    "    plt.rc('ytick', labelsize=15) \n",
    "    x = gdp_complete_data.loc[null_ind_gdpPC,'gdpPerCapita']\n",
    "    y = gdp_imputed_data.loc[null_ind_gdpPC,'gdpPerCapita']\n",
    "    plt.scatter(x,y)\n",
    "    z=np.polyfit(x,y,1)\n",
    "    p=np.poly1d(z)\n",
    "    plt.plot(x,x,color='orange')\n",
    "    plt.xlabel('Actual GDP per capita',fontsize=20)\n",
    "    plt.ylabel('Imputed GDP per capita',fontsize=20)\n",
    "    ax.xaxis.set_major_formatter('${x:,.0f}')\n",
    "    ax.yaxis.set_major_formatter('${x:,.0f}')\n",
    "    rmse = np.sqrt(((x-y).pow(2)).mean())\n",
    "    print(\"RMSE=\",rmse)"
   ]
  },
  {
   "cell_type": "markdown",
   "metadata": {},
   "source": [
    "**Approach 1:** Using the approach we used in the previous chapter"
   ]
  },
  {
   "cell_type": "code",
   "execution_count": 45,
   "metadata": {},
   "outputs": [
    {
     "name": "stdout",
     "output_type": "stream",
     "text": [
      "RMSE= 25473.20645170116\n"
     ]
    },
    {
     "data": {
      "image/png": "[encoded data removed]",
      "text/plain": [
       "<Figure size 800x600 with 1 Axes>"
      ]
     },
     "metadata": {},
     "output_type": "display_data"
    }
   ],
   "source": [
    "#Finding the mean GDP per capita of the continent\n",
    "avg_gdpPerCapita = gdp_missing_data['gdpPerCapita'].groupby(gdp_missing_data['continent']).mean()\n",
    "\n",
    "#Creating a copy of missing data to impute missing values\n",
    "gdp_imputed_data = gdp_missing_data.copy()\n",
    "\n",
    "#Replacing missing GDP per capita with the mean GDP per capita for the corresponding continent\n",
    "for cont in avg_gdpPerCapita.index:\n",
    "    gdp_imputed_data.loc[(gdp_imputed_data.continent==cont) & (gdp_imputed_data.gdpPerCapita.isnull()),\n",
    "                     'gdpPerCapita']=avg_gdpPerCapita[cont]\n",
    "plot_actual_vs_predicted()"
   ]
  },
  {
   "cell_type": "markdown",
   "metadata": {},
   "source": [
    "**Approach 2:** Using the `groupby()` and `transform()` methods.\n",
    "\n",
    "The `transform()` function is a powerful tool for filling missing values in grouped data. It allows us to apply a function across each group and align the result back to the original DataFrame, making it perfect for filling missing values based on group statistics.\n",
    "\n",
    "In this example, we use `transform()` to impute missing values in the `gdpPerCapita` column by filling them with the mean `gdpPerCapita` of each continent:\n"
   ]
  },
  {
   "cell_type": "code",
   "execution_count": 46,
   "metadata": {},
   "outputs": [
    {
     "name": "stdout",
     "output_type": "stream",
     "text": [
      "RMSE= 25473.20645170116\n"
     ]
    },
    {
     "data": {
      "image/png": "[encoded data removed]",
      "text/plain": [
       "<Figure size 800x600 with 1 Axes>"
      ]
     },
     "metadata": {},
     "output_type": "display_data"
    }
   ],
   "source": [
    "#Creating a copy of missing data to impute missing values\n",
    "gdp_imputed_data = gdp_missing_data.copy()\n",
    "\n",
    "#Grouping data by continent\n",
    "grouped = gdp_missing_data.groupby('continent')\n",
    "\n",
    "#Imputing missing values with the mean GDP per capita of the continent\n",
    "gdp_imputed_data['gdpPerCapita'] = grouped['gdpPerCapita'].transform(lambda x: x.fillna(x.mean()))\n",
    "\n",
    "plot_actual_vs_predicted()"
   ]
  },
  {
   "cell_type": "markdown",
   "metadata": {},
   "source": [
    "Using the `transform()` function, missing values in gdpPerCapita for each group are filled with the group’s mean `gdpPerCapita`. This approach is not only more convenient to write but also faster compared to using for loops. While a for loop imputes missing values one group at a time, `transform()` performs built-in operations (like mean, sum, etc.) in a way that is optimized internally, making it more efficient."
   ]
  },
  {
   "cell_type": "markdown",
   "metadata": {},
   "source": [
    "Let's use `apply()` instead of `transform()` with `groupby()`\n",
    "\n",
    "Please copy the code below and run it in your notebook:\n",
    "\n",
    "```{python}\n",
    "#Creating a copy of missing data to impute missing values\n",
    "gdp_imputed_data = gdp_missing_data.copy()\n",
    "\n",
    "#Grouping data by continent\n",
    "grouped = gdp_missing_data.groupby('continent')\n",
    "\n",
    "#Applying the lambda function on the 'gdpPerCapita' column of the groups\n",
    "gdp_imputed_data['gdpPerCapita'] = grouped['gdpPerCapita'].apply(lambda x: x.fillna(x.mean()))\n",
    "\n",
    "plot_actual_vs_predicted()\n",
    "```"
   ]
  },
  {
   "cell_type": "markdown",
   "metadata": {},
   "source": [
    "Why we ran into this error? and `apply()` doesn't work?\n",
    "\n",
    "Here’s a deeper look at why `apply()` doesn’t work as expected here:\n",
    "\n",
    "####  Behavior of `groupby().apply()` vs. `groupby().transform()`\n",
    "\n",
    "- **`groupby().apply()`**: This method applies a function to each group and returns the result with a hierarchical (multi-level) index by default. This hierarchical index can make it difficult to align the result back to a single column in the original DataFrame.\n",
    "  \n",
    "- **`groupby().transform()`**: In contrast, `transform()` is specifically designed to apply a function to each group and return a Series that is aligned with the original DataFrame’s index. This alignment makes it directly compatible for assignment to a new or existing column in the original DataFrame.\n",
    "\n",
    "####  Why `transform()` Works for Imputation\n",
    "\n",
    "When using `transform()` to fill missing values, it applies the function (e.g., `fillna(x.mean())`) based on each group’s statistics, such as the mean, while keeping the result aligned with the original DataFrame’s index. This allows for smooth assignment to a column in the DataFrame without any index mismatch issues.\n",
    "\n",
    "Additionally, `transform()` applies the function to each element in a group independently and returns a result that has the same shape as the original data, making it ideal for adding or modifying columns.\n"
   ]
  },
  {
   "cell_type": "markdown",
   "metadata": {},
   "source": [
    "### Using [`filter()`](https://pandas.pydata.org/docs/reference/api/pandas.core.groupby.DataFrameGroupBy.filter.html) on Groups\n",
    "\n",
    "The `filter()` function filters entire groups based on a condition. It evaluates each group and keeps only those that meet the specified criteria.\n",
    "\n",
    "Example: Keep only the countries where the mean life expectancy is greater than 70"
   ]
  },
  {
   "cell_type": "code",
   "execution_count": 48,
   "metadata": {},
   "outputs": [
    {
     "data": {
      "text/plain": [
       "array(['Oceania'], dtype=object)"
      ]
     },
     "execution_count": 48,
     "metadata": {},
     "output_type": "execute_result"
    }
   ],
   "source": [
    "# keep only the continent where the mean life expectancy is greater than 74\n",
    "gdp_lifeExp_data.groupby('continent').filter(lambda x: x['lifeExp'].mean() > 74)['continent'].unique()"
   ]
  },
  {
   "cell_type": "code",
   "execution_count": 49,
   "metadata": {},
   "outputs": [
    {
     "data": {
      "text/plain": [
       "array(['Australia', 'Canada', 'Denmark', 'France', 'Iceland', 'Italy',\n",
       "       'Japan', 'Netherlands', 'Norway', 'Spain', 'Sweden', 'Switzerland'],\n",
       "      dtype=object)"
      ]
     },
     "execution_count": 49,
     "metadata": {},
     "output_type": "execute_result"
    }
   ],
   "source": [
    "# keep only the country where the mean life expectancy is greater than 74\n",
    "gdp_lifeExp_data.groupby('country').filter(lambda x: x['lifeExp'].mean() > 74)['country'].unique()"
   ]
  },
  {
   "cell_type": "markdown",
   "metadata": {},
   "source": [
    "Using `.nunique()` get the number of countries that satisfy this condition"
   ]
  },
  {
   "cell_type": "code",
   "execution_count": 50,
   "metadata": {},
   "outputs": [
    {
     "data": {
      "text/plain": [
       "12"
      ]
     },
     "execution_count": 50,
     "metadata": {},
     "output_type": "execute_result"
    }
   ],
   "source": [
    "gdp_lifeExp_data.groupby('country').filter(lambda x: x['lifeExp'].mean() > 74)['country'].nunique()"
   ]
  },
  {
   "cell_type": "markdown",
   "metadata": {},
   "source": [
    "## Sampling data by group"
   ]
  },
  {
   "cell_type": "markdown",
   "metadata": {},
   "source": [
    "If a dataset contains a large number of observations, operating on it can be computationally expensive. Instead, working on a sample of entire observations is a more efficient alterative.\n",
    "The `groupby()` method combined with `apply()` can be used for stratified random sampling from a large dataset.\n",
    "\n",
    "Before taking the random sample, let us find the number of countries in each continent."
   ]
  },
  {
   "cell_type": "code",
   "execution_count": 59,
   "metadata": {},
   "outputs": [
    {
     "data": {
      "text/plain": [
       "continent\n",
       "Africa      624\n",
       "Asia        396\n",
       "Europe      360\n",
       "Americas    300\n",
       "Oceania      24\n",
       "Name: count, dtype: int64"
      ]
     },
     "execution_count": 59,
     "metadata": {},
     "output_type": "execute_result"
    }
   ],
   "source": [
    "gdp_lifeExp_data.continent.value_counts()"
   ]
  },
  {
   "cell_type": "markdown",
   "metadata": {},
   "source": [
    "Let us take a random sample of 650 observations from the entire dataset."
   ]
  },
  {
   "cell_type": "code",
   "execution_count": 52,
   "metadata": {},
   "outputs": [],
   "source": [
    "sample_lifeExp_data = gdp_lifeExp_data.sample(650)"
   ]
  },
  {
   "cell_type": "markdown",
   "metadata": {},
   "source": [
    "Now, let us see the number of countries of each continent in our sample."
   ]
  },
  {
   "cell_type": "code",
   "execution_count": 53,
   "metadata": {},
   "outputs": [
    {
     "data": {
      "text/plain": [
       "continent\n",
       "Africa      241\n",
       "Asia        149\n",
       "Europe      142\n",
       "Americas    109\n",
       "Oceania       9\n",
       "Name: count, dtype: int64"
      ]
     },
     "execution_count": 53,
     "metadata": {},
     "output_type": "execute_result"
    }
   ],
   "source": [
    "sample_lifeExp_data.continent.value_counts()"
   ]
  },
  {
   "cell_type": "markdown",
   "metadata": {},
   "source": [
    "Some of the continent have a very low representation in the data. To rectify this, we can take a random sample of 130 observations from each of the 5 continents. In other words, we can take a random sample from each of the continent-based groups."
   ]
  },
  {
   "cell_type": "code",
   "execution_count": 75,
   "metadata": {},
   "outputs": [
    {
     "name": "stdout",
     "output_type": "stream",
     "text": [
      "continent\n",
      "Africa      130\n",
      "Americas    130\n",
      "Asia        130\n",
      "Europe      130\n",
      "Oceania     130\n",
      "dtype: int64\n"
     ]
    }
   ],
   "source": [
    "evenly_sampled_lifeExp_data = gdp_lifeExp_data.groupby('continent').apply(lambda x:x.sample(130, replace=True), include_groups=False)\n",
    "\n",
    "group_sizes = evenly_sampled_lifeExp_data.groupby(level=0).size()\n",
    "print(group_sizes)"
   ]
  },
  {
   "cell_type": "markdown",
   "metadata": {},
   "source": [
    "The above stratified random sample equally represents all the continent."
   ]
  },
  {
   "cell_type": "markdown",
   "metadata": {},
   "source": [
    "## [`corr()`](https://pandas.pydata.org/pandas-docs/stable/reference/api/pandas.core.groupby.DataFrameGroupBy.corr.html): Correlation by group"
   ]
  },
  {
   "cell_type": "markdown",
   "metadata": {},
   "source": [
    "The [`corr()`](https://pandas.pydata.org/docs/reference/api/pandas.DataFrame.corr.html) method of the *GroupBy* object returns the correlation between all pairs of columns within each group."
   ]
  },
  {
   "cell_type": "markdown",
   "metadata": {},
   "source": [
    "**Example:** Find the correlation between `lifeExp` and `gdpPercap` for each continent-country level combination."
   ]
  },
  {
   "cell_type": "code",
   "execution_count": 80,
   "metadata": {},
   "outputs": [
    {
     "data": {
      "text/plain": [
       "continent  country       \n",
       "Africa     Algeria           0.904471\n",
       "           Angola           -0.301079\n",
       "           Benin             0.843949\n",
       "           Botswana          0.005597\n",
       "           Burkina Faso      0.881677\n",
       "                               ...   \n",
       "Europe     Switzerland       0.980715\n",
       "           Turkey            0.954455\n",
       "           United Kingdom    0.989893\n",
       "Oceania    Australia         0.986446\n",
       "           New Zealand       0.974493\n",
       "Length: 142, dtype: float64"
      ]
     },
     "execution_count": 80,
     "metadata": {},
     "output_type": "execute_result"
    }
   ],
   "source": [
    "gdp_lifeExp_data.groupby(['continent','country']).apply(lambda x:x['lifeExp'].corr(x['gdpPercap']), include_groups=False)"
   ]
  },
  {
   "cell_type": "markdown",
   "metadata": {},
   "source": [
    "Life expectancy is closely associated with GDP per capita across most continent-country combinations."
   ]
  },
  {
   "cell_type": "markdown",
   "metadata": {},
   "source": [
    "## [`pivot_table()`](https://pandas.pydata.org/pandas-docs/stable/reference/api/pandas.pivot_table.html)"
   ]
  },
  {
   "cell_type": "markdown",
   "metadata": {},
   "source": [
    "The `pivot_table()` function in pandas is a powerful tool for performing groupwise aggregation in a structured format, similar to Excel's pivot tables. It allows you to create a summary of data by grouping and aggregating it based on specified columns. Here’s an overview of how `pivot_table()` works for groupwise aggregation:\n",
    "\n",
    "Note that `pivot_table()` is the same as `pivot()` except that `pivot_table()` aggregates the data as well in addition to re-arranging it."
   ]
  },
  {
   "cell_type": "markdown",
   "metadata": {},
   "source": [
    "\n",
    "\n",
    "**Example:** Consider the life expectancy dataset, calculate the average life expectancy for each country and year combination"
   ]
  },
  {
   "cell_type": "code",
   "execution_count": 81,
   "metadata": {},
   "outputs": [
    {
     "data": {
      "text/html": [
       "<div>\n",
       "<style scoped>\n",
       "    .dataframe tbody tr th:only-of-type {\n",
       "        vertical-align: middle;\n",
       "    }\n",
       "\n",
       "    .dataframe tbody tr th {\n",
       "        vertical-align: top;\n",
       "    }\n",
       "\n",
       "    .dataframe thead th {\n",
       "        text-align: right;\n",
       "    }\n",
       "</style>\n",
       "<table border=\"1\" class=\"dataframe\">\n",
       "  <thead>\n",
       "    <tr style=\"text-align: right;\">\n",
       "      <th>year</th>\n",
       "      <th>1952</th>\n",
       "      <th>1957</th>\n",
       "      <th>1962</th>\n",
       "      <th>1967</th>\n",
       "      <th>1972</th>\n",
       "      <th>1977</th>\n",
       "      <th>1982</th>\n",
       "      <th>1987</th>\n",
       "      <th>1992</th>\n",
       "      <th>1997</th>\n",
       "      <th>2002</th>\n",
       "      <th>2007</th>\n",
       "      <th>All</th>\n",
       "    </tr>\n",
       "    <tr>\n",
       "      <th>country</th>\n",
       "      <th></th>\n",
       "      <th></th>\n",
       "      <th></th>\n",
       "      <th></th>\n",
       "      <th></th>\n",
       "      <th></th>\n",
       "      <th></th>\n",
       "      <th></th>\n",
       "      <th></th>\n",
       "      <th></th>\n",
       "      <th></th>\n",
       "      <th></th>\n",
       "      <th></th>\n",
       "    </tr>\n",
       "  </thead>\n",
       "  <tbody>\n",
       "    <tr>\n",
       "      <th>Afghanistan</th>\n",
       "      <td>28.80100</td>\n",
       "      <td>30.332000</td>\n",
       "      <td>31.997000</td>\n",
       "      <td>34.02000</td>\n",
       "      <td>36.088000</td>\n",
       "      <td>38.438000</td>\n",
       "      <td>39.854000</td>\n",
       "      <td>40.822000</td>\n",
       "      <td>41.674000</td>\n",
       "      <td>41.763000</td>\n",
       "      <td>42.129000</td>\n",
       "      <td>43.828000</td>\n",
       "      <td>37.478833</td>\n",
       "    </tr>\n",
       "    <tr>\n",
       "      <th>Albania</th>\n",
       "      <td>55.23000</td>\n",
       "      <td>59.280000</td>\n",
       "      <td>64.820000</td>\n",
       "      <td>66.22000</td>\n",
       "      <td>67.690000</td>\n",
       "      <td>68.930000</td>\n",
       "      <td>70.420000</td>\n",
       "      <td>72.000000</td>\n",
       "      <td>71.581000</td>\n",
       "      <td>72.950000</td>\n",
       "      <td>75.651000</td>\n",
       "      <td>76.423000</td>\n",
       "      <td>68.432917</td>\n",
       "    </tr>\n",
       "    <tr>\n",
       "      <th>Algeria</th>\n",
       "      <td>43.07700</td>\n",
       "      <td>45.685000</td>\n",
       "      <td>48.303000</td>\n",
       "      <td>51.40700</td>\n",
       "      <td>54.518000</td>\n",
       "      <td>58.014000</td>\n",
       "      <td>61.368000</td>\n",
       "      <td>65.799000</td>\n",
       "      <td>67.744000</td>\n",
       "      <td>69.152000</td>\n",
       "      <td>70.994000</td>\n",
       "      <td>72.301000</td>\n",
       "      <td>59.030167</td>\n",
       "    </tr>\n",
       "    <tr>\n",
       "      <th>Angola</th>\n",
       "      <td>30.01500</td>\n",
       "      <td>31.999000</td>\n",
       "      <td>34.000000</td>\n",
       "      <td>35.98500</td>\n",
       "      <td>37.928000</td>\n",
       "      <td>39.483000</td>\n",
       "      <td>39.942000</td>\n",
       "      <td>39.906000</td>\n",
       "      <td>40.647000</td>\n",
       "      <td>40.963000</td>\n",
       "      <td>41.003000</td>\n",
       "      <td>42.731000</td>\n",
       "      <td>37.883500</td>\n",
       "    </tr>\n",
       "    <tr>\n",
       "      <th>Argentina</th>\n",
       "      <td>62.48500</td>\n",
       "      <td>64.399000</td>\n",
       "      <td>65.142000</td>\n",
       "      <td>65.63400</td>\n",
       "      <td>67.065000</td>\n",
       "      <td>68.481000</td>\n",
       "      <td>69.942000</td>\n",
       "      <td>70.774000</td>\n",
       "      <td>71.868000</td>\n",
       "      <td>73.275000</td>\n",
       "      <td>74.340000</td>\n",
       "      <td>75.320000</td>\n",
       "      <td>69.060417</td>\n",
       "    </tr>\n",
       "    <tr>\n",
       "      <th>...</th>\n",
       "      <td>...</td>\n",
       "      <td>...</td>\n",
       "      <td>...</td>\n",
       "      <td>...</td>\n",
       "      <td>...</td>\n",
       "      <td>...</td>\n",
       "      <td>...</td>\n",
       "      <td>...</td>\n",
       "      <td>...</td>\n",
       "      <td>...</td>\n",
       "      <td>...</td>\n",
       "      <td>...</td>\n",
       "      <td>...</td>\n",
       "    </tr>\n",
       "    <tr>\n",
       "      <th>West Bank and Gaza</th>\n",
       "      <td>43.16000</td>\n",
       "      <td>45.671000</td>\n",
       "      <td>48.127000</td>\n",
       "      <td>51.63100</td>\n",
       "      <td>56.532000</td>\n",
       "      <td>60.765000</td>\n",
       "      <td>64.406000</td>\n",
       "      <td>67.046000</td>\n",
       "      <td>69.718000</td>\n",
       "      <td>71.096000</td>\n",
       "      <td>72.370000</td>\n",
       "      <td>73.422000</td>\n",
       "      <td>60.328667</td>\n",
       "    </tr>\n",
       "    <tr>\n",
       "      <th>Yemen, Rep.</th>\n",
       "      <td>32.54800</td>\n",
       "      <td>33.970000</td>\n",
       "      <td>35.180000</td>\n",
       "      <td>36.98400</td>\n",
       "      <td>39.848000</td>\n",
       "      <td>44.175000</td>\n",
       "      <td>49.113000</td>\n",
       "      <td>52.922000</td>\n",
       "      <td>55.599000</td>\n",
       "      <td>58.020000</td>\n",
       "      <td>60.308000</td>\n",
       "      <td>62.698000</td>\n",
       "      <td>46.780417</td>\n",
       "    </tr>\n",
       "    <tr>\n",
       "      <th>Zambia</th>\n",
       "      <td>42.03800</td>\n",
       "      <td>44.077000</td>\n",
       "      <td>46.023000</td>\n",
       "      <td>47.76800</td>\n",
       "      <td>50.107000</td>\n",
       "      <td>51.386000</td>\n",
       "      <td>51.821000</td>\n",
       "      <td>50.821000</td>\n",
       "      <td>46.100000</td>\n",
       "      <td>40.238000</td>\n",
       "      <td>39.193000</td>\n",
       "      <td>42.384000</td>\n",
       "      <td>45.996333</td>\n",
       "    </tr>\n",
       "    <tr>\n",
       "      <th>Zimbabwe</th>\n",
       "      <td>48.45100</td>\n",
       "      <td>50.469000</td>\n",
       "      <td>52.358000</td>\n",
       "      <td>53.99500</td>\n",
       "      <td>55.635000</td>\n",
       "      <td>57.674000</td>\n",
       "      <td>60.363000</td>\n",
       "      <td>62.351000</td>\n",
       "      <td>60.377000</td>\n",
       "      <td>46.809000</td>\n",
       "      <td>39.989000</td>\n",
       "      <td>43.487000</td>\n",
       "      <td>52.663167</td>\n",
       "    </tr>\n",
       "    <tr>\n",
       "      <th>All</th>\n",
       "      <td>49.05762</td>\n",
       "      <td>51.507401</td>\n",
       "      <td>53.609249</td>\n",
       "      <td>55.67829</td>\n",
       "      <td>57.647386</td>\n",
       "      <td>59.570157</td>\n",
       "      <td>61.533197</td>\n",
       "      <td>63.212613</td>\n",
       "      <td>64.160338</td>\n",
       "      <td>65.014676</td>\n",
       "      <td>65.694923</td>\n",
       "      <td>67.007423</td>\n",
       "      <td>59.474439</td>\n",
       "    </tr>\n",
       "  </tbody>\n",
       "</table>\n",
       "<p>143 rows × 13 columns</p>\n",
       "</div>"
      ],
      "text/plain": [
       "year                    1952       1957       1962      1967       1972  \\\n",
       "country                                                                   \n",
       "Afghanistan         28.80100  30.332000  31.997000  34.02000  36.088000   \n",
       "Albania             55.23000  59.280000  64.820000  66.22000  67.690000   \n",
       "Algeria             43.07700  45.685000  48.303000  51.40700  54.518000   \n",
       "Angola              30.01500  31.999000  34.000000  35.98500  37.928000   \n",
       "Argentina           62.48500  64.399000  65.142000  65.63400  67.065000   \n",
       "...                      ...        ...        ...       ...        ...   \n",
       "West Bank and Gaza  43.16000  45.671000  48.127000  51.63100  56.532000   \n",
       "Yemen, Rep.         32.54800  33.970000  35.180000  36.98400  39.848000   \n",
       "Zambia              42.03800  44.077000  46.023000  47.76800  50.107000   \n",
       "Zimbabwe            48.45100  50.469000  52.358000  53.99500  55.635000   \n",
       "All                 49.05762  51.507401  53.609249  55.67829  57.647386   \n",
       "\n",
       "year                     1977       1982       1987       1992       1997  \\\n",
       "country                                                                     \n",
       "Afghanistan         38.438000  39.854000  40.822000  41.674000  41.763000   \n",
       "Albania             68.930000  70.420000  72.000000  71.581000  72.950000   \n",
       "Algeria             58.014000  61.368000  65.799000  67.744000  69.152000   \n",
       "Angola              39.483000  39.942000  39.906000  40.647000  40.963000   \n",
       "Argentina           68.481000  69.942000  70.774000  71.868000  73.275000   \n",
       "...                       ...        ...        ...        ...        ...   \n",
       "West Bank and Gaza  60.765000  64.406000  67.046000  69.718000  71.096000   \n",
       "Yemen, Rep.         44.175000  49.113000  52.922000  55.599000  58.020000   \n",
       "Zambia              51.386000  51.821000  50.821000  46.100000  40.238000   \n",
       "Zimbabwe            57.674000  60.363000  62.351000  60.377000  46.809000   \n",
       "All                 59.570157  61.533197  63.212613  64.160338  65.014676   \n",
       "\n",
       "year                     2002       2007        All  \n",
       "country                                              \n",
       "Afghanistan         42.129000  43.828000  37.478833  \n",
       "Albania             75.651000  76.423000  68.432917  \n",
       "Algeria             70.994000  72.301000  59.030167  \n",
       "Angola              41.003000  42.731000  37.883500  \n",
       "Argentina           74.340000  75.320000  69.060417  \n",
       "...                       ...        ...        ...  \n",
       "West Bank and Gaza  72.370000  73.422000  60.328667  \n",
       "Yemen, Rep.         60.308000  62.698000  46.780417  \n",
       "Zambia              39.193000  42.384000  45.996333  \n",
       "Zimbabwe            39.989000  43.487000  52.663167  \n",
       "All                 65.694923  67.007423  59.474439  \n",
       "\n",
       "[143 rows x 13 columns]"
      ]
     },
     "execution_count": 81,
     "metadata": {},
     "output_type": "execute_result"
    }
   ],
   "source": [
    "pd.pivot_table(data = gdp_lifeExp_data, values = 'lifeExp',index = 'country', columns ='year',aggfunc = 'mean',margins = True)"
   ]
  },
  {
   "cell_type": "markdown",
   "metadata": {},
   "source": [
    "**Explanation**\n",
    "\n",
    "- **values**: Specifies the column to aggregate (e.g., `lifeExp` in our example).\n",
    "- **index**: Groups by the rows based on the `country` column.\n",
    "- **columns**: Groups by the columns based on the `year` column.\n",
    "- **aggfunc**: Uses `mean` to calculate the average life expectancy.\n",
    "\n",
    "**Common Aggregation Functions in `pivot_table()`**\n",
    "\n",
    "You can use various aggregation functions within `pivot_table()` to summarize data:\n",
    "\n",
    "- **`mean`** – Calculates the average of values within each group.\n",
    "- **`sum`** – Computes the total of values within each group.\n",
    "- **`count`** – Counts the number of non-null entries within each group.\n",
    "- **`min`** and **`max`** – Finds the minimum and maximum values within each group.\n"
   ]
  },
  {
   "cell_type": "markdown",
   "metadata": {},
   "source": [
    "We can also use custom *GroupBy* aggregate functions with `pivot_table()`."
   ]
  },
  {
   "cell_type": "markdown",
   "metadata": {},
   "source": [
    "**Example**: Find the $90^{th}$ percentile of life expectancy for each country and year combination"
   ]
  },
  {
   "cell_type": "code",
   "execution_count": 82,
   "metadata": {},
   "outputs": [
    {
     "data": {
      "text/html": [
       "<div>\n",
       "<style scoped>\n",
       "    .dataframe tbody tr th:only-of-type {\n",
       "        vertical-align: middle;\n",
       "    }\n",
       "\n",
       "    .dataframe tbody tr th {\n",
       "        vertical-align: top;\n",
       "    }\n",
       "\n",
       "    .dataframe thead th {\n",
       "        text-align: right;\n",
       "    }\n",
       "</style>\n",
       "<table border=\"1\" class=\"dataframe\">\n",
       "  <thead>\n",
       "    <tr style=\"text-align: right;\">\n",
       "      <th>year</th>\n",
       "      <th>1952</th>\n",
       "      <th>1957</th>\n",
       "      <th>1962</th>\n",
       "      <th>1967</th>\n",
       "      <th>1972</th>\n",
       "      <th>1977</th>\n",
       "      <th>1982</th>\n",
       "      <th>1987</th>\n",
       "      <th>1992</th>\n",
       "      <th>1997</th>\n",
       "      <th>2002</th>\n",
       "      <th>2007</th>\n",
       "    </tr>\n",
       "    <tr>\n",
       "      <th>country</th>\n",
       "      <th></th>\n",
       "      <th></th>\n",
       "      <th></th>\n",
       "      <th></th>\n",
       "      <th></th>\n",
       "      <th></th>\n",
       "      <th></th>\n",
       "      <th></th>\n",
       "      <th></th>\n",
       "      <th></th>\n",
       "      <th></th>\n",
       "      <th></th>\n",
       "    </tr>\n",
       "  </thead>\n",
       "  <tbody>\n",
       "    <tr>\n",
       "      <th>Afghanistan</th>\n",
       "      <td>28.801</td>\n",
       "      <td>30.332</td>\n",
       "      <td>31.997</td>\n",
       "      <td>34.020</td>\n",
       "      <td>36.088</td>\n",
       "      <td>38.438</td>\n",
       "      <td>39.854</td>\n",
       "      <td>40.822</td>\n",
       "      <td>41.674</td>\n",
       "      <td>41.763</td>\n",
       "      <td>42.129</td>\n",
       "      <td>43.828</td>\n",
       "    </tr>\n",
       "    <tr>\n",
       "      <th>Albania</th>\n",
       "      <td>55.230</td>\n",
       "      <td>59.280</td>\n",
       "      <td>64.820</td>\n",
       "      <td>66.220</td>\n",
       "      <td>67.690</td>\n",
       "      <td>68.930</td>\n",
       "      <td>70.420</td>\n",
       "      <td>72.000</td>\n",
       "      <td>71.581</td>\n",
       "      <td>72.950</td>\n",
       "      <td>75.651</td>\n",
       "      <td>76.423</td>\n",
       "    </tr>\n",
       "    <tr>\n",
       "      <th>Algeria</th>\n",
       "      <td>43.077</td>\n",
       "      <td>45.685</td>\n",
       "      <td>48.303</td>\n",
       "      <td>51.407</td>\n",
       "      <td>54.518</td>\n",
       "      <td>58.014</td>\n",
       "      <td>61.368</td>\n",
       "      <td>65.799</td>\n",
       "      <td>67.744</td>\n",
       "      <td>69.152</td>\n",
       "      <td>70.994</td>\n",
       "      <td>72.301</td>\n",
       "    </tr>\n",
       "    <tr>\n",
       "      <th>Angola</th>\n",
       "      <td>30.015</td>\n",
       "      <td>31.999</td>\n",
       "      <td>34.000</td>\n",
       "      <td>35.985</td>\n",
       "      <td>37.928</td>\n",
       "      <td>39.483</td>\n",
       "      <td>39.942</td>\n",
       "      <td>39.906</td>\n",
       "      <td>40.647</td>\n",
       "      <td>40.963</td>\n",
       "      <td>41.003</td>\n",
       "      <td>42.731</td>\n",
       "    </tr>\n",
       "    <tr>\n",
       "      <th>Argentina</th>\n",
       "      <td>62.485</td>\n",
       "      <td>64.399</td>\n",
       "      <td>65.142</td>\n",
       "      <td>65.634</td>\n",
       "      <td>67.065</td>\n",
       "      <td>68.481</td>\n",
       "      <td>69.942</td>\n",
       "      <td>70.774</td>\n",
       "      <td>71.868</td>\n",
       "      <td>73.275</td>\n",
       "      <td>74.340</td>\n",
       "      <td>75.320</td>\n",
       "    </tr>\n",
       "    <tr>\n",
       "      <th>...</th>\n",
       "      <td>...</td>\n",
       "      <td>...</td>\n",
       "      <td>...</td>\n",
       "      <td>...</td>\n",
       "      <td>...</td>\n",
       "      <td>...</td>\n",
       "      <td>...</td>\n",
       "      <td>...</td>\n",
       "      <td>...</td>\n",
       "      <td>...</td>\n",
       "      <td>...</td>\n",
       "      <td>...</td>\n",
       "    </tr>\n",
       "    <tr>\n",
       "      <th>Vietnam</th>\n",
       "      <td>40.412</td>\n",
       "      <td>42.887</td>\n",
       "      <td>45.363</td>\n",
       "      <td>47.838</td>\n",
       "      <td>50.254</td>\n",
       "      <td>55.764</td>\n",
       "      <td>58.816</td>\n",
       "      <td>62.820</td>\n",
       "      <td>67.662</td>\n",
       "      <td>70.672</td>\n",
       "      <td>73.017</td>\n",
       "      <td>74.249</td>\n",
       "    </tr>\n",
       "    <tr>\n",
       "      <th>West Bank and Gaza</th>\n",
       "      <td>43.160</td>\n",
       "      <td>45.671</td>\n",
       "      <td>48.127</td>\n",
       "      <td>51.631</td>\n",
       "      <td>56.532</td>\n",
       "      <td>60.765</td>\n",
       "      <td>64.406</td>\n",
       "      <td>67.046</td>\n",
       "      <td>69.718</td>\n",
       "      <td>71.096</td>\n",
       "      <td>72.370</td>\n",
       "      <td>73.422</td>\n",
       "    </tr>\n",
       "    <tr>\n",
       "      <th>Yemen, Rep.</th>\n",
       "      <td>32.548</td>\n",
       "      <td>33.970</td>\n",
       "      <td>35.180</td>\n",
       "      <td>36.984</td>\n",
       "      <td>39.848</td>\n",
       "      <td>44.175</td>\n",
       "      <td>49.113</td>\n",
       "      <td>52.922</td>\n",
       "      <td>55.599</td>\n",
       "      <td>58.020</td>\n",
       "      <td>60.308</td>\n",
       "      <td>62.698</td>\n",
       "    </tr>\n",
       "    <tr>\n",
       "      <th>Zambia</th>\n",
       "      <td>42.038</td>\n",
       "      <td>44.077</td>\n",
       "      <td>46.023</td>\n",
       "      <td>47.768</td>\n",
       "      <td>50.107</td>\n",
       "      <td>51.386</td>\n",
       "      <td>51.821</td>\n",
       "      <td>50.821</td>\n",
       "      <td>46.100</td>\n",
       "      <td>40.238</td>\n",
       "      <td>39.193</td>\n",
       "      <td>42.384</td>\n",
       "    </tr>\n",
       "    <tr>\n",
       "      <th>Zimbabwe</th>\n",
       "      <td>48.451</td>\n",
       "      <td>50.469</td>\n",
       "      <td>52.358</td>\n",
       "      <td>53.995</td>\n",
       "      <td>55.635</td>\n",
       "      <td>57.674</td>\n",
       "      <td>60.363</td>\n",
       "      <td>62.351</td>\n",
       "      <td>60.377</td>\n",
       "      <td>46.809</td>\n",
       "      <td>39.989</td>\n",
       "      <td>43.487</td>\n",
       "    </tr>\n",
       "  </tbody>\n",
       "</table>\n",
       "<p>142 rows × 12 columns</p>\n",
       "</div>"
      ],
      "text/plain": [
       "year                  1952    1957    1962    1967    1972    1977    1982  \\\n",
       "country                                                                      \n",
       "Afghanistan         28.801  30.332  31.997  34.020  36.088  38.438  39.854   \n",
       "Albania             55.230  59.280  64.820  66.220  67.690  68.930  70.420   \n",
       "Algeria             43.077  45.685  48.303  51.407  54.518  58.014  61.368   \n",
       "Angola              30.015  31.999  34.000  35.985  37.928  39.483  39.942   \n",
       "Argentina           62.485  64.399  65.142  65.634  67.065  68.481  69.942   \n",
       "...                    ...     ...     ...     ...     ...     ...     ...   \n",
       "Vietnam             40.412  42.887  45.363  47.838  50.254  55.764  58.816   \n",
       "West Bank and Gaza  43.160  45.671  48.127  51.631  56.532  60.765  64.406   \n",
       "Yemen, Rep.         32.548  33.970  35.180  36.984  39.848  44.175  49.113   \n",
       "Zambia              42.038  44.077  46.023  47.768  50.107  51.386  51.821   \n",
       "Zimbabwe            48.451  50.469  52.358  53.995  55.635  57.674  60.363   \n",
       "\n",
       "year                  1987    1992    1997    2002    2007  \n",
       "country                                                     \n",
       "Afghanistan         40.822  41.674  41.763  42.129  43.828  \n",
       "Albania             72.000  71.581  72.950  75.651  76.423  \n",
       "Algeria             65.799  67.744  69.152  70.994  72.301  \n",
       "Angola              39.906  40.647  40.963  41.003  42.731  \n",
       "Argentina           70.774  71.868  73.275  74.340  75.320  \n",
       "...                    ...     ...     ...     ...     ...  \n",
       "Vietnam             62.820  67.662  70.672  73.017  74.249  \n",
       "West Bank and Gaza  67.046  69.718  71.096  72.370  73.422  \n",
       "Yemen, Rep.         52.922  55.599  58.020  60.308  62.698  \n",
       "Zambia              50.821  46.100  40.238  39.193  42.384  \n",
       "Zimbabwe            62.351  60.377  46.809  39.989  43.487  \n",
       "\n",
       "[142 rows x 12 columns]"
      ]
     },
     "execution_count": 82,
     "metadata": {},
     "output_type": "execute_result"
    }
   ],
   "source": [
    "pd.pivot_table(data = gdp_lifeExp_data, values = 'lifeExp',index = 'country', columns ='year',aggfunc = lambda x:np.percentile(x,90))"
   ]
  },
  {
   "cell_type": "markdown",
   "metadata": {},
   "source": [
    "## [`crosstab()`](https://pandas.pydata.org/pandas-docs/stable/reference/api/pandas.crosstab.html)"
   ]
  },
  {
   "cell_type": "markdown",
   "metadata": {},
   "source": [
    "### Basic Usage of `crosstab()`\n",
    "\n",
    "The `crosstab()` method is a special case of a pivot table for computing group frequncies (or size of each group)."
   ]
  },
  {
   "cell_type": "code",
   "execution_count": 60,
   "metadata": {},
   "outputs": [
    {
     "data": {
      "text/html": [
       "<div>\n",
       "<style scoped>\n",
       "    .dataframe tbody tr th:only-of-type {\n",
       "        vertical-align: middle;\n",
       "    }\n",
       "\n",
       "    .dataframe tbody tr th {\n",
       "        vertical-align: top;\n",
       "    }\n",
       "\n",
       "    .dataframe thead th {\n",
       "        text-align: right;\n",
       "    }\n",
       "</style>\n",
       "<table border=\"1\" class=\"dataframe\">\n",
       "  <thead>\n",
       "    <tr style=\"text-align: right;\">\n",
       "      <th>col_0</th>\n",
       "      <th>count</th>\n",
       "    </tr>\n",
       "    <tr>\n",
       "      <th>continent</th>\n",
       "      <th></th>\n",
       "    </tr>\n",
       "  </thead>\n",
       "  <tbody>\n",
       "    <tr>\n",
       "      <th>Africa</th>\n",
       "      <td>624</td>\n",
       "    </tr>\n",
       "    <tr>\n",
       "      <th>Americas</th>\n",
       "      <td>300</td>\n",
       "    </tr>\n",
       "    <tr>\n",
       "      <th>Asia</th>\n",
       "      <td>396</td>\n",
       "    </tr>\n",
       "    <tr>\n",
       "      <th>Europe</th>\n",
       "      <td>360</td>\n",
       "    </tr>\n",
       "    <tr>\n",
       "      <th>Oceania</th>\n",
       "      <td>24</td>\n",
       "    </tr>\n",
       "  </tbody>\n",
       "</table>\n",
       "</div>"
      ],
      "text/plain": [
       "col_0      count\n",
       "continent       \n",
       "Africa       624\n",
       "Americas     300\n",
       "Asia         396\n",
       "Europe       360\n",
       "Oceania       24"
      ]
     },
     "execution_count": 60,
     "metadata": {},
     "output_type": "execute_result"
    }
   ],
   "source": [
    "# create a basic crosstab to see counts of countries in each continent\n",
    "pd.crosstab(gdp_lifeExp_data['continent'], columns='count')\n"
   ]
  },
  {
   "cell_type": "markdown",
   "metadata": {},
   "source": [
    "Use the `margins=True` argument to add totals (row and column margins) to the table. The `All` row and column provide totals for each age group and gender category."
   ]
  },
  {
   "cell_type": "code",
   "execution_count": 61,
   "metadata": {},
   "outputs": [
    {
     "data": {
      "text/html": [
       "<div>\n",
       "<style scoped>\n",
       "    .dataframe tbody tr th:only-of-type {\n",
       "        vertical-align: middle;\n",
       "    }\n",
       "\n",
       "    .dataframe tbody tr th {\n",
       "        vertical-align: top;\n",
       "    }\n",
       "\n",
       "    .dataframe thead th {\n",
       "        text-align: right;\n",
       "    }\n",
       "</style>\n",
       "<table border=\"1\" class=\"dataframe\">\n",
       "  <thead>\n",
       "    <tr style=\"text-align: right;\">\n",
       "      <th>year</th>\n",
       "      <th>1952</th>\n",
       "      <th>1957</th>\n",
       "      <th>1962</th>\n",
       "      <th>1967</th>\n",
       "      <th>1972</th>\n",
       "      <th>1977</th>\n",
       "      <th>1982</th>\n",
       "      <th>1987</th>\n",
       "      <th>1992</th>\n",
       "      <th>1997</th>\n",
       "      <th>2002</th>\n",
       "      <th>2007</th>\n",
       "      <th>All</th>\n",
       "    </tr>\n",
       "    <tr>\n",
       "      <th>continent</th>\n",
       "      <th></th>\n",
       "      <th></th>\n",
       "      <th></th>\n",
       "      <th></th>\n",
       "      <th></th>\n",
       "      <th></th>\n",
       "      <th></th>\n",
       "      <th></th>\n",
       "      <th></th>\n",
       "      <th></th>\n",
       "      <th></th>\n",
       "      <th></th>\n",
       "      <th></th>\n",
       "    </tr>\n",
       "  </thead>\n",
       "  <tbody>\n",
       "    <tr>\n",
       "      <th>Africa</th>\n",
       "      <td>52</td>\n",
       "      <td>52</td>\n",
       "      <td>52</td>\n",
       "      <td>52</td>\n",
       "      <td>52</td>\n",
       "      <td>52</td>\n",
       "      <td>52</td>\n",
       "      <td>52</td>\n",
       "      <td>52</td>\n",
       "      <td>52</td>\n",
       "      <td>52</td>\n",
       "      <td>52</td>\n",
       "      <td>624</td>\n",
       "    </tr>\n",
       "    <tr>\n",
       "      <th>Americas</th>\n",
       "      <td>25</td>\n",
       "      <td>25</td>\n",
       "      <td>25</td>\n",
       "      <td>25</td>\n",
       "      <td>25</td>\n",
       "      <td>25</td>\n",
       "      <td>25</td>\n",
       "      <td>25</td>\n",
       "      <td>25</td>\n",
       "      <td>25</td>\n",
       "      <td>25</td>\n",
       "      <td>25</td>\n",
       "      <td>300</td>\n",
       "    </tr>\n",
       "    <tr>\n",
       "      <th>Asia</th>\n",
       "      <td>33</td>\n",
       "      <td>33</td>\n",
       "      <td>33</td>\n",
       "      <td>33</td>\n",
       "      <td>33</td>\n",
       "      <td>33</td>\n",
       "      <td>33</td>\n",
       "      <td>33</td>\n",
       "      <td>33</td>\n",
       "      <td>33</td>\n",
       "      <td>33</td>\n",
       "      <td>33</td>\n",
       "      <td>396</td>\n",
       "    </tr>\n",
       "    <tr>\n",
       "      <th>Europe</th>\n",
       "      <td>30</td>\n",
       "      <td>30</td>\n",
       "      <td>30</td>\n",
       "      <td>30</td>\n",
       "      <td>30</td>\n",
       "      <td>30</td>\n",
       "      <td>30</td>\n",
       "      <td>30</td>\n",
       "      <td>30</td>\n",
       "      <td>30</td>\n",
       "      <td>30</td>\n",
       "      <td>30</td>\n",
       "      <td>360</td>\n",
       "    </tr>\n",
       "    <tr>\n",
       "      <th>Oceania</th>\n",
       "      <td>2</td>\n",
       "      <td>2</td>\n",
       "      <td>2</td>\n",
       "      <td>2</td>\n",
       "      <td>2</td>\n",
       "      <td>2</td>\n",
       "      <td>2</td>\n",
       "      <td>2</td>\n",
       "      <td>2</td>\n",
       "      <td>2</td>\n",
       "      <td>2</td>\n",
       "      <td>2</td>\n",
       "      <td>24</td>\n",
       "    </tr>\n",
       "    <tr>\n",
       "      <th>All</th>\n",
       "      <td>142</td>\n",
       "      <td>142</td>\n",
       "      <td>142</td>\n",
       "      <td>142</td>\n",
       "      <td>142</td>\n",
       "      <td>142</td>\n",
       "      <td>142</td>\n",
       "      <td>142</td>\n",
       "      <td>142</td>\n",
       "      <td>142</td>\n",
       "      <td>142</td>\n",
       "      <td>142</td>\n",
       "      <td>1704</td>\n",
       "    </tr>\n",
       "  </tbody>\n",
       "</table>\n",
       "</div>"
      ],
      "text/plain": [
       "year       1952  1957  1962  1967  1972  1977  1982  1987  1992  1997  2002  \\\n",
       "continent                                                                     \n",
       "Africa       52    52    52    52    52    52    52    52    52    52    52   \n",
       "Americas     25    25    25    25    25    25    25    25    25    25    25   \n",
       "Asia         33    33    33    33    33    33    33    33    33    33    33   \n",
       "Europe       30    30    30    30    30    30    30    30    30    30    30   \n",
       "Oceania       2     2     2     2     2     2     2     2     2     2     2   \n",
       "All         142   142   142   142   142   142   142   142   142   142   142   \n",
       "\n",
       "year       2007   All  \n",
       "continent              \n",
       "Africa       52   624  \n",
       "Americas     25   300  \n",
       "Asia         33   396  \n",
       "Europe       30   360  \n",
       "Oceania       2    24  \n",
       "All         142  1704  "
      ]
     },
     "execution_count": 61,
     "metadata": {},
     "output_type": "execute_result"
    }
   ],
   "source": [
    "# create a crosstab to see counts of countries in each continent and year\n",
    "pd.crosstab(gdp_lifeExp_data['continent'], gdp_lifeExp_data['year'], margins=True)"
   ]
  },
  {
   "cell_type": "markdown",
   "metadata": {},
   "source": [
    "This table shows the count of each year in each continent group, helping us understand the year distribution across different continent groups.  We may often use it to check if the data is representative of all groups that are of interest to us."
   ]
  },
  {
   "cell_type": "markdown",
   "metadata": {},
   "source": [
    "### Using `crosstab()` with Aggregation Functions\n",
    "\n",
    "You can specify a `values` column and an aggregation function (`aggfunc`) to summarize numerical data for each combination of categorical variables."
   ]
  },
  {
   "cell_type": "markdown",
   "metadata": {},
   "source": [
    "**Example:** find the mean life expectancy for  each continent and year"
   ]
  },
  {
   "cell_type": "code",
   "execution_count": 62,
   "metadata": {},
   "outputs": [
    {
     "data": {
      "text/html": [
       "<div>\n",
       "<style scoped>\n",
       "    .dataframe tbody tr th:only-of-type {\n",
       "        vertical-align: middle;\n",
       "    }\n",
       "\n",
       "    .dataframe tbody tr th {\n",
       "        vertical-align: top;\n",
       "    }\n",
       "\n",
       "    .dataframe thead th {\n",
       "        text-align: right;\n",
       "    }\n",
       "</style>\n",
       "<table border=\"1\" class=\"dataframe\">\n",
       "  <thead>\n",
       "    <tr style=\"text-align: right;\">\n",
       "      <th>year</th>\n",
       "      <th>1952</th>\n",
       "      <th>1957</th>\n",
       "      <th>1962</th>\n",
       "      <th>1967</th>\n",
       "      <th>1972</th>\n",
       "      <th>1977</th>\n",
       "      <th>1982</th>\n",
       "      <th>1987</th>\n",
       "      <th>1992</th>\n",
       "      <th>1997</th>\n",
       "      <th>2002</th>\n",
       "      <th>2007</th>\n",
       "    </tr>\n",
       "    <tr>\n",
       "      <th>continent</th>\n",
       "      <th></th>\n",
       "      <th></th>\n",
       "      <th></th>\n",
       "      <th></th>\n",
       "      <th></th>\n",
       "      <th></th>\n",
       "      <th></th>\n",
       "      <th></th>\n",
       "      <th></th>\n",
       "      <th></th>\n",
       "      <th></th>\n",
       "      <th></th>\n",
       "    </tr>\n",
       "  </thead>\n",
       "  <tbody>\n",
       "    <tr>\n",
       "      <th>Africa</th>\n",
       "      <td>39.135500</td>\n",
       "      <td>41.266346</td>\n",
       "      <td>43.319442</td>\n",
       "      <td>45.334538</td>\n",
       "      <td>47.450942</td>\n",
       "      <td>49.580423</td>\n",
       "      <td>51.592865</td>\n",
       "      <td>53.344788</td>\n",
       "      <td>53.629577</td>\n",
       "      <td>53.598269</td>\n",
       "      <td>53.325231</td>\n",
       "      <td>54.806038</td>\n",
       "    </tr>\n",
       "    <tr>\n",
       "      <th>Americas</th>\n",
       "      <td>53.279840</td>\n",
       "      <td>55.960280</td>\n",
       "      <td>58.398760</td>\n",
       "      <td>60.410920</td>\n",
       "      <td>62.394920</td>\n",
       "      <td>64.391560</td>\n",
       "      <td>66.228840</td>\n",
       "      <td>68.090720</td>\n",
       "      <td>69.568360</td>\n",
       "      <td>71.150480</td>\n",
       "      <td>72.422040</td>\n",
       "      <td>73.608120</td>\n",
       "    </tr>\n",
       "    <tr>\n",
       "      <th>Asia</th>\n",
       "      <td>46.314394</td>\n",
       "      <td>49.318544</td>\n",
       "      <td>51.563223</td>\n",
       "      <td>54.663640</td>\n",
       "      <td>57.319269</td>\n",
       "      <td>59.610556</td>\n",
       "      <td>62.617939</td>\n",
       "      <td>64.851182</td>\n",
       "      <td>66.537212</td>\n",
       "      <td>68.020515</td>\n",
       "      <td>69.233879</td>\n",
       "      <td>70.728485</td>\n",
       "    </tr>\n",
       "    <tr>\n",
       "      <th>Europe</th>\n",
       "      <td>64.408500</td>\n",
       "      <td>66.703067</td>\n",
       "      <td>68.539233</td>\n",
       "      <td>69.737600</td>\n",
       "      <td>70.775033</td>\n",
       "      <td>71.937767</td>\n",
       "      <td>72.806400</td>\n",
       "      <td>73.642167</td>\n",
       "      <td>74.440100</td>\n",
       "      <td>75.505167</td>\n",
       "      <td>76.700600</td>\n",
       "      <td>77.648600</td>\n",
       "    </tr>\n",
       "    <tr>\n",
       "      <th>Oceania</th>\n",
       "      <td>69.255000</td>\n",
       "      <td>70.295000</td>\n",
       "      <td>71.085000</td>\n",
       "      <td>71.310000</td>\n",
       "      <td>71.910000</td>\n",
       "      <td>72.855000</td>\n",
       "      <td>74.290000</td>\n",
       "      <td>75.320000</td>\n",
       "      <td>76.945000</td>\n",
       "      <td>78.190000</td>\n",
       "      <td>79.740000</td>\n",
       "      <td>80.719500</td>\n",
       "    </tr>\n",
       "  </tbody>\n",
       "</table>\n",
       "</div>"
      ],
      "text/plain": [
       "year            1952       1957       1962       1967       1972       1977  \\\n",
       "continent                                                                     \n",
       "Africa     39.135500  41.266346  43.319442  45.334538  47.450942  49.580423   \n",
       "Americas   53.279840  55.960280  58.398760  60.410920  62.394920  64.391560   \n",
       "Asia       46.314394  49.318544  51.563223  54.663640  57.319269  59.610556   \n",
       "Europe     64.408500  66.703067  68.539233  69.737600  70.775033  71.937767   \n",
       "Oceania    69.255000  70.295000  71.085000  71.310000  71.910000  72.855000   \n",
       "\n",
       "year            1982       1987       1992       1997       2002       2007  \n",
       "continent                                                                    \n",
       "Africa     51.592865  53.344788  53.629577  53.598269  53.325231  54.806038  \n",
       "Americas   66.228840  68.090720  69.568360  71.150480  72.422040  73.608120  \n",
       "Asia       62.617939  64.851182  66.537212  68.020515  69.233879  70.728485  \n",
       "Europe     72.806400  73.642167  74.440100  75.505167  76.700600  77.648600  \n",
       "Oceania    74.290000  75.320000  76.945000  78.190000  79.740000  80.719500  "
      ]
     },
     "execution_count": 62,
     "metadata": {},
     "output_type": "execute_result"
    }
   ],
   "source": [
    "# find the mean life expectancy for each country in each continent and year\n",
    "pd.crosstab(gdp_lifeExp_data['continent'], gdp_lifeExp_data['year'], values=gdp_lifeExp_data['lifeExp'], aggfunc='mean')"
   ]
  },
  {
   "cell_type": "markdown",
   "metadata": {},
   "source": [
    "## Independent Study"
   ]
  },
  {
   "cell_type": "markdown",
   "metadata": {},
   "source": [
    "### Practice exercise 1"
   ]
  },
  {
   "cell_type": "markdown",
   "metadata": {},
   "source": [
    "Read the table consisting of GDP per capita of countries from the webpage: https://en.wikipedia.org/wiki/List_of_countries_by_GDP_(nominal)_per_capita . \n",
    "\n",
    "To only read the relevant table, read the tables that contain the word *'Country'*. "
   ]
  },
  {
   "cell_type": "markdown",
   "metadata": {},
   "source": [
    "Estimate the GDP per capita of each country as the average of the estimates of the three agencies - IMF, United Nations and World Bank.\n",
    "\n",
    "We need to do a bit of data cleaning before we could directly use the `groupby()` function. Follow the steps below:\n",
    "\n",
    "\n",
    "1. Drop the \"Year\" column\n",
    "2. Drop the level 1 column name (innermost level column)\n",
    "3. Apply the following function on all the columns of the \"Estimate\" to convert them to numeric: `f = lambda x:pd.to_numeric(x,errors = 'coerce')`\n",
    "4. Set the Country/Territory column as the index\n",
    "5. Convert all other columns into numeric and coerce errors using 'errors='coerce'`\n",
    "6. Drop rows with NaN values\n",
    "7. Find the average GDP per capital across the three agencies"
   ]
  },
  {
   "cell_type": "code",
   "execution_count": 94,
   "metadata": {},
   "outputs": [
    {
     "data": {
      "text/html": [
       "<div>\n",
       "<style scoped>\n",
       "    .dataframe tbody tr th:only-of-type {\n",
       "        vertical-align: middle;\n",
       "    }\n",
       "\n",
       "    .dataframe tbody tr th {\n",
       "        vertical-align: top;\n",
       "    }\n",
       "\n",
       "    .dataframe thead tr th {\n",
       "        text-align: left;\n",
       "    }\n",
       "</style>\n",
       "<table border=\"1\" class=\"dataframe\">\n",
       "  <thead>\n",
       "    <tr>\n",
       "      <th></th>\n",
       "      <th>Country/Territory</th>\n",
       "      <th colspan=\"2\" halign=\"left\">IMF[4][5]</th>\n",
       "      <th colspan=\"2\" halign=\"left\">World Bank[6]</th>\n",
       "      <th colspan=\"2\" halign=\"left\">United Nations[7]</th>\n",
       "    </tr>\n",
       "    <tr>\n",
       "      <th></th>\n",
       "      <th>Country/Territory</th>\n",
       "      <th>Estimate</th>\n",
       "      <th>Year</th>\n",
       "      <th>Estimate</th>\n",
       "      <th>Year</th>\n",
       "      <th>Estimate</th>\n",
       "      <th>Year</th>\n",
       "    </tr>\n",
       "  </thead>\n",
       "  <tbody>\n",
       "    <tr>\n",
       "      <th>0</th>\n",
       "      <td>Monaco</td>\n",
       "      <td>—</td>\n",
       "      <td>—</td>\n",
       "      <td>240862</td>\n",
       "      <td>2022</td>\n",
       "      <td>240535</td>\n",
       "      <td>2022</td>\n",
       "    </tr>\n",
       "    <tr>\n",
       "      <th>1</th>\n",
       "      <td>Liechtenstein</td>\n",
       "      <td>—</td>\n",
       "      <td>—</td>\n",
       "      <td>187267</td>\n",
       "      <td>2022</td>\n",
       "      <td>197268</td>\n",
       "      <td>2022</td>\n",
       "    </tr>\n",
       "    <tr>\n",
       "      <th>2</th>\n",
       "      <td>Luxembourg</td>\n",
       "      <td>135321</td>\n",
       "      <td>2024</td>\n",
       "      <td>128259</td>\n",
       "      <td>2023</td>\n",
       "      <td>125897</td>\n",
       "      <td>2022</td>\n",
       "    </tr>\n",
       "    <tr>\n",
       "      <th>3</th>\n",
       "      <td>Bermuda</td>\n",
       "      <td>—</td>\n",
       "      <td>—</td>\n",
       "      <td>123091</td>\n",
       "      <td>2022</td>\n",
       "      <td>117568</td>\n",
       "      <td>2022</td>\n",
       "    </tr>\n",
       "    <tr>\n",
       "      <th>4</th>\n",
       "      <td>Switzerland</td>\n",
       "      <td>106098</td>\n",
       "      <td>2024</td>\n",
       "      <td>99995</td>\n",
       "      <td>2023</td>\n",
       "      <td>93636</td>\n",
       "      <td>2022</td>\n",
       "    </tr>\n",
       "  </tbody>\n",
       "</table>\n",
       "</div>"
      ],
      "text/plain": [
       "  Country/Territory IMF[4][5]       World Bank[6]       United Nations[7]  \\\n",
       "  Country/Territory  Estimate  Year      Estimate  Year          Estimate   \n",
       "0            Monaco         —     —        240862  2022            240535   \n",
       "1     Liechtenstein         —     —        187267  2022            197268   \n",
       "2        Luxembourg    135321  2024        128259  2023            125897   \n",
       "3           Bermuda         —     —        123091  2022            117568   \n",
       "4       Switzerland    106098  2024         99995  2023             93636   \n",
       "\n",
       "         \n",
       "   Year  \n",
       "0  2022  \n",
       "1  2022  \n",
       "2  2022  \n",
       "3  2022  \n",
       "4  2022  "
      ]
     },
     "execution_count": 94,
     "metadata": {},
     "output_type": "execute_result"
    }
   ],
   "source": [
    "dfs = pd.read_html('https://en.wikipedia.org/wiki/List_of_countries_by_GDP_(nominal)_per_capita', match = 'Country')\n",
    "gdp_data  = dfs[0]\n",
    "gdp_data.head()"
   ]
  },
  {
   "cell_type": "code",
   "execution_count": 106,
   "metadata": {},
   "outputs": [
    {
     "data": {
      "text/html": [
       "<div>\n",
       "<style scoped>\n",
       "    .dataframe tbody tr th:only-of-type {\n",
       "        vertical-align: middle;\n",
       "    }\n",
       "\n",
       "    .dataframe tbody tr th {\n",
       "        vertical-align: top;\n",
       "    }\n",
       "\n",
       "    .dataframe thead th {\n",
       "        text-align: right;\n",
       "    }\n",
       "</style>\n",
       "<table border=\"1\" class=\"dataframe\">\n",
       "  <thead>\n",
       "    <tr style=\"text-align: right;\">\n",
       "      <th></th>\n",
       "      <th>Country/Territory</th>\n",
       "      <th>IMF</th>\n",
       "      <th>World Bank</th>\n",
       "      <th>United Nations</th>\n",
       "    </tr>\n",
       "  </thead>\n",
       "  <tbody>\n",
       "    <tr>\n",
       "      <th>0</th>\n",
       "      <td>Monaco</td>\n",
       "      <td>—</td>\n",
       "      <td>240862</td>\n",
       "      <td>240535</td>\n",
       "    </tr>\n",
       "    <tr>\n",
       "      <th>1</th>\n",
       "      <td>Liechtenstein</td>\n",
       "      <td>—</td>\n",
       "      <td>187267</td>\n",
       "      <td>197268</td>\n",
       "    </tr>\n",
       "    <tr>\n",
       "      <th>2</th>\n",
       "      <td>Luxembourg</td>\n",
       "      <td>135321</td>\n",
       "      <td>128259</td>\n",
       "      <td>125897</td>\n",
       "    </tr>\n",
       "    <tr>\n",
       "      <th>3</th>\n",
       "      <td>Bermuda</td>\n",
       "      <td>—</td>\n",
       "      <td>123091</td>\n",
       "      <td>117568</td>\n",
       "    </tr>\n",
       "    <tr>\n",
       "      <th>4</th>\n",
       "      <td>Switzerland</td>\n",
       "      <td>106098</td>\n",
       "      <td>99995</td>\n",
       "      <td>93636</td>\n",
       "    </tr>\n",
       "  </tbody>\n",
       "</table>\n",
       "</div>"
      ],
      "text/plain": [
       "  Country/Territory     IMF World Bank United Nations\n",
       "0            Monaco       —     240862         240535\n",
       "1     Liechtenstein       —     187267         197268\n",
       "2        Luxembourg  135321     128259         125897\n",
       "3           Bermuda       —     123091         117568\n",
       "4       Switzerland  106098      99995          93636"
      ]
     },
     "execution_count": 106,
     "metadata": {},
     "output_type": "execute_result"
    }
   ],
   "source": [
    "# Flatten the MultiIndex to access column names\n",
    "gdp_data.columns = [' '.join(col).strip() if isinstance(col, tuple) else col for col in gdp_data.columns]\n",
    "\n",
    "# Drop all columns containing \"Year\"\n",
    "gdp_data = gdp_data.loc[:, ~gdp_data.columns.str.contains('Year', case=False)]\n",
    "\n",
    "gdp_data = gdp_data.rename(columns={\"Country/Territory Country/Territory\": \"Country/Territory\"})\n",
    "\n",
    "gdp_data.head()"
   ]
  },
  {
   "cell_type": "code",
   "execution_count": 107,
   "metadata": {},
   "outputs": [
    {
     "data": {
      "text/html": [
       "<div>\n",
       "<style scoped>\n",
       "    .dataframe tbody tr th:only-of-type {\n",
       "        vertical-align: middle;\n",
       "    }\n",
       "\n",
       "    .dataframe tbody tr th {\n",
       "        vertical-align: top;\n",
       "    }\n",
       "\n",
       "    .dataframe thead th {\n",
       "        text-align: right;\n",
       "    }\n",
       "</style>\n",
       "<table border=\"1\" class=\"dataframe\">\n",
       "  <thead>\n",
       "    <tr style=\"text-align: right;\">\n",
       "      <th></th>\n",
       "      <th>Country/Territory</th>\n",
       "      <th>IMF</th>\n",
       "      <th>World Bank</th>\n",
       "      <th>United Nations</th>\n",
       "    </tr>\n",
       "  </thead>\n",
       "  <tbody>\n",
       "    <tr>\n",
       "      <th>0</th>\n",
       "      <td>Monaco</td>\n",
       "      <td>—</td>\n",
       "      <td>240862</td>\n",
       "      <td>240535</td>\n",
       "    </tr>\n",
       "    <tr>\n",
       "      <th>1</th>\n",
       "      <td>Liechtenstein</td>\n",
       "      <td>—</td>\n",
       "      <td>187267</td>\n",
       "      <td>197268</td>\n",
       "    </tr>\n",
       "    <tr>\n",
       "      <th>2</th>\n",
       "      <td>Luxembourg</td>\n",
       "      <td>135321</td>\n",
       "      <td>128259</td>\n",
       "      <td>125897</td>\n",
       "    </tr>\n",
       "    <tr>\n",
       "      <th>3</th>\n",
       "      <td>Bermuda</td>\n",
       "      <td>—</td>\n",
       "      <td>123091</td>\n",
       "      <td>117568</td>\n",
       "    </tr>\n",
       "    <tr>\n",
       "      <th>4</th>\n",
       "      <td>Switzerland</td>\n",
       "      <td>106098</td>\n",
       "      <td>99995</td>\n",
       "      <td>93636</td>\n",
       "    </tr>\n",
       "  </tbody>\n",
       "</table>\n",
       "</div>"
      ],
      "text/plain": [
       "  Country/Territory     IMF World Bank United Nations\n",
       "0            Monaco       —     240862         240535\n",
       "1     Liechtenstein       —     187267         197268\n",
       "2        Luxembourg  135321     128259         125897\n",
       "3           Bermuda       —     123091         117568\n",
       "4       Switzerland  106098      99995          93636"
      ]
     },
     "execution_count": 107,
     "metadata": {},
     "output_type": "execute_result"
    }
   ],
   "source": [
    "import re\n",
    "column_name_cleaner = lambda x:re.split(r'\\[', x)[0]\n",
    "\n",
    "gdp_data.columns = gdp_data.columns.map(column_name_cleaner)\n",
    "gdp_data.head()"
   ]
  },
  {
   "cell_type": "code",
   "execution_count": 108,
   "metadata": {},
   "outputs": [
    {
     "data": {
      "text/html": [
       "<div>\n",
       "<style scoped>\n",
       "    .dataframe tbody tr th:only-of-type {\n",
       "        vertical-align: middle;\n",
       "    }\n",
       "\n",
       "    .dataframe tbody tr th {\n",
       "        vertical-align: top;\n",
       "    }\n",
       "\n",
       "    .dataframe thead th {\n",
       "        text-align: right;\n",
       "    }\n",
       "</style>\n",
       "<table border=\"1\" class=\"dataframe\">\n",
       "  <thead>\n",
       "    <tr style=\"text-align: right;\">\n",
       "      <th></th>\n",
       "      <th>IMF</th>\n",
       "      <th>World Bank</th>\n",
       "      <th>United Nations</th>\n",
       "      <th>Average GDP per capita</th>\n",
       "    </tr>\n",
       "    <tr>\n",
       "      <th>Country/Territory</th>\n",
       "      <th></th>\n",
       "      <th></th>\n",
       "      <th></th>\n",
       "      <th></th>\n",
       "    </tr>\n",
       "  </thead>\n",
       "  <tbody>\n",
       "    <tr>\n",
       "      <th>Luxembourg</th>\n",
       "      <td>135321.0</td>\n",
       "      <td>128259.0</td>\n",
       "      <td>125897.0</td>\n",
       "      <td>129825.666667</td>\n",
       "    </tr>\n",
       "    <tr>\n",
       "      <th>Switzerland</th>\n",
       "      <td>106098.0</td>\n",
       "      <td>99995.0</td>\n",
       "      <td>93636.0</td>\n",
       "      <td>99909.666667</td>\n",
       "    </tr>\n",
       "    <tr>\n",
       "      <th>Ireland</th>\n",
       "      <td>103500.0</td>\n",
       "      <td>103685.0</td>\n",
       "      <td>105993.0</td>\n",
       "      <td>104392.666667</td>\n",
       "    </tr>\n",
       "    <tr>\n",
       "      <th>Norway</th>\n",
       "      <td>90434.0</td>\n",
       "      <td>87962.0</td>\n",
       "      <td>106623.0</td>\n",
       "      <td>95006.333333</td>\n",
       "    </tr>\n",
       "    <tr>\n",
       "      <th>Singapore</th>\n",
       "      <td>89370.0</td>\n",
       "      <td>84734.0</td>\n",
       "      <td>78115.0</td>\n",
       "      <td>84073.000000</td>\n",
       "    </tr>\n",
       "  </tbody>\n",
       "</table>\n",
       "</div>"
      ],
      "text/plain": [
       "                        IMF  World Bank  United Nations  \\\n",
       "Country/Territory                                         \n",
       "Luxembourg         135321.0    128259.0        125897.0   \n",
       "Switzerland        106098.0     99995.0         93636.0   \n",
       "Ireland            103500.0    103685.0        105993.0   \n",
       "Norway              90434.0     87962.0        106623.0   \n",
       "Singapore           89370.0     84734.0         78115.0   \n",
       "\n",
       "                   Average GDP per capita  \n",
       "Country/Territory                          \n",
       "Luxembourg                  129825.666667  \n",
       "Switzerland                  99909.666667  \n",
       "Ireland                     104392.666667  \n",
       "Norway                       95006.333333  \n",
       "Singapore                    84073.000000  "
      ]
     },
     "execution_count": 108,
     "metadata": {},
     "output_type": "execute_result"
    }
   ],
   "source": [
    "# set the country column as the index\n",
    "gdp_data.set_index('Country/Territory', inplace=True)\n",
    "\n",
    "# convert all other columns into numeric and coerce errors\n",
    "gdp_data = gdp_data.apply(pd.to_numeric, errors='coerce')\n",
    "\n",
    "# drop rows with NaN values\n",
    "gdp_data.dropna(inplace=True)\n",
    "\n",
    "#find the average GDP per capita\n",
    "gdp_data['Average GDP per capita'] = gdp_data.mean(axis=1)\n",
    "gdp_data.head()"
   ]
  },
  {
   "cell_type": "markdown",
   "metadata": {},
   "source": [
    "### Practice exercise 2"
   ]
  },
  {
   "cell_type": "markdown",
   "metadata": {},
   "source": [
    "Read the spotify dataset from `spotify_data.csv` that contains information about tracks and artists"
   ]
  },
  {
   "cell_type": "markdown",
   "metadata": {},
   "source": [
    "####\n",
    "Find the mean and standard deviation of the track popularity for each genre."
   ]
  },
  {
   "cell_type": "markdown",
   "metadata": {},
   "source": [
    "####\n",
    "Create a new categorical column, `energy_lvl`, with two levels – 'Low energy' and 'High energy' – using equal-sized bins based on the track’s energy level. Then, calculate the mean, standard deviation, and 90th percentile of track popularity for each genre and energy level combination"
   ]
  },
  {
   "cell_type": "markdown",
   "metadata": {},
   "source": [
    "####\n",
    "Find the mean and standard deviation of track popularity and danceability for each genre and energy level. What insights you can gain from the generated table"
   ]
  },
  {
   "cell_type": "markdown",
   "metadata": {},
   "source": [
    "####\n",
    "For each genre and energy level, find the mean and standard deviation of the track popularity, and the minimum and maximum values of loudness."
   ]
  },
  {
   "cell_type": "markdown",
   "metadata": {},
   "source": [
    "####\n",
    "Find the most popular artist from each genre."
   ]
  },
  {
   "cell_type": "markdown",
   "metadata": {},
   "source": [
    "####\n",
    "Filter the first 4 columns of the spotify dataset. Drop duplicate observartions in the resulting dataset using the Pandas DataFrame method [`drop_duplicates()`](https://pandas.pydata.org/docs/reference/api/pandas.DataFrame.drop_duplicates.html). Find the top 3 most popular artists for each genre."
   ]
  },
  {
   "cell_type": "markdown",
   "metadata": {},
   "source": [
    "####\n",
    "The spotify dataset has more than 200k observations. It may be expensive to operate with so many observations. Take a random sample of 650 observations to analyze spotify data, such that all genres are equally represented."
   ]
  },
  {
   "cell_type": "markdown",
   "metadata": {},
   "source": [
    "####\n",
    "Find the correlation between `danceability` and `track popularity` for each genre-energy level combination.\n"
   ]
  },
  {
   "cell_type": "markdown",
   "metadata": {},
   "source": [
    "####\n",
    "\n",
    "Find the mean of track popularity for each genre-energy lvl combination such that each row corresponds to a genre, and the energy levels correspond to columns.\n",
    "\n",
    "Hints: using `pivot_table()`"
   ]
  },
  {
   "cell_type": "markdown",
   "metadata": {},
   "source": [
    "####\n",
    "\n",
    "Find the $90^{th}$ percentile of track popularity for each genre-energy lvl combination such that each row corresponds to a genre, and the energy levels correspond to columns.\n",
    "\n",
    "Hints: using `pivot_table()`"
   ]
  },
  {
   "cell_type": "markdown",
   "metadata": {},
   "source": [
    "####\n",
    "Find the number of observations in each group, where each groups corresponds to a distinct genre-energy lvl combination"
   ]
  },
  {
   "cell_type": "markdown",
   "metadata": {},
   "source": [
    "####\n",
    "Find the percentage of observations in each group of the above table."
   ]
  },
  {
   "cell_type": "markdown",
   "metadata": {},
   "source": [
    "####\n",
    "What percentage of unique tracks are contributed by the top 5 artists of each genre?\n",
    "\n",
    "**Hint:** Find the top 5 artists based on `artist_popularity` for each genre. Count the total number of unique tracks (`track_name`) contributed by these artists. Divide this number by the total number of unique tracks in the data. The `nunique()` function will be useful."
   ]
  },
  {
   "cell_type": "markdown",
   "metadata": {},
   "source": []
  }
 ],
 "metadata": {
  "kernelspec": {
   "display_name": "base",
   "language": "python",
   "name": "python3"
  },
  "language_info": {
   "codemirror_mode": {
    "name": "ipython",
    "version": 3
   },
   "file_extension": ".py",
   "mimetype": "text/x-python",
   "name": "python",
   "nbconvert_exporter": "python",
   "pygments_lexer": "ipython3",
   "version": "3.12.4"
  }
 },
 "nbformat": 4,
 "nbformat_minor": 2
}
