{
 "cells": [
  {
   "cell_type": "raw",
   "metadata": {
    "vscode": {
     "languageId": "raw"
    }
   },
   "source": [
    "---\n",
    "title: \"Setting up your environment with VS Code\"\n",
    "format:\n",
    "  html:\n",
    "    toc: true\n",
    "    toc-title: Contents\n",
    "    toc-depth: 4\n",
    "    code-fold: show\n",
    "    self-contained: false\n",
    "    html-math-method: mathml\n",
    "jupyter: python3\n",
    "---"
   ]
  },
  {
   "cell_type": "code",
   "execution_count": 6,
   "metadata": {},
   "outputs": [
    {
     "data": {
      "text/html": [
       "<img src=\"./images/vscode_python.webp\" width=\"300\" height=\"180\"/>"
      ],
      "text/plain": [
       "<IPython.core.display.Image object>"
      ]
     },
     "execution_count": 6,
     "metadata": {},
     "output_type": "execute_result"
    }
   ],
   "source": [
    "#| echo: false\n",
    "\n",
    "# import image module\n",
    "from IPython.display import Image\n",
    "\n",
    "# get the image\n",
    "Image(url=\"./images/vscode_python.webp\",width=300, height=180)"
   ]
  },
  {
   "cell_type": "markdown",
   "metadata": {},
   "source": [
    "## Learning Objectives\n",
    "\n",
    "By completing this lecture, you will be able to:\n",
    "\n",
    "- Set up your Python coding environment with VS Code.  \n",
    "- Create and manage Python virtual environments using both `pip` and `conda`.  \n",
    "- Install and verify packages within these environments.  \n",
    "- Export and recreate environments using environment files.  \n",
    "- Use Jupyter Notebook for data science tasks in VS Code.\n"
   ]
  },
  {
   "cell_type": "markdown",
   "metadata": {},
   "source": [
    "## Introduction to Visual Studio Code (VS Code)\n",
    "\n",
    "**Visual Studio Code (VS Code)** is a free, open-source, and lightweight code editor developed by Microsoft. It's widely used for coding, debugging, and working with **various programming languages** and frameworks. Here’s an overview of its key features and functionalities:\n",
    "\n",
    "###  Core Features\n",
    "- **Multi-language Support:** VS Code supports a wide range of programming languages out of the box, including Python, JavaScript, TypeScript, HTML, CSS, and more. Additional language support can be added via extensions.\n",
    "- **Extensibility:** The editor has a rich ecosystem of extensions available through the Visual Studio Code Marketplace. These extensions add support for additional programming languages, themes, debuggers, and tools like Git integration.\n",
    "- **IntelliSense:** Provides intelligent code completion, parameter info, quick info, and code navigation for many languages, enhancing productivity and reducing errors.\n",
    "- **Integrated Terminal:** Allows you to run command-line tools directly from the editor, making it easy to execute scripts, install packages, and more without leaving the coding environment.\n",
    "- **Version Control Integration:** Seamless integration with Git and other version control systems, allowing you to manage source code repositories, stage changes, commit, and view diffs within the editor.\n",
    "- **Debugging:** Supports debugging with breakpoints, call stacks, and an interactive console for various languages and frameworks.\n",
    "\n",
    "###  User Interface\n",
    "- **Editor:** The main area to edit your files. You can open as many editors as you like side by side vertically and horizontally.\n",
    "- **Primary Side Bar:** Contains different views like the Explorer to assist you while working on your project.\n",
    "- **Activity Bar:** Located on the far left-hand side. Lets you switch between views and gives you additional context-specific indicators, like the number of outgoing changes when Git is enabled. You can change the position of the Activity Bar.\n",
    "- **Panel:** An additional space for views below the editor region. By default, it contains output, debug information, errors and warnings, and an integrated terminal. The Panel can also be moved to the left or right for more vertical space.\n",
    "\n",
    "![Alt Text](images/vscode_interface.png)\n",
    "\n",
    "- **Command Palette:** Accessed with `Ctrl+Shift+P` (or `Cmd+Shift+P` on macOS), it provides a quick way to execute commands, switch themes, change settings, and more.\n",
    "\n",
    "![Alt Text](images/command-palette.png)\n",
    "\n",
    "###  Extensions\n",
    "- **Language Extensions:** Add support for additional languages such as Rust, Go, C++, and more.\n",
    "- **Linters and Formatters:** Extensions like ESLint, Prettier, and Pylint help with code quality and formatting.\n",
    "- **Development Tools:** Extensions for Docker, Kubernetes, database management, and more.\n",
    "- **Productivity Tools:** Extensions for snippets, file explorers, and workflow enhancements.\n",
    "\n",
    "![Alt Text](images/extensions.png)\n",
    "\n",
    "###  Use Cases\n",
    "- **Web Development:** VS Code is popular among web developers for its robust support for HTML, CSS, JavaScript, and front-end frameworks like React, Angular, and Vue.\n",
    "- **Python Development:** With the Python extension, it provides features like IntelliSense, debugging, linting, and Jupyter Notebook support.\n",
    "- **Data Science:** Supports Jupyter notebooks, allowing data scientists to write and run Python code interactively.\n",
    "- **DevOps and Scripting:** Useful for writing and debugging scripts in languages like PowerShell, Bash, and YAML for CI/CD pipelines.\n",
    "\n",
    "###  Cross-Platform\n",
    "- Available on Windows, macOS, and Linux, making it accessible to developers across different operating systems.\n",
    "\n",
    "Overall, VS Code is a versatile and powerful tool for a wide range of development activities, from simple scripting to complex software projects.\n",
    "\n"
   ]
  },
  {
   "cell_type": "markdown",
   "metadata": {},
   "source": [
    "##  Installing Visual Studio Code\n",
    "\n",
    "* Step 1: **Download VS Code:**\n",
    "  - Go to the [official VS Code website](https://code.visualstudio.com/) and download the installer for your operating system.\n",
    "\n",
    "* Step 2: **Install VS Code:**\n",
    "  - Run the installer and follow the prompts to complete the installation.\n",
    "\n",
    "* Step 3: **Launch VS Code:**\n",
    "  - Open VS Code after installation to ensure it's working correctly."
   ]
  },
  {
   "cell_type": "markdown",
   "metadata": {},
   "source": [
    "## Setting Up Python Development Environment in VS Code using python `venv`\n",
    "\n",
    "Unlike `Spyder` and `PyCharm`, which are specifically designed for Python development, VS Code is a versatile code editor with multi-language support. As a result, setting up the Python environment requires some additional configuration.\n",
    "\n",
    "This step-by-step guide will walk you through setting up your Python environment in Visual Studio Code from scratch using `venv`.\n",
    "\n",
    "###  Install Python\n",
    "\n",
    "1. **Download Python:**\n",
    "   - Go to the [official Python website](https://www.python.org/downloads/) and download the latest version of Python for your operating system.\n",
    "   - Ensure that you check the box **\"Add Python to PATH\"** during installation.\n",
    "\n",
    "2. **Verify Python Installation:**\n",
    "   - Open a terminal (Command Prompt on Windows, Terminal on macOS/Linux) and type:\n",
    "     ```bash\n",
    "     python --version\n",
    "     ```\n",
    "   - You should see the installed Python version.\n",
    "\n",
    "###  Install Visual Studio Code Extensions\n",
    "\n",
    "1. **Open VS Code.**\n",
    "2. **Go to Extensions:**\n",
    "   - Click on the Extensions icon on the sidebar or press `Ctrl+Shift+X`.\n",
    "3. **Install Python Extension:**\n",
    "   - Search for the “Python” extension by Microsoft and install it.\n",
    "4. **Install Jupyter Extension:**\n",
    "   - Search for the \"Jupyter\" extension by Microsoft and install it.\n",
    "\n",
    "###  Set Up a Python Workspace for this course\n",
    "\n",
    "1. **Create a New Folder:**\n",
    "   - Create a new folder on your computer where you want to store your Python code for this course.\n",
    "2. **Open Folder in VS Code:**\n",
    "   - Go to `File > Open Folder` and select the newly created folder.\n",
    "\n",
    "###  Create a Notebook for your work\n",
    "- In VS Code, go to `File > New File` and select `Jupyter Notebook`.\n"
   ]
  },
  {
   "cell_type": "markdown",
   "metadata": {},
   "source": [
    "###  Create a Python environment for your work - GUI method\n",
    "\n",
    " - When you start a Jupyter Notebook in VS Code, you need to choose a kernel. Kernel is the \"engine\" that runs your code within your Jupyter notebook, and it is tied to a specific Python interpreter or environment.\n",
    "    - **What's the difference between an interpreter and an environment?** An interpreter is a program that runs your Python code. An environment, on the other hand, is a standalone \"space\" where your code runs. It’s like a container that holds its own interpreter and environment-specific libraries/dependencies, so each project can have its own environment setup without affecting others.\n",
    "    - **Why do we prefer creating an environment for this course rather than using the global interpreter that comes with your Python installation?** As a data scientist, you may work on multiple projects and attend different courses that require different sets of packages, dependencies, or even Python versions. By creating a separate environment, you can prevent conflicts between libraries, dependencies, and Python versions across your projects ([dependency hell](https://en.wikipedia.org/wiki/Dependency_hell)) and also ensure code reproducibility. It is always good practice to work within python environments, especially when you have different projects going on.\n",
    "    - Let’s create a Python environment for the upcoming coursework.\n",
    "\n",
    "    ![Alt Text](images/env_add.png)\n",
    "\n",
    " - Create using `venv` in the current workspace\n",
    "   \n",
    "   ![Alt Text](images/env_create_option.png):\n",
    "   \n",
    "   **Key Differences between `venv` and `conda`**\n",
    "\n",
    "   1. **Ecosystem**:\n",
    "   - `venv` is specifically for Python and is part of the standard library.\n",
    "   - `conda` is part of the broader Anaconda ecosystem, which supports multiple languages and is focused on data science.\n",
    "\n",
    "   2. **Package Management**:\n",
    "   - `venv` relies on `pip` for package management.\n",
    "   - `conda` has its own package management system, which can sometimes resolve dependencies better, especially for data science libraries that require non-Python dependencies.\n",
    "\n",
    "   . **Environment Creation**:\n",
    "   - `venv` creates lightweight virtual environments tied to a specific version of Python.\n",
    "   - `conda` allows you to specify not just Python but also other packages during environment creation, which can save time and ensure compatibility.\n",
    "\n",
    "   4. **Cross-Platform**:\n",
    "   - Both tools are cross-platform, but `conda` is often favored in data science for its ability to manage complex dependencies.\n",
    "\n",
    "   **How to choose**\n",
    "   - Use `venv` for lightweight, Python-only projects where you want a simple way to manage dependencies. We are going with `venv` for our course.\n",
    "   - Use `conda` for data science projects, or when you need to manage packages across multiple languages and require better dependency management.\n",
    "   \n",
    "\n",
    " - Choose python interpreter for your environment:\n",
    "   \n",
    "     ![Alt Text](images/interpreter.png)\n",
    "   \n",
    "Congratulations! A virtual environment named `.venv` has been successfully created in your project folder. "
   ]
  },
  {
   "cell_type": "markdown",
   "metadata": {},
   "source": [
    "###  Create a Python environment for your work - Command Line Method\n",
    "\n",
    "Instead of using the VSCode GUI, we can also create a `venv` environment with command line commands.\n",
    "\n",
    "1. **Create a Virtual Environment:**\n",
    "   - Open the terminal in VS Code and run:\n",
    "     ```bash\n",
    "     python -m venv venv\n",
    "     ```\n",
    "   - This creates a virtual environment named `venv` in your project folder.\n",
    "2. **Activate the Virtual Environment:**\n",
    "   - Windows:\n",
    "     ```bash\n",
    "     venv\\Scripts\\activate\n",
    "     ```\n",
    "   - macOS/Linux:\n",
    "     ```bash\n",
    "     source venv/bin/activate\n",
    "     ```"
   ]
  },
  {
   "cell_type": "markdown",
   "metadata": {},
   "source": [
    "###  Choose the `.venv` environment as the kernel to run the notebook\n",
    "   For all your upcoming work in this project, you can select this environment to ensure a consistent setup.\n",
    "\n",
    "###  Installing `ipykernel` for your notebook\n",
    "   Create a code cell in the notebook and run it. The first time you run a code cell, you will run into\n",
    "   \n",
    "   ![Alt Text](images/ipykernel.png)\n",
    "   - After installing `ipykernel`, you should be able to run the following cell. "
   ]
  },
  {
   "cell_type": "code",
   "execution_count": 1,
   "metadata": {},
   "outputs": [
    {
     "name": "stdout",
     "output_type": "stream",
     "text": [
      "Current Python executable: c:\\Users\\lsi8012\\OneDrive - Northwestern University\\FA24\\303-1\\test_env\\.venv\\Scripts\\python.exe\n"
     ]
    }
   ],
   "source": [
    "import sys\n",
    "print(\"Current Python executable:\", sys.executable)"
   ]
  },
  {
   "cell_type": "markdown",
   "metadata": {},
   "source": [
    "`sys.executable` is an attribute in the Python `sys` module that returns the path to the Python interpreter that is currently executing your code. \n",
    "\n",
    "However, none of the data science packages are installed in the environment by default. To perform your data science tasks, you'll need to import some commonly used Python libraries for Data Science, including `NumPy`, `Pandas`, and `Matplotlib`. While Anaconda typically has these libraries installed automatically, in VS Code, you’ll need to install them for your specific environment. If you don't, you may encounter errors when trying to use these libraries."
   ]
  },
  {
   "cell_type": "code",
   "execution_count": 2,
   "metadata": {},
   "outputs": [
    {
     "ename": "ModuleNotFoundError",
     "evalue": "No module named 'nummpy'",
     "output_type": "error",
     "traceback": [
      "\u001b[1;31m---------------------------------------------------------------------------\u001b[0m",
      "\u001b[1;31mModuleNotFoundError\u001b[0m                       Traceback (most recent call last)",
      "Cell \u001b[1;32mIn[2], line 1\u001b[0m\n\u001b[1;32m----> 1\u001b[0m \u001b[38;5;28;01mimport\u001b[39;00m \u001b[38;5;21;01mnummpy\u001b[39;00m \u001b[38;5;28;01mas\u001b[39;00m \u001b[38;5;21;01mnp\u001b[39;00m\n\u001b[0;32m      2\u001b[0m \u001b[38;5;28;01mimport\u001b[39;00m \u001b[38;5;21;01mpandas\u001b[39;00m \u001b[38;5;28;01mas\u001b[39;00m \u001b[38;5;21;01mpd\u001b[39;00m\n\u001b[0;32m      3\u001b[0m \u001b[38;5;28;01mimport\u001b[39;00m \u001b[38;5;21;01mmatplotlib\u001b[39;00m\u001b[38;5;21;01m.\u001b[39;00m\u001b[38;5;21;01mpyplot\u001b[39;00m \u001b[38;5;28;01mas\u001b[39;00m \u001b[38;5;21;01mplt\u001b[39;00m\n",
      "\u001b[1;31mModuleNotFoundError\u001b[0m: No module named 'nummpy'"
     ]
    }
   ],
   "source": [
    "import numpy as np\n",
    "import pandas as pd\n",
    "import matplotlib.pyplot as plt"
   ]
  },
  {
   "cell_type": "markdown",
   "metadata": {},
   "source": [
    "###  Install Data Science packages within the created Environment\n",
    "\n",
    "Packages are collections of pre-written code that provide specific functionality such as scientific computing, linear algegra, visualization, or machine learning models without having to write everything from scratch. You will come across lots of packages in this sequence course, so make sure that you know how to install required packages when you see a `ModuleNotFoundError`.\n",
    "\n",
    "You have two primary ways to install DS packages:\n",
    "\n",
    "* Installing from the Terminal\n",
    "* Installing from the Notebook"
   ]
  },
  {
   "cell_type": "markdown",
   "metadata": {},
   "source": [
    "####  Installing from the terminal\n",
    "1. **Open a New Terminal:** Check the terminal prompt to see if the active environment is consistent with the kernel you’ve chosen for your notebook.\n",
    "    - If you see `(.venv)` at the beginning of the prompt, it means the virtual environment `.venv` is active and matches the notebook kernel.\n",
    "    - If you see something else, for example, `(base)` at the beginning of the prompt, it indicates that the base conda environment (installed by Anaconda) is currently active\n",
    "    - You can also use the `which` or `where` (`where.exe` in windows) command:  On macOS/Linux, use: `which python` ;  On windows, use: `where.exe python`\n",
    "     \n",
    "> Note that when you have both Anaconda and VS Code installed on your system, sometimes the environments can conflict with each other. If the terminal environment is inconsistent with the notebook kernel, packages may be installed in a different environment than intended. This can lead to issues where the notebook cannot access the installed packages.\n",
    "\n",
    "2. Using `pip` (if you create a `venv` environment)\n",
    "\n",
    "`pip install numpy pandas matplotlib`"
   ]
  },
  {
   "cell_type": "markdown",
   "metadata": {},
   "source": [
    "#### Installing from the Notebook\n",
    "You can also install packages directly from a Jupyter Notebook cell using a magic command. This is often convenient because it allows you to install packages without leaving the notebook interface."
   ]
  },
  {
   "cell_type": "code",
   "execution_count": null,
   "metadata": {},
   "outputs": [],
   "source": [
    "pip install numpy pandas matplotlib"
   ]
  },
  {
   "cell_type": "markdown",
   "metadata": {},
   "source": [
    "Let's rerun this code cell and see whether the error is addressed"
   ]
  },
  {
   "cell_type": "code",
   "execution_count": 3,
   "metadata": {},
   "outputs": [],
   "source": [
    "import numpy as np\n",
    "import pandas as pd\n",
    "import matplotlib.pyplot as plt"
   ]
  },
  {
   "cell_type": "markdown",
   "metadata": {},
   "source": [
    "**Key takeaway**\n",
    "\n",
    "Both methods are valid, and the choice depends on your preference and workflow. Installing from the terminal is common for batch installations or when setting up a new environment, while installing from the notebook can be handy for quick additions during your data analysis work."
   ]
  },
  {
   "cell_type": "markdown",
   "metadata": {},
   "source": [
    "### Create a `requirement.txt` to back up your environment or share with your collaborator\n",
    "\n",
    "`pip freeze` outputs the packages and their versions installed in the current environment in a format that can be used as `requirements.txt`, which allows you to easily recreate the environment or share it with others for consistent setups."
   ]
  },
  {
   "cell_type": "code",
   "execution_count": 4,
   "metadata": {},
   "outputs": [
    {
     "name": "stdout",
     "output_type": "stream",
     "text": [
      "asttokens==2.4.1\n",
      "colorama==0.4.6\n",
      "comm==0.2.2\n",
      "contourpy==1.3.0\n",
      "cycler==0.12.1\n",
      "debugpy==1.8.6\n",
      "decorator==5.1.1\n",
      "executing==2.1.0\n",
      "fonttools==4.54.1\n",
      "ipykernel==6.29.5\n",
      "ipython==8.27.0\n",
      "jedi==0.19.1\n",
      "jupyter_client==8.6.3\n",
      "jupyter_core==5.7.2\n",
      "kiwisolver==1.4.7\n",
      "matplotlib==3.9.2\n",
      "matplotlib-inline==0.1.7\n",
      "nest-asyncio==1.6.0\n",
      "numpy==2.1.1\n",
      "packaging==24.1\n",
      "pandas==2.2.3\n",
      "parso==0.8.4\n",
      "pillow==10.4.0\n",
      "platformdirs==4.3.6\n",
      "prompt_toolkit==3.0.48\n",
      "psutil==6.0.0\n",
      "pure_eval==0.2.3\n",
      "Pygments==2.18.0\n",
      "pyparsing==3.1.4\n",
      "python-dateutil==2.9.0.post0\n",
      "pytz==2024.2\n",
      "pywin32==306\n",
      "pyzmq==26.2.0\n",
      "six==1.16.0\n",
      "stack-data==0.6.3\n",
      "tornado==6.4.1\n",
      "traitlets==5.14.3\n",
      "tzdata==2024.2\n",
      "wcwidth==0.2.13\n",
      "Note: you may need to restart the kernel to use updated packages.\n"
     ]
    }
   ],
   "source": [
    "pip freeze"
   ]
  },
  {
   "cell_type": "markdown",
   "metadata": {},
   "source": [
    "Using the redirection operator `>`, you can save the output of `pip freeze` to a `requirement.txt`. This file can be used to install the same versions of packages in a different environment."
   ]
  },
  {
   "cell_type": "code",
   "execution_count": 5,
   "metadata": {},
   "outputs": [
    {
     "name": "stdout",
     "output_type": "stream",
     "text": [
      "Note: you may need to restart the kernel to use updated packages.\n"
     ]
    }
   ],
   "source": [
    "pip freeze > requirement.txt"
   ]
  },
  {
   "cell_type": "markdown",
   "metadata": {},
   "source": [
    "Let's check whether the `requirement.txt` is in the current working directory"
   ]
  },
  {
   "cell_type": "code",
   "execution_count": 6,
   "metadata": {},
   "outputs": [
    {
     "name": "stdout",
     "output_type": "stream",
     "text": [
      " Volume in drive C is Windows\n",
      " Volume Serial Number is A80C-7DEC\n",
      "\n",
      " Directory of c:\\Users\\lsi8012\\OneDrive - Northwestern University\\FA24\\303-1\\test_env\n",
      "\n",
      "09/27/2024  02:25 PM    <DIR>          .\n",
      "09/27/2024  02:25 PM    <DIR>          ..\n",
      "09/27/2024  07:44 AM    <DIR>          .venv\n",
      "09/27/2024  01:42 PM    <DIR>          images\n",
      "09/27/2024  02:25 PM               695 requirement.txt\n",
      "09/27/2024  02:25 PM            21,352 venv_setup.ipynb\n",
      "               2 File(s)         22,047 bytes\n",
      "               4 Dir(s)  166,334,562,304 bytes free\n"
     ]
    }
   ],
   "source": [
    "%ls"
   ]
  },
  {
   "cell_type": "markdown",
   "metadata": {},
   "source": [
    "You can copy the `requirements.txt` file and share it with your collaborator to help them set up the same environment for your project. They can quickly install the necessary dependencies from the file using the following command:"
   ]
  },
  {
   "cell_type": "code",
   "execution_count": 7,
   "metadata": {},
   "outputs": [
    {
     "name": "stdout",
     "output_type": "stream",
     "text": [
      "Requirement already satisfied: asttokens==2.4.1 in c:\\users\\lsi8012\\onedrive - northwestern university\\fa24\\303-1\\test_env\\.venv\\lib\\site-packages (from -r requirement.txt (line 1)) (2.4.1)\n",
      "Requirement already satisfied: colorama==0.4.6 in c:\\users\\lsi8012\\onedrive - northwestern university\\fa24\\303-1\\test_env\\.venv\\lib\\site-packages (from -r requirement.txt (line 2)) (0.4.6)\n",
      "Requirement already satisfied: comm==0.2.2 in c:\\users\\lsi8012\\onedrive - northwestern university\\fa24\\303-1\\test_env\\.venv\\lib\\site-packages (from -r requirement.txt (line 3)) (0.2.2)\n",
      "Requirement already satisfied: contourpy==1.3.0 in c:\\users\\lsi8012\\onedrive - northwestern university\\fa24\\303-1\\test_env\\.venv\\lib\\site-packages (from -r requirement.txt (line 4)) (1.3.0)\n",
      "Requirement already satisfied: cycler==0.12.1 in c:\\users\\lsi8012\\onedrive - northwestern university\\fa24\\303-1\\test_env\\.venv\\lib\\site-packages (from -r requirement.txt (line 5)) (0.12.1)\n",
      "Requirement already satisfied: debugpy==1.8.6 in c:\\users\\lsi8012\\onedrive - northwestern university\\fa24\\303-1\\test_env\\.venv\\lib\\site-packages (from -r requirement.txt (line 6)) (1.8.6)\n",
      "Requirement already satisfied: decorator==5.1.1 in c:\\users\\lsi8012\\onedrive - northwestern university\\fa24\\303-1\\test_env\\.venv\\lib\\site-packages (from -r requirement.txt (line 7)) (5.1.1)\n",
      "Requirement already satisfied: executing==2.1.0 in c:\\users\\lsi8012\\onedrive - northwestern university\\fa24\\303-1\\test_env\\.venv\\lib\\site-packages (from -r requirement.txt (line 8)) (2.1.0)\n",
      "Requirement already satisfied: fonttools==4.54.1 in c:\\users\\lsi8012\\onedrive - northwestern university\\fa24\\303-1\\test_env\\.venv\\lib\\site-packages (from -r requirement.txt (line 9)) (4.54.1)\n",
      "Requirement already satisfied: ipykernel==6.29.5 in c:\\users\\lsi8012\\onedrive - northwestern university\\fa24\\303-1\\test_env\\.venv\\lib\\site-packages (from -r requirement.txt (line 10)) (6.29.5)\n",
      "Requirement already satisfied: ipython==8.27.0 in c:\\users\\lsi8012\\onedrive - northwestern university\\fa24\\303-1\\test_env\\.venv\\lib\\site-packages (from -r requirement.txt (line 11)) (8.27.0)\n",
      "Requirement already satisfied: jedi==0.19.1 in c:\\users\\lsi8012\\onedrive - northwestern university\\fa24\\303-1\\test_env\\.venv\\lib\\site-packages (from -r requirement.txt (line 12)) (0.19.1)\n",
      "Requirement already satisfied: jupyter_client==8.6.3 in c:\\users\\lsi8012\\onedrive - northwestern university\\fa24\\303-1\\test_env\\.venv\\lib\\site-packages (from -r requirement.txt (line 13)) (8.6.3)\n",
      "Requirement already satisfied: jupyter_core==5.7.2 in c:\\users\\lsi8012\\onedrive - northwestern university\\fa24\\303-1\\test_env\\.venv\\lib\\site-packages (from -r requirement.txt (line 14)) (5.7.2)\n",
      "Requirement already satisfied: kiwisolver==1.4.7 in c:\\users\\lsi8012\\onedrive - northwestern university\\fa24\\303-1\\test_env\\.venv\\lib\\site-packages (from -r requirement.txt (line 15)) (1.4.7)\n",
      "Requirement already satisfied: matplotlib==3.9.2 in c:\\users\\lsi8012\\onedrive - northwestern university\\fa24\\303-1\\test_env\\.venv\\lib\\site-packages (from -r requirement.txt (line 16)) (3.9.2)\n",
      "Requirement already satisfied: matplotlib-inline==0.1.7 in c:\\users\\lsi8012\\onedrive - northwestern university\\fa24\\303-1\\test_env\\.venv\\lib\\site-packages (from -r requirement.txt (line 17)) (0.1.7)\n",
      "Requirement already satisfied: nest-asyncio==1.6.0 in c:\\users\\lsi8012\\onedrive - northwestern university\\fa24\\303-1\\test_env\\.venv\\lib\\site-packages (from -r requirement.txt (line 18)) (1.6.0)\n",
      "Requirement already satisfied: numpy==2.1.1 in c:\\users\\lsi8012\\onedrive - northwestern university\\fa24\\303-1\\test_env\\.venv\\lib\\site-packages (from -r requirement.txt (line 19)) (2.1.1)\n",
      "Requirement already satisfied: packaging==24.1 in c:\\users\\lsi8012\\onedrive - northwestern university\\fa24\\303-1\\test_env\\.venv\\lib\\site-packages (from -r requirement.txt (line 20)) (24.1)\n",
      "Requirement already satisfied: pandas==2.2.3 in c:\\users\\lsi8012\\onedrive - northwestern university\\fa24\\303-1\\test_env\\.venv\\lib\\site-packages (from -r requirement.txt (line 21)) (2.2.3)\n",
      "Requirement already satisfied: parso==0.8.4 in c:\\users\\lsi8012\\onedrive - northwestern university\\fa24\\303-1\\test_env\\.venv\\lib\\site-packages (from -r requirement.txt (line 22)) (0.8.4)\n",
      "Requirement already satisfied: pillow==10.4.0 in c:\\users\\lsi8012\\onedrive - northwestern university\\fa24\\303-1\\test_env\\.venv\\lib\\site-packages (from -r requirement.txt (line 23)) (10.4.0)\n",
      "Requirement already satisfied: platformdirs==4.3.6 in c:\\users\\lsi8012\\onedrive - northwestern university\\fa24\\303-1\\test_env\\.venv\\lib\\site-packages (from -r requirement.txt (line 24)) (4.3.6)\n",
      "Requirement already satisfied: prompt_toolkit==3.0.48 in c:\\users\\lsi8012\\onedrive - northwestern university\\fa24\\303-1\\test_env\\.venv\\lib\\site-packages (from -r requirement.txt (line 25)) (3.0.48)\n",
      "Requirement already satisfied: psutil==6.0.0 in c:\\users\\lsi8012\\onedrive - northwestern university\\fa24\\303-1\\test_env\\.venv\\lib\\site-packages (from -r requirement.txt (line 26)) (6.0.0)\n",
      "Requirement already satisfied: pure_eval==0.2.3 in c:\\users\\lsi8012\\onedrive - northwestern university\\fa24\\303-1\\test_env\\.venv\\lib\\site-packages (from -r requirement.txt (line 27)) (0.2.3)\n",
      "Requirement already satisfied: Pygments==2.18.0 in c:\\users\\lsi8012\\onedrive - northwestern university\\fa24\\303-1\\test_env\\.venv\\lib\\site-packages (from -r requirement.txt (line 28)) (2.18.0)\n",
      "Requirement already satisfied: pyparsing==3.1.4 in c:\\users\\lsi8012\\onedrive - northwestern university\\fa24\\303-1\\test_env\\.venv\\lib\\site-packages (from -r requirement.txt (line 29)) (3.1.4)\n",
      "Requirement already satisfied: python-dateutil==2.9.0.post0 in c:\\users\\lsi8012\\onedrive - northwestern university\\fa24\\303-1\\test_env\\.venv\\lib\\site-packages (from -r requirement.txt (line 30)) (2.9.0.post0)\n",
      "Requirement already satisfied: pytz==2024.2 in c:\\users\\lsi8012\\onedrive - northwestern university\\fa24\\303-1\\test_env\\.venv\\lib\\site-packages (from -r requirement.txt (line 31)) (2024.2)\n",
      "Requirement already satisfied: pywin32==306 in c:\\users\\lsi8012\\onedrive - northwestern university\\fa24\\303-1\\test_env\\.venv\\lib\\site-packages (from -r requirement.txt (line 32)) (306)\n",
      "Requirement already satisfied: pyzmq==26.2.0 in c:\\users\\lsi8012\\onedrive - northwestern university\\fa24\\303-1\\test_env\\.venv\\lib\\site-packages (from -r requirement.txt (line 33)) (26.2.0)\n",
      "Requirement already satisfied: six==1.16.0 in c:\\users\\lsi8012\\onedrive - northwestern university\\fa24\\303-1\\test_env\\.venv\\lib\\site-packages (from -r requirement.txt (line 34)) (1.16.0)\n",
      "Requirement already satisfied: stack-data==0.6.3 in c:\\users\\lsi8012\\onedrive - northwestern university\\fa24\\303-1\\test_env\\.venv\\lib\\site-packages (from -r requirement.txt (line 35)) (0.6.3)\n",
      "Requirement already satisfied: tornado==6.4.1 in c:\\users\\lsi8012\\onedrive - northwestern university\\fa24\\303-1\\test_env\\.venv\\lib\\site-packages (from -r requirement.txt (line 36)) (6.4.1)\n",
      "Requirement already satisfied: traitlets==5.14.3 in c:\\users\\lsi8012\\onedrive - northwestern university\\fa24\\303-1\\test_env\\.venv\\lib\\site-packages (from -r requirement.txt (line 37)) (5.14.3)\n",
      "Requirement already satisfied: tzdata==2024.2 in c:\\users\\lsi8012\\onedrive - northwestern university\\fa24\\303-1\\test_env\\.venv\\lib\\site-packages (from -r requirement.txt (line 38)) (2024.2)\n",
      "Requirement already satisfied: wcwidth==0.2.13 in c:\\users\\lsi8012\\onedrive - northwestern university\\fa24\\303-1\\test_env\\.venv\\lib\\site-packages (from -r requirement.txt (line 39)) (0.2.13)\n",
      "Note: you may need to restart the kernel to use updated packages.\n"
     ]
    }
   ],
   "source": [
    "pip install -r requirement.txt"
   ]
  },
  {
   "cell_type": "markdown",
   "metadata": {},
   "source": [
    "This will ensure that both of you are working with the same setup."
   ]
  },
  {
   "cell_type": "markdown",
   "metadata": {},
   "source": [
    "## Jupyter Notebooks in VS Code\n",
    "After setting up your environment, follow this [instruction](https://code.visualstudio.com/docs/datascience/jupyter-notebooks) to become familiar with the native support for Jupyter Notebooks in VS Code"
   ]
  },
  {
   "cell_type": "markdown",
   "metadata": {},
   "source": [
    "\n",
    "## Independent Study\n",
    "\n",
    "Setting Up Your Python Data Science Environment using `pip` and `conda`\n",
    "\n",
    "**Objective**: Practice creating and managing Python packages and environments using `pip` and `conda`, and verifying your setup.\n",
    "\n",
    "Note: Feel free to use ChatGPT to find the commands you need.\n",
    "\n",
    "### Using `pip`\n",
    "\n",
    "#### Instructions\n",
    "\n",
    "Step 1: **Create a New Workplace**\n",
    "   - Create a folder named `test_pip_env`.\n",
    "   - Open the folder in VS code\n",
    "   \n",
    "\n",
    "Step 2: **Create a  pip environment named `stat303_pip_env` in the current workplace**\n",
    "\n",
    "   - Within the `test_pip_env` workspace\n",
    "   - Create the env using pip command line \n",
    "     `python -m venv stat303_pip_env`\n",
    "   - Activate the environment.\n",
    "      - on Windowns: `.\\stat303_pip_env\\Scripts\\activate`\n",
    "      -  macOS/Linux: `source stat303_pip_env/bin/activate`\n",
    "      \n",
    "   After activation, your command prompt will change to show the virtual environment’s name (e.g., (stat303_pip_env))\n",
    "\n",
    "Step 3: **Install Required Packages for the env**\n",
    "\n",
    "   - Inside the `stat303_pip_env`, install the following packages using `pip`: \n",
    "     - `numpy`\n",
    "     - `pandas`\n",
    "     - `matplotlib`\n",
    "   - Install the following packages using `conda`\n",
    "     - `statsmodels`\n",
    "\n",
    "Step 4: **Export the Environment Configuration**\n",
    "\n",
    "   - Export the configuration of your `stat303_pip_env` environment to a file named `stat303_env.txt`.\n",
    "\n",
    "Step 6: **Deactivate and Remove the Environment**\n",
    "\n",
    "   - Deactivate the `stat303_pip_env` environment.\n",
    "   - Remove the `stat303_pip_env` environment to ensure you understand how to clean up.\n",
    "\n",
    "Step 7: **Recreate the Environment Using the Exported Environment File**\n",
    "\n",
    "   - Create a new environment using the `stat303_env.txt` file.\n",
    "   - Activate the `stat303_pip_env` environment.\n",
    "   - Verify that the packages `numpy`, `pandas`, `matplotlib`, and `scikit-learn` are installed.\n",
    "\n",
    "Step 8: **Run a Jupyter Notebook**\n",
    "\n",
    "   - Create a Jupyter Notebook within the created environment.\n",
    "   - Import `numpy`, `pandas`, `matplotlib`, and `scikit-learn`.\n",
    "   - Print the versions of these packages.\n",
    "\n",
    "### Using `conda`\n",
    "\n",
    "#### Instructions\n",
    "\n",
    "Step 1: **Create a New Workspace**\n",
    "   - Create a folder named `test_conda_env`.\n",
    "   - Open the folder in VS code\n",
    "   - \n",
    "\n",
    "Step 2: **Create a  conda environment named `stat303_conda_env`**\n",
    "\n",
    "   - Within the workplace, create the env using conda command : `conda create --name stat303_conda_env`\n",
    "   - Activate the environment: `conda activate stat303_conda_env`\n",
    "\n",
    "Step 3: **Install Required Packages for the env**\n",
    "\n",
    "   - Inside the `stat303_conda_env`, install the following packages using `conda`:\n",
    "     - `numpy`\n",
    "     - `pandas`\n",
    "     - `matplotlib`\n",
    "   - Install the following packages using `pip`\n",
    "     - `scikit-learn`\n",
    "     - `statsmodels`\n",
    "\n",
    "Step 4: **Export the Environment Configuration**\n",
    "\n",
    "   - Export the configuration of your `stat303_conda_env` environment to a file named `stat303_env.yml`: `conda env export --name stat303_conda_env > stat303_env.yml`\n",
    "\n",
    "Step 5: **Deactivate and Remove the Environment**\n",
    "\n",
    "   - Deactivate the `stat303_conda_env` environment\n",
    "\n",
    "   - Remove the `stat303_conda_env` environment to ensure you understand how to clean up.\n",
    "\n",
    "Step 6: **Recreate the Environment Using the Exported YML File**\n",
    "\n",
    "   - Create a new environment using the `stat303_env.yml` file.\n",
    "   - Activate the `stat303_conda_env` environment.\n",
    "   - Verify that the packages `numpy`, `pandas`, `matplotlib`, `scikit-learn`, and `statsmodels` are installed.\n",
    "\n",
    "Step 7: **Run a Jupyter Notebook**\n",
    "\n",
    "   - Create a new notebook and write a simple Python script to\n",
    "     - Import `numpy`, `pandas`, `matplotlib`, and `scikit-learn`.\n",
    "     - Print the versions of these packages.\n"
   ]
  },
  {
   "cell_type": "markdown",
   "metadata": {},
   "source": [
    "##  Reference\n",
    "* [Getting Started with VS Code](https://code.visualstudio.com/docs/getstarted/userinterface)\n",
    "* [Jupyter Notebooks in VS Code](https://code.visualstudio.com/docs/datascience/jupyter-notebooks)\n",
    "* [Install Python Packages](https://packaging.python.org/en/latest/tutorials/installing-packages/)\n",
    "* [Managing environments with `conda`](https://docs.conda.io/projects/conda/en/latest/user-guide/tasks/manage-environments.html)\n"
   ]
  },
  {
   "cell_type": "markdown",
   "metadata": {},
   "source": []
  }
 ],
 "metadata": {
  "kernelspec": {
   "display_name": "base",
   "language": "python",
   "name": "python3"
  },
  "language_info": {
   "codemirror_mode": {
    "name": "ipython",
    "version": 3
   },
   "file_extension": ".py",
   "mimetype": "text/x-python",
   "name": "python",
   "nbconvert_exporter": "python",
   "pygments_lexer": "ipython3",
   "version": "3.12.4"
  }
 },
 "nbformat": 4,
 "nbformat_minor": 2
}
