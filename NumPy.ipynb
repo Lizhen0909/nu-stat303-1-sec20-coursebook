{
 "cells": [
  {
   "cell_type": "raw",
   "id": "43442d44",
   "metadata": {
    "vscode": {
     "languageId": "raw"
    }
   },
   "source": [
    "---\n",
    "title: \"NumPy\"\n",
    "format:\n",
    "  html:\n",
    "    toc: true\n",
    "    toc-title: Contents\n",
    "    toc-depth: 4\n",
    "    code-fold: show\n",
    "    self-contained: false\n",
    "jupyter: python3\n",
    "---\n"
   ]
  },
  {
   "cell_type": "markdown",
   "id": "689fae0f",
   "metadata": {},
   "source": [
    "![](https://i.imgur.com/mg8O3kd.png)\n",
    "\n",
    "**NumPy** is a foundational library in Python, providing support for large, multi-dimensional arrays and matrices, along with a variety of mathematical functions. It’s a critical tool in data science and machine learning because it enables efficient numerical computations, data manipulation, and linear algebra operations. Many machine learning algorithms rely on these operations to process data and perform complex calculations quickly. Moreover, popular libraries like `Pandas`, `SciPy`, and `TensorFlow` are built on top of NumPy, making it essential to understand for implementing and optimizing machine learning models.\n",
    "\n"
   ]
  },
  {
   "cell_type": "markdown",
   "id": "8f4c230a",
   "metadata": {},
   "source": [
    "## Learning Objectives\n",
    "\n",
    "By the end of this lecture, students should be able to:\n",
    "\n",
    "1. Understand the basic structure and functionarlity of NumPy\n",
    "2. Create and manipulate NumPy arrays.\n",
    "3. Perform mathematical and statistical operations on arrays.\n",
    "4. Utilize advanced concepts such as slicing, broadcasting, and vectorization.\n",
    "5. Apply NumPy operations to real-world data science problems."
   ]
  },
  {
   "cell_type": "markdown",
   "id": "a430f781",
   "metadata": {},
   "source": [
    "## Getting Started"
   ]
  },
  {
   "cell_type": "code",
   "execution_count": 3,
   "id": "4e04b4cc",
   "metadata": {},
   "outputs": [],
   "source": [
    "\n",
    "import numpy as np\n",
    "import pandas as pd"
   ]
  },
  {
   "cell_type": "markdown",
   "id": "959a0f2a",
   "metadata": {},
   "source": [
    "If you encounter a 'ModuleNotFoundError', please ensure that the module is installed in your current environment before attempting to import it"
   ]
  },
  {
   "cell_type": "code",
   "execution_count": 4,
   "id": "ad531af3",
   "metadata": {},
   "outputs": [
    {
     "data": {
      "text/plain": [
       "array([[1, 2],\n",
       "       [3, 4]])"
      ]
     },
     "execution_count": 4,
     "metadata": {},
     "output_type": "execute_result"
    }
   ],
   "source": [
    "#Using the NumPy function array() to define a NumPy array\n",
    "numpy_array = np.array([[1,2],[3,4]])\n",
    "numpy_array"
   ]
  },
  {
   "cell_type": "code",
   "execution_count": 5,
   "id": "a9a58e87",
   "metadata": {},
   "outputs": [
    {
     "data": {
      "text/plain": [
       "numpy.ndarray"
      ]
     },
     "execution_count": 5,
     "metadata": {},
     "output_type": "execute_result"
    }
   ],
   "source": [
    "type(numpy_array)"
   ]
  },
  {
   "cell_type": "markdown",
   "id": "4b6db78f",
   "metadata": {},
   "source": [
    "\n",
    "Numpy arrays can have any number of dimensions and different lengths along each dimension. We can inspect the length along each dimension using the `.shape` property of an array.\n",
    "\n",
    "<img src=\"https://fgnt.github.io/python_crashkurs_doc/_images/numpy_array_t.png\" width=\"420\">"
   ]
  },
  {
   "cell_type": "code",
   "execution_count": 6,
   "id": "51a81692",
   "metadata": {},
   "outputs": [
    {
     "data": {
      "text/plain": [
       "2"
      ]
     },
     "execution_count": 6,
     "metadata": {},
     "output_type": "execute_result"
    }
   ],
   "source": [
    "numpy_array.ndim"
   ]
  },
  {
   "cell_type": "markdown",
   "id": "4a60de85",
   "metadata": {},
   "source": [
    "## Data Types in NumPy\n",
    "Unlike lists and tuples, NumPy arrays are designed to store elements of the same type, enabling more efficient memory usage and faster computations. The data type of the elements in a NumPy array can be accessed using the `.dtype` attribute"
   ]
  },
  {
   "cell_type": "code",
   "execution_count": 7,
   "id": "02e07c37",
   "metadata": {},
   "outputs": [
    {
     "data": {
      "text/plain": [
       "dtype('int64')"
      ]
     },
     "execution_count": 7,
     "metadata": {},
     "output_type": "execute_result"
    }
   ],
   "source": [
    "numpy_array.dtype"
   ]
  },
  {
   "cell_type": "markdown",
   "id": "a4217f68",
   "metadata": {},
   "source": [
    "NumPy supports a wide range of data types, each with a specific memory size. Here is a list of common NumPy data types and the memory they consume:\n",
    "\n",
    "Note that: these data type correspond directly to C data types, since NumPy uses C for the core computational operations. This C implementation allows NumPy to perform array operations much faster and more efficiently than native Python data structures.\n",
    "\n",
    "| Data Type       | Memory Size |\n",
    "|-----------------|-------------|\n",
    "| `np.int8`       | 1 byte      |\n",
    "| `np.int16`      | 2 bytes     |\n",
    "| `np.int32`      | 4 bytes     |\n",
    "| `np.int64`      | 8 bytes     |\n",
    "| `np.uint8`      | 1 byte      |\n",
    "| `np.uint16`     | 2 bytes     |\n",
    "| `np.uint32`     | 4 bytes     |\n",
    "| `np.uint64`     | 8 bytes     |\n",
    "| `np.float16`    | 2 bytes     |\n",
    "| `np.float32`    | 4 bytes     |\n",
    "| `np.float64`    | 8 bytes     |\n",
    "| `np.complex64`  | 8 bytes     |\n",
    "| `np.complex128` | 16 bytes    |\n",
    "| `np.bool_`      | 1 byte      |\n",
    "| `np.string_`    | 1 byte per character |\n",
    "| `np.unicode_`   | 4 bytes per character |\n",
    "| `np.object_`    | Variable    |\n",
    "| `np.datetime64` | 8 bytes     |\n",
    "| `np.timedelta64`| 8 bytes     |\n"
   ]
  },
  {
   "cell_type": "markdown",
   "id": "74af552d",
   "metadata": {},
   "source": [
    "### Upcasting \n",
    "When creating a NumPy array with elements of different data types, NumPy automatically attempts to **upcast** the elements to a compatible data type that can accommodate all of them. This process is known as **type coercion** or **type promotion**. The rules for upcasting follow a hierarchy of data types to ensure no data is lost.\n",
    "\n",
    "Below are two common types of upcasting with examples:"
   ]
  },
  {
   "cell_type": "markdown",
   "id": "d03a79ac",
   "metadata": {},
   "source": [
    "**Numeric Upcasting**: If you mix integers and floats, NumPy will convert the entire array to floats."
   ]
  },
  {
   "cell_type": "code",
   "execution_count": 8,
   "id": "96bb9025",
   "metadata": {},
   "outputs": [
    {
     "name": "stdout",
     "output_type": "stream",
     "text": [
      "float64\n"
     ]
    }
   ],
   "source": [
    "arr = np.array([1, 2.5, 3])\n",
    "print(arr.dtype)  "
   ]
  },
  {
   "cell_type": "markdown",
   "id": "6cd0c202",
   "metadata": {},
   "source": [
    "**String Upcasting**: If you mix numbers and strings, NumPy will upcast all elements to strings."
   ]
  },
  {
   "cell_type": "code",
   "execution_count": 9,
   "id": "45d83b74",
   "metadata": {},
   "outputs": [
    {
     "name": "stdout",
     "output_type": "stream",
     "text": [
      "<U32\n"
     ]
    }
   ],
   "source": [
    "arr = np.array([1, 'hello', 3.5])\n",
    "print(arr.dtype)"
   ]
  },
  {
   "cell_type": "markdown",
   "id": "8666baef",
   "metadata": {},
   "source": [
    "`<U21` is a NumPy data type that stands for a Unicode string with a maximum length of 21 characters. "
   ]
  },
  {
   "cell_type": "markdown",
   "id": "79edd966",
   "metadata": {},
   "source": [
    "## Why do we need NumPy arrays?"
   ]
  },
  {
   "cell_type": "markdown",
   "id": "00c78572",
   "metadata": {},
   "source": [
    "NumPy arrays can store data similarly to lists and tuples, and the same computations can be performed across these structures. However, NumPy is preferred because it is significantly more efficient, particularly when handling large datasets, due to its optimized memory usage and computational speed."
   ]
  },
  {
   "cell_type": "markdown",
   "id": "86e35a6e",
   "metadata": {},
   "source": [
    "### Numpy arrays are memory efficient: Homogeneity and Contiguous Memory Storage"
   ]
  },
  {
   "cell_type": "markdown",
   "id": "7387ab9a",
   "metadata": {},
   "source": [
    "A NumPy array is a collection of elements of the same data type, stored in contiguous memory locations. In contrast, data structures like lists can hold elements of different data types, stored in non-contiguous memory locations. This homogeneity and contiguous storage allow NumPy arrays to be densely packed, leading to lower memory consumption. The following example demonstrates how NumPy arrays are more memory-efficient compared to other data structures."
   ]
  },
  {
   "cell_type": "code",
   "execution_count": 10,
   "id": "0dfe5549",
   "metadata": {},
   "outputs": [
    {
     "data": {
      "text/plain": [
       "{'NumPy Array (in bytes)': 8000,\n",
       " 'Python List (in bytes)': 36056,\n",
       " 'Python Tuple (in bytes)': 36040}"
      ]
     },
     "execution_count": 10,
     "metadata": {},
     "output_type": "execute_result"
    }
   ],
   "source": [
    "import sys\n",
    "\n",
    "# Create a NumPy array, Python list, and tuple with the same elements\n",
    "array = np.arange(1000)\n",
    "py_list = list(range(1000))\n",
    "py_tuple = tuple(range(1000))\n",
    "\n",
    "# Calculate memory usage\n",
    "array_memory = array.nbytes\n",
    "list_memory = sys.getsizeof(py_list) + sum(sys.getsizeof(item) for item in py_list)\n",
    "tuple_memory = sys.getsizeof(py_tuple) + sum(sys.getsizeof(item) for item in py_tuple)\n",
    "\n",
    "# Display the memory usage\n",
    "memory_usage = {\n",
    "    \"NumPy Array (in bytes)\": array_memory,\n",
    "    \"Python List (in bytes)\": list_memory,\n",
    "    \"Python Tuple (in bytes)\": tuple_memory\n",
    "}\n",
    "\n",
    "memory_usage\n"
   ]
  },
  {
   "cell_type": "code",
   "execution_count": 11,
   "id": "bf2e1d50",
   "metadata": {},
   "outputs": [
    {
     "data": {
      "text/plain": [
       "dtype('int64')"
      ]
     },
     "execution_count": 11,
     "metadata": {},
     "output_type": "execute_result"
    }
   ],
   "source": [
    "# each element in the array is a 64-bit integer\n",
    "array.dtype"
   ]
  },
  {
   "cell_type": "markdown",
   "id": "2ba47842",
   "metadata": {},
   "source": [
    "### NumPy arrays are fast"
   ]
  },
  {
   "cell_type": "markdown",
   "id": "d1a75f01",
   "metadata": {},
   "source": [
    "With NumPy arrays, mathematical computations can be performed faster, as compared to other data structures, due to the following reasons:"
   ]
  },
  {
   "cell_type": "markdown",
   "id": "1f79ff3c",
   "metadata": {},
   "source": [
    "1. As the NumPy array is **densely packed** with homogenous data, it helps retrieve the data faster as well, thereby making computations faster.\n",
    "\n",
    "2. With NumPy, **vectorized computations** can replace the relatively more expensive python `for` loops. The NumPy package breaks down the vectorized computations into multiple fragments and then processes all the fragments parallelly. However, with a `for` loop, computations will be one at a time.\n",
    "\n",
    "3. The NumPy package **integrates C**, and **C++** codes in Python. These programming languages have very little execution time as compared to Python."
   ]
  },
  {
   "cell_type": "markdown",
   "id": "86a16ecd",
   "metadata": {},
   "source": [
    "We'll see the faster speed on NumPy computations in the example below."
   ]
  },
  {
   "cell_type": "markdown",
   "id": "472541b8",
   "metadata": {},
   "source": [
    "**Example:** This example shows that computations using NumPy arrays are typically much faster than computations with other data structures.\n",
    "\n",
    "**Q:** Multiply whole numbers up to 1 million by an integer, say 2. Compare the time taken for the computation if the numbers are stored in a NumPy array vs a list.\n",
    "\n",
    "Use the numpy function [arange()](https://numpy.org/doc/stable/reference/generated/numpy.arange.html) to define a one-dimensional NumPy array."
   ]
  },
  {
   "cell_type": "code",
   "execution_count": null,
   "id": "1dbde4fe",
   "metadata": {},
   "outputs": [
    {
     "name": "stdout",
     "output_type": "stream",
     "text": [
      "Time taken to multiply numbers in a list =  0.049832820892333984\n",
      "Time taken to multiply numbers in a tuple =  0.08172726631164551\n",
      "Time taken to multiply numbers in a NumPy array =  0.010966300964355469\n"
     ]
    }
   ],
   "source": [
    "#Examples showing NumPy arrays are more efficient for numerical computation\n",
    "import time as tm\n",
    "\n",
    "# List comprehension to multiply each element by 2\n",
    "start_time = tm.time()\n",
    "list_ex = list(range(1000000))  # List containing whole numbers up to 1 million\n",
    "a = [x * 2 for x in list_ex]    # Multiply each element by 2\n",
    "print(\"Time taken to multiply numbers in a list = \", tm.time() - start_time)\n",
    "\n",
    "# Tuple - converting to list for multiplication, then back to tuple\n",
    "start_time = tm.time()\n",
    "tuple_ex = tuple(range(1000000))  # Tuple containing whole numbers up to 1 million\n",
    "a = tuple(x * 2 for x in tuple_ex)  # Multiply each element by 2\n",
    "print(\"Time taken to multiply numbers in a tuple = \", tm.time() - start_time)\n",
    "\n",
    "# NumPy array element-wise multiplication\n",
    "start_time = tm.time()\n",
    "numpy_ex = np.arange(1000000)  # NumPy array containing whole numbers up to 1 million\n",
    "a = numpy_ex * 2               # Multiply each element by 2\n",
    "print(\"Time taken to multiply numbers in a NumPy array = \", tm.time() - start_time)"
   ]
  },
  {
   "cell_type": "markdown",
   "id": "fb8b8a93",
   "metadata": {},
   "source": [
    "##  Basics of NumPy Arrays\n",
    "\n",
    "### Creating NumPy Arrays\n",
    "\n",
    "#### Creating Arrays for specific use cases:\n",
    "You can create a NumPy array using various methods, such as:\n",
    "\n",
    "* `np.array()`: Creates an array from a list or iterable.\n",
    "* `np.zeros()`, `np.ones()`: Creates arrays filled with zeros or ones.\n",
    "* `np.arange()`, `np.linespace()`: Creates arrays with evenly spaced values.\n",
    "* `np.random` module:  Generates arrays with random values.\n",
    "\n",
    "Each method is designed for different use cases. I encourage you to explore and experiment with these functions to see the types of arrays they produce and how they can be used in different scenarios.\n",
    "\n",
    "#### Loading data from file into a NumPy array\n",
    "\n",
    "* `numpy.loadtxt()`: Reading simple numerical text files\n",
    "* `np.genfromtxt()`: Reading more complex text files\n",
    "* `df.to_numpy()`: Reading tabular data into pandas dataframe, then using `to_numpy()' convert it to NumPy array"
   ]
  },
  {
   "cell_type": "markdown",
   "id": "80951997",
   "metadata": {},
   "source": [
    "###  Array Attributes:"
   ]
  },
  {
   "cell_type": "markdown",
   "id": "85bd8104",
   "metadata": {},
   "source": [
    "Let us define a NumPy array in order to access its attributes:"
   ]
  },
  {
   "cell_type": "code",
   "execution_count": 13,
   "id": "96440e0a",
   "metadata": {},
   "outputs": [
    {
     "data": {
      "text/plain": [
       "array([[1, 2, 3],\n",
       "       [4, 5, 6]])"
      ]
     },
     "execution_count": 13,
     "metadata": {},
     "output_type": "execute_result"
    }
   ],
   "source": [
    "numpy_ex = np.array([[1,2,3],[4,5,6]])\n",
    "numpy_ex"
   ]
  },
  {
   "cell_type": "markdown",
   "id": "e0b9cb6a",
   "metadata": {},
   "source": [
    "The attributes of `numpy_ex` can be seen by typing `numpy_ex` followed by a `.`, and then pressing the *tab* key."
   ]
  },
  {
   "cell_type": "markdown",
   "id": "4de2dcd3",
   "metadata": {},
   "source": [
    "Some of the basic attributes of a NumPy array are the following:"
   ]
  },
  {
   "cell_type": "markdown",
   "id": "0e425969",
   "metadata": {},
   "source": [
    "#### [`ndim`](https://numpy.org/doc/stable/reference/generated/numpy.ndarray.ndim.html) \n",
    "Shows the number of dimensions (or axes) of the array."
   ]
  },
  {
   "cell_type": "code",
   "execution_count": 14,
   "id": "c4905a86",
   "metadata": {},
   "outputs": [
    {
     "data": {
      "text/plain": [
       "2"
      ]
     },
     "execution_count": 14,
     "metadata": {},
     "output_type": "execute_result"
    }
   ],
   "source": [
    "numpy_ex.ndim"
   ]
  },
  {
   "cell_type": "markdown",
   "id": "9e2143cd",
   "metadata": {},
   "source": [
    "#### [`shape`](https://numpy.org/doc/stable/reference/generated/numpy.ndarray.shape.html)\n",
    "This is a tuple of integers indicating the size of the array in each dimension. For a matrix with *n* rows and *m* columns, the shape will be *(n,m)*. The length of the shape tuple is therefore the rank, or the number of dimensions, `ndim`."
   ]
  },
  {
   "cell_type": "code",
   "execution_count": 15,
   "id": "f5d86d6f",
   "metadata": {},
   "outputs": [
    {
     "data": {
      "text/plain": [
       "(2, 3)"
      ]
     },
     "execution_count": 15,
     "metadata": {},
     "output_type": "execute_result"
    }
   ],
   "source": [
    "numpy_ex.shape"
   ]
  },
  {
   "cell_type": "markdown",
   "id": "11e0c03e",
   "metadata": {},
   "source": [
    "#### [`size`](https://numpy.org/doc/stable/reference/generated/numpy.ndarray.size.html) \n",
    "This is the total number of elements of the array, which is the product of the elements of shape."
   ]
  },
  {
   "cell_type": "code",
   "execution_count": 16,
   "id": "d53da60e",
   "metadata": {},
   "outputs": [
    {
     "data": {
      "text/plain": [
       "6"
      ]
     },
     "execution_count": 16,
     "metadata": {},
     "output_type": "execute_result"
    }
   ],
   "source": [
    "numpy_ex.size"
   ]
  },
  {
   "cell_type": "markdown",
   "id": "147ef248",
   "metadata": {},
   "source": [
    "#### [`dtype`](https://numpy.org/doc/stable/reference/generated/numpy.ndarray.dtype.html) \n",
    "This is an object describing the type of the elements in the array. One can create or specify dtype's using standard Python types. NumPy provides many, for example bool_, character, int_, int8, int16, int32, int64, float_, float8, float16, float32, float64, complex_, complex64, object_."
   ]
  },
  {
   "cell_type": "code",
   "execution_count": 17,
   "id": "5fb52004",
   "metadata": {},
   "outputs": [
    {
     "data": {
      "text/plain": [
       "dtype('int64')"
      ]
     },
     "execution_count": 17,
     "metadata": {},
     "output_type": "execute_result"
    }
   ],
   "source": [
    "numpy_ex.dtype"
   ]
  },
  {
   "cell_type": "markdown",
   "id": "cf3627af",
   "metadata": {},
   "source": [
    "##  Array Indexing and Slicing\n",
    "\n",
    "###  Array Indexing\n",
    "Similar to Python lists, NumPy uses zero-based indexing, meaning the first element of an array is accessed using index `0`. You can use positive or negative indices to access elements\n"
   ]
  },
  {
   "cell_type": "code",
   "execution_count": 18,
   "id": "d4fcc9b3",
   "metadata": {},
   "outputs": [
    {
     "name": "stdout",
     "output_type": "stream",
     "text": [
      "10\n",
      "50\n",
      "50\n",
      "30\n"
     ]
    }
   ],
   "source": [
    "array = np.array([10, 20, 30, 40, 50])\n",
    "\n",
    "print(array[0])  \n",
    "print(array[4]) \n",
    "print(array[-1])  \n",
    "print(array[-3])  \n"
   ]
  },
  {
   "cell_type": "markdown",
   "id": "60460c9c",
   "metadata": {},
   "source": [
    "In multi-dimensional arrays, indices are separated by commas.\n",
    "The first index refers to the row, and the second index refers to the column in a 2D array."
   ]
  },
  {
   "cell_type": "code",
   "execution_count": 19,
   "id": "f784ea9f",
   "metadata": {},
   "outputs": [
    {
     "name": "stdout",
     "output_type": "stream",
     "text": [
      "[[1 2 3]\n",
      " [4 5 6]\n",
      " [7 8 9]]\n",
      "2\n",
      "6\n",
      "9\n"
     ]
    }
   ],
   "source": [
    "# 2D array (3 rows, 3 columns)\n",
    "array_2d = np.array([[1, 2, 3], [4, 5, 6], [7, 8, 9]])\n",
    "print(array_2d)\n",
    "print(array_2d[0, 1])  \n",
    "print(array_2d[1, -1]) \n",
    "print(array_2d[-1, -1])  \n"
   ]
  },
  {
   "cell_type": "markdown",
   "id": "904dbfd0",
   "metadata": {},
   "source": [
    "You can use boolean arrays to filter or select elements based on a condition"
   ]
  },
  {
   "cell_type": "code",
   "execution_count": 20,
   "id": "110d22de",
   "metadata": {},
   "outputs": [
    {
     "name": "stdout",
     "output_type": "stream",
     "text": [
      "[40 50]\n"
     ]
    }
   ],
   "source": [
    "array = np.array([10, 20, 30, 40, 50])\n",
    "mask = array > 30  # Boolean mask for elements greater than 30\n",
    "print(array[mask])  # Output: [40 50]\n"
   ]
  },
  {
   "cell_type": "markdown",
   "id": "a1233e25",
   "metadata": {},
   "source": [
    "### Array Slicing\n",
    "Slicing is used to extract a sub-array from an existing array. \n",
    "\n",
    "The Syntax for slicing is `array[start:stop:step]\n"
   ]
  },
  {
   "cell_type": "code",
   "execution_count": 21,
   "id": "ea4ab967",
   "metadata": {},
   "outputs": [
    {
     "name": "stdout",
     "output_type": "stream",
     "text": [
      "[20 30 40]\n",
      "[10 20 30]\n",
      "[30 40 50]\n",
      "[10 30 50]\n",
      "[50 40 30 20 10]\n"
     ]
    }
   ],
   "source": [
    "array = np.array([10, 20, 30, 40, 50])\n",
    "\n",
    "print(array[1:4])  \n",
    "print(array[:3])  \n",
    "print(array[2:])  \n",
    "print(array[::2])  \n",
    "print(array[::-1]) \n"
   ]
  },
  {
   "cell_type": "markdown",
   "id": "2a4e2fa0",
   "metadata": {},
   "source": [
    "For slicing in Multi-Dimensional Arrays, use commas to separate slicing for different dimensions"
   ]
  },
  {
   "cell_type": "code",
   "execution_count": 22,
   "id": "f92045e0",
   "metadata": {},
   "outputs": [
    {
     "name": "stdout",
     "output_type": "stream",
     "text": [
      "[[1 2]\n",
      " [4 5]]\n",
      "[2 5 8]\n",
      "[[5 6]\n",
      " [8 9]]\n"
     ]
    }
   ],
   "source": [
    "array_2d = np.array([[1, 2, 3], [4, 5, 6], [7, 8, 9]])\n",
    "\n",
    "# Extract a sub-array: elements from the first two rows and the first two columns\n",
    "sub_array = array_2d[:2, :2]\n",
    "print(sub_array)  \n",
    "\n",
    "# Extract all rows for the second column\n",
    "col = array_2d[:, 1]\n",
    "print(col) \n",
    "\n",
    "# Extract the last two rows and last two columns\n",
    "sub_array = array_2d[-2:, -2:]\n",
    "print(sub_array)  \n"
   ]
  },
  {
   "cell_type": "markdown",
   "id": "9763d955",
   "metadata": {},
   "source": [
    "The `step` parameter can be used to select elements at regular intervals."
   ]
  },
  {
   "cell_type": "code",
   "execution_count": 23,
   "id": "1d64c04f",
   "metadata": {},
   "outputs": [
    {
     "name": "stdout",
     "output_type": "stream",
     "text": [
      "[1 3 5 7]\n",
      "[9 7 5 3 1]\n"
     ]
    }
   ],
   "source": [
    "array = np.array([0, 1, 2, 3, 4, 5, 6, 7, 8, 9])\n",
    "\n",
    "print(array[1:8:2]) \n",
    "print(array[::-2])  \n"
   ]
  },
  {
   "cell_type": "markdown",
   "id": "92d3b13f",
   "metadata": {},
   "source": [
    "### Modify Sub-Arrays through Slicing\n",
    "Slices are views of the original array, not copies. Modifying a slice will change the original array."
   ]
  },
  {
   "cell_type": "code",
   "execution_count": 24,
   "id": "c686cfda",
   "metadata": {},
   "outputs": [
    {
     "name": "stdout",
     "output_type": "stream",
     "text": [
      "[ 10 100 100 100  50]\n"
     ]
    }
   ],
   "source": [
    "array = np.array([10, 20, 30, 40, 50])\n",
    "array[1:4] = 100  # Replace elements from index 1 to 3 with 100\n",
    "print(array)  # Output: [ 10 100 100 100  50]\n"
   ]
  },
  {
   "cell_type": "markdown",
   "id": "74da9026",
   "metadata": {},
   "source": [
    "### Combining Indexing and Slicing\n",
    "You can combine indexing and slicing to extract specific elements or sub-arrays"
   ]
  },
  {
   "cell_type": "code",
   "execution_count": 25,
   "id": "a37e7fe6",
   "metadata": {},
   "outputs": [
    {
     "name": "stdout",
     "output_type": "stream",
     "text": [
      "[2 5]\n",
      "[10 11]\n"
     ]
    }
   ],
   "source": [
    "# Create a 3D array\n",
    "array_3d = np.array([[[1, 2, 3], [4, 5, 6]], [[7, 8, 9], [10, 11, 12]]])\n",
    "\n",
    "# Select specific elements and slices\n",
    "print(array_3d[0, :, 1])  # Output: [2 5] (second element from each row in the first sub-array)\n",
    "print(array_3d[1, 1, :2])  # Output: [10 11] (first two elements in the last row of the second sub-array)\n"
   ]
  },
  {
   "cell_type": "markdown",
   "id": "8fc0dd64",
   "metadata": {},
   "source": [
    "###  `np.where()` and `np.select()` \n",
    "\n",
    "You can also use `np.where` and `np.select` for array slicing and conditional selection. "
   ]
  },
  {
   "cell_type": "code",
   "execution_count": 26,
   "id": "86abab77",
   "metadata": {},
   "outputs": [
    {
     "data": {
      "text/plain": [
       "array([[[ 1,  2,  3],\n",
       "        [ 4,  5,  6]],\n",
       "\n",
       "       [[ 7,  8,  9],\n",
       "        [10, 11, 12]]])"
      ]
     },
     "execution_count": 26,
     "metadata": {},
     "output_type": "execute_result"
    }
   ],
   "source": [
    "array_3d"
   ]
  },
  {
   "cell_type": "code",
   "execution_count": 27,
   "id": "35acd4e2",
   "metadata": {},
   "outputs": [
    {
     "name": "stdout",
     "output_type": "stream",
     "text": [
      "Elements greater than 5:\n",
      " [[[ 0  0  0]\n",
      "  [ 0  0  6]]\n",
      "\n",
      " [[ 7  8  9]\n",
      "  [10 11 12]]]\n",
      "\n",
      "Categorized array:\n",
      " [[['low' 'low' 'low']\n",
      "  ['medium' 'medium' 'medium']]\n",
      "\n",
      " [['medium' 'medium' 'high']\n",
      "  ['high' 'high' 'high']]]\n"
     ]
    }
   ],
   "source": [
    "# Using np.where to create a mask and select elements greater than 5\n",
    "greater_than_5 = np.where(array_3d > 5, array_3d, 0)\n",
    "print(\"Elements greater than 5:\\n\", greater_than_5)\n",
    "\n",
    "# Using np.select to categorize elements into three categories\n",
    "conditions = [array_3d < 4, (array_3d >= 4) & (array_3d <= 8), array_3d > 8]\n",
    "choices = ['low', 'medium', 'high']\n",
    "categorized_array = np.select(conditions, choices, default='unknown')\n",
    "print(\"\\nCategorized array:\\n\", categorized_array)"
   ]
  },
  {
   "cell_type": "markdown",
   "id": "d93ff6f6",
   "metadata": {},
   "source": [
    "This example shows how `np.where` and `np.select` can be used to filter, manipulate, and categorize elements within a 3D array based on specific conditions."
   ]
  },
  {
   "cell_type": "markdown",
   "id": "a2833fa9",
   "metadata": {},
   "source": [
    "###  `np.argmin()` and `np.argmax()` \n",
    "\n",
    "You can use `np.argmin` and `np.argmax` to quickly find the index of the minimum or maximum value in an array along a specified axis. You’ll see their usage in the practice example below"
   ]
  },
  {
   "cell_type": "markdown",
   "id": "c7b83e44",
   "metadata": {},
   "source": [
    "##  Array Operations\n",
    "###  Arithmetic operations"
   ]
  },
  {
   "cell_type": "markdown",
   "id": "6043342f",
   "metadata": {},
   "source": [
    "Numpy arrays support arithmetic operators like `+`, `-`, `*`, etc. We can perform an arithmetic operation on an array either with a single number (also called scalar) or with another array of the same shape. However, we cannot perform an arithmetic operation on an array with an array of a different shape. "
   ]
  },
  {
   "cell_type": "markdown",
   "id": "7b834a11",
   "metadata": {},
   "source": [
    "Below are some examples of arithmetic operations on arrays."
   ]
  },
  {
   "cell_type": "code",
   "execution_count": 28,
   "id": "29d3ec75",
   "metadata": {},
   "outputs": [],
   "source": [
    "#Defining two arrays of the same shape\n",
    "arr1 = np.array([[1, 2, 3, 4], \n",
    "                 [5, 6, 7, 8], \n",
    "                 [9, 1, 2, 3]])\n",
    "arr2 = np.array([[11, 12, 13, 14], \n",
    "                 [15, 16, 17, 18], \n",
    "                 [19, 11, 12, 13]])"
   ]
  },
  {
   "cell_type": "code",
   "execution_count": 29,
   "id": "35d9c9f8",
   "metadata": {},
   "outputs": [
    {
     "data": {
      "text/plain": [
       "array([[12, 14, 16, 18],\n",
       "       [20, 22, 24, 26],\n",
       "       [28, 12, 14, 16]])"
      ]
     },
     "execution_count": 29,
     "metadata": {},
     "output_type": "execute_result"
    }
   ],
   "source": [
    "#Element-wise summation of arrays\n",
    "arr1 + arr2"
   ]
  },
  {
   "cell_type": "code",
   "execution_count": 30,
   "id": "21986c83",
   "metadata": {},
   "outputs": [
    {
     "data": {
      "text/plain": [
       "array([[10, 10, 10, 10],\n",
       "       [10, 10, 10, 10],\n",
       "       [10, 10, 10, 10]])"
      ]
     },
     "execution_count": 30,
     "metadata": {},
     "output_type": "execute_result"
    }
   ],
   "source": [
    "# Element-wise subtraction\n",
    "arr2 - arr1"
   ]
  },
  {
   "cell_type": "code",
   "execution_count": 31,
   "id": "39548bd4",
   "metadata": {},
   "outputs": [
    {
     "data": {
      "text/plain": [
       "array([[ 4,  5,  6,  7],\n",
       "       [ 8,  9, 10, 11],\n",
       "       [12,  4,  5,  6]])"
      ]
     },
     "execution_count": 31,
     "metadata": {},
     "output_type": "execute_result"
    }
   ],
   "source": [
    "# Adding a scalar to an array adds the scalar to each element of the array\n",
    "arr1 + 3"
   ]
  },
  {
   "cell_type": "code",
   "execution_count": 32,
   "id": "49740c06",
   "metadata": {},
   "outputs": [
    {
     "data": {
      "text/plain": [
       "array([[0.5, 1. , 1.5, 2. ],\n",
       "       [2.5, 3. , 3.5, 4. ],\n",
       "       [4.5, 0.5, 1. , 1.5]])"
      ]
     },
     "execution_count": 32,
     "metadata": {},
     "output_type": "execute_result"
    }
   ],
   "source": [
    "# Dividing an array by a scalar divides all elements of the array by the scalar\n",
    "arr1 / 2"
   ]
  },
  {
   "cell_type": "code",
   "execution_count": 33,
   "id": "99a18133",
   "metadata": {},
   "outputs": [
    {
     "data": {
      "text/plain": [
       "array([[ 11,  24,  39,  56],\n",
       "       [ 75,  96, 119, 144],\n",
       "       [171,  11,  24,  39]])"
      ]
     },
     "execution_count": 33,
     "metadata": {},
     "output_type": "execute_result"
    }
   ],
   "source": [
    "# Element-wise multiplication\n",
    "arr1 * arr2"
   ]
  },
  {
   "cell_type": "code",
   "execution_count": 34,
   "id": "ab118b9a",
   "metadata": {},
   "outputs": [
    {
     "data": {
      "text/plain": [
       "array([[1, 2, 3, 0],\n",
       "       [1, 2, 3, 0],\n",
       "       [1, 1, 2, 3]])"
      ]
     },
     "execution_count": 34,
     "metadata": {},
     "output_type": "execute_result"
    }
   ],
   "source": [
    "# Modulus operator with scalar\n",
    "arr1 % 4"
   ]
  },
  {
   "cell_type": "markdown",
   "id": "0a46c920",
   "metadata": {},
   "source": [
    "### Comparison and Logical Operation"
   ]
  },
  {
   "cell_type": "markdown",
   "id": "ebd90b0e",
   "metadata": {},
   "source": [
    "Numpy arrays support comparison operations like `==`, `!=`, `>` etc. The result is an array of booleans."
   ]
  },
  {
   "cell_type": "code",
   "execution_count": 35,
   "id": "237ddd57",
   "metadata": {},
   "outputs": [],
   "source": [
    "arr1 = np.array([[1, 2, 3], [3, 4, 5]])\n",
    "arr2 = np.array([[2, 2, 3], [1, 2, 5]])"
   ]
  },
  {
   "cell_type": "code",
   "execution_count": 36,
   "id": "e8716350",
   "metadata": {},
   "outputs": [
    {
     "data": {
      "text/plain": [
       "array([[False,  True,  True],\n",
       "       [False, False,  True]])"
      ]
     },
     "execution_count": 36,
     "metadata": {},
     "output_type": "execute_result"
    }
   ],
   "source": [
    "arr1 == arr2"
   ]
  },
  {
   "cell_type": "code",
   "execution_count": 37,
   "id": "dc097ecd",
   "metadata": {},
   "outputs": [
    {
     "data": {
      "text/plain": [
       "array([[ True, False, False],\n",
       "       [ True,  True, False]])"
      ]
     },
     "execution_count": 37,
     "metadata": {},
     "output_type": "execute_result"
    }
   ],
   "source": [
    "arr1 != arr2"
   ]
  },
  {
   "cell_type": "code",
   "execution_count": 38,
   "id": "2aadd953",
   "metadata": {},
   "outputs": [
    {
     "data": {
      "text/plain": [
       "array([[False,  True,  True],\n",
       "       [ True,  True,  True]])"
      ]
     },
     "execution_count": 38,
     "metadata": {},
     "output_type": "execute_result"
    }
   ],
   "source": [
    "arr1 >= arr2"
   ]
  },
  {
   "cell_type": "code",
   "execution_count": 39,
   "id": "9476fd97",
   "metadata": {},
   "outputs": [
    {
     "data": {
      "text/plain": [
       "array([[ True, False, False],\n",
       "       [False, False, False]])"
      ]
     },
     "execution_count": 39,
     "metadata": {},
     "output_type": "execute_result"
    }
   ],
   "source": [
    "arr1 < arr2"
   ]
  },
  {
   "cell_type": "markdown",
   "id": "26620e44",
   "metadata": {},
   "source": [
    "Array comparison is frequently used to count the number of equal elements in two arrays using the `sum` method. Remember that `True` evaluates to `1` and `False` evaluates to `0` when booleans are used in arithmetic operations."
   ]
  },
  {
   "cell_type": "code",
   "execution_count": 40,
   "id": "990a8429",
   "metadata": {},
   "outputs": [
    {
     "data": {
      "text/plain": [
       "np.int64(3)"
      ]
     },
     "execution_count": 40,
     "metadata": {},
     "output_type": "execute_result"
    }
   ],
   "source": [
    "(arr1 == arr2).sum()"
   ]
  },
  {
   "cell_type": "markdown",
   "id": "ac4f66f9",
   "metadata": {},
   "source": [
    "###  Aggregate Functions: `np.sum()`, `np.mean()`, `np.min()`, `np.max()`\n",
    "\n",
    "####  Overall Aggregate Calculations:\n",
    "\n",
    "* `np.sum(array)`: Calculates the sum of all elements in the array.\n",
    "* `np.mean(array)`: Calculates the mean of all elements in the array.\n",
    "* `np.min(array)`: Finds the minimum value in the entire array.\n",
    "* `np.max(array)`: Finds the maximum value in the entire array.\n",
    "\n",
    "####  Row-Wise Calculations (axis=1):\n",
    "\n",
    "* `np.sum(array, axis=1)`: Computes the sum of elements in each row.\n",
    "* `np.mean(array, axis=1)`: Computes the mean of elements in each row.\n",
    "* `np.min(array, axis=1)`: Finds the minimum value in each row.\n",
    "* `np.max(array, axis=1)`: Finds the maximum value in each row.\n",
    "\n",
    "####  Column-Wise Calculations (axis=0):\n",
    "\n",
    "* `np.sum(array, axis=0)`: Computes the sum of elements in each column.\n",
    "* `np.mean(array, axis=0)`: Computes the mean of elements in each column.\n",
    "* `np.min(array, axis=0)`: Finds the minimum value in each column.\n",
    "* `np.max(array, axis=0)`: Finds the maximum value in each column."
   ]
  },
  {
   "cell_type": "code",
   "execution_count": 41,
   "id": "1dab499a",
   "metadata": {},
   "outputs": [
    {
     "name": "stdout",
     "output_type": "stream",
     "text": [
      "Original Array:\n",
      " [[4 7 1 3]\n",
      " [5 8 2 6]\n",
      " [9 3 5 2]]\n",
      "\n",
      "Sum of all elements: 55\n",
      "Mean of all elements: 4.583333333333333\n",
      "Minimum value in the array: 1\n",
      "Maximum value in the array: 9\n",
      "\n",
      "Sum along each row: [15 21 19]\n",
      "Mean along each row: [3.75 5.25 4.75]\n",
      "Minimum value along each row: [1 2 2]\n",
      "Maximum value along each row: [7 8 9]\n",
      "\n",
      "Sum along each column: [18 18  8 11]\n",
      "Mean along each column: [6.         6.         2.66666667 3.66666667]\n",
      "Minimum value along each column: [4 3 1 2]\n",
      "Maximum value along each column: [9 8 5 6]\n"
     ]
    }
   ],
   "source": [
    "# Create a 3x4 array of integers\n",
    "array = np.array([[4, 7, 1, 3],\n",
    "                  [5, 8, 2, 6],\n",
    "                  [9, 3, 5, 2]])\n",
    "\n",
    "# Display the original array\n",
    "print(\"Original Array:\\n\", array)\n",
    "\n",
    "# Calculate the sum, mean, minimum, and maximum for the entire array\n",
    "total_sum = np.sum(array)\n",
    "mean_value = np.mean(array)\n",
    "min_value = np.min(array)\n",
    "max_value = np.max(array)\n",
    "\n",
    "print(f\"\\nSum of all elements: {total_sum}\")  \n",
    "print(f\"Mean of all elements: {mean_value}\")  \n",
    "print(f\"Minimum value in the array: {min_value}\")  \n",
    "print(f\"Maximum value in the array: {max_value}\")  \n",
    "\n",
    "# Calculate the sum, mean, minimum, and maximum along each row (axis=1)\n",
    "row_sum = np.sum(array, axis=1)\n",
    "row_mean = np.mean(array, axis=1)\n",
    "row_min = np.min(array, axis=1)\n",
    "row_max = np.max(array, axis=1)\n",
    "\n",
    "print(\"\\nSum along each row:\", row_sum)  \n",
    "print(\"Mean along each row:\", row_mean)  \n",
    "print(\"Minimum value along each row:\", row_min)  \n",
    "print(\"Maximum value along each row:\", row_max)  \n",
    "\n",
    "# Calculate the sum, mean, minimum, and maximum along each column (axis=0)\n",
    "col_sum = np.sum(array, axis=0)\n",
    "col_mean = np.mean(array, axis=0)\n",
    "col_min = np.min(array, axis=0)\n",
    "col_max = np.max(array, axis=0)\n",
    "\n",
    "print(\"\\nSum along each column:\", col_sum)  \n",
    "print(\"Mean along each column:\", col_mean)  \n",
    "print(\"Minimum value along each column:\", col_min)  \n",
    "print(\"Maximum value along each column:\", col_max)  \n"
   ]
  },
  {
   "cell_type": "markdown",
   "id": "62310e5f",
   "metadata": {},
   "source": [
    "## Array Reshaping \n",
    "\n",
    "Certain functions and machine learning models require input data in a specific shape or format. For instance, operations like matrix multiplication and broadcasting depend on the alignment of array dimensions. Many deep learning models expect input data to be in a 4D array format (batch size, height, width, channels). Reshaping enables us to convert data into the necessary shape, ensuring compatibility without altering the underlying values.\n",
    "\n",
    "Below are some methods to reshape NumPy arrays:"
   ]
  },
  {
   "cell_type": "markdown",
   "id": "238ab132",
   "metadata": {},
   "source": [
    "### `reshape()`\n",
    "The `reshape` method in NumPy allows you to change the shape of an existing array without changing its data."
   ]
  },
  {
   "cell_type": "code",
   "execution_count": 42,
   "id": "67d065cb",
   "metadata": {},
   "outputs": [
    {
     "name": "stdout",
     "output_type": "stream",
     "text": [
      "[[1 2 3]\n",
      " [4 5 6]]\n"
     ]
    }
   ],
   "source": [
    "arr = np.array([1, 2, 3, 4, 5, 6])\n",
    "reshaped_arr = arr.reshape(2, 3)\n",
    "print(reshaped_arr)\n"
   ]
  },
  {
   "cell_type": "markdown",
   "id": "4649f7c3",
   "metadata": {},
   "source": [
    "Using`-1` for automatic dimension inference"
   ]
  },
  {
   "cell_type": "code",
   "execution_count": 43,
   "id": "b1531506",
   "metadata": {},
   "outputs": [
    {
     "name": "stdout",
     "output_type": "stream",
     "text": [
      "[[ 0  1  2  3]\n",
      " [ 4  5  6  7]\n",
      " [ 8  9 10 11]]\n"
     ]
    }
   ],
   "source": [
    "arr = np.arange(12)\n",
    "reshaped_arr = arr.reshape(3, -1)\n",
    "print(reshaped_arr)\n"
   ]
  },
  {
   "cell_type": "markdown",
   "id": "f7c1b3c3",
   "metadata": {},
   "source": [
    "Here, -1 means \"calculate this dimension based on the remaining dimensions and the total size of the array\". So, (3, -1) becomes (3, 4).\n",
    "\n"
   ]
  },
  {
   "cell_type": "markdown",
   "id": "f62bcd49",
   "metadata": {},
   "source": [
    "### `flatten()` and `ravel()`\n",
    "The `flatten` method returns a copy of the array collapsed into one dimension. It is useful when you need to perform operations that require 1D input or need to pass the array data as a linear sequence. `order` specifies the order in which elements are read, options include but not limited to:\n",
    "* `C` (default): Row-major (C-style).\n",
    "* `F`: Column-major (Fortran-style).\n",
    "\n",
    "In contrast, `ravel()` returns a flattened view of the original array whenever possible, without creating a copy."
   ]
  },
  {
   "cell_type": "code",
   "execution_count": 44,
   "id": "1bcd954e",
   "metadata": {},
   "outputs": [
    {
     "name": "stdout",
     "output_type": "stream",
     "text": [
      "[1 2 3 4 5 6]\n"
     ]
    }
   ],
   "source": [
    "arr = np.array([[1, 2, 3], [4, 5, 6]])\n",
    "flattened_arr = arr.flatten()\n",
    "print(flattened_arr)"
   ]
  },
  {
   "cell_type": "code",
   "execution_count": 45,
   "id": "6000c64e",
   "metadata": {},
   "outputs": [
    {
     "name": "stdout",
     "output_type": "stream",
     "text": [
      "[1 2 3 4 5 6]\n"
     ]
    }
   ],
   "source": [
    "# using ravel() to flatten the array\n",
    "flattened_arr = arr.ravel()\n",
    "print(flattened_arr)"
   ]
  },
  {
   "cell_type": "markdown",
   "id": "6ff9203f",
   "metadata": {},
   "source": [
    "### `resize()`\n",
    "Changes the shape and size of an array in place. Unlike `reshape()`, it can modify the array and fill additional elements with zeros if necessary."
   ]
  },
  {
   "cell_type": "code",
   "execution_count": 46,
   "id": "727c9e51",
   "metadata": {},
   "outputs": [
    {
     "name": "stdout",
     "output_type": "stream",
     "text": [
      "[[1 2 3]\n",
      " [4 0 0]]\n"
     ]
    }
   ],
   "source": [
    "arr = np.array([1, 2, 3, 4])\n",
    "arr.resize(2, 3) \n",
    "print(arr)"
   ]
  },
  {
   "cell_type": "markdown",
   "id": "177c89e5",
   "metadata": {},
   "source": [
    "### `tranpose()` or  [`T`](https://numpy.org/doc/stable/reference/generated/numpy.ndarray.T.html)\n",
    "Both can be used to transpose the NumPy array. This is often used to make matrices (2-dimensional arrays) compatible for multiplication."
   ]
  },
  {
   "cell_type": "code",
   "execution_count": 47,
   "id": "6c80c489",
   "metadata": {},
   "outputs": [
    {
     "name": "stdout",
     "output_type": "stream",
     "text": [
      "[[1 4]\n",
      " [2 5]\n",
      " [3 6]]\n",
      "[[1 4]\n",
      " [2 5]\n",
      " [3 6]]\n"
     ]
    }
   ],
   "source": [
    "arr = np.array([[1, 2, 3], [4, 5, 6]])\n",
    "transposed_arr = arr.transpose()  # Output: [[1 4], [2 5], [3 6]]\n",
    "print(transposed_arr)\n",
    "\n",
    "T_arr = arr.T  # Output: [[1 4], [2 5], [3 6]]\n",
    "print(T_arr)"
   ]
  },
  {
   "cell_type": "markdown",
   "id": "8f532174",
   "metadata": {},
   "source": [
    "## Arrays Concaternating \n",
    "\n",
    "NumPy provides several functions to concatenate arrays along different axes."
   ]
  },
  {
   "cell_type": "markdown",
   "id": "661017b9",
   "metadata": {},
   "source": [
    "### `np.concatenate()`\n",
    "Arrays can be concatenated along an axis with NumPy's [concatenate](https://numpy.org/doc/stable/reference/generated/numpy.concatenate.html) function. The `axis` argument specifies the dimension for concatenation. The arrays should have the same number of dimensions, and the same length along each axis except the axis used for concatenation."
   ]
  },
  {
   "cell_type": "markdown",
   "id": "0dc9052d",
   "metadata": {},
   "source": [
    "The examples below show concatenation of arrays."
   ]
  },
  {
   "cell_type": "code",
   "execution_count": 48,
   "id": "bb77eff2",
   "metadata": {},
   "outputs": [
    {
     "name": "stdout",
     "output_type": "stream",
     "text": [
      "Array 1:\n",
      " [[1 2 3]\n",
      " [3 4 5]]\n",
      "Array 2:\n",
      " [[2 2 3]\n",
      " [1 2 5]]\n"
     ]
    }
   ],
   "source": [
    "arr1 = np.array([[1, 2, 3], [3, 4, 5]])\n",
    "arr2 = np.array([[2, 2, 3], [1, 2, 5]])\n",
    "print(\"Array 1:\\n\",arr1)\n",
    "print(\"Array 2:\\n\",arr2)"
   ]
  },
  {
   "cell_type": "code",
   "execution_count": 49,
   "id": "bbe81e5d",
   "metadata": {},
   "outputs": [
    {
     "data": {
      "text/plain": [
       "array([[1, 2, 3],\n",
       "       [3, 4, 5],\n",
       "       [2, 2, 3],\n",
       "       [1, 2, 5]])"
      ]
     },
     "execution_count": 49,
     "metadata": {},
     "output_type": "execute_result"
    }
   ],
   "source": [
    "#Concatenating the arrays along the default axis: axis=0\n",
    "np.concatenate((arr1,arr2))"
   ]
  },
  {
   "cell_type": "code",
   "execution_count": 50,
   "id": "a538a500",
   "metadata": {},
   "outputs": [
    {
     "data": {
      "text/plain": [
       "array([[1, 2, 3, 2, 2, 3],\n",
       "       [3, 4, 5, 1, 2, 5]])"
      ]
     },
     "execution_count": 50,
     "metadata": {},
     "output_type": "execute_result"
    }
   ],
   "source": [
    "#Concatenating the arrays along axis = 1\n",
    "np.concatenate((arr1,arr2),axis=1)"
   ]
  },
  {
   "cell_type": "markdown",
   "id": "3ce4bbae",
   "metadata": {},
   "source": [
    "Here's a visual explanation of `np.concatenate` along `axis=1` (can you guess what `axis=0` results in?):\n",
    "\n",
    "<img src=\"https://www.w3resource.com/w3r_images/python-numpy-image-exercise-58.png\" width=\"300\">"
   ]
  },
  {
   "cell_type": "markdown",
   "id": "b631398f",
   "metadata": {},
   "source": [
    "Let us concatenate the array below (`arr3`) with `arr1`, along axis = 0."
   ]
  },
  {
   "cell_type": "code",
   "execution_count": 51,
   "id": "c57d00ac",
   "metadata": {},
   "outputs": [],
   "source": [
    "arr3 = np.array([2, 2, 3])"
   ]
  },
  {
   "cell_type": "code",
   "execution_count": 52,
   "id": "4e1bf7fc",
   "metadata": {},
   "outputs": [
    {
     "ename": "ValueError",
     "evalue": "all the input arrays must have same number of dimensions, but the array at index 0 has 2 dimension(s) and the array at index 1 has 1 dimension(s)",
     "output_type": "error",
     "traceback": [
      "\u001b[1;31m---------------------------------------------------------------------------\u001b[0m",
      "\u001b[1;31mValueError\u001b[0m                                Traceback (most recent call last)",
      "Cell \u001b[1;32mIn[52], line 1\u001b[0m\n\u001b[1;32m----> 1\u001b[0m \u001b[43mnp\u001b[49m\u001b[38;5;241;43m.\u001b[39;49m\u001b[43mconcatenate\u001b[49m\u001b[43m(\u001b[49m\u001b[43m(\u001b[49m\u001b[43marr1\u001b[49m\u001b[43m,\u001b[49m\u001b[43marr3\u001b[49m\u001b[43m)\u001b[49m\u001b[43m,\u001b[49m\u001b[43maxis\u001b[49m\u001b[38;5;241;43m=\u001b[39;49m\u001b[38;5;241;43m0\u001b[39;49m\u001b[43m)\u001b[49m\n",
      "\u001b[1;31mValueError\u001b[0m: all the input arrays must have same number of dimensions, but the array at index 0 has 2 dimension(s) and the array at index 1 has 1 dimension(s)"
     ]
    }
   ],
   "source": [
    "np.concatenate((arr1,arr3),axis=0)"
   ]
  },
  {
   "cell_type": "markdown",
   "id": "ed0633a4",
   "metadata": {},
   "source": [
    "Note the above error, which indicates that `arr3` has only one dimension. Let us check the shape of `arr3`."
   ]
  },
  {
   "cell_type": "code",
   "execution_count": 53,
   "id": "fa845379",
   "metadata": {},
   "outputs": [
    {
     "data": {
      "text/plain": [
       "(3,)"
      ]
     },
     "execution_count": 53,
     "metadata": {},
     "output_type": "execute_result"
    }
   ],
   "source": [
    "arr3.shape"
   ]
  },
  {
   "cell_type": "markdown",
   "id": "596b83a2",
   "metadata": {},
   "source": [
    "We can reshape `arr3` to a shape of (1,3) to make it compatible for concatenation with `arr1` along axis = 0. "
   ]
  },
  {
   "cell_type": "code",
   "execution_count": 54,
   "id": "993124c4",
   "metadata": {},
   "outputs": [
    {
     "data": {
      "text/plain": [
       "array([[2, 2, 3]])"
      ]
     },
     "execution_count": 54,
     "metadata": {},
     "output_type": "execute_result"
    }
   ],
   "source": [
    "arr3_reshaped = arr3.reshape(1,3)\n",
    "arr3_reshaped"
   ]
  },
  {
   "cell_type": "markdown",
   "id": "0f000579",
   "metadata": {},
   "source": [
    "Now we can concatenate the reshaped `arr3` with `arr1` along axis = 0."
   ]
  },
  {
   "cell_type": "code",
   "execution_count": null,
   "id": "f3f76e26",
   "metadata": {},
   "outputs": [
    {
     "data": {
      "text/plain": [
       "array([[1, 2, 3],\n",
       "       [3, 4, 5],\n",
       "       [2, 2, 3]])"
      ]
     },
     "metadata": {},
     "output_type": "display_data"
    }
   ],
   "source": [
    "np.concatenate((arr1,arr3_reshaped),axis=0)"
   ]
  },
  {
   "cell_type": "markdown",
   "id": "014026d6",
   "metadata": {},
   "source": [
    "### `np.vstack()` and `np.hstack()`\n",
    "* `np.vstack()`: Stacks arrays vertically (along rows).\n",
    "* `np.hstack()`: Stacks arrays horizontally (along columns)."
   ]
  },
  {
   "cell_type": "code",
   "execution_count": 55,
   "id": "20cd7b06",
   "metadata": {},
   "outputs": [
    {
     "name": "stdout",
     "output_type": "stream",
     "text": [
      "\n",
      "Vertical Stack:\n",
      " [[1 2 3]\n",
      " [3 4 5]\n",
      " [2 2 3]\n",
      " [1 2 5]]\n",
      "\n",
      "Horizontal Stack:\n",
      " [[1 2 3 2 2 3]\n",
      " [3 4 5 1 2 5]]\n"
     ]
    }
   ],
   "source": [
    "# Vertical stacking\n",
    "vstack = np.vstack((arr1, arr2))\n",
    "print(\"\\nVertical Stack:\\n\", vstack)\n",
    "\n",
    "# Horizontal stacking\n",
    "hstack = np.hstack((arr1, arr2))\n",
    "print(\"\\nHorizontal Stack:\\n\", hstack)\n"
   ]
  },
  {
   "cell_type": "markdown",
   "id": "d29644c9",
   "metadata": {},
   "source": [
    "##  Vectorization in NumPy\n",
    "\n",
    "### Introduction to Vectorization\n",
    "Vectorization is the process of applying operations to entire arrays or matrices simultaneously rather than iterating over individual elements using loops. This approach allows NumPy to utilize highly optimized C libraries for faster computation.\n",
    "\n",
    "![](https://encrypted-tbn0.gstatic.com/images?q=tbn:ANd9GcTQ_9hGutgPqNO9OCLy-vDyJub4iLpgThGZ9A&s)\n",
    "\n",
    "Benefits of Vectorization:\n",
    "\n",
    "* Performance: Significantly faster than using for-loops in Python.\n",
    "* Conciseness: Shorter and more readable code.\n",
    "* Efficiency: Reduces the overhead of Python loops and leverages lower-level optimizations."
   ]
  },
  {
   "cell_type": "markdown",
   "id": "e80c3403",
   "metadata": {},
   "source": [
    "###  Understanding Vectorized Operations with Examples"
   ]
  },
  {
   "cell_type": "code",
   "execution_count": 56,
   "id": "4aa4018c",
   "metadata": {},
   "outputs": [
    {
     "name": "stdout",
     "output_type": "stream",
     "text": [
      "Sum Array: [11 22 33 44 55]\n"
     ]
    }
   ],
   "source": [
    "# Create two arrays\n",
    "arr1 = np.array([1, 2, 3, 4, 5])\n",
    "arr2 = np.array([10, 20, 30, 40, 50])\n",
    "\n",
    "# Element-wise addition (vectorized operation)\n",
    "sum_arr = arr1 + arr2\n",
    "print(\"Sum Array:\", sum_arr)"
   ]
  },
  {
   "cell_type": "markdown",
   "id": "b7d81af4",
   "metadata": {},
   "source": [
    "###  NumPy Vectorization Vs Python for Loop\n",
    "\n",
    "`np.dot` is a vectorized operation in NumPy that performs matrix multiplication or dot product between arrays. It efficiently computes the element-wise multiplications and then sums them up. To better understand its efficiency, let's first implement the dot product using for loops, and then compare its performance with `np.dot` to see the benefits of vectorization."
   ]
  },
  {
   "cell_type": "code",
   "execution_count": 57,
   "id": "64cf89f1",
   "metadata": {},
   "outputs": [
    {
     "name": "stdout",
     "output_type": "stream",
     "text": [
      "Loop-based implementation result: 250068.46992, Time: 0.19136 seconds\n",
      "NumPy np.dot result: 250068.46992, Time: 0.00199 seconds\n"
     ]
    }
   ],
   "source": [
    "import time\n",
    "\n",
    "# Function to calculate dot product using for loops\n",
    "def dot_product_loops(arr1, arr2):\n",
    "    result = 0\n",
    "    for i in range(len(arr1)):\n",
    "        result += arr1[i] * arr2[i]\n",
    "    return result\n",
    "\n",
    "# Create sample arrays\n",
    "arr1 = np.random.rand(1000000)\n",
    "arr2 = np.random.rand(1000000)\n",
    "\n",
    "# Measure time for the loop-based implementation\n",
    "start_time = time.time()\n",
    "loop_result = dot_product_loops(arr1, arr2)\n",
    "loop_time = time.time() - start_time\n",
    "\n",
    "# Measure time for np.dot\n",
    "start_time = time.time()\n",
    "numpy_result = np.dot(arr1, arr2)\n",
    "numpy_time = time.time() - start_time\n",
    "\n",
    "# Display results\n",
    "print(f\"Loop-based implementation result: {loop_result:.5f}, Time: {loop_time:.5f} seconds\")\n",
    "print(f\"NumPy np.dot result: {numpy_result:.5f}, Time: {numpy_time:.5f} seconds\")\n"
   ]
  },
  {
   "cell_type": "markdown",
   "id": "ee6b0156",
   "metadata": {},
   "source": [
    "The `np.dot` function significantly outperforms the manual loop-based implementation because it leverages NumPy's vectorized operations, which is written in highly efficient C code. This example highlights why vectorized operations like `np.dot` are preferred for large-scale numerical computations in NumPy."
   ]
  },
  {
   "cell_type": "markdown",
   "id": "c460f897",
   "metadata": {},
   "source": [
    "### Broadcasting and Its Role in Vectorization\n",
    "Broadcasting allows NumPy to perform operations between arrays of different shapes by automatically expanding their dimensions. This is essential for vectorized operations involving arrays with varying shapes.\n",
    "\n",
    "Let's look at an example to see how it works"
   ]
  },
  {
   "cell_type": "code",
   "execution_count": 58,
   "id": "a1e4238a",
   "metadata": {},
   "outputs": [],
   "source": [
    "arr2 = np.array([[1, 2, 3, 4], \n",
    "                 [5, 6, 7, 8], \n",
    "                 [9, 1, 2, 3]])"
   ]
  },
  {
   "cell_type": "code",
   "execution_count": 59,
   "id": "5605234b",
   "metadata": {},
   "outputs": [],
   "source": [
    "arr4 = np.array([4, 5, 6, 7])"
   ]
  },
  {
   "cell_type": "code",
   "execution_count": 60,
   "id": "856277ae",
   "metadata": {},
   "outputs": [
    {
     "data": {
      "text/plain": [
       "array([[ 5,  7,  9, 11],\n",
       "       [ 9, 11, 13, 15],\n",
       "       [13,  6,  8, 10]])"
      ]
     },
     "execution_count": 60,
     "metadata": {},
     "output_type": "execute_result"
    }
   ],
   "source": [
    "arr2 + arr4"
   ]
  },
  {
   "cell_type": "markdown",
   "id": "1121389b",
   "metadata": {},
   "source": [
    "When the expression `arr2 + arr4` is evaluated, `arr4` (which has the shape `(4,)`) is replicated three times to match the shape `(3, 4)` of `arr2`. Numpy performs the replication without actually creating three copies of the smaller dimension array, thus improving performance and using lower memory.\n",
    "\n",
    "<img src=\"https://jakevdp.github.io/PythonDataScienceHandbook/figures/02.05-broadcasting.png\" width=\"360\">\n",
    "\n",
    "Broadcasting only works if one of the arrays can be replicated to match the other array's shape.\n",
    "\n",
    "* Dimensions of size 1 will broadcast (as if the value was repeated). \n",
    "* Otherwise, the dimension must have the same shape. "
   ]
  },
  {
   "cell_type": "code",
   "execution_count": 61,
   "id": "863cee97",
   "metadata": {},
   "outputs": [],
   "source": [
    "arr5 = np.array([7, 8])"
   ]
  },
  {
   "cell_type": "code",
   "execution_count": 62,
   "id": "f46f60d7",
   "metadata": {},
   "outputs": [
    {
     "ename": "ValueError",
     "evalue": "operands could not be broadcast together with shapes (3,4) (2,) ",
     "output_type": "error",
     "traceback": [
      "\u001b[1;31m---------------------------------------------------------------------------\u001b[0m",
      "\u001b[1;31mValueError\u001b[0m                                Traceback (most recent call last)",
      "Cell \u001b[1;32mIn[62], line 1\u001b[0m\n\u001b[1;32m----> 1\u001b[0m \u001b[43marr2\u001b[49m\u001b[43m \u001b[49m\u001b[38;5;241;43m+\u001b[39;49m\u001b[43m \u001b[49m\u001b[43marr5\u001b[49m\n",
      "\u001b[1;31mValueError\u001b[0m: operands could not be broadcast together with shapes (3,4) (2,) "
     ]
    }
   ],
   "source": [
    "arr2 + arr5"
   ]
  },
  {
   "cell_type": "markdown",
   "id": "eee1fe0e",
   "metadata": {},
   "source": [
    "In the above example, even if `arr5` is replicated three times, it will not match the shape of `arr2`. Hence `arr2 + arr5` cannot be evaluated successfully. See the [broadcasting documentation](https://numpy.org/doc/stable/user/basics.broadcasting.html) to learn more about it."
   ]
  },
  {
   "cell_type": "markdown",
   "id": "552dea11",
   "metadata": {},
   "source": [
    "### Matrix Multiplication in NumPy with Vectorization\n",
    "\n",
    "Matrix multiplication is one of the most common and computationally intensive operations in numerical computing and deep learning. NumPy offers efficient and highly optimized methods for performing matrix multiplication, which leverage vectorization to handle large matrices quickly and accurately.\n",
    "\n",
    "**Note that**: NumPy matrix operations follow the standard rules of linear algebra, so it’s important to ensure that the shapes of the matrices are compatible. If they are not, consider reshaping the matrices before performing multiplication\n",
    "\n",
    "There are two commonly methods for matrix multiplication\n",
    "\n",
    "#### Method 1: Matrix Multiplication Using `np.dot()`"
   ]
  },
  {
   "cell_type": "code",
   "execution_count": 63,
   "id": "f03800da",
   "metadata": {},
   "outputs": [
    {
     "name": "stdout",
     "output_type": "stream",
     "text": [
      "Matrix Multiplication using np.dot:\n",
      " [[ 58  64]\n",
      " [139 154]]\n",
      "\n",
      "Matrix Multiplication using dot method:\n",
      " [[ 58  64]\n",
      " [139 154]]\n"
     ]
    }
   ],
   "source": [
    "# Define two 2D arrays (matrices)\n",
    "matrix1 = np.array([[1, 2, 3], \n",
    "                    [4, 5, 6]])\n",
    "matrix2 = np.array([[7, 8], \n",
    "                    [9, 10], \n",
    "                    [11, 12]])\n",
    "\n",
    "# Matrix multiplication using np.dot\n",
    "result_dot = np.dot(matrix1, matrix2)\n",
    "print(\"Matrix Multiplication using np.dot:\\n\", result_dot)\n",
    "\n",
    "# Another way to perform np.dot for matrix multiplication\n",
    "result_dot2 = matrix1.dot(matrix2)\n",
    "print(\"\\nMatrix Multiplication using dot method:\\n\", result_dot2)\n"
   ]
  },
  {
   "cell_type": "markdown",
   "id": "4930b8dc",
   "metadata": {},
   "source": [
    "#### Method 2: Matrix Multiplication using `np.matmul()` pr `@`"
   ]
  },
  {
   "cell_type": "code",
   "execution_count": 64,
   "id": "9c866daf",
   "metadata": {},
   "outputs": [
    {
     "name": "stdout",
     "output_type": "stream",
     "text": [
      "\n",
      "Matrix Multiplication using np.matmul:\n",
      " [[ 58  64]\n",
      " [139 154]]\n",
      "\n",
      "Matrix Multiplication using @ operator:\n",
      " [[ 58  64]\n",
      " [139 154]]\n"
     ]
    }
   ],
   "source": [
    "# Matrix multiplication using np.matmul or @ operator\n",
    "result_matmul = np.matmul(matrix1, matrix2)\n",
    "result_operator = matrix1 @ matrix2\n",
    "print(\"\\nMatrix Multiplication using np.matmul:\\n\", result_matmul)\n",
    "print(\"\\nMatrix Multiplication using @ operator:\\n\", result_operator)\n"
   ]
  },
  {
   "cell_type": "markdown",
   "id": "07d8e87c",
   "metadata": {},
   "source": [
    "Note that `*` operator in numpy is element-wise multiplication"
   ]
  },
  {
   "cell_type": "code",
   "execution_count": 1,
   "id": "2f186fb8",
   "metadata": {},
   "outputs": [],
   "source": [
    "# using * operator for element-wise multiplication, please uncomment the code below to run\n",
    "# element_wise = matrix1 * matrix2\n",
    "# print(\"\\nElement-wise Multiplication:\\n\", element_wise)"
   ]
  },
  {
   "cell_type": "code",
   "execution_count": 66,
   "id": "c129c96b",
   "metadata": {},
   "outputs": [
    {
     "name": "stdout",
     "output_type": "stream",
     "text": [
      "\n",
      "Element-wise Multiplication after reshaping:\n",
      " [[ 7 16 27]\n",
      " [40 55 72]]\n"
     ]
    }
   ],
   "source": [
    "# reshape the array for element-wise multiplication\n",
    "matrix2_reshaped = matrix2.reshape(2, 3)\n",
    "element_wise = matrix1 * matrix2_reshaped\n",
    "print(\"\\nElement-wise Multiplication after reshaping:\\n\", element_wise)"
   ]
  },
  {
   "cell_type": "markdown",
   "id": "c13e2398",
   "metadata": {},
   "source": [
    "## Converting Between NumPy Arrays and pandas DataFrames\n",
    "\n",
    "### Why Conversion Matters\n",
    "\n",
    "While both pandas and NumPy are integral to data science, they serve different purposes:\n",
    "\n",
    "1. pandas:\n",
    "   - Foucses on **data manipulation** and analysis\n",
    "   - Provided intuitive tools to work with **tabular data**(e.g., labeled rows and columns).\n",
    "\n",
    "2. NumPy:\n",
    "   - Optimized for **numerical computations**.\n",
    "   - Offers mathematical functions like matrix multiplication, matrix decomposition, and eigenvalue computations, which pandas does not directly support.\n"
   ]
  },
  {
   "cell_type": "markdown",
   "id": "a5f54405",
   "metadata": {},
   "source": [
    "### Converting a NumPy Array to a pandas DataFrame\n",
    "\n",
    "You have numerical data stored in a NumPy array and want to apply pandas functionalities like labeling rows/columns or analyzing tabular data."
   ]
  },
  {
   "cell_type": "code",
   "execution_count": null,
   "id": "e0ec8320",
   "metadata": {},
   "outputs": [
    {
     "name": "stdout",
     "output_type": "stream",
     "text": [
      "    A   B   C\n",
      "0  10  20  30\n",
      "1  40  50  60\n",
      "2  70  80  90\n"
     ]
    }
   ],
   "source": [
    "# Create a NumPy array\n",
    "data = np.array([[10, 20, 30], [40, 50, 60], [70, 80, 90]])\n",
    "\n",
    "# Convert to a DataFrame\n",
    "df = pd.DataFrame(data, columns=['A', 'B', 'C'])\n",
    "\n",
    "# Display the DataFrame\n",
    "print(df)"
   ]
  },
  {
   "cell_type": "markdown",
   "id": "1a1e215e",
   "metadata": {},
   "source": [
    "**Key Points**\n",
    "\n",
    "- Use the `pd.DataFrame()` constructor to create a DataFrame from a NumPy array.\n",
    "- You can specify:\n",
    "  - **Column names** using the `columns` parameter.\n",
    "  - **Row labels** using the `index` parameter.\n",
    "- If `columns` or `index` are not specified, pandas assigns default labels:\n",
    "  - Columns: `0, 1, 2, ...`\n",
    "  - Rows: `0, 1, 2, ...`"
   ]
  },
  {
   "cell_type": "markdown",
   "id": "49db6441",
   "metadata": {},
   "source": [
    "### Converting a pandas DataFrame to a NumPy Array\n",
    "\n",
    "You have a pandas DataFrame and want to perform NumPy operations for optimized numerical processing."
   ]
  },
  {
   "cell_type": "code",
   "execution_count": 2,
   "id": "02b8b164",
   "metadata": {},
   "outputs": [
    {
     "name": "stdout",
     "output_type": "stream",
     "text": [
      "[[10 20 30]\n",
      " [40 50 60]\n",
      " [70 80 90]]\n"
     ]
    }
   ],
   "source": [
    "# Convert DataFrame to NumPy array\n",
    "array = df.to_numpy()\n",
    "\n",
    "# Display the NumPy array\n",
    "print(array)\n"
   ]
  },
  {
   "cell_type": "markdown",
   "id": "9eaafaa6",
   "metadata": {},
   "source": [
    "**Key Points**\n",
    "* Use `.to_numpy()` for conversion.\n",
    "* `.values` is an older method but still works (not recommended for newer code)."
   ]
  },
  {
   "cell_type": "markdown",
   "metadata": {},
   "source": [
    "###  Preserving Index and Column Information\n",
    "\n",
    "When converting a DataFrame to an array and back, ensure row/column labels are retained."
   ]
  },
  {
   "cell_type": "code",
   "execution_count": null,
   "id": "8cec2321",
   "metadata": {},
   "outputs": [
    {
     "name": "stdout",
     "output_type": "stream",
     "text": [
      "    A   B   C\n",
      "0  10  20  30\n",
      "1  40  50  60\n",
      "2  70  80  90\n"
     ]
    }
   ],
   "source": [
    "# Convert DataFrame to NumPy array\n",
    "array_with_labels = df.to_numpy()\n",
    "\n",
    "# Convert back to a DataFrame\n",
    "df_restored = pd.DataFrame(array_with_labels, columns=df.columns, index=df.index)\n",
    "\n",
    "# Display the restored DataFrame\n",
    "print(df_restored)"
   ]
  },
  {
   "cell_type": "markdown",
   "id": "63f37660",
   "metadata": {},
   "source": [
    "Note that you need to manually pass `columns` and `index` back when re-creating the DataFrame."
   ]
  },
  {
   "cell_type": "markdown",
   "id": "5cc2e648",
   "metadata": {},
   "source": [
    "### Practice User Cases\n",
    "\n",
    "#### Case 1: Adding labels to a NumPy Array"
   ]
  },
  {
   "cell_type": "code",
   "execution_count": 4,
   "id": "0c7759ba",
   "metadata": {},
   "outputs": [
    {
     "name": "stdout",
     "output_type": "stream",
     "text": [
      "   Feature1  Feature2  Feature3\n",
      "0  0.867644  0.478449  0.684584\n",
      "1  0.378309  0.860889  0.096055\n",
      "2  0.168311  0.981326  0.685720\n",
      "3  0.459235  0.340368  0.396904\n"
     ]
    }
   ],
   "source": [
    "# NumPy array without labels\n",
    "data = np.random.rand(4, 3)\n",
    "\n",
    "# Add labels by converting to a DataFrame\n",
    "df_with_labels = pd.DataFrame(data, columns=['Feature1', 'Feature2', 'Feature3'])\n",
    "\n",
    "print(df_with_labels)\n"
   ]
  },
  {
   "cell_type": "markdown",
   "id": "1b88b8bc",
   "metadata": {},
   "source": [
    "#### Case 2: Perform Numerical Computations"
   ]
  },
  {
   "cell_type": "code",
   "execution_count": null,
   "id": "91c76d9b",
   "metadata": {},
   "outputs": [
    {
     "name": "stdout",
     "output_type": "stream",
     "text": [
      "   A   B\n",
      "0  1  16\n",
      "1  4  25\n",
      "2  9  36\n"
     ]
    }
   ],
   "source": [
    "# DataFrame for tabular manipulation\n",
    "df = pd.DataFrame({'A': [1, 2, 3], 'B': [4, 5, 6]})\n",
    "\n",
    "# Convert to NumPy for computations\n",
    "array = df.to_numpy()\n",
    "\n",
    "# Perform a NumPy operation\n",
    "array_squared = np.square(array)\n",
    "\n",
    "# Convert back to a DataFrame\n",
    "df_squared = pd.DataFrame(array_squared, columns=df.columns)\n",
    "\n",
    "print(df_squared)"
   ]
  },
  {
   "cell_type": "markdown",
   "id": "b1ac8056",
   "metadata": {},
   "source": [
    "### Best Practices\n",
    "\n",
    "* **Check Data Types**: Ensure the data in your DataFrame is numerical before converting to NumPy for computations."
   ]
  },
  {
   "cell_type": "code",
   "execution_count": 7,
   "id": "7334c88b",
   "metadata": {},
   "outputs": [
    {
     "name": "stdout",
     "output_type": "stream",
     "text": [
      "A    int64\n",
      "B    int64\n",
      "dtype: object\n"
     ]
    }
   ],
   "source": [
    "print(df.dtypes)"
   ]
  },
  {
   "cell_type": "markdown",
   "id": "5ed91f10",
   "metadata": {},
   "source": [
    "* **Handle Missing Values**: Fill or drop missing values (NaN) in DataFrames before conversion to avoid errors in NumPy."
   ]
  },
  {
   "cell_type": "code",
   "execution_count": 8,
   "id": "69623061",
   "metadata": {},
   "outputs": [],
   "source": [
    "df = df.fillna(0)"
   ]
  },
  {
   "cell_type": "markdown",
   "id": "3c86b94f",
   "metadata": {},
   "source": [
    "* **Optimize for Performance**: Use NumPy for heavy numerical computations and pandas for data manipulation."
   ]
  },
  {
   "cell_type": "markdown",
   "id": "6398136f",
   "metadata": {},
   "source": [
    "* **Convert Back to pandas for Analysis**: \n",
    "After computations, convert the NumPy array back to pandas if you need labeled data for further analysis or visualization."
   ]
  },
  {
   "cell_type": "markdown",
   "id": "93341fba",
   "metadata": {},
   "source": [
    "### Comparison Table\n",
    "\n",
    "| **Operation**        | **pandas DataFrame**          | **NumPy Array**          |\n",
    "|-----------------------|-------------------------------|---------------------------|\n",
    "| **Row/Column Labels** | Yes                           | No                        |\n",
    "| **Indexing**          | Label-based (`loc`, `iloc`)   | Integer-based only        |\n",
    "| **Mathematical Ops**  | Slower (handles metadata)     | Faster                    |\n",
    "| **Missing Data**      | Supports (`NaN`)             | Does not support (`NaN`)  |"
   ]
  },
  {
   "cell_type": "markdown",
   "id": "59729cfe",
   "metadata": {},
   "source": [
    "##  Random Number Generation in NumPy\n",
    "\n",
    "NumPy provides a variety of functions for generating random numbers through its numpy.random module. These functions can generate random numbers for different distributions and array shapes, making them essential for simulations, statistical sampling, and machine learning applications."
   ]
  },
  {
   "cell_type": "markdown",
   "id": "03603878",
   "metadata": {},
   "source": [
    "###  Key Functions for Random Number Generation in NumPy\n",
    "\n",
    "1. `np.random.rand()`: Generates random numbers from a uniform distribution between 0 and 1."
   ]
  },
  {
   "cell_type": "code",
   "execution_count": 67,
   "id": "57fc7f08",
   "metadata": {},
   "outputs": [
    {
     "name": "stdout",
     "output_type": "stream",
     "text": [
      "[[0.59160333 0.1864713  0.70446818]\n",
      " [0.46476414 0.75172527 0.2225734 ]]\n"
     ]
    }
   ],
   "source": [
    "# Generate a 2x3 array of random values between 0 and 1\n",
    "rand_array = np.random.rand(2, 3)\n",
    "print(rand_array)"
   ]
  },
  {
   "cell_type": "markdown",
   "id": "dee7f092",
   "metadata": {},
   "source": [
    "2. `np.random.randn()`: Generates random numbers from a standard normal distribution (mean = 0, standard deviation = 1). It is useful for simulating Gaussian distributed data"
   ]
  },
  {
   "cell_type": "code",
   "execution_count": 68,
   "id": "342e2991",
   "metadata": {},
   "outputs": [
    {
     "name": "stdout",
     "output_type": "stream",
     "text": [
      "[[ 0.96287539 -0.57932461 -0.25728454]\n",
      " [ 0.33379165  0.01331971 -0.19328112]\n",
      " [-0.79966965 -1.20325527  1.50081961]]\n"
     ]
    }
   ],
   "source": [
    "normal_array = np.random.randn(3, 3)\n",
    "print(normal_array)"
   ]
  },
  {
   "cell_type": "markdown",
   "id": "17d66bf4",
   "metadata": {},
   "source": [
    "NumPy's [random](https://numpy.org/doc/stable/reference/random/index.html) module can be used to generate arrays of random numbers from several different probability distributions. For example, a `3x5` array of uniformly distributed random numbers can be generated using the `uniform` function of the `random` module."
   ]
  },
  {
   "cell_type": "markdown",
   "id": "3e5091a7",
   "metadata": {},
   "source": [
    "3. `np.random.randint()`: Generate random integers within a specific range, you can specify `low` and  `high` values and the shape of the output array"
   ]
  },
  {
   "cell_type": "code",
   "execution_count": 69,
   "id": "4c5a2497",
   "metadata": {},
   "outputs": [
    {
     "name": "stdout",
     "output_type": "stream",
     "text": [
      "[[13 17 15 18]\n",
      " [10 11 13 15]\n",
      " [13 12 12 13]\n",
      " [17 14 11 16]]\n"
     ]
    }
   ],
   "source": [
    "# Generate a 4x4 matrix of random integers between 10 and 20\n",
    "int_array = np.random.randint(10, 20, (4, 4))\n",
    "print(int_array)"
   ]
  },
  {
   "cell_type": "markdown",
   "id": "333ab33a",
   "metadata": {},
   "source": [
    "4. `np.random.choice()`: Random selects elements from an input array"
   ]
  },
  {
   "cell_type": "code",
   "execution_count": 70,
   "id": "0577f9dc",
   "metadata": {},
   "outputs": [
    {
     "name": "stdout",
     "output_type": "stream",
     "text": [
      "[4 3 5 2 2]\n"
     ]
    }
   ],
   "source": [
    "# Select 5 random elements from the array [1, 2, 3, 4, 5] with replacement\n",
    "choice_array = np.random.choice([1, 2, 3, 4, 5], size=5, replace=True)\n",
    "print(choice_array)"
   ]
  },
  {
   "cell_type": "markdown",
   "id": "d922f088",
   "metadata": {},
   "source": [
    "5. `np.random.uniform()`: Generates random floating-point numbers between a specified range (low, high) that follow uniform distribution"
   ]
  },
  {
   "cell_type": "code",
   "execution_count": 71,
   "id": "40c55cd9",
   "metadata": {},
   "outputs": [
    {
     "name": "stdout",
     "output_type": "stream",
     "text": [
      "[ 8.96337061  9.80411528  7.1623284   9.58883996 11.82330829 10.53508984]\n"
     ]
    }
   ],
   "source": [
    "# Generate 6 random numbers from a normal distribution with mean=10 and std=2\n",
    "custom_normal = np.random.normal(10, 2, size=6)\n",
    "print(custom_normal)\n"
   ]
  },
  {
   "cell_type": "code",
   "execution_count": 72,
   "id": "5398c485",
   "metadata": {},
   "outputs": [
    {
     "name": "stdout",
     "output_type": "stream",
     "text": [
      "[-4.76424391 -2.90776829  4.56871733  2.3230159  -4.72083461]\n"
     ]
    }
   ],
   "source": [
    "# Generate a 1D array of 5 random numbers between -5 and 5\n",
    "uniform_array = np.random.uniform(-5, 5, size=5)\n",
    "print(uniform_array)\n"
   ]
  },
  {
   "cell_type": "markdown",
   "id": "02726749",
   "metadata": {},
   "source": [
    "6. `np.random.normal()`: Generates random numbers from a normal distribution with a specified mean and standard deviation."
   ]
  },
  {
   "cell_type": "code",
   "execution_count": 73,
   "id": "cff1bf6d",
   "metadata": {},
   "outputs": [
    {
     "data": {
      "text/plain": [
       "array([[0.66198756, 0.76365694, 0.79924355, 0.80723229, 0.0661366 ],\n",
       "       [0.5777333 , 0.49288606, 0.02914087, 0.61883579, 0.04236321],\n",
       "       [0.2049758 , 0.9819383 , 0.65983787, 0.87025466, 0.39354816]])"
      ]
     },
     "execution_count": 73,
     "metadata": {},
     "output_type": "execute_result"
    }
   ],
   "source": [
    "np.random.uniform(size = (3,5))"
   ]
  },
  {
   "cell_type": "markdown",
   "id": "a515ae14",
   "metadata": {},
   "source": [
    "For a full list, please check the [offcial website](https://numpy.org/doc/stable/reference/random/generated/numpy.random.randint.html)"
   ]
  },
  {
   "cell_type": "markdown",
   "id": "0e13ff9d",
   "metadata": {},
   "source": [
    "Random numbers can also be generated by Python's built-in [random](https://docs.python.org/3/library/random.html) module. However, it generates one random number at a time, which makes it much slower than NumPy's random module."
   ]
  },
  {
   "cell_type": "markdown",
   "id": "8fa83d5c",
   "metadata": {},
   "source": [
    "##  Independent Practice:\n",
    "\n",
    "###  Practice exercise 1"
   ]
  },
  {
   "cell_type": "markdown",
   "id": "2e547e66",
   "metadata": {},
   "source": [
    "#### \n",
    "Read the coordinates of the capital cities of the world from https://gist.github.com/ofou/df09a6834a8421b4f376c875194915c9 . \n",
    "\n",
    "Task 1: Use NumPy to print the name and coordinates of the capital city closest to the US capital - Washington DC. \n",
    "\n",
    "Note that:\n",
    "\n",
    "1. The *Country Name* for US is given as *United States of America* in the data.\n",
    "2. The 'closeness' of capital cities from the US capital is based on the Euclidean distance of their coordinates to those of the US capital.\n",
    "\n",
    "**Hints:**\n",
    "\n",
    "1. Use the *to_numpy()* function of the *Pandas DataFrame* class to convert a DataFrame to a Numpy array\n",
    "2. Use *broadcasting* to compute the euclidean distance of capital cities from Washington DC.\n",
    "3. Use `np.argmin` to locate the index of the minimum value in an array\n",
    "4. Exclude the capital itself to avoid trivial zero values in the results."
   ]
  },
  {
   "cell_type": "markdown",
   "id": "0b1e3ead",
   "metadata": {},
   "source": [
    "**Solution:**"
   ]
  },
  {
   "cell_type": "code",
   "execution_count": 77,
   "id": "48813071",
   "metadata": {},
   "outputs": [
    {
     "name": "stdout",
     "output_type": "stream",
     "text": [
      "Closest capital city is: Ottawa-Gatineau\n",
      "Coordinates of the closest capital city are: [ 45.4166 -75.698 ]\n"
     ]
    }
   ],
   "source": [
    "\n",
    "capital_cities = pd.read_csv('./datasets/country-capital-lat-long-population.csv')\n",
    "coordinates_capital_cities = capital_cities[['Latitude', 'Longitude']].to_numpy()\n",
    "us_coordinates = capital_cities.loc[capital_cities['Country']=='United States of America',['Latitude','Longitude']].to_numpy()\n",
    "\n",
    "#Broadcasting\n",
    "distance_from_DC = np.sqrt(np.sum((us_coordinates-coordinates_capital_cities)**2,axis=1))\n",
    "\n",
    "#Assigning a high value of distance to DC, otherwise it will itself be selected as being closest to DC\n",
    "distance_from_DC[distance_from_DC==0]=9999\n",
    "closest_capital_index = np.argmin(distance_from_DC)\n",
    "print(\"Closest capital city is:\" ,capital_cities.loc[closest_capital_index,'Capital City'])\n",
    "print(\"Coordinates of the closest capital city are:\",coordinates_capital_cities[closest_capital_index,:])"
   ]
  },
  {
   "cell_type": "markdown",
   "id": "5fbe10b2",
   "metadata": {},
   "source": [
    "Task 2: \n",
    "Use NumPy to:\n",
    "\n",
    "1. Print the names of the countries of the top 10 capital cities closest to the US capital - Washington DC. \n",
    "\n",
    "2. Create and print a NumPy array containing the coordinates of the top 10 cities.\n",
    "\n",
    "\n",
    "**Hint:**\n",
    "Use the *concatenate()* function from the *NumPy* library to stack the coordinates of the top 10 cities."
   ]
  },
  {
   "cell_type": "code",
   "execution_count": null,
   "id": "3af344b1",
   "metadata": {},
   "outputs": [
    {
     "name": "stdout",
     "output_type": "stream",
     "text": [
      "Top 10 countries closest to Washington DC are:\n",
      " Canada\n",
      "Cuba\n",
      "Turks and Caicos Islands\n",
      "Cayman Islands\n",
      "Haiti\n",
      "Jamaica\n",
      "Dominican Republic\n",
      "Saint Pierre and Miquelon\n",
      "Puerto Rico\n",
      "United States Virgin Islands\n",
      "Coordinates of the top 10 cities closest to US are: \n",
      " [[ 32.2915 -64.778 ]\n",
      " [ 23.1195 -82.3785]\n",
      " [ 21.4612 -71.1419]\n",
      " [ 19.2866 -81.3744]\n",
      " [ 18.5392 -72.335 ]\n",
      " [ 17.997  -76.7936]\n",
      " [ 18.4896 -69.9018]\n",
      " [ 46.7738 -56.1815]\n",
      " [ 18.4663 -66.1057]\n",
      " [ 18.3419 -64.9307]]\n"
     ]
    }
   ],
   "source": [
    "top10_cities_coordinates = coordinates_capital_cities[closest_capital_index,:].reshape(1,2)\n",
    "print(\"Top 10 countries closest to Washington DC are:\\n Canada\")\n",
    "for i in range(9):\n",
    "    distance_from_DC[closest_capital_index]=9999\n",
    "    closest_capital_index = np.argmin(distance_from_DC)\n",
    "    print(capital_cities.loc[closest_capital_index,'Country'])\n",
    "    top10_cities_coordinates=np.concatenate((top10_cities_coordinates,coordinates_capital_cities[closest_capital_index,:].reshape(1,2)))\n",
    "print(\"Coordinates of the top 10 cities closest to US are: \\n\",top10_cities_coordinates)"
   ]
  },
  {
   "cell_type": "markdown",
   "id": "eed2e3a1",
   "metadata": {},
   "source": [
    "### Practice exercise 2:\n",
    "This exercise will show vectorized computations with NumPy. Vectorized computations help perform computations more efficiently, and also make the code concise.\n",
    "\n",
    "**Q:** Read the (1) quantities of roll, bun, cake and bread required by 3 people - Ben, Barbara & Beth, from *food_quantity.csv*, (2) price of these food items in two shops - Target and Kroger, from *price.csv*. Find out which shop should each person go to minimize their expenses."
   ]
  },
  {
   "cell_type": "code",
   "execution_count": null,
   "id": "3d74d0b1",
   "metadata": {},
   "outputs": [],
   "source": [
    "#Reading the datasets on food quantity and price\n",
    "import pandas as pd\n",
    "food_qty = pd.read_csv('../data/food_quantity.csv',index_col=0)\n",
    "price = pd.read_csv('../data/price.csv',index_col=0)"
   ]
  },
  {
   "cell_type": "code",
   "execution_count": null,
   "id": "b32dd9f9",
   "metadata": {},
   "outputs": [
    {
     "data": {
      "text/html": [
       "<div>\n",
       "<style scoped>\n",
       "    .dataframe tbody tr th:only-of-type {\n",
       "        vertical-align: middle;\n",
       "    }\n",
       "\n",
       "    .dataframe tbody tr th {\n",
       "        vertical-align: top;\n",
       "    }\n",
       "\n",
       "    .dataframe thead th {\n",
       "        text-align: right;\n",
       "    }\n",
       "</style>\n",
       "<table border=\"1\" class=\"dataframe\">\n",
       "  <thead>\n",
       "    <tr style=\"text-align: right;\">\n",
       "      <th></th>\n",
       "      <th>roll</th>\n",
       "      <th>bun</th>\n",
       "      <th>cake</th>\n",
       "      <th>bread</th>\n",
       "    </tr>\n",
       "    <tr>\n",
       "      <th>Person</th>\n",
       "      <th></th>\n",
       "      <th></th>\n",
       "      <th></th>\n",
       "      <th></th>\n",
       "    </tr>\n",
       "  </thead>\n",
       "  <tbody>\n",
       "    <tr>\n",
       "      <th>Ben</th>\n",
       "      <td>6</td>\n",
       "      <td>5</td>\n",
       "      <td>3</td>\n",
       "      <td>1</td>\n",
       "    </tr>\n",
       "    <tr>\n",
       "      <th>Barbara</th>\n",
       "      <td>3</td>\n",
       "      <td>6</td>\n",
       "      <td>2</td>\n",
       "      <td>2</td>\n",
       "    </tr>\n",
       "    <tr>\n",
       "      <th>Beth</th>\n",
       "      <td>3</td>\n",
       "      <td>4</td>\n",
       "      <td>3</td>\n",
       "      <td>1</td>\n",
       "    </tr>\n",
       "  </tbody>\n",
       "</table>\n",
       "</div>"
      ],
      "text/plain": [
       "         roll  bun  cake  bread\n",
       "Person                         \n",
       "Ben         6    5     3      1\n",
       "Barbara     3    6     2      2\n",
       "Beth        3    4     3      1"
      ]
     },
     "metadata": {},
     "output_type": "display_data"
    }
   ],
   "source": [
    "food_qty"
   ]
  },
  {
   "cell_type": "code",
   "execution_count": null,
   "id": "0804222b",
   "metadata": {},
   "outputs": [
    {
     "data": {
      "text/html": [
       "<div>\n",
       "<style scoped>\n",
       "    .dataframe tbody tr th:only-of-type {\n",
       "        vertical-align: middle;\n",
       "    }\n",
       "\n",
       "    .dataframe tbody tr th {\n",
       "        vertical-align: top;\n",
       "    }\n",
       "\n",
       "    .dataframe thead th {\n",
       "        text-align: right;\n",
       "    }\n",
       "</style>\n",
       "<table border=\"1\" class=\"dataframe\">\n",
       "  <thead>\n",
       "    <tr style=\"text-align: right;\">\n",
       "      <th></th>\n",
       "      <th>Target</th>\n",
       "      <th>Kroger</th>\n",
       "    </tr>\n",
       "    <tr>\n",
       "      <th>Item</th>\n",
       "      <th></th>\n",
       "      <th></th>\n",
       "    </tr>\n",
       "  </thead>\n",
       "  <tbody>\n",
       "    <tr>\n",
       "      <th>roll</th>\n",
       "      <td>1.5</td>\n",
       "      <td>1.0</td>\n",
       "    </tr>\n",
       "    <tr>\n",
       "      <th>bun</th>\n",
       "      <td>2.0</td>\n",
       "      <td>2.5</td>\n",
       "    </tr>\n",
       "    <tr>\n",
       "      <th>cake</th>\n",
       "      <td>5.0</td>\n",
       "      <td>4.5</td>\n",
       "    </tr>\n",
       "    <tr>\n",
       "      <th>bread</th>\n",
       "      <td>16.0</td>\n",
       "      <td>17.0</td>\n",
       "    </tr>\n",
       "  </tbody>\n",
       "</table>\n",
       "</div>"
      ],
      "text/plain": [
       "       Target  Kroger\n",
       "Item                 \n",
       "roll      1.5     1.0\n",
       "bun       2.0     2.5\n",
       "cake      5.0     4.5\n",
       "bread    16.0    17.0"
      ]
     },
     "metadata": {},
     "output_type": "display_data"
    }
   ],
   "source": [
    "price"
   ]
  },
  {
   "cell_type": "markdown",
   "id": "7378961f",
   "metadata": {},
   "source": [
    "First, let's start from a simple problem. We'll compute the expenses of Ben if he prefers to buy all food items from Target"
   ]
  },
  {
   "cell_type": "code",
   "execution_count": null,
   "id": "54998b3d",
   "metadata": {},
   "outputs": [
    {
     "name": "stdout",
     "output_type": "stream",
     "text": [
      "CPU times: total: 0 ns\n",
      "Wall time: 0 ns\n"
     ]
    },
    {
     "data": {
      "text/plain": [
       "np.float64(50.0)"
      ]
     },
     "metadata": {},
     "output_type": "display_data"
    }
   ],
   "source": [
    "%%time\n",
    "# write a for loop to calculate the total cost of Ben's food if he shops at the Target store\n",
    "total_cost = 0 \n",
    "for food in food_qty.columns:\n",
    "\n",
    "    total_cost += food_qty.loc['Ben',food]*price.loc[food,'Target']\n",
    "total_cost"
   ]
  },
  {
   "cell_type": "code",
   "execution_count": null,
   "id": "799d2503",
   "metadata": {},
   "outputs": [
    {
     "name": "stdout",
     "output_type": "stream",
     "text": [
      "CPU times: total: 0 ns\n",
      "Wall time: 1 ms\n"
     ]
    },
    {
     "data": {
      "text/plain": [
       "np.float64(50.0)"
      ]
     },
     "metadata": {},
     "output_type": "display_data"
    }
   ],
   "source": [
    "%%time\n",
    "# using numpy \n",
    "total_cost = np.sum(food_qty.loc['Ben',]*price.loc[:,'Target'])\n",
    "total_cost"
   ]
  },
  {
   "cell_type": "markdown",
   "id": "f8d5f2b7",
   "metadata": {},
   "source": [
    "Ben will spend $50 if he goes to Target"
   ]
  },
  {
   "cell_type": "markdown",
   "id": "3f7e5775",
   "metadata": {},
   "source": [
    "Now, let's add another layer of complication. We'll compute Ben's expenses for both stores - Target and Kroger"
   ]
  },
  {
   "cell_type": "code",
   "execution_count": null,
   "id": "66675a35",
   "metadata": {},
   "outputs": [
    {
     "name": "stdout",
     "output_type": "stream",
     "text": [
      "CPU times: total: 0 ns\n",
      "Wall time: 1 ms\n"
     ]
    },
    {
     "data": {
      "text/plain": [
       "{'Target': np.float64(50.0), 'Kroger': np.float64(49.0)}"
      ]
     },
     "metadata": {},
     "output_type": "display_data"
    }
   ],
   "source": [
    "%%time\n",
    "# using loops to calculate the total cost of food for Ben for all stores\n",
    "total_cost = {}\n",
    "for store in price.columns:\n",
    "    total_cost[store] = 0\n",
    "    for food in food_qty.columns:\n",
    "        total_cost[store] += food_qty.loc['Ben',food]*price.loc[food,store]\n",
    "total_cost"
   ]
  },
  {
   "cell_type": "code",
   "execution_count": null,
   "id": "8c385089",
   "metadata": {},
   "outputs": [
    {
     "name": "stdout",
     "output_type": "stream",
     "text": [
      "CPU times: total: 0 ns\n",
      "Wall time: 0 ns\n"
     ]
    },
    {
     "data": {
      "text/plain": [
       "array([50., 49.])"
      ]
     },
     "metadata": {},
     "output_type": "display_data"
    }
   ],
   "source": [
    "%%time\n",
    "# using numpy\n",
    "total_cost = np.dot(food_qty.loc['Ben',],price.loc[:,:])\n",
    "total_cost"
   ]
  },
  {
   "cell_type": "markdown",
   "id": "bd64cb8b",
   "metadata": {},
   "source": [
    "Ben will spend \\$50 if he goes to Target, and \\$49 if he goes to Kroger. Thus, he should choose Kroger."
   ]
  },
  {
   "cell_type": "markdown",
   "id": "98de6f5c",
   "metadata": {},
   "source": [
    "Now, let's add the final layer of complication, and solve the problem. We'll compute everyone's expenses for both stores - Target and Kroger"
   ]
  },
  {
   "cell_type": "code",
   "execution_count": null,
   "id": "cb8e936a",
   "metadata": {},
   "outputs": [
    {
     "name": "stdout",
     "output_type": "stream",
     "text": [
      "1.51 ms ± 15.3 μs per loop (mean ± std. dev. of 7 runs, 1,000 loops each)\n"
     ]
    }
   ],
   "source": [
    "%%timeit\n",
    "store_expense = pd.DataFrame(0.0, columns=price.columns, index = food_qty.index)\n",
    "for person in store_expense.index:\n",
    "    for store in store_expense.columns:\n",
    "        for food in food_qty.columns:\n",
    "            store_expense.loc[person, store] += food_qty.loc[person, food]*price.loc[food, store]\n",
    "\n",
    "store_expense"
   ]
  },
  {
   "cell_type": "code",
   "execution_count": null,
   "id": "db6f3c2e",
   "metadata": {},
   "outputs": [
    {
     "name": "stdout",
     "output_type": "stream",
     "text": [
      "11 μs ± 102 ns per loop (mean ± std. dev. of 7 runs, 100,000 loops each)\n"
     ]
    }
   ],
   "source": [
    "%%timeit\n",
    "# using matrix multiplication in numpy\n",
    "pd.DataFrame(np.dot(food_qty.values, price.values), columns=price.columns, index=food_qty.index)"
   ]
  },
  {
   "cell_type": "markdown",
   "id": "1af03eab",
   "metadata": {},
   "source": [
    "Based on the above table, Ben should go to Kroger, Barbara to Target and Beth can go to either store.  \n",
    "\n",
    "As the complexity of operations increases, the number of nested for-loops tends to grow, making the code more cumbersome and difficult to manage. In contrast, leveraging NumPy arrays allows for concise and straightforward implementation, regardless of the complexity. Vectorized computations are not only cleaner but also significantly faster, offering a more efficient solution. To take advantage of this, you first need to convert a pandas DataFrame to a NumPy array for matrix multiplication. Once the computation is complete, you can convert the results back to a pandas DataFrame for further analysis or display"
   ]
  },
  {
   "cell_type": "markdown",
   "id": "3b5517e5",
   "metadata": {},
   "source": [
    "### Practice exercise  3\n",
    "\n",
    "Use matrix multiplication to find the average IMDB rating and average Rotten tomatoes rating for each genre - comedy, action, drama and horror. Use the data: *movies_cleaned.csv*. Which is the most preferred genre for IMDB users, and which is the least preferred genre for Rotten Tomatoes users?\n",
    "\n",
    "**Hint:** \n",
    "1. Create two matrices - one containing the IMDB and Rotten Tomatoes ratings, and the other containing the genre flags (comedy/action/drama/horror). \n",
    "\n",
    "2. Multiply the two matrices created in 1.\n",
    "\n",
    "3. Divide each row/column of the resulting matrix by a vector having the number of ratings in each genre to get the average rating for the genre."
   ]
  },
  {
   "cell_type": "markdown",
   "id": "80ea27e1",
   "metadata": {},
   "source": [
    "**Solution:**"
   ]
  },
  {
   "cell_type": "code",
   "execution_count": null,
   "id": "29d9e74a",
   "metadata": {},
   "outputs": [
    {
     "data": {
      "text/html": [
       "<div>\n",
       "<style scoped>\n",
       "    .dataframe tbody tr th:only-of-type {\n",
       "        vertical-align: middle;\n",
       "    }\n",
       "\n",
       "    .dataframe tbody tr th {\n",
       "        vertical-align: top;\n",
       "    }\n",
       "\n",
       "    .dataframe thead th {\n",
       "        text-align: right;\n",
       "    }\n",
       "</style>\n",
       "<table border=\"1\" class=\"dataframe\">\n",
       "  <thead>\n",
       "    <tr style=\"text-align: right;\">\n",
       "      <th></th>\n",
       "      <th>Title</th>\n",
       "      <th>IMDB Rating</th>\n",
       "      <th>Rotten Tomatoes Rating</th>\n",
       "      <th>Running Time min</th>\n",
       "      <th>Release Date</th>\n",
       "      <th>US Gross</th>\n",
       "      <th>Worldwide Gross</th>\n",
       "      <th>Production Budget</th>\n",
       "      <th>comedy</th>\n",
       "      <th>Action</th>\n",
       "      <th>drama</th>\n",
       "      <th>horror</th>\n",
       "    </tr>\n",
       "  </thead>\n",
       "  <tbody>\n",
       "    <tr>\n",
       "      <th>0</th>\n",
       "      <td>Broken Arrow</td>\n",
       "      <td>5.8</td>\n",
       "      <td>55</td>\n",
       "      <td>108</td>\n",
       "      <td>Feb 09 1996</td>\n",
       "      <td>70645997</td>\n",
       "      <td>148345997</td>\n",
       "      <td>65000000</td>\n",
       "      <td>0</td>\n",
       "      <td>1</td>\n",
       "      <td>0</td>\n",
       "      <td>0</td>\n",
       "    </tr>\n",
       "    <tr>\n",
       "      <th>1</th>\n",
       "      <td>Brazil</td>\n",
       "      <td>8.0</td>\n",
       "      <td>98</td>\n",
       "      <td>136</td>\n",
       "      <td>Dec 18 1985</td>\n",
       "      <td>9929135</td>\n",
       "      <td>9929135</td>\n",
       "      <td>15000000</td>\n",
       "      <td>1</td>\n",
       "      <td>0</td>\n",
       "      <td>0</td>\n",
       "      <td>0</td>\n",
       "    </tr>\n",
       "    <tr>\n",
       "      <th>2</th>\n",
       "      <td>The Cable Guy</td>\n",
       "      <td>5.8</td>\n",
       "      <td>52</td>\n",
       "      <td>95</td>\n",
       "      <td>Jun 14 1996</td>\n",
       "      <td>60240295</td>\n",
       "      <td>102825796</td>\n",
       "      <td>47000000</td>\n",
       "      <td>1</td>\n",
       "      <td>0</td>\n",
       "      <td>0</td>\n",
       "      <td>0</td>\n",
       "    </tr>\n",
       "    <tr>\n",
       "      <th>3</th>\n",
       "      <td>Chain Reaction</td>\n",
       "      <td>5.2</td>\n",
       "      <td>13</td>\n",
       "      <td>106</td>\n",
       "      <td>Aug 02 1996</td>\n",
       "      <td>21226204</td>\n",
       "      <td>60209334</td>\n",
       "      <td>55000000</td>\n",
       "      <td>0</td>\n",
       "      <td>1</td>\n",
       "      <td>0</td>\n",
       "      <td>0</td>\n",
       "    </tr>\n",
       "    <tr>\n",
       "      <th>4</th>\n",
       "      <td>Clash of the Titans</td>\n",
       "      <td>5.9</td>\n",
       "      <td>65</td>\n",
       "      <td>108</td>\n",
       "      <td>Jun 12 1981</td>\n",
       "      <td>30000000</td>\n",
       "      <td>30000000</td>\n",
       "      <td>15000000</td>\n",
       "      <td>0</td>\n",
       "      <td>1</td>\n",
       "      <td>0</td>\n",
       "      <td>0</td>\n",
       "    </tr>\n",
       "  </tbody>\n",
       "</table>\n",
       "</div>"
      ],
      "text/plain": [
       "                 Title  IMDB Rating  Rotten Tomatoes Rating  Running Time min  \\\n",
       "0         Broken Arrow          5.8                      55               108   \n",
       "1               Brazil          8.0                      98               136   \n",
       "2        The Cable Guy          5.8                      52                95   \n",
       "3       Chain Reaction          5.2                      13               106   \n",
       "4  Clash of the Titans          5.9                      65               108   \n",
       "\n",
       "  Release Date  US Gross  Worldwide Gross  Production Budget  comedy  Action  \\\n",
       "0  Feb 09 1996  70645997        148345997           65000000       0       1   \n",
       "1  Dec 18 1985   9929135          9929135           15000000       1       0   \n",
       "2  Jun 14 1996  60240295        102825796           47000000       1       0   \n",
       "3  Aug 02 1996  21226204         60209334           55000000       0       1   \n",
       "4  Jun 12 1981  30000000         30000000           15000000       0       1   \n",
       "\n",
       "   drama  horror  \n",
       "0      0       0  \n",
       "1      0       0  \n",
       "2      0       0  \n",
       "3      0       0  \n",
       "4      0       0  "
      ]
     },
     "metadata": {},
     "output_type": "display_data"
    }
   ],
   "source": [
    "data = pd.read_csv('../Data/movies_cleaned.csv')\n",
    "data.head()"
   ]
  },
  {
   "cell_type": "code",
   "execution_count": null,
   "id": "fc1148a2",
   "metadata": {},
   "outputs": [
    {
     "data": {
      "text/plain": [
       "array([[ 5.8, 55. ],\n",
       "       [ 8. , 98. ],\n",
       "       [ 5.8, 52. ],\n",
       "       ...,\n",
       "       [ 7. , 65. ],\n",
       "       [ 5.7, 26. ],\n",
       "       [ 6.7, 82. ]])"
      ]
     },
     "metadata": {},
     "output_type": "display_data"
    }
   ],
   "source": [
    "# Getting ratings of all movies\n",
    "drating = data[['IMDB Rating','Rotten Tomatoes Rating']]\n",
    "drating_num = drating.to_numpy() #Converting the data to NumPy array\n",
    "drating_num"
   ]
  },
  {
   "cell_type": "code",
   "execution_count": null,
   "id": "e1d22e46",
   "metadata": {},
   "outputs": [
    {
     "data": {
      "text/plain": [
       "array([[0, 1, 0, 0],\n",
       "       [1, 0, 0, 0],\n",
       "       [1, 0, 0, 0],\n",
       "       ...,\n",
       "       [1, 0, 0, 0],\n",
       "       [0, 1, 0, 0],\n",
       "       [0, 1, 0, 0]])"
      ]
     },
     "metadata": {},
     "output_type": "display_data"
    }
   ],
   "source": [
    "# Getting the matrix indicating the genre of all movies\n",
    "dgenre = data.iloc[:,8:12]\n",
    "dgenre_num = dgenre.to_numpy() #Converting the data to NumPy array\n",
    "dgenre_num"
   ]
  },
  {
   "cell_type": "markdown",
   "id": "06cd0810",
   "metadata": {},
   "source": [
    "We'll first find the total IMDB and Rotten tomatoes ratings for all movies of each genre, and then divide them by the number of movies of the corresponding genre to find the average rating for the genre.\n",
    "\n",
    "For finding the total IMDB and Rotten tomatoes ratings, we'll multiply `drating_num` with `dgenre_num`. However, before multiplying, we'll check if their shapes are compatible for matrix multiplication."
   ]
  },
  {
   "cell_type": "code",
   "execution_count": null,
   "id": "d62bf976",
   "metadata": {},
   "outputs": [
    {
     "data": {
      "text/plain": [
       "(980, 2)"
      ]
     },
     "metadata": {},
     "output_type": "display_data"
    }
   ],
   "source": [
    "#Shape of drating_num\n",
    "drating_num.shape"
   ]
  },
  {
   "cell_type": "code",
   "execution_count": null,
   "id": "f80cba5f",
   "metadata": {},
   "outputs": [
    {
     "data": {
      "text/plain": [
       "(980, 4)"
      ]
     },
     "metadata": {},
     "output_type": "display_data"
    }
   ],
   "source": [
    "#Shape of dgenre_num\n",
    "dgenre_num.shape"
   ]
  },
  {
   "cell_type": "markdown",
   "id": "8667ac65",
   "metadata": {},
   "source": [
    "Note that the above shapes are not compatible for matrix multiplication. We'll transpose `dgenre_num` to make the shapes compatible."
   ]
  },
  {
   "cell_type": "code",
   "execution_count": null,
   "id": "73ddbf46",
   "metadata": {},
   "outputs": [
    {
     "data": {
      "text/plain": [
       "array([[ 1785.6,  1673.1,  1630.3,   946.2],\n",
       "       [14119. , 13725. , 14535. ,  6533. ]])"
      ]
     },
     "metadata": {},
     "output_type": "display_data"
    }
   ],
   "source": [
    "#Total IMDB and Rotten tomatoes ratings for each genre\n",
    "ratings_sum_genre = drating_num.T.dot(dgenre_num)\n",
    "ratings_sum_genre"
   ]
  },
  {
   "cell_type": "code",
   "execution_count": null,
   "id": "c3c2342e",
   "metadata": {},
   "outputs": [],
   "source": [
    "#Number of movies in the data will be stored in 'rows', and number of columns stored in 'cols'\n",
    "rows, cols = data.shape"
   ]
  },
  {
   "cell_type": "code",
   "execution_count": null,
   "id": "777d260b",
   "metadata": {},
   "outputs": [
    {
     "data": {
      "text/plain": [
       "array([302., 264., 239., 154.])"
      ]
     },
     "metadata": {},
     "output_type": "display_data"
    }
   ],
   "source": [
    "#Getting number of movies in each genre\n",
    "movies_count_genre = dgenre_num.T.dot(np.ones(rows))\n",
    "movies_count_genre"
   ]
  },
  {
   "cell_type": "code",
   "execution_count": null,
   "id": "4a7c4ed6",
   "metadata": {},
   "outputs": [
    {
     "data": {
      "text/plain": [
       "array([[ 5.91258278,  6.3375    ,  6.82133891,  6.14415584],\n",
       "       [46.75165563, 51.98863636, 60.81589958, 42.42207792]])"
      ]
     },
     "metadata": {},
     "output_type": "display_data"
    }
   ],
   "source": [
    "#Finding the average IMDB and average Rotten tomatoes ratings for each genre\n",
    "ratings_sum_genre/movies_count_genre"
   ]
  },
  {
   "cell_type": "code",
   "execution_count": null,
   "id": "28b514ac",
   "metadata": {},
   "outputs": [
    {
     "data": {
      "text/html": [
       "<div>\n",
       "<style scoped>\n",
       "    .dataframe tbody tr th:only-of-type {\n",
       "        vertical-align: middle;\n",
       "    }\n",
       "\n",
       "    .dataframe tbody tr th {\n",
       "        vertical-align: top;\n",
       "    }\n",
       "\n",
       "    .dataframe thead th {\n",
       "        text-align: right;\n",
       "    }\n",
       "</style>\n",
       "<table border=\"1\" class=\"dataframe\">\n",
       "  <thead>\n",
       "    <tr style=\"text-align: right;\">\n",
       "      <th></th>\n",
       "      <th>comedy</th>\n",
       "      <th>Action</th>\n",
       "      <th>drama</th>\n",
       "      <th>horror</th>\n",
       "    </tr>\n",
       "  </thead>\n",
       "  <tbody>\n",
       "    <tr>\n",
       "      <th>IMDB Rating</th>\n",
       "      <td>5.912583</td>\n",
       "      <td>6.337500</td>\n",
       "      <td>6.821339</td>\n",
       "      <td>6.144156</td>\n",
       "    </tr>\n",
       "    <tr>\n",
       "      <th>Rotten Tomatoes Rating</th>\n",
       "      <td>46.751656</td>\n",
       "      <td>51.988636</td>\n",
       "      <td>60.815900</td>\n",
       "      <td>42.422078</td>\n",
       "    </tr>\n",
       "  </tbody>\n",
       "</table>\n",
       "</div>"
      ],
      "text/plain": [
       "                           comedy     Action      drama     horror\n",
       "IMDB Rating              5.912583   6.337500   6.821339   6.144156\n",
       "Rotten Tomatoes Rating  46.751656  51.988636  60.815900  42.422078"
      ]
     },
     "metadata": {},
     "output_type": "display_data"
    }
   ],
   "source": [
    "pd.DataFrame(ratings_sum_genre/movies_count_genre,columns = ['comedy','Action','drama','horror'],\n",
    "             index = ['IMDB Rating','Rotten Tomatoes Rating'])"
   ]
  },
  {
   "cell_type": "markdown",
   "id": "6daef177",
   "metadata": {},
   "source": [
    "IMDB users prefer *drama*, and are amused the least by *comedy* movies, on an average. However, Rotten tomatoes critics would rather watch *comedy* than *horror* movies, on an average."
   ]
  },
  {
   "cell_type": "markdown",
   "id": "edc21536",
   "metadata": {},
   "source": [
    "\n",
    "### Practice exercise 4: \n",
    "\n",
    "**Random number generation using NumPy**\n",
    "\n",
    " Suppose 500 people eat at Food cart 1, and another 500 eat at Food cart 2, everyday.\n",
    "\n",
    "The waiting time at Food cart 2 has a normal distribution with mean 8 minutes and standard deviation 3 minutes, while the waiting time at Food cart 1 has a uniform distribution with minimum 5 minutes and maximum 25 minutes. \n",
    "\n",
    "Simulate a dataset containing waiting times for 500 ppl for 30 days in each of the food joints. Assume that the waiting times are measured simultaneously at a certain time in both places, i.e., the observations are paired.\n",
    "\n",
    "**On how many days is the average waiting time at Food cart 2 higher than that at Food cart 1?**\n",
    "\n",
    "**What percentage of times the waiting time at Food cart 2 was higher than the waiting time at Food cart 1?**\n",
    "\n",
    "Try both approaches: (1) Using loops to generate data, (2) numpy array to generate data. Compare the time taken in both approaches. "
   ]
  },
  {
   "cell_type": "code",
   "execution_count": 49,
   "id": "ac8f7a1a",
   "metadata": {},
   "outputs": [],
   "source": [
    "import time as tm"
   ]
  },
  {
   "cell_type": "code",
   "execution_count": 52,
   "id": "e49ca4cc",
   "metadata": {},
   "outputs": [
    {
     "name": "stdout",
     "output_type": "stream",
     "text": [
      "On  0  days, the average waiting time at FoodCart2 higher than that at FoodCart1\n",
      "Percentage of times waiting time at FoodCart2 was greater than that at FoodCart1 =  16.226666666666667 %\n",
      "Time taken =  4.521248817443848\n"
     ]
    }
   ],
   "source": [
    "#Method 1: Using loops\n",
    "start_time = tm.time() #Current system time\n",
    "\n",
    "#Initializing waiting times for 500 ppl over 30 days\n",
    "waiting_times_FoodCart1 = pd.DataFrame(0,index=range(500),columns=range(30)) #FoodCart1\n",
    "waiting_times_FoodCart2 = pd.DataFrame(0,index=range(500),columns=range(30)) #FoodCart2\n",
    "import random as rm\n",
    "for i in range(500):  #Iterating over 500 ppl\n",
    "    for j in range(30): #Iterating over 30 days\n",
    "        waiting_times_FoodCart2.iloc[i,j] = rm.gauss(8,3) #Simulating waiting time in FoodCart2 for the ith person on jth day\n",
    "        waiting_times_FoodCart1.iloc[i,j] = rm.uniform(5,25) #Simulating waiting time in FoodCart1 for the ith person on jth day\n",
    "time_diff = waiting_times_FoodCart2-waiting_times_FoodCart1\n",
    "\n",
    "print(\"On \",sum(time_diff.mean()>0),\" days, the average waiting time at FoodCart2 higher than that at FoodCart1\")\n",
    "print(\"Percentage of times waiting time at FoodCart2 was greater than that at FoodCart1 = \",100*(time_diff>0).sum().sum()/(30*500),\"%\")\n",
    "end_time = tm.time() #Current system time\n",
    "print(\"Time taken = \", end_time-start_time)"
   ]
  },
  {
   "cell_type": "code",
   "execution_count": 53,
   "id": "2308730c",
   "metadata": {},
   "outputs": [
    {
     "name": "stdout",
     "output_type": "stream",
     "text": [
      "On  0  days, the average waiting time at FoodCart2 higher than that at FoodCart1\n",
      "Percentage of times waiting time at FoodCart2 was greater than that at FoodCart1 =  16.52 %\n",
      "Time taken =  0.008000850677490234\n"
     ]
    }
   ],
   "source": [
    "#Method 2: Using NumPy arrays\n",
    "start_time = tm.time()\n",
    "waiting_time_FoodCart2 = np.random.normal(8,3,size = (500,30)) #Simultaneously generating the waiting times of 500 ppl over 30 days in FoodCart2\n",
    "waiting_time_FoodCart1 = np.random.uniform(5,25,size = (500,30)) #Simultaneously generating the waiting times of 500 ppl over 30 days in FoodCart1\n",
    "time_diff = waiting_time_FoodCart2-waiting_time_FoodCart1\n",
    "print(\"On \",(time_diff.mean()>0).sum(),\" days, the average waiting time at FoodCart2 higher than that at FoodCart1\")\n",
    "print(\"Percentage of times waiting time at FoodCart2 was greater than that at FoodCart1 = \",100*(time_diff>0).sum()/15000,\"%\")\n",
    "end_time = tm.time()\n",
    "print(\"Time taken = \", end_time-start_time)"
   ]
  },
  {
   "cell_type": "markdown",
   "id": "39eb9315",
   "metadata": {},
   "source": [
    "The approach with NumPy is much faster than the one with loops."
   ]
  },
  {
   "cell_type": "markdown",
   "id": "4570eafe",
   "metadata": {},
   "source": [
    "### Practice exercise 5"
   ]
  },
  {
   "cell_type": "markdown",
   "id": "ce54a3f8",
   "metadata": {},
   "source": [
    "**Bootstrapping:** Find the 95% confidence interval of mean profit for 'Action' movies, using Bootstrapping.\n",
    "\n",
    "Bootstrapping is a non-parametric method for obtaining confidence interval. Use the algorithm below to find the confidence interval:\n",
    "\n",
    "1. Find the profit for each of the 'Action' movies. Suppose there are *N* such movies. We will have a *Profit* column with *N* values. \\\n",
    "2. Randomly sample *N* values with replacement from the *Profit* column \\\n",
    "3. Find the mean of the *N* values obtained in (b) \\\n",
    "4. Repeat steps (b) and (c) *M=1000* times \\\n",
    "5. The 95% Confidence interval is the range between the 2.5% and 97.5% percentile values of the 1000 means obtained in (c) \\\n",
    "Use the *movies_cleaned.csv* dataset. "
   ]
  },
  {
   "cell_type": "markdown",
   "id": "c34c52ee",
   "metadata": {},
   "source": [
    "**Solution:**"
   ]
  },
  {
   "cell_type": "code",
   "execution_count": 44,
   "id": "0422d661",
   "metadata": {},
   "outputs": [
    {
     "name": "stdout",
     "output_type": "stream",
     "text": [
      "Confidence interval = [$132.53 million, $182.69 million]\n"
     ]
    }
   ],
   "source": [
    "#Reading data\n",
    "movies = pd.read_csv('./Datasets/movies_cleaned.csv')\n",
    "\n",
    "#Filtering action movies\n",
    "movies_action = movies.loc[movies['Action']==1,:]\n",
    "\n",
    "#Computing profit of movies\n",
    "movies_action.loc[:,'Profit'] = movies_action.loc[:,'Worldwide Gross'] - movies_action.loc[:,'Production Budget']\n",
    "\n",
    "#Subsetting the profit column\n",
    "profit_vec = movies_action['Profit']\n",
    "\n",
    "#Creating a matrix of 1000 samples with replacement from the profit column\n",
    "bootstrap_samples=np.random.choice(profit_vec,size = (1000,len(profit_vec)))\n",
    "\n",
    "#Computing the mean of each of the 1000 samples\n",
    "bootstrap_sample_means = bootstrap_samples.mean(axis=1)\n",
    "\n",
    "#The confidence interval is the 2.5th and 97.5th percentile of the mean of the 1000 samples\n",
    "print(\"Confidence interval = [$\"+str(np.round(np.percentile(bootstrap_sample_means,2.5)/1e6,2))+\" million, $\"+str(np.round(np.percentile(bootstrap_sample_means,97.5)/1e6,2))+\" million]\")"
   ]
  }
 ],
 "metadata": {
  "kernelspec": {
   "display_name": "base",
   "language": "python",
   "name": "python3"
  },
  "language_info": {
   "codemirror_mode": {
    "name": "ipython",
    "version": 3
   },
   "file_extension": ".py",
   "mimetype": "text/x-python",
   "name": "python",
   "nbconvert_exporter": "python",
   "pygments_lexer": "ipython3",
   "version": "3.12.4"
  }
 },
 "nbformat": 4,
 "nbformat_minor": 5
}
